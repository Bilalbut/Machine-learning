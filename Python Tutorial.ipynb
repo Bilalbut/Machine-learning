{
 "cells": [
  {
   "cell_type": "markdown",
   "metadata": {},
   "source": [
    "\n",
    "### Registeration no :    FA18-BCS-189-D.\n",
    "### Name:        Ahmed Bilal Yousaf."
   ]
  },
  {
   "cell_type": "markdown",
   "metadata": {},
   "source": [
    " # Python Tutorial - ML - (Assignment #1)"
   ]
  },
  {
   "cell_type": "markdown",
   "metadata": {},
   "source": [
    "## Table of Contents\n",
    "### 1. Introduction\n",
    "### 2. Data Types \n",
    "    2.1. Variables \n",
    "    2.2. Numbers \n",
    "    2.3. Strings \n",
    "    2.4. Lists \n",
    "    2.5. Dictionaries \n",
    "    2.6. Tuples \n",
    "    2.7. Sets\n",
    "### 3. Comparison Operators\n",
    "### 4. If-Else Statements\n",
    "### 5. For & While Loop\n",
    "### 6. Functions\n",
    "### 7. Lambda Functions \n",
    "    7.1 Map() \n",
    "    7.2 filter()\n",
    "### 8. File I/O\n",
    "### 9. Pandas Library Introduction\n",
    "### 10. Series\n",
    "    10.1 From ndarray \n",
    "    10.2 From dict \n",
    "    10.3 From Scalar value \n",
    "    10.4 Series is ndarray-like \n",
    "    10.5 Series is dict-like \n",
    "    10.6 Vectorized operations and label alignment with Series \n",
    "    10.7 Name Attribute\n",
    "### 11. Data Frames \n",
    "    11.1 From Dict of series or dict \n",
    "    11.2 From Dict of ndarrays / lists \n",
    "    11.3 From a list of dicts \n",
    "    11.4 From a Dict of tuples\n",
    "    11.5 Alternate Constructors\n",
    "    11.6 Column Selection, Addition, Deletion\n",
    "    11.7 Indexing / Selection\n",
    "    11.8 Data alignment and arithmetic\n",
    "    11.9 Transposing\n",
    "### 12. Viewing Data"
   ]
  },
  {
   "cell_type": "markdown",
   "metadata": {},
   "source": [
    "## 1. Introduction\n",
    "\n",
    "Python has gathered alot of appreciation as a choice of language for Data Analytics.\n",
    "Open Source and Free to install.\n",
    "Awesome online community.\n",
    "Very easy to learn.\n",
    "It can become common language for data science.\n",
    "It can also become a common language for production of web based analytics products.\n",
    "As it is interpreted programming language so it is easier to implement.\n",
    "Compilation is not required, execution process can be done directly.\n",
    "\n",
    "Python is a widely used general-purpose, high level programming language. It was created by\n",
    "Guido van Rossum in 1991 and further developed by the Python Software Foundation. It was\n",
    "designed with an emphasis on code readability, and its syntax allows programmers to express\n",
    "their concepts in fewer lines of code.\n",
    "It is used for:\n",
    "Web development (server-side)\n",
    "Software development\n",
    "Mathematics\n",
    "System scripting ### Application of python There are so many applications of Python, here\n",
    "are some of the them.\n",
    "- Web development – Web framework like Django and Flask are based on Python. They help\n",
    "you write server side code which helps you manage database, write backend programming\n",
    "logic, mapping urls etc.\n",
    "- Machine learning – There are many machine learning applications written in Python.\n",
    "Machine learning is a way to write a logic so that a machine can learn and solve a particular\n",
    "problem on its own. For example, products recommendation in websites like Amazon,\n",
    "Flipkart, eBay etc. is a machine learning algorithm that recognises user’s interest. Face\n",
    "recognition and Voice recognition in your phone is another example of machine learning.\n",
    "\n",
    "\n",
    "## 2. Data Types\n",
    "\n",
    "Following data types are used in Python to store and access the data. Those are explained below.\n",
    "\n",
    "# 2.1 Variables\n",
    "### Definition\n",
    "In the context to programming, variables are the representative names which are assigned to \n",
    "the unknown data and it permits to use it independent of the data itself.\n",
    "### Purpose\n",
    "Purpose of the variable is to reduce the complexity in the program and it often use in the \n",
    "loop section where we need to iterate speciffic quantities. Variables are the most common prop\n",
    "used in programming to store the data.\n",
    "### Important\n",
    "Without variables it is damn hard to keep track of your data inputs. For instance we need to \n",
    "store a string \"My name is *** and i am learning python for machine learning\" and then after \n",
    "wards we need to use it in various places such as while we are using loops  to iterate one \n",
    "object over another, so it is humanly difficult to type again and again this long value so \n",
    "instead we store it in a single letter such as \"a\" or we can give it any name depending on the\n",
    "semantics of the data. This reduces complexity and work of the programmer.\n",
    "### Applications\n",
    "Variables are commonly used in the programming languages. To mention some of them, Java, Python,\n",
    "Javascript e.t.c. There is no programming language which doest not require the use of variables. \n",
    "Even you can say that variables dont run the program instead they store values in them.\n",
    "### Strengths\n",
    "In python variables do not need explicit declaration to occupy memory spaces as the type of \n",
    "variable or the data type is decide aftter the the assignment of the value\n",
    "### Weaknesses\n",
    "There is'nt any weakness to a variable.\n",
    "### suitable to use\n",
    "As we have already discussed its importance, we can never neglect its use while being a programmer.\n",
    "It is like he abc of the program.\n",
    "### Some examples are given as follows:"
   ]
  },
  {
   "cell_type": "code",
   "execution_count": 1,
   "metadata": {
    "Example": 1
   },
   "outputs": [
    {
     "name": "stdout",
     "output_type": "stream",
     "text": [
      "Floating number: 3049586721.2348504\n",
      "Integer number: 506978243\n",
      "String type: My name is *** and i am learning python for machine learning\n"
     ]
    }
   ],
   "source": [
    "num_1 = 3049586721.2348506                                                   #float type variable\n",
    "num_2 = 506978243                                                            #integer type variable\n",
    "description = \"My name is *** and i am learning python for machine learning.\" #string type variable\n",
    "#print all values\n",
    "print (\"Floating number:\", num_1)\n",
    "print (\"Integer number:\", num_2)\n",
    "print (\"String type:\",description)"
   ]
  },
  {
   "cell_type": "markdown",
   "metadata": {},
   "source": [
    "# 2.2 Numbers"
   ]
  },
  {
   "cell_type": "markdown",
   "metadata": {},
   "source": [
    "### Definition\n",
    "In the context to programming, variables are the representative names which are assigned to the unknown data and it permits to use it independent of the data itself.\n",
    "### Purpose\n",
    "Some numbers store information in them an=nd some are used for calcultions.\n",
    "### suitable to use\n",
    "As we have already discussed its importance, we can never neglect its use while being a programmer. It is like he abc of the program"
   ]
  },
  {
   "cell_type": "code",
   "execution_count": 2,
   "metadata": {},
   "outputs": [
    {
     "data": {
      "text/plain": [
       "4"
      ]
     },
     "execution_count": 2,
     "metadata": {},
     "output_type": "execute_result"
    }
   ],
   "source": [
    "2 + 2"
   ]
  },
  {
   "cell_type": "code",
   "execution_count": 3,
   "metadata": {},
   "outputs": [
    {
     "data": {
      "text/plain": [
       "4.5"
      ]
     },
     "execution_count": 3,
     "metadata": {},
     "output_type": "execute_result"
    }
   ],
   "source": [
    "a = 2\n",
    "b = 2.5\n",
    "a + b"
   ]
  },
  {
   "cell_type": "code",
   "execution_count": 4,
   "metadata": {},
   "outputs": [
    {
     "name": "stdout",
     "output_type": "stream",
     "text": [
      "5.0\n"
     ]
    }
   ],
   "source": [
    "print(2.5+2.5)"
   ]
  },
  {
   "cell_type": "markdown",
   "metadata": {},
   "source": [
    "# 2.3 Strings"
   ]
  },
  {
   "cell_type": "markdown",
   "metadata": {},
   "source": [
    "### Definition\n",
    "Strings are made up of different characters. Each character takes up 2 bytes which is equivalent to 16 bits. String data types are used to store words or combination of words having letters, numbers, special characters etc. We must write the data under double colon to access its value as a string data type \n",
    "### Purpose\n",
    "When we need to store our name, we cannot use numbers as it obviously wont have any meaning in numbers, so i'll use strings which is made up of different characters. My name is \"Bilal\", in this letter 'B' is a single character so are the other ones but when we combine them they made a string. We can either write numbers in our sttring but it must be written under the string format \"__\".\n",
    "### Importance\n",
    "We can add functionalities in our code without strings, but we cannot understand them afterwards or our user wont be able to. To make an interface user friendly and more understandable, we use string data type. We can even write paragraphs in string.\n",
    "### Applications\n",
    "Strings are widely used in programming languages. In fact, strings are the most fundamental part of any programming language.\n",
    "### Strengths\n",
    "It makes our program more understandable by adding boiler plates and more user friendly.\n",
    "### Weaknesses\n",
    "There is no weakness to a string\n",
    "### suitable to use\n",
    "Suitable to use in any programming languages.\n",
    "### Some examples are given as follows:"
   ]
  },
  {
   "cell_type": "code",
   "execution_count": 5,
   "metadata": {},
   "outputs": [
    {
     "name": "stdout",
     "output_type": "stream",
     "text": [
      "Ahmed Bilal Yousaf is a Computer Science student who does theater as his side hobby.\n"
     ]
    }
   ],
   "source": [
    "name  = \"Ahmed Bilal Yousaf\"\n",
    "description = \"is a Computer Science student who does theater as his side hobby.\"\n",
    "print(name,description)"
   ]
  },
  {
   "cell_type": "markdown",
   "metadata": {},
   "source": [
    "### Access values in String\n",
    "Sometimes we need to access string from certain position so we do it by giving index of its value. Square brackets are used to access substrings in python. Space between words is equal to one index. And all the characters are considered string. When we are accesing the substring it acts like the index of array, which start froms zero and end at n-1. Here is the syntax [start Index: End Index] Start index is outbound which means it is not included in the substring wheras End index is inbound meaning it is included in the substring.\n",
    "#### lets take an example:"
   ]
  },
  {
   "cell_type": "code",
   "execution_count": 6,
   "metadata": {},
   "outputs": [
    {
     "name": "stdout",
     "output_type": "stream",
     "text": [
      " Bilal\n"
     ]
    }
   ],
   "source": [
    "# We have a string\n",
    "name = \"Ahmed Bilal Yousaf\"\n",
    "# Now we will access the substring onwards from the 5th position to the 11th of the overall string\n",
    "print(name[5:11])"
   ]
  },
  {
   "cell_type": "markdown",
   "metadata": {},
   "source": [
    "### Updatng a String\n",
    "A string can be modified by + operator. here is the example:"
   ]
  },
  {
   "cell_type": "code",
   "execution_count": 7,
   "metadata": {},
   "outputs": [
    {
     "data": {
      "text/plain": [
       "'Bilal Butt'"
      ]
     },
     "execution_count": 7,
     "metadata": {},
     "output_type": "execute_result"
    }
   ],
   "source": [
    "# I want to print \"Bilal Butt\" instead of \"Ahmed Bilal Yousaf\"\n",
    "name = \"Ahmed Bilal Yousaf\"\n",
    "newName = name[6:12] + 'Butt'\n",
    "newName"
   ]
  },
  {
   "cell_type": "markdown",
   "metadata": {},
   "source": [
    "### Deleting a String\n",
    "We can easily delete the whole string by del function and passing the reference variable to it in which string is stored."
   ]
  },
  {
   "cell_type": "code",
   "execution_count": 8,
   "metadata": {},
   "outputs": [
    {
     "ename": "SyntaxError",
     "evalue": "invalid syntax (<ipython-input-8-7fb4af2da641>, line 2)",
     "output_type": "error",
     "traceback": [
      "\u001b[1;36m  File \u001b[1;32m\"<ipython-input-8-7fb4af2da641>\"\u001b[1;36m, line \u001b[1;32m2\u001b[0m\n\u001b[1;33m    print(name)`\u001b[0m\n\u001b[1;37m               ^\u001b[0m\n\u001b[1;31mSyntaxError\u001b[0m\u001b[1;31m:\u001b[0m invalid syntax\n"
     ]
    }
   ],
   "source": [
    "name = \"Bilal Butt\"\n",
    "print(name)`"
   ]
  },
  {
   "cell_type": "code",
   "execution_count": null,
   "metadata": {},
   "outputs": [],
   "source": [
    "del name\n",
    "name                     # as you can see in the output, it is` giving error as it cannot found variable named 'name'"
   ]
  },
  {
   "cell_type": "markdown",
   "metadata": {},
   "source": [
    "## Special Operators\n",
    "Some special operators are used in python to modify string in various ways. Such as '+', '*', 'in', '[:]', 'not in'. lets use them in examples: "
   ]
  },
  {
   "cell_type": "markdown",
   "metadata": {},
   "source": [
    "### +  Operator\n",
    "It is used to concatenate two or more strings."
   ]
  },
  {
   "cell_type": "code",
   "execution_count": null,
   "metadata": {},
   "outputs": [],
   "source": [
    "n1 = \"Ahmed\"\n",
    "n2 = \" Bilal\"\n",
    "n3 = \" Yousaf\"\n",
    "n4 = \" Butt\"\n",
    "new  = name + n2 + n3 + n4 \n",
    "print(new)"
   ]
  },
  {
   "cell_type": "markdown",
   "metadata": {},
   "source": [
    "### \" * \" operator\n",
    "It is used for the repetition of the output."
   ]
  },
  {
   "cell_type": "code",
   "execution_count": null,
   "metadata": {},
   "outputs": [],
   "source": [
    "print(new * 3)"
   ]
  },
  {
   "cell_type": "markdown",
   "metadata": {},
   "source": [
    "### [ ] operator\n",
    "It is used to access values of string at certain index."
   ]
  },
  {
   "cell_type": "code",
   "execution_count": null,
   "metadata": {},
   "outputs": [],
   "source": [
    "new[20]"
   ]
  },
  {
   "cell_type": "markdown",
   "metadata": {},
   "source": [
    "### [:] operator\n",
    "It used to define range od string from starting to end index."
   ]
  },
  {
   "cell_type": "code",
   "execution_count": null,
   "metadata": {},
   "outputs": [],
   "source": [
    "new[6:18]"
   ]
  },
  {
   "cell_type": "markdown",
   "metadata": {},
   "source": [
    "### \"in\" operator\n",
    "It is a conditionary operator which return true or falsle on the fullfillment of the condition."
   ]
  },
  {
   "cell_type": "code",
   "execution_count": null,
   "metadata": {},
   "outputs": [],
   "source": [
    "print(\"Y\" in new) \n",
    "print(\"Z\" in new)"
   ]
  },
  {
   "cell_type": "markdown",
   "metadata": {},
   "source": [
    "### \"not in\" operator\n",
    "This returns true if not in string, otherwise false"
   ]
  },
  {
   "cell_type": "code",
   "execution_count": null,
   "metadata": {},
   "outputs": [],
   "source": [
    "print(\"Bali\" not in new)\n",
    "print(\"Bila\" not in new)"
   ]
  },
  {
   "cell_type": "markdown",
   "metadata": {},
   "source": [
    "### Formatting operator\n",
    "It is used to assign values within print statement."
   ]
  },
  {
   "cell_type": "code",
   "execution_count": null,
   "metadata": {},
   "outputs": [],
   "source": [
    "print(\"I am a theatre Artist at %s which is %d years old\" %(\"Fiasco Theatre Company\",3))"
   ]
  },
  {
   "cell_type": "markdown",
   "metadata": {},
   "source": [
    "# 2.4 LISTS"
   ]
  },
  {
   "cell_type": "markdown",
   "metadata": {},
   "source": [
    "General definition of a list could be that it the a number of connected items or names written or printed consecutively, typically one below the other. In python we uslist python. List indices starts from 0 just like arrays. It is declared inder square brackets[]. List indices starts from 0 similar to array.\n",
    "\n",
    "### Importance\n",
    "- Pyhton lists are widely used instead if arrays, the main difference between both is that array can store eleents of same data type only whereas python lists can store multiple type of elements under single list.\n",
    "\n",
    "### Applications\n",
    "Lists are widely used in python, from finding prime numbers to the automation in real industries. Its scope is not beyond python. List are usually used to store series of elements. While programming, it is the basic method to use a single variable for all the elements instead of indinidually using it to minimize the effort of a programmer and to make it time efficient.\n",
    "\n",
    "### Strengths\n",
    "- List are mutable (changeable)\n",
    "- Lists are dynamics which means size is not fixed. Lists are represented using a square bracket[ ], separated by commas\n",
    "\n",
    "### Weaknesses\n",
    "It is suitable to use in almost all the cases but in some cases arrays are more usefull due to thier memory allocation.\n",
    "\n",
    "### Suitable to Use\n",
    "Lists are the core structure in python. Arrays are not widely used in python, however there are numpy library to use arrays in data science and other topics. Lists are usefull.\n",
    "\n",
    "Some examples for lists are given below"
   ]
  },
  {
   "cell_type": "code",
   "execution_count": 9,
   "metadata": {},
   "outputs": [
    {
     "data": {
      "text/plain": [
       "['Bilal Butt', 20]"
      ]
     },
     "execution_count": 9,
     "metadata": {},
     "output_type": "execute_result"
    }
   ],
   "source": [
    "nameANDage = [\"Bilal Butt\", 20]\n",
    "nameANDage"
   ]
  },
  {
   "cell_type": "markdown",
   "metadata": {},
   "source": [
    "### Accessing valiues in Lists\n",
    "- Note that the upper bound is inclusive in list slicing and the lower bound is exclusive."
   ]
  },
  {
   "cell_type": "code",
   "execution_count": 10,
   "metadata": {},
   "outputs": [
    {
     "name": "stdout",
     "output_type": "stream",
     "text": [
      "Every value and index is included:  ['BMW', 'SWIFT', 'WAGON R', 'SE-150', 'Coure', 'Civic', 'Vitz', 'Alto', 'Corolla']\n",
      "from index 2 to 5, and 5 is not included: ['WAGON R', 'SE-150', 'Coure']\n"
     ]
    }
   ],
   "source": [
    "vehicles = [\"BMW\",\"SWIFT\",\"WAGON R\", \"SE-150\", \"Coure\",\"Civic\",\"Vitz\",\"Alto\",\"Corolla\"]\n",
    "print(\"Every value and index is included: \",     vehicles[0:])\n",
    "print(\"from index 2 to 5, and 5 is not included:\",vehicles[2:5])\n"
   ]
  },
  {
   "cell_type": "markdown",
   "metadata": {},
   "source": [
    "### Upating Lists"
   ]
  },
  {
   "cell_type": "code",
   "execution_count": 11,
   "metadata": {},
   "outputs": [
    {
     "name": "stdout",
     "output_type": "stream",
     "text": [
      "After overriding at 2nd index:   [990, 888, 770]\n",
      "After using appending function:  [990, 888, 770, 933]\n"
     ]
    }
   ],
   "source": [
    "marksheet = [990, 888, 240]\n",
    "marksheet[2] = 770         # It will override last value\n",
    "print(\"After overriding at 2nd index:  \",marksheet)\n",
    "marksheet.append(933)\n",
    "print(\"After using appending function: \",marksheet)           "
   ]
  },
  {
   "cell_type": "markdown",
   "metadata": {},
   "source": [
    "### Deleting from List"
   ]
  },
  {
   "cell_type": "code",
   "execution_count": 12,
   "metadata": {},
   "outputs": [
    {
     "name": "stdout",
     "output_type": "stream",
     "text": [
      "Culprit is deleted from the list:  ['T-Shirts', 'Forgive', 'Struggle', 'Loneliness']\n",
      "Forgive is deleted from the list:  ['T-Shirts', 'Struggle', 'Loneliness']\n"
     ]
    }
   ],
   "source": [
    "deletion = [\"T-Shirts\",\"Culprit\", \"Forgive\", \"Struggle\", \"Loneliness\"]\n",
    "# Now if i want to delete \"culprit from the value and i also know at which index it is situated, i will use del function\"\n",
    "del deletion[1]\n",
    "print(\"Culprit is deleted from the list: \",deletion)\n",
    "# Now if i want to delete \"Forgive\" and i dont know its index than i can use remove() function\n",
    "deletion.remove(\"Forgive\")\n",
    "print(\"Forgive is deleted from the list: \",deletion)"
   ]
  },
  {
   "cell_type": "markdown",
   "metadata": {},
   "source": [
    "# 2.5 Dictionary"
   ]
  },
  {
   "cell_type": "markdown",
   "metadata": {},
   "source": [
    "Dictionaries are for storing values against keys. Dicturies are created within curly brackets{} and it is changeable. Dictionary does not allow duplicate values. We can also use list in dictionaries as a data type. Each value is separated by colon:. An empty dictionary can be written as {}. Each value is separated by comma,. \n",
    "### Importance\n",
    "Dictionary are unordered and does not have unique value i.e index against every key. However, There cannot be two identical key. Python dictionary represents a data structure which is easy to use and helps in cleaning data more effectitvely. It is simple to use and much faster\n",
    "### Application\n",
    "Python dictionary makes it easier to read and change value and is especially use in predictive models. \n",
    "### Strengths\n",
    "It is simple to use and is much more efficient than other data structures. It can store lists as its data. Keys in dictionaries are unique and cannot be identical but thier values can be same and identical.\n",
    "### Weaknesses\n",
    "Dictionary makes it difficult for programmer to write a number of elements with additional key values. Which i think is quite hard as semantics matter. And the more the values the more naming problems are going to occurr. Apart from it dictionaries are quite handy.\n",
    "### Suitable to use\n",
    "It is as suitable as any other data structure in python. It can store multiple list as a key value in it which makes it very manageable and handy. We can say it is a two in one feature.\n",
    "\n",
    "Some examples are given below"
   ]
  },
  {
   "cell_type": "code",
   "execution_count": 13,
   "metadata": {},
   "outputs": [
    {
     "data": {
      "text/plain": [
       "{'dfs': ['A', 'C', 'B', 'D'], 'bfs': ['B', 'C', 'A', 'D']}"
      ]
     },
     "execution_count": 13,
     "metadata": {},
     "output_type": "execute_result"
    }
   ],
   "source": [
    "nodes = {\"dfs\": [\"A\", \"C\", \"B\", \"D\"],\n",
    "         \"bfs\": [\"B\",\"C\",\"A\",\"D\"],\n",
    "         }\n",
    "nodes"
   ]
  },
  {
   "cell_type": "markdown",
   "metadata": {},
   "source": [
    "### Accessing values in Dictionary\n",
    "- it is similar to accessing value by index in array but here instead of index we write its key"
   ]
  },
  {
   "cell_type": "code",
   "execution_count": 14,
   "metadata": {},
   "outputs": [
    {
     "data": {
      "text/plain": [
       "['B', 'C', 'A', 'D']"
      ]
     },
     "execution_count": 14,
     "metadata": {},
     "output_type": "execute_result"
    }
   ],
   "source": [
    "nodes = {\"dfs\": [\"A\", \"C\", \"B\", \"D\"],\n",
    "         \"bfs\": [\"B\",\"C\",\"A\",\"D\"],\n",
    "         }\n",
    "nodes[\"bfs\"]                  "
   ]
  },
  {
   "cell_type": "markdown",
   "metadata": {},
   "source": [
    "### Updating Dictionary\n",
    "We can change existing value by accessing its key value and we can also add a new entry"
   ]
  },
  {
   "cell_type": "code",
   "execution_count": 15,
   "metadata": {},
   "outputs": [
    {
     "name": "stdout",
     "output_type": "stream",
     "text": [
      "Before changing 'new' value:  {'dfs': ['A', 'C', 'B', 'D'], 'bfs': ['B', 'C', 'A', 'D'], 'new': 'bfs,dfs'}\n",
      "After changing 'new' value:   {'dfs': ['A', 'C', 'B', 'D'], 'bfs': ['B', 'C', 'A', 'D'], 'new': 'onlydfs'}\n",
      "Changing.0th.index.of.list.at.key.value.'bfs':   {'dfs': ['A', 'C', 'B', 'D'], 'bfs': [1, 'C', 'A', 'D'], 'new': 'onlydfs'}\n",
      "New.value.in.the.list.at.key.value.'bfs': {'dfs': ['A', 'C', 'B', 'D'], 'bfs': [1, 'C', 'A', 'D', 'last'], 'new': 'onlydfs'}\n"
     ]
    }
   ],
   "source": [
    "nodes = {\"dfs\": [\"A\", \"C\", \"B\", \"D\"],\n",
    "         \"bfs\": [\"B\",\"C\",\"A\",\"D\"],\n",
    "         \"new\": \"bfs,dfs\"\n",
    "         }\n",
    "print(\"Before changing 'new' value: \",nodes)\n",
    "nodes[\"new\"] = \"onlydfs\"\n",
    "print(\"After changing 'new' value:  \",nodes)\n",
    "nodes[\"bfs\"][0] = 1\n",
    "print(\"Changing.0th.index.of.list.at.key.value.'bfs':  \",nodes)\n",
    "nodes[\"bfs\"].append(\"last\")\n",
    "print(\"New.value.in.the.list.at.key.value.'bfs':\",nodes)"
   ]
  },
  {
   "cell_type": "markdown",
   "metadata": {},
   "source": [
    "### Deleteion in Dictionary\n",
    "We can delete individual element of dicitionary and complete content of dictionary.\n",
    "del is used for individual element removal and clear() function is used to remove entire dictionary."
   ]
  },
  {
   "cell_type": "code",
   "execution_count": 16,
   "metadata": {},
   "outputs": [
    {
     "name": "stdout",
     "output_type": "stream",
     "text": [
      "Original Dictionary:  {'dfs': ['A', 'C', 'B', 'D'], 'bfs': ['B', 'C', 'A', 'D']}\n",
      "Deleted dfs value at 2nd index in the list {'dfs': ['A', 'C', 'D'], 'bfs': ['B', 'C', 'A', 'D']}\n",
      "Deleted entire dfs value {'bfs': ['B', 'C', 'A', 'D']}\n",
      "Dictionary is removed {}\n"
     ]
    }
   ],
   "source": [
    "nodes = {\"dfs\": [\"A\", \"C\", \"B\", \"D\"],\n",
    "         \"bfs\": [\"B\",\"C\",\"A\",\"D\"],\n",
    "        }\n",
    "print(\"Original Dictionary: \", nodes)\n",
    "del nodes[\"dfs\"][2]\n",
    "print(\"Deleted dfs value at 2nd index in the list\", nodes)\n",
    "del nodes[\"dfs\"]\n",
    "print(\"Deleted entire dfs value\",nodes)\n",
    "# Now removing dictionary\n",
    "nodes.clear()\n",
    "print(\"Dictionary is removed\", nodes)"
   ]
  },
  {
   "cell_type": "markdown",
   "metadata": {},
   "source": [
    "# 2.6 Tuples "
   ]
  },
  {
   "cell_type": "markdown",
   "metadata": {},
   "source": [
    "It is similar to lists with some minor changes in its structure. First off it is declared inside() small brackets and every value inside it is comma, separated. Another major difference is that it is not changeable. You have to write a comma at the end even if you are writing a single value. Just like lists and dictionary, it cannot also have multiple datatypes inside a single tuple.\n",
    "### Importance\n",
    "Tuples are widely used in python, from finding prime numbers to the automation in real industries. Its scope is not beyond python. List are usually used to store series of elements. While programming, it is the basic method to use a single variable for all the elements instead of indinidually using it to minimize the effort of a programmer and to make it time efficient.\n",
    "### Application\n",
    "It can have lots and lots of application. If we want to just show our data and not further want to update in we can use tuples. It can be used for comparisons between different objects and so on.\n",
    "### Strengths\n",
    "Immutabilty is its strength as it does not allow its sequence to be altered. Which is quite a plus point in regards to control over your data.\n",
    "### Weaknesses\n",
    "Immutability can also be its weakness as it does not allow you to update or modify existing tuple and in the case you have to make an entire new tuple to modify it.\n",
    "### Suitable to use\n",
    "It is suitable to use whereever immutability is required.\n",
    "\n",
    "Some examples are given below\n"
   ]
  },
  {
   "cell_type": "code",
   "execution_count": 17,
   "metadata": {},
   "outputs": [
    {
     "name": "stdout",
     "output_type": "stream",
     "text": [
      "('Bilal', '20 years', 'Bchelors in Computer Science')\n"
     ]
    }
   ],
   "source": [
    "myTuple = (\"Bilal\",\"20 years\",\"Bchelors in Computer Science\",)\n",
    "print(myTuple)"
   ]
  },
  {
   "cell_type": "markdown",
   "metadata": {},
   "source": [
    "### Accessing value in Tuple"
   ]
  },
  {
   "cell_type": "code",
   "execution_count": 18,
   "metadata": {},
   "outputs": [
    {
     "data": {
      "text/plain": [
       "('Bilal', '20 years', 'Bchelors in Computer Science')"
      ]
     },
     "execution_count": 18,
     "metadata": {},
     "output_type": "execute_result"
    }
   ],
   "source": [
    "myTuple = (\"Bilal\",\"20 years\",\"Bchelors in Computer Science\",)\n",
    "myTuple[1]\n",
    "# or we can slice\n",
    "myTuple[0:3]"
   ]
  },
  {
   "cell_type": "markdown",
   "metadata": {},
   "source": [
    "### Updating Tuples\n",
    "There is no way to update a tuple but part of it can be copied to form a new tuple."
   ]
  },
  {
   "cell_type": "code",
   "execution_count": 19,
   "metadata": {},
   "outputs": [
    {
     "data": {
      "text/plain": [
       "(1, 2, 3, 6, 5, 4, 'Bilal')"
      ]
     },
     "execution_count": 19,
     "metadata": {},
     "output_type": "execute_result"
    }
   ],
   "source": [
    "myTuple = (\"Bilal\",\"20 years\",\"Bchelors in Computer Science\",)\n",
    "tup1 = (1,2,3,4,5,6,)\n",
    "tup2 = (6,5,4,3,2,1,)\n",
    "tup = tup1[0:3] + tup2[0:3] + myTuple[0:1]\n",
    "tup"
   ]
  },
  {
   "cell_type": "markdown",
   "metadata": {},
   "source": [
    "### Deletion in Tuples\n",
    "Removing individual element in Tuple is not possible because they can't be updated. del statment is used to remove entire Tuple."
   ]
  },
  {
   "cell_type": "code",
   "execution_count": 20,
   "metadata": {},
   "outputs": [
    {
     "name": "stdout",
     "output_type": "stream",
     "text": [
      "(1, 2, 3, 6, 5, 4, 'Bilal')\n"
     ]
    },
    {
     "ename": "NameError",
     "evalue": "name 'myTuple' is not defined",
     "output_type": "error",
     "traceback": [
      "\u001b[1;31m---------------------------------------------------------------------------\u001b[0m",
      "\u001b[1;31mNameError\u001b[0m                                 Traceback (most recent call last)",
      "\u001b[1;32m<ipython-input-20-cd7c8692fb0a>\u001b[0m in \u001b[0;36m<module>\u001b[1;34m\u001b[0m\n\u001b[0;32m      5\u001b[0m \u001b[0mprint\u001b[0m\u001b[1;33m(\u001b[0m\u001b[0mtup\u001b[0m\u001b[1;33m)\u001b[0m\u001b[1;33m\u001b[0m\u001b[1;33m\u001b[0m\u001b[0m\n\u001b[0;32m      6\u001b[0m \u001b[1;32mdel\u001b[0m \u001b[0mmyTuple\u001b[0m\u001b[1;33m\u001b[0m\u001b[1;33m\u001b[0m\u001b[0m\n\u001b[1;32m----> 7\u001b[1;33m \u001b[0mprint\u001b[0m\u001b[1;33m(\u001b[0m\u001b[1;34m\"After Deleting: \"\u001b[0m\u001b[1;33m,\u001b[0m \u001b[0mmyTuple\u001b[0m\u001b[1;33m)\u001b[0m\u001b[1;33m\u001b[0m\u001b[1;33m\u001b[0m\u001b[0m\n\u001b[0m",
      "\u001b[1;31mNameError\u001b[0m: name 'myTuple' is not defined"
     ]
    }
   ],
   "source": [
    "myTuple = (\"Bilal\",\"20 years\",\"Bchelors in Computer Science\",)\n",
    "tup1 = (1,2,3,4,5,6,)\n",
    "tup2 = (6,5,4,3,2,1,)\n",
    "tup = tup1[0:3] + tup2[0:3] + myTuple[0:1]\n",
    "print(tup)\n",
    "del myTuple\n",
    "print(\"After Deleting: \", myTuple)\n"
   ]
  },
  {
   "cell_type": "markdown",
   "metadata": {},
   "source": [
    "# 2.7 Sets"
   ]
  },
  {
   "cell_type": "markdown",
   "metadata": {},
   "source": [
    "## 2.6 Set\n",
    "A set is a collection which is unordered and unindexed. In Python sets are written with curly brackets.\n",
    "\n",
    "### Weakness\n",
    "You cannot access items in a set by referring to an index, since sets are unordered the items has no index.\n",
    "But you can loop through the set items using a for loop, or ask if a specified value is present in a set, by using the in keyword.\n",
    "\n",
    "### Strengths\n",
    "Once a set is created, you cannot change its items, but you can add new items.\n",
    "\n",
    "### Add Items\n",
    "To add one item to a set use the add() method.\n",
    "To add more than one item to a set use the update() method"
   ]
  },
  {
   "cell_type": "code",
   "execution_count": 22,
   "metadata": {},
   "outputs": [
    {
     "name": "stdout",
     "output_type": "stream",
     "text": [
      "{'Bilal Butt', '20', 'Lahore'}\n",
      "True\n"
     ]
    }
   ],
   "source": [
    "s1=('Bilal Butt','20','Lahore')\n",
    "\n",
    "sets=set(s1)\n",
    "\n",
    "print(sets)\n",
    "\n",
    "\n",
    "print('Bilal Butt' in sets)"
   ]
  },
  {
   "cell_type": "markdown",
   "metadata": {},
   "source": [
    "### Updating"
   ]
  },
  {
   "cell_type": "code",
   "execution_count": 23,
   "metadata": {},
   "outputs": [
    {
     "name": "stdout",
     "output_type": "stream",
     "text": [
      "{'Ahmed', 'Bilal Butt', '20', 'Lahore', 'Yousaf'}\n"
     ]
    }
   ],
   "source": [
    "s1=('Bilal Butt','20','Lahore')\n",
    "sets = set(s1)\n",
    "sets.update([\"Ahmed\",\"Yousaf\"])\n",
    "print(sets)"
   ]
  },
  {
   "cell_type": "markdown",
   "metadata": {},
   "source": [
    "### Removing"
   ]
  },
  {
   "cell_type": "code",
   "execution_count": 24,
   "metadata": {},
   "outputs": [
    {
     "name": "stdout",
     "output_type": "stream",
     "text": [
      "{'20', 'Lahore'}\n"
     ]
    }
   ],
   "source": [
    "s1=('Bilal Butt','20','Lahore')\n",
    "sets = set(s1)\n",
    "sets.remove(\"Bilal Butt\")\n",
    "print(sets)"
   ]
  },
  {
   "cell_type": "markdown",
   "metadata": {},
   "source": [
    "### Adding"
   ]
  },
  {
   "cell_type": "code",
   "execution_count": 25,
   "metadata": {},
   "outputs": [
    {
     "name": "stdout",
     "output_type": "stream",
     "text": [
      "{'Ahmed', 'Bilal Butt', '20', 'Lahore'}\n"
     ]
    }
   ],
   "source": [
    "s1=('Bilal Butt','20','Lahore')\n",
    "sets = set(s1)\n",
    "sets.add(\"Ahmed\")\n",
    "print(sets)"
   ]
  },
  {
   "cell_type": "markdown",
   "metadata": {},
   "source": [
    "### Pop function"
   ]
  },
  {
   "cell_type": "code",
   "execution_count": 26,
   "metadata": {},
   "outputs": [
    {
     "name": "stdout",
     "output_type": "stream",
     "text": [
      "{'Bilal Butt', '20', 'Lahore'}\n",
      "Bilal Butt\n",
      "{'20', 'Lahore'}\n"
     ]
    }
   ],
   "source": [
    "s1=('Bilal Butt','20','Lahore')\n",
    "sets = set(s1)\n",
    "print(sets)\n",
    "new = sets.pop()\n",
    "print(new)\n",
    "print(sets)"
   ]
  },
  {
   "cell_type": "markdown",
   "metadata": {},
   "source": [
    "### Union"
   ]
  },
  {
   "cell_type": "code",
   "execution_count": 27,
   "metadata": {},
   "outputs": [
    {
     "name": "stdout",
     "output_type": "stream",
     "text": [
      "{'20', 'Lahore', 'Ahmed Bilal', 'Bilal Butt'}\n"
     ]
    }
   ],
   "source": [
    "s1={'Bilal Butt','20','Lahore'}\n",
    "s2={'Ahmed Bilal','20','Lahore'}\n",
    "# set1 = set(s1)\n",
    "# set2 = set(s2)\n",
    "new = s1.union(s2)\n",
    "print(new)"
   ]
  },
  {
   "cell_type": "markdown",
   "metadata": {},
   "source": [
    "# 3.0 Comparison Operators "
   ]
  },
  {
   "cell_type": "markdown",
   "metadata": {},
   "source": [
    "These are used to compare values (string or numbers) and return true/false according to situation.\n",
    "### Importance \n",
    "Without any doubt i can say that any programming language is incomplete withou comparison operators. \n",
    "### Purpose\n",
    "They are used for reasoning and checking certain conditions. We almost use these in every line of programming code with few exceptions.\n",
    "### Strengths\n",
    "+ Equals: a == b\n",
    "+ Not Equals: a != b\n",
    "+ Less than: a < b\n",
    "+ Less than or equal to: a <= b\n",
    "+ Greater than: a > b\n",
    "+ Greater than or equal to: a >= b\n",
    "\n",
    "### Suitable to use\n",
    "These conditions can be used in several ways, most commonly in \"if statements\" and loops.\n",
    "\n",
    "\n",
    "\n",
    "Some of the examples are given below:"
   ]
  },
  {
   "cell_type": "code",
   "execution_count": 28,
   "metadata": {},
   "outputs": [
    {
     "data": {
      "text/plain": [
       "False"
      ]
     },
     "execution_count": 28,
     "metadata": {},
     "output_type": "execute_result"
    }
   ],
   "source": [
    "\"Bilal\" == \"Ahmed\""
   ]
  },
  {
   "cell_type": "code",
   "execution_count": 29,
   "metadata": {},
   "outputs": [
    {
     "name": "stdout",
     "output_type": "stream",
     "text": [
      "odd\n"
     ]
    }
   ],
   "source": [
    "x=67\n",
    "\n",
    "if x%2==0:\n",
    "    print('Even')\n",
    "else:\n",
    "    print('odd')"
   ]
  },
  {
   "cell_type": "code",
   "execution_count": 30,
   "metadata": {},
   "outputs": [
    {
     "data": {
      "text/plain": [
       "True"
      ]
     },
     "execution_count": 30,
     "metadata": {},
     "output_type": "execute_result"
    }
   ],
   "source": [
    "\"Bilal\" != \"Ahmed\""
   ]
  },
  {
   "cell_type": "code",
   "execution_count": 31,
   "metadata": {},
   "outputs": [
    {
     "name": "stdout",
     "output_type": "stream",
     "text": [
      "Present\n"
     ]
    }
   ],
   "source": [
    "var = \"Bilal\"\n",
    "x = \"i\"\n",
    "if x in var:\n",
    "    print('Present')\n",
    "else:\n",
    "    print('Absent')"
   ]
  },
  {
   "cell_type": "code",
   "execution_count": 32,
   "metadata": {},
   "outputs": [
    {
     "data": {
      "text/plain": [
       "False"
      ]
     },
     "execution_count": 32,
     "metadata": {},
     "output_type": "execute_result"
    }
   ],
   "source": [
    "2 < 1"
   ]
  },
  {
   "cell_type": "markdown",
   "metadata": {},
   "source": [
    "# 4.0 If-else Statements"
   ]
  },
  {
   "cell_type": "markdown",
   "metadata": {},
   "source": [
    "If else statements are use to check certain conditions. They are use to make decisions between two or more choices. \n",
    "### Importance\n",
    "We use if and else statement in every part of our program. They are the decision makers. There are some other statements also like switch break e.t.c but we use if-else in pyhton.\n",
    "### Strengths\n",
    "If-Else statments are used to execute a block of code depending on conditions. If block if condition is true otherwise else block. See following"
   ]
  },
  {
   "cell_type": "code",
   "execution_count": 33,
   "metadata": {},
   "outputs": [
    {
     "name": "stdout",
     "output_type": "stream",
     "text": [
      "a is not greater than or equal to b\n"
     ]
    }
   ],
   "source": [
    "a = 1\n",
    "b = 2\n",
    "if a>=b:\n",
    "    print(\"a is greater than or equal to b\")\n",
    "else:\n",
    "    print(\"a is not greater than or equal to b\")"
   ]
  },
  {
   "cell_type": "code",
   "execution_count": 34,
   "metadata": {},
   "outputs": [
    {
     "name": "stdout",
     "output_type": "stream",
     "text": [
      "a is greater than or equal to b\n"
     ]
    }
   ],
   "source": [
    "a = 1\n",
    "b = 2\n",
    "if a<=b:\n",
    "    print(\"a is greater than or equal to b\")\n",
    "else:\n",
    "    print(\"a is not greater than or equal to b\")"
   ]
  },
  {
   "cell_type": "markdown",
   "metadata": {},
   "source": [
    "# 5.0 For and While loop"
   ]
  },
  {
   "cell_type": "markdown",
   "metadata": {},
   "source": [
    "Python has two primitive loop commands:\n",
    "\n",
    "- while loops\n",
    "- for loops\n",
    "\n",
    "## The while Loop\n",
    "With the while loop we can execute a set of statements as long as a condition is true.\n",
    "The while loop requires relevant variables to be ready, in this example we need to define an indexing variable, i, which we set to 1.\n",
    "\n",
    "## For Loops\n",
    "A for loop is used for iterating over a sequence (that is either a list, a tuple, a dictionary, a set, or a string).\n",
    "\n",
    "This is less like the for keyword in other programming languages, and works more like an iterator method as found in other object-orientated programming languages.\n",
    "\n",
    "With the for loop we can execute a set of statements, once for each item in a list, tuple, set etc\n",
    "\n",
    "### The break Statement\n",
    "With the break statement we can stop the loop even if the while condition is true.\n",
    "\n",
    "### Importance\n",
    "These loops helps in saving programmers time. They can be pretty handy when it comes to operating functions on arrays like data structures.\n",
    "### Strengths\n",
    "For instance, we have array of 500 objects and we want to print each of the obeject. We will have to print each object one by one. So in order to reduce our time we use loops. Which run one after another and iterates over the whole array and prints object through just 3 to 4 lines of code. That is why we use loops, they make our work efficient\n"
   ]
  },
  {
   "cell_type": "code",
   "execution_count": 35,
   "metadata": {},
   "outputs": [
    {
     "name": "stdout",
     "output_type": "stream",
     "text": [
      "Swift\n",
      "Grande\n",
      "Civic RS\n",
      "Wagon R\n"
     ]
    }
   ],
   "source": [
    "cars  = [\"Swift\", \"Grande\", \"Civic RS\", \"Wagon R\"]\n",
    "\n",
    "for x in cars:\n",
    "    print(x)    "
   ]
  },
  {
   "cell_type": "code",
   "execution_count": 36,
   "metadata": {},
   "outputs": [
    {
     "name": "stdout",
     "output_type": "stream",
     "text": [
      "Swift\n",
      "1348cc\n",
      "2014\n"
     ]
    }
   ],
   "source": [
    "cars = [\"Swift\",\"1348cc\",\"2014\"]\n",
    "for i in cars:\n",
    "    print(i)"
   ]
  },
  {
   "cell_type": "code",
   "execution_count": 37,
   "metadata": {},
   "outputs": [
    {
     "name": "stdout",
     "output_type": "stream",
     "text": [
      "1\n",
      "2\n",
      "3\n",
      "23\n",
      "42\n",
      "24\n",
      "546\n",
      "757\n"
     ]
    }
   ],
   "source": [
    "integers = [1,2,3,23,42,24,546,757,886]\n",
    "for i in integers:\n",
    "    if i<800:\n",
    "        print(i)\n",
    "    "
   ]
  },
  {
   "cell_type": "code",
   "execution_count": 38,
   "metadata": {},
   "outputs": [
    {
     "name": "stdout",
     "output_type": "stream",
     "text": [
      "1\n",
      "2\n",
      "3\n",
      "4\n",
      "5\n",
      "6\n",
      "7\n",
      "8\n",
      "9\n",
      "10\n"
     ]
    }
   ],
   "source": [
    "integer = 1\n",
    "while integer<11:\n",
    "    print(integer)\n",
    "    integer+=1"
   ]
  },
  {
   "cell_type": "code",
   "execution_count": 39,
   "metadata": {},
   "outputs": [
    {
     "name": "stdout",
     "output_type": "stream",
     "text": [
      "1\n",
      "2\n"
     ]
    }
   ],
   "source": [
    "i=1\n",
    "while i<10:\n",
    "    print(i)\n",
    "    if i==2:\n",
    "        break\n",
    "    i+=1"
   ]
  },
  {
   "cell_type": "markdown",
   "metadata": {},
   "source": [
    "# 6.0 Functions"
   ]
  },
  {
   "cell_type": "markdown",
   "metadata": {},
   "source": [
    "A function is a block of code which only runs when it is called.\n",
    "You can pass data, known as parameters, into a function.\n",
    "A function can return data as a result.\n",
    "####  Creating a Function\n",
    "In Python a function is defined using the def keyword.\n",
    "#### Calling a Function\n",
    "To call a function, use the function name followed by parenthesis.\n",
    "## Types of Functions\n",
    "Basically, we can divide functions into the following two types:\n",
    "\n",
    "+ Built-in functions - Functions that are built into Python.\n",
    "+ User-defined functions - Functions defined by the users themselves.\n",
    "\n",
    "## Purpose of using function\n",
    "Python by using functions in our code:\n",
    "1. Code re-usability:\n",
    "Lets say we are writing an application in Python where we need to perform a specific task in several places of our code, assume that we need to write 10 lines of code to do that specific task. It would be better to write those 10 lines of code in a function and just call the function wherever needed, because writing those 10 lines every time you perform that task is tedious, it would make your code lengthy, less-readable and increase the chances of human errors.\n",
    "\n",
    "2. Improves Readability:\n",
    "By using functions for frequent tasks you make your code structured and readable. It would be easier for anyone to look at the code and be able to understand the flow and purpose of the code.\n",
    "\n",
    "3. Avoid redundancy:\n",
    "When you no longer repeat the same lines of code throughout the code and use functions in places of those, you actually avoiding the redundancy that you may have created by not using functions."
   ]
  },
  {
   "cell_type": "code",
   "execution_count": 40,
   "metadata": {},
   "outputs": [
    {
     "name": "stdout",
     "output_type": "stream",
     "text": [
      "My name is BILAL\n"
     ]
    }
   ],
   "source": [
    "def func(str):\n",
    "    print(str)\n",
    "    return;\n",
    "\n",
    "func(\"My name is BILAL\")"
   ]
  },
  {
   "cell_type": "code",
   "execution_count": 41,
   "metadata": {},
   "outputs": [
    {
     "name": "stdout",
     "output_type": "stream",
     "text": [
      "Value inside function: 10\n",
      "Value outside function: 50\n"
     ]
    }
   ],
   "source": [
    "def my_func():\n",
    "    x = 10\n",
    "    print(\"Value inside function:\",x)\n",
    "\n",
    "y = 50\n",
    "my_func()\n",
    "print(\"Value outside function:\",y)"
   ]
  },
  {
   "cell_type": "markdown",
   "metadata": {},
   "source": [
    "### Recurstion fuction:\n",
    "A function is said to be a recursive if it calls itself. For example, lets say we have a function abc() and in the body of abc() there is a call to the abc().\n",
    "#### Python example of Recursion\n",
    "In this example we are defining a user-defined function factorial(). This function finds the factorial of a number by calling itself repeatedly until the base case is reached."
   ]
  },
  {
   "cell_type": "code",
   "execution_count": 45,
   "metadata": {},
   "outputs": [
    {
     "name": "stdout",
     "output_type": "stream",
     "text": [
      "10\n",
      "Factorial of 10 = 3628800\n"
     ]
    }
   ],
   "source": [
    "def factorial(i):\n",
    "    if i==1:\n",
    "        return 1\n",
    "    else:\n",
    "        return (i * factorial(i - 1))\n",
    "i = int (input())\n",
    "print(\"Factorial of\",i, \"=\", factorial(i))\n",
    "        "
   ]
  },
  {
   "cell_type": "markdown",
   "metadata": {},
   "source": [
    "#### Advantages of recursion\n",
    "Recursion makes our program:\n",
    "1. Easier to write.\n",
    "2. Readable – Code is easier to read and understand.\n",
    "3. Reduce the lines of code – It takes less lines of code to solve a problem using recursion.\n",
    "\n",
    "#### Disadvantages of recursion\n",
    "1. Not all problems can be solved using recursion.\n",
    "2. If you don’t define the base case then the code would run indefinitely.\n",
    "3. Debugging is difficult in recursive functions as the function is calling itself in a loop and it is hard to understand which call is causing the issue.\n",
    "4. Memory overhead – Call to the recursive function is not memory efficient."
   ]
  },
  {
   "cell_type": "markdown",
   "metadata": {},
   "source": [
    "# 7.0 Lambda Functions"
   ]
  },
  {
   "cell_type": "markdown",
   "metadata": {},
   "source": [
    "A lambda function is a small anonymous function.\n",
    "A lambda function can take any number of arguments, but can only have one expression.\n",
    "#### Syntax\n",
    "lambda arguments : expression\n",
    "## Purpose of lamhba function\n",
    "The power of lambda is better shown when you use them as an anonymous function inside another function.\n",
    "\n",
    "Say you have a function definition that takes one argument, and that argument will be multiplied with an unknown number:"
   ]
  },
  {
   "cell_type": "code",
   "execution_count": 46,
   "metadata": {},
   "outputs": [
    {
     "data": {
      "text/plain": [
       "[34, 6, 58, 38]"
      ]
     },
     "execution_count": 46,
     "metadata": {},
     "output_type": "execute_result"
    }
   ],
   "source": [
    "list_of_int = [1,23,34,6,58,45,33,38,9,9]\n",
    "b = list(filter(lambda a: a%2 == 0,list_of_int))\n",
    "b"
   ]
  },
  {
   "cell_type": "code",
   "execution_count": 47,
   "metadata": {},
   "outputs": [
    {
     "data": {
      "text/plain": [
       "['Corolla']"
      ]
     },
     "execution_count": 47,
     "metadata": {},
     "output_type": "execute_result"
    }
   ],
   "source": [
    "cars = [\"Swift\",\"Corolla\"]\n",
    "new = list(filter(lambda a:len(a)>5,cars))\n",
    "new"
   ]
  },
  {
   "cell_type": "code",
   "execution_count": 48,
   "metadata": {},
   "outputs": [
    {
     "data": {
      "text/plain": [
       "25"
      ]
     },
     "execution_count": 48,
     "metadata": {},
     "output_type": "execute_result"
    }
   ],
   "source": [
    "sqrt = lambda x: x**2\n",
    "square_root = sqrt(5)\n",
    "square_root"
   ]
  },
  {
   "cell_type": "code",
   "execution_count": 49,
   "metadata": {},
   "outputs": [
    {
     "data": {
      "text/plain": [
       "-1"
      ]
     },
     "execution_count": 49,
     "metadata": {},
     "output_type": "execute_result"
    }
   ],
   "source": [
    "def func(n):\n",
    "    return lambda a: a - n\n",
    "result = func(2)\n",
    "result(1)\n"
   ]
  },
  {
   "cell_type": "markdown",
   "metadata": {},
   "source": [
    "# 7.1 Map()"
   ]
  },
  {
   "cell_type": "markdown",
   "metadata": {},
   "source": [
    "The map() function executes a specified function for each item in a iterable. The item is sent to the function as a parameter.\n",
    "\n",
    "### Importance\n",
    "The built-in function map() takes a function as a first argument and applies it to each of the elements of its second argument, an iterable. Examples of iterables are strings, lists, and tuples.\n",
    "\n",
    "### Purpose\n",
    "Purpose of map function is to take a list and apply some operations on it and store the new outcome in a new list. They are very widely used when it comes to performing operations on lists and other list like data structure.\n",
    "\n",
    "### Stregths\n",
    "\n",
    "map() returns an iterator corresponding to the transformed collection. \n",
    "\n",
    "### Syntax\n",
    "map(function, iterables)\n",
    "As an example.\n",
    "\n",
    "Some examples are given below"
   ]
  },
  {
   "cell_type": "code",
   "execution_count": 50,
   "metadata": {},
   "outputs": [
    {
     "name": "stdout",
     "output_type": "stream",
     "text": [
      "Converted to upper case: ['SUZUKI 150', 'SWIFT', 'WAGON R']\n"
     ]
    }
   ],
   "source": [
    "vehicles = [\"Suzuki 150\",\"Swift\", \"WaGon R\"]\n",
    "newVehicles = list(map(lambda a: a.upper(), vehicles ))\n",
    "print(\"Converted to upper case:\", newVehicles)\n",
    "\n"
   ]
  },
  {
   "cell_type": "code",
   "execution_count": 51,
   "metadata": {},
   "outputs": [
    {
     "name": "stdout",
     "output_type": "stream",
     "text": [
      "Square roots: [64, 256, 4, 36, 100, 196, 324, 16, 49, 144, 400]\n"
     ]
    }
   ],
   "source": [
    "integers = [2,4,6,7,8,10,12,14,16,18,20]\n",
    "sqrt = set(map(lambda x: x**2, integers)) # in set\n",
    "print(\"Square roots:\",list(sqrt))   # back in list, for practise"
   ]
  },
  {
   "cell_type": "code",
   "execution_count": 52,
   "metadata": {},
   "outputs": [
    {
     "data": {
      "text/plain": [
       "[['S', 'w', 'i', 'f', 't'], ['G', 'S'], ['H', 'o', 'n', 'd', 'a']]"
      ]
     },
     "execution_count": 52,
     "metadata": {},
     "output_type": "execute_result"
    }
   ],
   "source": [
    "# map() can listify the list of strings individually \n",
    "into_List = list(map(list,[\"Swift\",\"GS\",\"Honda\"]))\n",
    "into_List\n"
   ]
  },
  {
   "cell_type": "markdown",
   "metadata": {},
   "source": [
    "#  7.2 Filter() "
   ]
  },
  {
   "cell_type": "markdown",
   "metadata": {},
   "source": [
    "The filter() method filters the given sequence with the help of a function that tests each element in the sequence to be true or not.\n",
    "\n",
    "### Importance\n",
    "Filter are used to make a copy of object which only contains our desired results. e.g we go to Pakwheels website and sort the car by the company, or the its mileage, or its model year, these all are the wonders of filter function that they return you your desired results.\n",
    "\n",
    "### Purpose\n",
    "purpose of filter function is very clear as they help us in filtering the lists and objects according to our desired parameters and conditions.\n",
    "\n",
    "\n",
    "### Parameters:\n",
    "function: function that tests if each element of a \n",
    "sequence true or not.\n",
    "sequence: sequence which needs to be filtered, it can \n",
    "be sets, lists, tuples, or containers of any iterators.\n",
    "\n",
    "#### Syntax:\n",
    "filter(function, sequence)\n",
    "\n",
    "### Returns:\n",
    "returns an iterator that is already filtered"
   ]
  },
  {
   "cell_type": "code",
   "execution_count": 53,
   "metadata": {},
   "outputs": [
    {
     "name": "stdout",
     "output_type": "stream",
     "text": [
      "After filtering the numbers list: [4]\n"
     ]
    }
   ],
   "source": [
    "num = [2,4,6,8]\n",
    "newnew = list(filter(lambda x: x%4 == 0 and x%8 != 0, num))\n",
    "print(\"After filtering the numbers list:\",newnew)"
   ]
  },
  {
   "cell_type": "code",
   "execution_count": 54,
   "metadata": {},
   "outputs": [
    {
     "data": {
      "text/plain": [
       "['Wagon R', 'Grande', 'Corolla']"
      ]
     },
     "execution_count": 54,
     "metadata": {},
     "output_type": "execute_result"
    }
   ],
   "source": [
    "cars = [\"Wagon R\",\"Grande\",\"Corolla\"]\n",
    "new = list(filter(lambda a:len(a)>5,cars))\n",
    "new"
   ]
  },
  {
   "cell_type": "markdown",
   "metadata": {},
   "source": [
    "# 8.0 File I/O"
   ]
  },
  {
   "cell_type": "markdown",
   "metadata": {},
   "source": [
    "### Syntax Description\n",
    "+ 'r'\tOpen a file for reading. (default)\n",
    "+ 'w'\tOpen a file for writing. Creates a new file if it does not exist or truncates the file if it exists.\n",
    "+ 'x'\tOpen a file for exclusive creation. If the file already exists, the operation fails.\n",
    "+ 'a'\tOpen for appending at the end of the file without truncating it. Creates a new file if it does not exist.\n",
    "+ 't'\tOpen in text mode. (default)\n",
    "+ 'b'\tOpen in binary mode.\n",
    "+ '+'\tOpen a file for updating (reading and writing)\n",
    "\n",
    "### Importance\n",
    "In AI and data science we work on data. So, in order to get data we need these operations to read , write, append or modify the file containing data."
   ]
  },
  {
   "cell_type": "code",
   "execution_count": 55,
   "metadata": {},
   "outputs": [
    {
     "name": "stdout",
     "output_type": "stream",
     "text": [
      "Hey! it is a sample text f\n"
     ]
    }
   ],
   "source": [
    "f = open(\"sample.txt\",\"w\")\n",
    "f.write(\"Hey! it is a sample text for file handling in python \")\n",
    "f.close()\n",
    "f = open(\"sample.txt\",\"r\")\n",
    "print (f.read(26))"
   ]
  },
  {
   "cell_type": "code",
   "execution_count": 56,
   "metadata": {},
   "outputs": [
    {
     "name": "stdout",
     "output_type": "stream",
     "text": [
      "Hey! it is a sample text for file handling in python  continuation of previous\n"
     ]
    }
   ],
   "source": [
    "f = open(\"sample.txt\",\"a\")\n",
    "f.write (\" continuation of previous\")\n",
    "f = open(\"sample.txt\",\"r\")\n",
    "print (f.read())"
   ]
  },
  {
   "cell_type": "markdown",
   "metadata": {},
   "source": [
    "### File Positioning"
   ]
  },
  {
   "cell_type": "code",
   "execution_count": 57,
   "metadata": {},
   "outputs": [
    {
     "name": "stdout",
     "output_type": "stream",
     "text": [
      "Current file position :  103\n",
      "Hey! it is a sample text for file handling in python  continuation of previous continuation of previous\n"
     ]
    }
   ],
   "source": [
    "f = open(\"sample.txt\",\"a\")\n",
    "f.write (\" continuation of previous\")\n",
    "\n",
    "position = f.tell();\n",
    "print (\"Current file position : \", position)\n",
    "f.close()\n",
    "\n",
    "f = open(\"sample.txt\", \"r\")\n",
    "print(f.read()) "
   ]
  },
  {
   "cell_type": "markdown",
   "metadata": {},
   "source": [
    "## Reading Input From Keybord"
   ]
  },
  {
   "cell_type": "markdown",
   "metadata": {},
   "source": [
    "- For reading input from keyboard, raw_input() method is used.\n",
    "- It reads only one line from standard input and returns it as a string. \n",
    "\n",
    "### Importance\n",
    "There are many programs which takes inputs from user. For instance take example from a login form. It demands our username, email, and password which we have to enter.\n",
    "\n",
    "### Purpose\n",
    "So, how do we enter it. That is where user input comes.\n",
    "\n",
    "### Syntax \n",
    "There are is a syntax for user input which is raw.input()"
   ]
  },
  {
   "cell_type": "code",
   "execution_count": 58,
   "metadata": {},
   "outputs": [
    {
     "name": "stdout",
     "output_type": "stream",
     "text": [
      "What do you want to print? My name is Bilal Butt.\n",
      "My name is Bilal Butt.\n"
     ]
    }
   ],
   "source": [
    "user_input = input(\"What do you want to print? \")\n",
    "print(user_input)"
   ]
  },
  {
   "cell_type": "code",
   "execution_count": 59,
   "metadata": {},
   "outputs": [
    {
     "name": "stdout",
     "output_type": "stream",
     "text": [
      "First Number? 20\n",
      "Second Number? 80\n",
      "sum of 20  and  80 = 100\n"
     ]
    }
   ],
   "source": [
    "def func(i,j):\n",
    "    return i + j\n",
    "i = int (input(\"First Number? \"))\n",
    "j = int(input(\"Second Number? \"))\n",
    "print(\"sum of\",i,\" and \",j, \"=\", func(i,j))"
   ]
  },
  {
   "cell_type": "markdown",
   "metadata": {},
   "source": [
    "# 9.0 Pandas"
   ]
  },
  {
   "cell_type": "markdown",
   "metadata": {},
   "source": [
    "- Pandas is an open source library built on top of Numpy\n",
    "- It allows for fast analysis and data cleaning and preperation\n",
    "- It excels in performance and productivity\n",
    "- It also has built in visualization features\n",
    "- It can work with data from a wide variety of sources\n"
   ]
  },
  {
   "cell_type": "markdown",
   "metadata": {},
   "source": [
    "### Importance\n",
    "With pandas, you become familiar with your data by refining it, modifying it, and updating it.\n",
    "\n",
    "For example, it says you want to view the database stored in CSV on your computer. The Pandas will extract data from that CSV into DataFrame - a table, basically - and allow you to do things like:\n",
    "\n",
    "Count the numbers and answer questions about the data, like\n",
    "- What is the average, average, maximum, or minute in each column?\n",
    "- Is column A compatible with column B?\n",
    "- What does the distribution of data in column C look like?\n",
    "Clean data by doing things like subtracting lost values ​​and sorting rows or columns for certain conditions\n",
    "Visualize data with help from Matplotlib. Plot bars, lines, histograms, bubbles, and more.\n",
    "Save cleaned, converted data to CSV, another file or database"
   ]
  },
  {
   "cell_type": "markdown",
   "metadata": {},
   "source": [
    "# 10.0 Series"
   ]
  },
  {
   "cell_type": "markdown",
   "metadata": {},
   "source": [
    "- Series is very similar to NumPy array.\n",
    "- Series is 1-D array labeled array capable of holding any type of data.\n",
    "- The diffence between the NumPy array from a series is that a series can have axis labels. This means it can be indexed by a label, instead of just a number location.\n",
    "- The axis labels are collectively referred to as the index.\n",
    "- Following function is used to create a series:\n",
    "    S = pd.Series (data,index = index)\n",
    "- In the function, data can be many different things.\n"
   ]
  },
  {
   "cell_type": "code",
   "execution_count": 2,
   "metadata": {},
   "outputs": [],
   "source": [
    "# importing pandas and numpy libraries as we will be needing\n",
    "# these throughtout the remaining tutorial.\n",
    "\n",
    "import pandas as pd\n",
    "import numpy as np             "
   ]
  },
  {
   "cell_type": "code",
   "execution_count": 68,
   "metadata": {},
   "outputs": [
    {
     "data": {
      "text/plain": [
       "0      Blue\n",
       "1     Black\n",
       "2      Bold\n",
       "3       Bag\n",
       "4    Busted\n",
       "dtype: object"
      ]
     },
     "execution_count": 68,
     "metadata": {},
     "output_type": "execute_result"
    }
   ],
   "source": [
    "series = pd.Series([\"Blue\",\"Black\",\"Bold\",\"Bag\",\"Busted\"])\n",
    "series"
   ]
  },
  {
   "cell_type": "markdown",
   "metadata": {},
   "source": [
    "###### Lets make some other series for better understanding."
   ]
  },
  {
   "cell_type": "code",
   "execution_count": 69,
   "metadata": {},
   "outputs": [],
   "source": [
    "cars  = [\"Swift\", \"Grande\", \"Civic RS\", \"Wagon R\"]\n",
    "ser = pd.Series (cars)"
   ]
  },
  {
   "cell_type": "markdown",
   "metadata": {},
   "source": [
    "###### Now if we want indexes of our selection, we will write following lines of code.\n",
    "###### First we will make a list of indexes which we want and then we will pass it to the Series\n"
   ]
  },
  {
   "cell_type": "code",
   "execution_count": 70,
   "metadata": {},
   "outputs": [
    {
     "name": "stdout",
     "output_type": "stream",
     "text": [
      "0       Swift\n",
      "1      Grande\n",
      "2    Civic RS\n",
      "3     Wagon R\n",
      "dtype: object\n"
     ]
    }
   ],
   "source": [
    "ser = pd.Series (cars)\n",
    "print(ser)\n"
   ]
  },
  {
   "cell_type": "markdown",
   "metadata": {},
   "source": [
    "## From ndarray"
   ]
  },
  {
   "cell_type": "markdown",
   "metadata": {},
   "source": [
    "###### If data is an ndarray, index must be the same length as data.\n",
    "###### If no index is passed, one will be created having values [0, ..., len(data) - 1]."
   ]
  },
  {
   "cell_type": "code",
   "execution_count": 71,
   "metadata": {},
   "outputs": [
    {
     "name": "stdout",
     "output_type": "stream",
     "text": [
      "After indexing: \n",
      "a       Swift\n",
      "b      Grande\n",
      "c    Civic RS\n",
      "d     Wagon R\n",
      "dtype: object\n"
     ]
    }
   ],
   "source": [
    "ind = [\"a\",\"b\",\"c\",\"d\"]\n",
    "ser = pd.Series (cars,index = ind )\n",
    "print(\"After indexing: \")\n",
    "print(ser)"
   ]
  },
  {
   "cell_type": "markdown",
   "metadata": {},
   "source": [
    "###### Or we can pass a function in the value which will automatically generate random values.\n",
    "###### But the important thing to consider is that the index value count and the value count must be equal."
   ]
  },
  {
   "cell_type": "code",
   "execution_count": 72,
   "metadata": {},
   "outputs": [
    {
     "data": {
      "text/plain": [
       "a   -1.307907\n",
       "b   -1.958867\n",
       "c    2.015849\n",
       "d    1.201347\n",
       "dtype: float64"
      ]
     },
     "execution_count": 72,
     "metadata": {},
     "output_type": "execute_result"
    }
   ],
   "source": [
    "ser = pd.Series (np.random.randn(4),ind)\n",
    "ser"
   ]
  },
  {
   "cell_type": "markdown",
   "metadata": {},
   "source": [
    "###### We can also create index while creating series, like done in the following example"
   ]
  },
  {
   "cell_type": "code",
   "execution_count": 73,
   "metadata": {},
   "outputs": [
    {
     "data": {
      "text/plain": [
       "a    0.363897\n",
       "b   -0.088447\n",
       "c    0.809803\n",
       "d    0.221665\n",
       "dtype: float64"
      ]
     },
     "execution_count": 73,
     "metadata": {},
     "output_type": "execute_result"
    }
   ],
   "source": [
    "ser = pd.Series (np.random.randn(4),index = [\"a\",\"b\",\"c\",\"d\"])\n",
    "ser"
   ]
  },
  {
   "cell_type": "markdown",
   "metadata": {},
   "source": [
    "###### Series.index prints the list of indexes along with its data type"
   ]
  },
  {
   "cell_type": "code",
   "execution_count": 74,
   "metadata": {},
   "outputs": [
    {
     "data": {
      "text/plain": [
       "Index(['a', 'b', 'c', 'd'], dtype='object')"
      ]
     },
     "execution_count": 74,
     "metadata": {},
     "output_type": "execute_result"
    }
   ],
   "source": [
    "ser.index "
   ]
  },
  {
   "cell_type": "markdown",
   "metadata": {},
   "source": [
    "###### lets take an other example in which we will have a car model as index value and the value will be cars name"
   ]
  },
  {
   "cell_type": "code",
   "execution_count": 75,
   "metadata": {},
   "outputs": [
    {
     "data": {
      "text/plain": [
       "2010       Swift\n",
       "2012      Grande\n",
       "2014    Civic RS\n",
       "2020     Wagon R\n",
       "dtype: object"
      ]
     },
     "execution_count": 75,
     "metadata": {},
     "output_type": "execute_result"
    }
   ],
   "source": [
    "node = pd.Series (cars, index = [2010,2012,2014,2020])\n",
    "node"
   ]
  },
  {
   "cell_type": "code",
   "execution_count": 76,
   "metadata": {},
   "outputs": [
    {
     "data": {
      "text/plain": [
       "4"
      ]
     },
     "execution_count": 76,
     "metadata": {},
     "output_type": "execute_result"
    }
   ],
   "source": [
    "# we can check the size of array by following function\n",
    "node.size"
   ]
  },
  {
   "cell_type": "code",
   "execution_count": 77,
   "metadata": {},
   "outputs": [
    {
     "name": "stdout",
     "output_type": "stream",
     "text": [
      "object\n"
     ]
    }
   ],
   "source": [
    "# and there is also a function to check datatype\n",
    "print(node.dtype)"
   ]
  },
  {
   "cell_type": "markdown",
   "metadata": {},
   "source": [
    "# From Dict"
   ]
  },
  {
   "cell_type": "markdown",
   "metadata": {},
   "source": [
    "- If data is a dict, if index is passed the values in data corresponding to the labels, the index will be pulled out.\n",
    "- If index is not passed then it will be constructed from the sorted keys of the dict, if possible."
   ]
  },
  {
   "cell_type": "code",
   "execution_count": 78,
   "metadata": {},
   "outputs": [
    {
     "data": {
      "text/plain": [
       "Car           Swift\n",
       "Bike       GS-150se\n",
       "Truck    Hilux-Revo\n",
       "dtype: object"
      ]
     },
     "execution_count": 78,
     "metadata": {},
     "output_type": "execute_result"
    }
   ],
   "source": [
    "dict = {\"Car\":\"Swift\",\"Bike\":\"GS-150se\",\"Truck\":\"Hilux-Revo\"}\n",
    "node = pd.Series(dict)\n",
    "node"
   ]
  },
  {
   "cell_type": "markdown",
   "metadata": {},
   "source": [
    "###### Note that we cannot change the existing index of the dictionary as you can see in the following code that c index contains no value because there is no value against it in the dictionary.\n"
   ]
  },
  {
   "cell_type": "code",
   "execution_count": 79,
   "metadata": {},
   "outputs": [
    {
     "data": {
      "text/plain": [
       "Bike    GS-150se\n",
       "Car        Swift\n",
       "c            NaN\n",
       "dtype: object"
      ]
     },
     "execution_count": 79,
     "metadata": {},
     "output_type": "execute_result"
    }
   ],
   "source": [
    "dict = {\"Car\":\"Swift\",\"Bike\":\"GS-150se\",\"Truck\":\"Hilux-Revo\"}\n",
    "node = pd.Series(dict,index = [\"Bike\",\"Car\",\"c\"])\n",
    "node"
   ]
  },
  {
   "cell_type": "code",
   "execution_count": 80,
   "metadata": {},
   "outputs": [
    {
     "data": {
      "text/plain": [
       "Index(['Bike', 'Car', 'c'], dtype='object')"
      ]
     },
     "execution_count": 80,
     "metadata": {},
     "output_type": "execute_result"
    }
   ],
   "source": [
    "node.index"
   ]
  },
  {
   "cell_type": "code",
   "execution_count": 81,
   "metadata": {},
   "outputs": [
    {
     "data": {
      "text/plain": [
       "    Hilux-Revo\n",
       "dtype: object"
      ]
     },
     "execution_count": 81,
     "metadata": {},
     "output_type": "execute_result"
    }
   ],
   "source": [
    "dict = {\"\":\"Swift\",\"\":\"GS-150se\",\"\":\"Hilux-Revo\"}\n",
    "node = pd.Series(dict)\n",
    "node"
   ]
  },
  {
   "cell_type": "code",
   "execution_count": 82,
   "metadata": {},
   "outputs": [
    {
     "data": {
      "text/plain": [
       "Index([''], dtype='object')"
      ]
     },
     "execution_count": 82,
     "metadata": {},
     "output_type": "execute_result"
    }
   ],
   "source": [
    "node.index"
   ]
  },
  {
   "cell_type": "markdown",
   "metadata": {},
   "source": [
    "# 10.3 From a Scalar Value \n"
   ]
  },
  {
   "cell_type": "markdown",
   "metadata": {},
   "source": [
    "- if the data is scalar then it should be provided the index and it runs to match length of index.\n",
    "- Examples are :"
   ]
  },
  {
   "cell_type": "code",
   "execution_count": null,
   "metadata": {},
   "outputs": [],
   "source": []
  },
  {
   "cell_type": "code",
   "execution_count": 83,
   "metadata": {},
   "outputs": [
    {
     "data": {
      "text/plain": [
       "blue      6\n",
       "green     6\n",
       "black     6\n",
       "orange    6\n",
       "red       6\n",
       "yellow    6\n",
       "dtype: int64"
      ]
     },
     "execution_count": 83,
     "metadata": {},
     "output_type": "execute_result"
    }
   ],
   "source": [
    "ind = [\"blue\",\"green\",\"black\",\"orange\",\"red\",\"yellow\"]\n",
    "node = pd.Series(6,ind)\n",
    "node"
   ]
  },
  {
   "cell_type": "code",
   "execution_count": 84,
   "metadata": {},
   "outputs": [
    {
     "data": {
      "text/plain": [
       "blue      6\n",
       "green     6\n",
       "black     6\n",
       "orange    6\n",
       "red       6\n",
       "yellow    6\n",
       "dtype: int64"
      ]
     },
     "execution_count": 84,
     "metadata": {},
     "output_type": "execute_result"
    }
   ],
   "source": [
    "#using a fucntion to give values to index\n",
    "ind = [\"blue\",\"green\",\"black\",\"orange\",\"red\",\"yellow\"]\n",
    "node = pd.Series(len(node.index),ind)\n",
    "node"
   ]
  },
  {
   "cell_type": "code",
   "execution_count": 85,
   "metadata": {},
   "outputs": [
    {
     "data": {
      "text/plain": [
       "blue      b\n",
       "green     g\n",
       "black     b\n",
       "orange    o\n",
       "red       r\n",
       "yellow    y\n",
       "dtype: object"
      ]
     },
     "execution_count": 85,
     "metadata": {},
     "output_type": "execute_result"
    }
   ],
   "source": [
    "node = pd.Series((\"b\",\"g\",\"b\",\"o\",\"r\",\"y\"),\n",
    "                 index = [\"blue\",\"green\",\"black\",\"orange\",\"red\",\"yellow\"])\n",
    "node"
   ]
  },
  {
   "cell_type": "markdown",
   "metadata": {},
   "source": [
    "# 10.4 Series is ndarray-like"
   ]
  },
  {
   "cell_type": "markdown",
   "metadata": {},
   "source": [
    "1. It acts similar to a ndarray.\n",
    "2. It is a valid argument to most NumPy functions. \n",
    "3. However, things like slicing also slice the index."
   ]
  },
  {
   "cell_type": "code",
   "execution_count": 86,
   "metadata": {},
   "outputs": [
    {
     "data": {
      "text/plain": [
       "'o'"
      ]
     },
     "execution_count": 86,
     "metadata": {},
     "output_type": "execute_result"
    }
   ],
   "source": [
    "#Accessing a single value\n",
    "node[3]"
   ]
  },
  {
   "cell_type": "code",
   "execution_count": 93,
   "metadata": {},
   "outputs": [
    {
     "data": {
      "text/plain": [
       "'g'"
      ]
     },
     "execution_count": 93,
     "metadata": {},
     "output_type": "execute_result"
    }
   ],
   "source": [
    "#access single value\n",
    "node[1]"
   ]
  },
  {
   "cell_type": "markdown",
   "metadata": {},
   "source": [
    "###### Slicing"
   ]
  },
  {
   "cell_type": "code",
   "execution_count": 94,
   "metadata": {},
   "outputs": [
    {
     "data": {
      "text/plain": [
       "blue     b\n",
       "green    g\n",
       "black    b\n",
       "dtype: object"
      ]
     },
     "execution_count": 94,
     "metadata": {},
     "output_type": "execute_result"
    }
   ],
   "source": [
    "node[:3]"
   ]
  },
  {
   "cell_type": "code",
   "execution_count": 109,
   "metadata": {},
   "outputs": [
    {
     "data": {
      "text/plain": [
       "4"
      ]
     },
     "execution_count": 109,
     "metadata": {},
     "output_type": "execute_result"
    }
   ],
   "source": [
    "node = pd.Series ([1,2,3,4,5])\n",
    "node[node.mean()]"
   ]
  },
  {
   "cell_type": "markdown",
   "metadata": {},
   "source": [
    "###### Using truncate function from numpy library"
   ]
  },
  {
   "cell_type": "code",
   "execution_count": 98,
   "metadata": {},
   "outputs": [
    {
     "data": {
      "text/plain": [
       "0    1.0\n",
       "1    2.0\n",
       "2    3.0\n",
       "3    4.0\n",
       "4    5.0\n",
       "dtype: float64"
      ]
     },
     "execution_count": 98,
     "metadata": {},
     "output_type": "execute_result"
    }
   ],
   "source": [
    "np.trunc(node)"
   ]
  },
  {
   "cell_type": "markdown",
   "metadata": {},
   "source": [
    "###### Using square function from numpy library"
   ]
  },
  {
   "cell_type": "code",
   "execution_count": 100,
   "metadata": {},
   "outputs": [
    {
     "data": {
      "text/plain": [
       "0     1\n",
       "1     4\n",
       "2     9\n",
       "3    16\n",
       "4    25\n",
       "dtype: int64"
      ]
     },
     "execution_count": 100,
     "metadata": {},
     "output_type": "execute_result"
    }
   ],
   "source": [
    "np.square(node)"
   ]
  },
  {
   "cell_type": "markdown",
   "metadata": {},
   "source": [
    "###### Accessing values at random indexes"
   ]
  },
  {
   "cell_type": "code",
   "execution_count": 101,
   "metadata": {},
   "outputs": [
    {
     "data": {
      "text/plain": [
       "2    3\n",
       "1    2\n",
       "3    4\n",
       "0    1\n",
       "dtype: int64"
      ]
     },
     "execution_count": 101,
     "metadata": {},
     "output_type": "execute_result"
    }
   ],
   "source": [
    "node[[2,1,3,0]]"
   ]
  },
  {
   "cell_type": "markdown",
   "metadata": {},
   "source": [
    "###### Returning True or false by checking value i node"
   ]
  },
  {
   "cell_type": "code",
   "execution_count": 102,
   "metadata": {},
   "outputs": [
    {
     "data": {
      "text/plain": [
       "True"
      ]
     },
     "execution_count": 102,
     "metadata": {},
     "output_type": "execute_result"
    }
   ],
   "source": [
    "2 in node"
   ]
  },
  {
   "cell_type": "markdown",
   "metadata": {},
   "source": [
    "###### get fucntions returns the value of that label if present, if label is not present it returns null or nothing"
   ]
  },
  {
   "cell_type": "code",
   "execution_count": 110,
   "metadata": {},
   "outputs": [
    {
     "data": {
      "text/plain": [
       "2"
      ]
     },
     "execution_count": 110,
     "metadata": {},
     "output_type": "execute_result"
    }
   ],
   "source": [
    "node = pd.Series ([1,2,3,4,5], index = [\"a\",\"b\",\"c\",\"d\",\"e\"])\n",
    "node.get(\"b\")"
   ]
  },
  {
   "cell_type": "code",
   "execution_count": 112,
   "metadata": {},
   "outputs": [],
   "source": [
    "node.get(\"f\")"
   ]
  },
  {
   "cell_type": "markdown",
   "metadata": {},
   "source": [
    "# 10.6 Vectorized operations and label alignment with Series "
   ]
  },
  {
   "cell_type": "markdown",
   "metadata": {},
   "source": [
    "1. When doing data analysis, as with raw NumPy arrays looping through Series value-by-value is usually not necessary.\n",
    "2. Series can also be passed into most NumPy methods expecting an ndarray.\n",
    "\n",
    "We can operate on series just like we do on any integers in maths. We can multiply it, we can divide it, we can assign objects to the series if it is a string. We can rename a string and we can perform other numerous operations on it."
   ]
  },
  {
   "cell_type": "markdown",
   "metadata": {},
   "source": [
    "#### Multiplying series"
   ]
  },
  {
   "cell_type": "code",
   "execution_count": 114,
   "metadata": {},
   "outputs": [
    {
     "data": {
      "text/plain": [
       "a      1\n",
       "b     16\n",
       "c     81\n",
       "d    256\n",
       "e    625\n",
       "dtype: int64"
      ]
     },
     "execution_count": 114,
     "metadata": {},
     "output_type": "execute_result"
    }
   ],
   "source": [
    "node * node * node **2"
   ]
  },
  {
   "cell_type": "markdown",
   "metadata": {},
   "source": [
    "#### Dividing series and then multiplying it"
   ]
  },
  {
   "cell_type": "code",
   "execution_count": 118,
   "metadata": {},
   "outputs": [
    {
     "data": {
      "text/plain": [
       "a     0.5\n",
       "b     2.0\n",
       "c     4.5\n",
       "d     8.0\n",
       "e    12.5\n",
       "dtype: float64"
      ]
     },
     "execution_count": 118,
     "metadata": {},
     "output_type": "execute_result"
    }
   ],
   "source": [
    "node / 2 * node"
   ]
  },
  {
   "cell_type": "markdown",
   "metadata": {},
   "source": [
    "#### We can provide objects to the series"
   ]
  },
  {
   "cell_type": "code",
   "execution_count": 120,
   "metadata": {},
   "outputs": [
    {
     "data": {
      "text/plain": [
       "0    1\n",
       "1    2\n",
       "2    3\n",
       "3    4\n",
       "Name: Bilal, dtype: int64"
      ]
     },
     "execution_count": 120,
     "metadata": {},
     "output_type": "execute_result"
    }
   ],
   "source": [
    "name = \"Bilal\"\n",
    "node = pd.Series([1,2,3,4], name = name)\n",
    "node"
   ]
  },
  {
   "cell_type": "code",
   "execution_count": 121,
   "metadata": {},
   "outputs": [
    {
     "data": {
      "text/plain": [
       "'Bilal'"
      ]
     },
     "execution_count": 121,
     "metadata": {},
     "output_type": "execute_result"
    }
   ],
   "source": [
    "node.name"
   ]
  },
  {
   "cell_type": "markdown",
   "metadata": {},
   "source": [
    "#### We can give one series reference name to the other one and can also rename it."
   ]
  },
  {
   "cell_type": "code",
   "execution_count": 122,
   "metadata": {},
   "outputs": [
    {
     "data": {
      "text/plain": [
       "'Bilal Butt'"
      ]
     },
     "execution_count": 122,
     "metadata": {},
     "output_type": "execute_result"
    }
   ],
   "source": [
    "name = \"Bilal Butt\"\n",
    "node = node.rename(name)\n",
    "node.name"
   ]
  },
  {
   "cell_type": "markdown",
   "metadata": {},
   "source": [
    "# 11. Data Frames"
   ]
  },
  {
   "cell_type": "markdown",
   "metadata": {},
   "source": [
    "A DataFrame is a 2 dimensional object that can have columns with potential different types. Different kind of inputs include dictionaries, lists, series, and even another DataFrame.\n",
    "\n",
    "It is the most commonly used pandas object\n",
    "- Data frames are inspired of R programming language and are workhorse of pandas.\n",
    "- Data frames accepts following type of inputs.\n",
    "- A dict of series or dict.\n",
    "- Structured or record ndarray.\n",
    "- A Series.\n",
    "- Another DataFrame.\n",
    "- alongwith data, column and rows arguements are also optionally passed and passing them guarantees the index of data frames.\n",
    "- Thus, a dict of Series plus a specific index will discard all data not matching up to the passed index.\n",
    "- If axis labels are not passed, they will be constructed from the input data based on common sense rules.\n"
   ]
  },
  {
   "cell_type": "code",
   "execution_count": 123,
   "metadata": {},
   "outputs": [],
   "source": [
    "import pandas as pd"
   ]
  },
  {
   "cell_type": "code",
   "execution_count": 146,
   "metadata": {},
   "outputs": [
    {
     "data": {
      "text/html": [
       "<div>\n",
       "<style scoped>\n",
       "    .dataframe tbody tr th:only-of-type {\n",
       "        vertical-align: middle;\n",
       "    }\n",
       "\n",
       "    .dataframe tbody tr th {\n",
       "        vertical-align: top;\n",
       "    }\n",
       "\n",
       "    .dataframe thead th {\n",
       "        text-align: right;\n",
       "    }\n",
       "</style>\n",
       "<table border=\"1\" class=\"dataframe\">\n",
       "  <thead>\n",
       "    <tr style=\"text-align: right;\">\n",
       "      <th></th>\n",
       "      <th>1</th>\n",
       "      <th>2</th>\n",
       "      <th>3</th>\n",
       "      <th>4</th>\n",
       "    </tr>\n",
       "  </thead>\n",
       "  <tbody>\n",
       "    <tr>\n",
       "      <th>0</th>\n",
       "      <td>bilal</td>\n",
       "      <td>murtaza</td>\n",
       "      <td>abdul aziz</td>\n",
       "      <td>saaim</td>\n",
       "    </tr>\n",
       "    <tr>\n",
       "      <th>1</th>\n",
       "      <td>ford</td>\n",
       "      <td>bmw</td>\n",
       "      <td>audi</td>\n",
       "      <td>mercedes</td>\n",
       "    </tr>\n",
       "    <tr>\n",
       "      <th>2</th>\n",
       "      <td>1</td>\n",
       "      <td>2</td>\n",
       "      <td>3</td>\n",
       "      <td>4</td>\n",
       "    </tr>\n",
       "    <tr>\n",
       "      <th>3</th>\n",
       "      <td>BCS</td>\n",
       "      <td>BCS</td>\n",
       "      <td>BCS</td>\n",
       "      <td>BCS</td>\n",
       "    </tr>\n",
       "  </tbody>\n",
       "</table>\n",
       "</div>"
      ],
      "text/plain": [
       "       1        2           3         4\n",
       "0  bilal  murtaza  abdul aziz     saaim\n",
       "1   ford      bmw        audi  mercedes\n",
       "2      1        2           3         4\n",
       "3    BCS      BCS         BCS       BCS"
      ]
     },
     "execution_count": 146,
     "metadata": {},
     "output_type": "execute_result"
    }
   ],
   "source": [
    "node = [[\"bilal\",\"murtaza\",\"abdul aziz\",\"saaim\"],\n",
    "        [\"ford\",\"bmw\",\"audi\",\"mercedes\"],\n",
    "        [1,2,3,4],\n",
    "        [\"BCS\",\"BCS\",\"BCS\",\"BCS\"]]\n",
    "\n",
    "df = pd.DataFrame(node, columns = [1,2,3,4])    \n",
    "df"
   ]
  },
  {
   "cell_type": "markdown",
   "metadata": {},
   "source": [
    "- #### Changing indexes"
   ]
  },
  {
   "cell_type": "code",
   "execution_count": 145,
   "metadata": {},
   "outputs": [
    {
     "data": {
      "text/html": [
       "<div>\n",
       "<style scoped>\n",
       "    .dataframe tbody tr th:only-of-type {\n",
       "        vertical-align: middle;\n",
       "    }\n",
       "\n",
       "    .dataframe tbody tr th {\n",
       "        vertical-align: top;\n",
       "    }\n",
       "\n",
       "    .dataframe thead th {\n",
       "        text-align: right;\n",
       "    }\n",
       "</style>\n",
       "<table border=\"1\" class=\"dataframe\">\n",
       "  <thead>\n",
       "    <tr style=\"text-align: right;\">\n",
       "      <th></th>\n",
       "      <th>1</th>\n",
       "      <th>2</th>\n",
       "      <th>3</th>\n",
       "      <th>4</th>\n",
       "    </tr>\n",
       "  </thead>\n",
       "  <tbody>\n",
       "    <tr>\n",
       "      <th>Friends</th>\n",
       "      <td>bilal</td>\n",
       "      <td>murtaza</td>\n",
       "      <td>abdul aziz</td>\n",
       "      <td>saaim</td>\n",
       "    </tr>\n",
       "    <tr>\n",
       "      <th>Cars</th>\n",
       "      <td>ford</td>\n",
       "      <td>bmw</td>\n",
       "      <td>audi</td>\n",
       "      <td>mercedes</td>\n",
       "    </tr>\n",
       "    <tr>\n",
       "      <th>rand</th>\n",
       "      <td>1</td>\n",
       "      <td>2</td>\n",
       "      <td>3</td>\n",
       "      <td>4</td>\n",
       "    </tr>\n",
       "    <tr>\n",
       "      <th>Degree</th>\n",
       "      <td>BCS</td>\n",
       "      <td>BCS</td>\n",
       "      <td>BCS</td>\n",
       "      <td>BCS</td>\n",
       "    </tr>\n",
       "  </tbody>\n",
       "</table>\n",
       "</div>"
      ],
      "text/plain": [
       "             1        2           3         4\n",
       "Friends  bilal  murtaza  abdul aziz     saaim\n",
       "Cars      ford      bmw        audi  mercedes\n",
       "rand         1        2           3         4\n",
       "Degree     BCS      BCS         BCS       BCS"
      ]
     },
     "execution_count": 145,
     "metadata": {},
     "output_type": "execute_result"
    }
   ],
   "source": [
    "df.index = [\"Friends\",\"Cars\",\"rand\",\"Degree\"] \n",
    "df"
   ]
  },
  {
   "cell_type": "markdown",
   "metadata": {},
   "source": [
    "# 11.1 Creating DataFrame from Series or Dicts"
   ]
  },
  {
   "cell_type": "markdown",
   "metadata": {},
   "source": [
    "To create DataFrame from dict of narray/list, all the narray must be of same length. If index is passed then the length index should be equal to the length of arrays. If no index is passed, then by default, index will be range(n) where n is the array length\n",
    "\n",
    "- The result index will be the union of the indexes of the various Series.\n",
    "- Nested dicts(if any) are first converted to Series.\n",
    "- The columns will be the sorted list of dict keys,If no columns are passed."
   ]
  },
  {
   "cell_type": "code",
   "execution_count": 199,
   "metadata": {},
   "outputs": [
    {
     "data": {
      "text/html": [
       "<div>\n",
       "<style scoped>\n",
       "    .dataframe tbody tr th:only-of-type {\n",
       "        vertical-align: middle;\n",
       "    }\n",
       "\n",
       "    .dataframe tbody tr th {\n",
       "        vertical-align: top;\n",
       "    }\n",
       "\n",
       "    .dataframe thead th {\n",
       "        text-align: right;\n",
       "    }\n",
       "</style>\n",
       "<table border=\"1\" class=\"dataframe\">\n",
       "  <thead>\n",
       "    <tr style=\"text-align: right;\">\n",
       "      <th></th>\n",
       "      <th>First</th>\n",
       "      <th>Second</th>\n",
       "    </tr>\n",
       "  </thead>\n",
       "  <tbody>\n",
       "    <tr>\n",
       "      <th>0</th>\n",
       "      <td>NaN</td>\n",
       "      <td>0.102338</td>\n",
       "    </tr>\n",
       "    <tr>\n",
       "      <th>1</th>\n",
       "      <td>NaN</td>\n",
       "      <td>-0.375488</td>\n",
       "    </tr>\n",
       "    <tr>\n",
       "      <th>2</th>\n",
       "      <td>NaN</td>\n",
       "      <td>-1.149499</td>\n",
       "    </tr>\n",
       "    <tr>\n",
       "      <th>3</th>\n",
       "      <td>NaN</td>\n",
       "      <td>0.532773</td>\n",
       "    </tr>\n",
       "    <tr>\n",
       "      <th>4</th>\n",
       "      <td>NaN</td>\n",
       "      <td>0.304549</td>\n",
       "    </tr>\n",
       "    <tr>\n",
       "      <th>5</th>\n",
       "      <td>NaN</td>\n",
       "      <td>0.424916</td>\n",
       "    </tr>\n",
       "    <tr>\n",
       "      <th>D</th>\n",
       "      <td>up</td>\n",
       "      <td>NaN</td>\n",
       "    </tr>\n",
       "    <tr>\n",
       "      <th>E</th>\n",
       "      <td>friend</td>\n",
       "      <td>NaN</td>\n",
       "    </tr>\n",
       "    <tr>\n",
       "      <th>F</th>\n",
       "      <td>yo</td>\n",
       "      <td>NaN</td>\n",
       "    </tr>\n",
       "    <tr>\n",
       "      <th>I</th>\n",
       "      <td>what's</td>\n",
       "      <td>NaN</td>\n",
       "    </tr>\n",
       "    <tr>\n",
       "      <th>N</th>\n",
       "      <td>..</td>\n",
       "      <td>NaN</td>\n",
       "    </tr>\n",
       "    <tr>\n",
       "      <th>R</th>\n",
       "      <td>my</td>\n",
       "      <td>NaN</td>\n",
       "    </tr>\n",
       "  </tbody>\n",
       "</table>\n",
       "</div>"
      ],
      "text/plain": [
       "    First    Second\n",
       "0     NaN  0.102338\n",
       "1     NaN -0.375488\n",
       "2     NaN -1.149499\n",
       "3     NaN  0.532773\n",
       "4     NaN  0.304549\n",
       "5     NaN  0.424916\n",
       "D      up       NaN\n",
       "E  friend       NaN\n",
       "F      yo       NaN\n",
       "I  what's       NaN\n",
       "N      ..       NaN\n",
       "R      my       NaN"
      ]
     },
     "execution_count": 199,
     "metadata": {},
     "output_type": "execute_result"
    }
   ],
   "source": [
    "dict = { \"First\": pd.Series((\"yo\",\"my\",\"friend\",\"what's\",\"..\",\"up\"),\n",
    "                       index = [\"F\",\"R\",\"E\",\"I\",\"N\",\"D\"]),\n",
    "         \"Second\": pd.Series(np.random.randn(6)),\n",
    "       }\n",
    "df = pd.DataFrame (dict)\n",
    "df"
   ]
  },
  {
   "cell_type": "markdown",
   "metadata": {},
   "source": [
    "- #### If we dont initialize either of thier indexes then the data frame wil be like following."
   ]
  },
  {
   "cell_type": "code",
   "execution_count": 200,
   "metadata": {},
   "outputs": [
    {
     "data": {
      "text/html": [
       "<div>\n",
       "<style scoped>\n",
       "    .dataframe tbody tr th:only-of-type {\n",
       "        vertical-align: middle;\n",
       "    }\n",
       "\n",
       "    .dataframe tbody tr th {\n",
       "        vertical-align: top;\n",
       "    }\n",
       "\n",
       "    .dataframe thead th {\n",
       "        text-align: right;\n",
       "    }\n",
       "</style>\n",
       "<table border=\"1\" class=\"dataframe\">\n",
       "  <thead>\n",
       "    <tr style=\"text-align: right;\">\n",
       "      <th></th>\n",
       "      <th>First</th>\n",
       "      <th>Second</th>\n",
       "    </tr>\n",
       "  </thead>\n",
       "  <tbody>\n",
       "    <tr>\n",
       "      <th>0</th>\n",
       "      <td>yo</td>\n",
       "      <td>0.839456</td>\n",
       "    </tr>\n",
       "    <tr>\n",
       "      <th>1</th>\n",
       "      <td>my</td>\n",
       "      <td>-0.657347</td>\n",
       "    </tr>\n",
       "    <tr>\n",
       "      <th>2</th>\n",
       "      <td>friend</td>\n",
       "      <td>-0.688538</td>\n",
       "    </tr>\n",
       "    <tr>\n",
       "      <th>3</th>\n",
       "      <td>what's</td>\n",
       "      <td>-0.126260</td>\n",
       "    </tr>\n",
       "    <tr>\n",
       "      <th>4</th>\n",
       "      <td>..</td>\n",
       "      <td>-0.753315</td>\n",
       "    </tr>\n",
       "    <tr>\n",
       "      <th>5</th>\n",
       "      <td>up</td>\n",
       "      <td>1.855982</td>\n",
       "    </tr>\n",
       "  </tbody>\n",
       "</table>\n",
       "</div>"
      ],
      "text/plain": [
       "    First    Second\n",
       "0      yo  0.839456\n",
       "1      my -0.657347\n",
       "2  friend -0.688538\n",
       "3  what's -0.126260\n",
       "4      .. -0.753315\n",
       "5      up  1.855982"
      ]
     },
     "execution_count": 200,
     "metadata": {},
     "output_type": "execute_result"
    }
   ],
   "source": [
    "dict = { \"First\": pd.Series((\"yo\",\"my\",\"friend\",\"what's\",\"..\",\"up\")),\n",
    "         \"Second\": pd.Series(np.random.randn(6)),\n",
    "       }\n",
    "df = pd.DataFrame (dict)\n",
    "df"
   ]
  },
  {
   "cell_type": "code",
   "execution_count": 201,
   "metadata": {},
   "outputs": [
    {
     "data": {
      "text/html": [
       "<div>\n",
       "<style scoped>\n",
       "    .dataframe tbody tr th:only-of-type {\n",
       "        vertical-align: middle;\n",
       "    }\n",
       "\n",
       "    .dataframe tbody tr th {\n",
       "        vertical-align: top;\n",
       "    }\n",
       "\n",
       "    .dataframe thead th {\n",
       "        text-align: right;\n",
       "    }\n",
       "</style>\n",
       "<table border=\"1\" class=\"dataframe\">\n",
       "  <thead>\n",
       "    <tr style=\"text-align: right;\">\n",
       "      <th></th>\n",
       "      <th>First</th>\n",
       "      <th>Second</th>\n",
       "    </tr>\n",
       "  </thead>\n",
       "  <tbody>\n",
       "    <tr>\n",
       "      <th>0</th>\n",
       "      <td>yo</td>\n",
       "      <td>-0.063283</td>\n",
       "    </tr>\n",
       "    <tr>\n",
       "      <th>1</th>\n",
       "      <td>my</td>\n",
       "      <td>-0.282680</td>\n",
       "    </tr>\n",
       "    <tr>\n",
       "      <th>2</th>\n",
       "      <td>friend</td>\n",
       "      <td>0.983543</td>\n",
       "    </tr>\n",
       "    <tr>\n",
       "      <th>3</th>\n",
       "      <td>what's</td>\n",
       "      <td>0.839583</td>\n",
       "    </tr>\n",
       "    <tr>\n",
       "      <th>4</th>\n",
       "      <td>..</td>\n",
       "      <td>0.637034</td>\n",
       "    </tr>\n",
       "    <tr>\n",
       "      <th>5</th>\n",
       "      <td>up</td>\n",
       "      <td>-1.989318</td>\n",
       "    </tr>\n",
       "    <tr>\n",
       "      <th>6</th>\n",
       "      <td>NaN</td>\n",
       "      <td>-0.869327</td>\n",
       "    </tr>\n",
       "    <tr>\n",
       "      <th>7</th>\n",
       "      <td>NaN</td>\n",
       "      <td>-1.293757</td>\n",
       "    </tr>\n",
       "  </tbody>\n",
       "</table>\n",
       "</div>"
      ],
      "text/plain": [
       "    First    Second\n",
       "0      yo -0.063283\n",
       "1      my -0.282680\n",
       "2  friend  0.983543\n",
       "3  what's  0.839583\n",
       "4      ..  0.637034\n",
       "5      up -1.989318\n",
       "6     NaN -0.869327\n",
       "7     NaN -1.293757"
      ]
     },
     "execution_count": 201,
     "metadata": {},
     "output_type": "execute_result"
    }
   ],
   "source": [
    "dict = { \"First\": pd.Series((\"yo\",\"my\",\"friend\",\"what's\",\"..\",\"up\")),\n",
    "         \"Second\": pd.Series(np.random.randn(8)),\n",
    "       }\n",
    "df = pd.DataFrame (dict)\n",
    "df"
   ]
  },
  {
   "cell_type": "markdown",
   "metadata": {},
   "source": [
    "- #### When both are same indexed"
   ]
  },
  {
   "cell_type": "code",
   "execution_count": 204,
   "metadata": {},
   "outputs": [
    {
     "data": {
      "text/html": [
       "<div>\n",
       "<style scoped>\n",
       "    .dataframe tbody tr th:only-of-type {\n",
       "        vertical-align: middle;\n",
       "    }\n",
       "\n",
       "    .dataframe tbody tr th {\n",
       "        vertical-align: top;\n",
       "    }\n",
       "\n",
       "    .dataframe thead th {\n",
       "        text-align: right;\n",
       "    }\n",
       "</style>\n",
       "<table border=\"1\" class=\"dataframe\">\n",
       "  <thead>\n",
       "    <tr style=\"text-align: right;\">\n",
       "      <th></th>\n",
       "      <th>First</th>\n",
       "      <th>Second</th>\n",
       "    </tr>\n",
       "  </thead>\n",
       "  <tbody>\n",
       "    <tr>\n",
       "      <th>F</th>\n",
       "      <td>yo</td>\n",
       "      <td>0.279650</td>\n",
       "    </tr>\n",
       "    <tr>\n",
       "      <th>R</th>\n",
       "      <td>my</td>\n",
       "      <td>1.162913</td>\n",
       "    </tr>\n",
       "    <tr>\n",
       "      <th>E</th>\n",
       "      <td>friend</td>\n",
       "      <td>0.707504</td>\n",
       "    </tr>\n",
       "    <tr>\n",
       "      <th>I</th>\n",
       "      <td>what's</td>\n",
       "      <td>1.535876</td>\n",
       "    </tr>\n",
       "    <tr>\n",
       "      <th>N</th>\n",
       "      <td>..</td>\n",
       "      <td>-0.812017</td>\n",
       "    </tr>\n",
       "    <tr>\n",
       "      <th>D</th>\n",
       "      <td>up</td>\n",
       "      <td>2.882176</td>\n",
       "    </tr>\n",
       "  </tbody>\n",
       "</table>\n",
       "</div>"
      ],
      "text/plain": [
       "    First    Second\n",
       "F      yo  0.279650\n",
       "R      my  1.162913\n",
       "E  friend  0.707504\n",
       "I  what's  1.535876\n",
       "N      .. -0.812017\n",
       "D      up  2.882176"
      ]
     },
     "execution_count": 204,
     "metadata": {},
     "output_type": "execute_result"
    }
   ],
   "source": [
    "dict = { \"First\": pd.Series((\"yo\",\"my\",\"friend\",\"what's\",\"..\",\"up\"),\n",
    "                       index = [\"F\",\"R\",\"E\",\"I\",\"N\",\"D\"]),\n",
    "         \"Second\": pd.Series(np.random.randn(6),\n",
    "                             index = [\"F\",\"R\",\"E\",\"I\",\"N\",\"D\"])\n",
    "       }\n",
    "df = pd.DataFrame (dict)\n",
    "df"
   ]
  },
  {
   "cell_type": "markdown",
   "metadata": {},
   "source": [
    "- #### There is a function called loc which is use to access rows in Data Frame, but here we will use index to extract row"
   ]
  },
  {
   "cell_type": "code",
   "execution_count": 207,
   "metadata": {},
   "outputs": [
    {
     "data": {
      "text/html": [
       "<div>\n",
       "<style scoped>\n",
       "    .dataframe tbody tr th:only-of-type {\n",
       "        vertical-align: middle;\n",
       "    }\n",
       "\n",
       "    .dataframe tbody tr th {\n",
       "        vertical-align: top;\n",
       "    }\n",
       "\n",
       "    .dataframe thead th {\n",
       "        text-align: right;\n",
       "    }\n",
       "</style>\n",
       "<table border=\"1\" class=\"dataframe\">\n",
       "  <thead>\n",
       "    <tr style=\"text-align: right;\">\n",
       "      <th></th>\n",
       "      <th>First</th>\n",
       "      <th>Second</th>\n",
       "    </tr>\n",
       "  </thead>\n",
       "  <tbody>\n",
       "    <tr>\n",
       "      <th>F</th>\n",
       "      <td>yo</td>\n",
       "      <td>-1.178670</td>\n",
       "    </tr>\n",
       "    <tr>\n",
       "      <th>R</th>\n",
       "      <td>my</td>\n",
       "      <td>1.106896</td>\n",
       "    </tr>\n",
       "    <tr>\n",
       "      <th>E</th>\n",
       "      <td>friend</td>\n",
       "      <td>-0.911810</td>\n",
       "    </tr>\n",
       "    <tr>\n",
       "      <th>I</th>\n",
       "      <td>what's</td>\n",
       "      <td>-0.678876</td>\n",
       "    </tr>\n",
       "  </tbody>\n",
       "</table>\n",
       "</div>"
      ],
      "text/plain": [
       "    First    Second\n",
       "F      yo -1.178670\n",
       "R      my  1.106896\n",
       "E  friend -0.911810\n",
       "I  what's -0.678876"
      ]
     },
     "execution_count": 207,
     "metadata": {},
     "output_type": "execute_result"
    }
   ],
   "source": [
    "dict = { \"First\": pd.Series((\"yo\",\"my\",\"friend\",\"what's\",\"..\",\"up\"),\n",
    "                       index = [\"F\",\"R\",\"E\",\"I\",\"N\",\"D\"]),\n",
    "         \"Second\": pd.Series(np.random.randn(6),\n",
    "                             index = [\"F\",\"R\",\"E\",\"I\",\"N\",\"D\"])\n",
    "       }\n",
    "df = pd.DataFrame (dict, index = [\"F\",\"R\",\"E\",\"I\"])\n",
    "df"
   ]
  },
  {
   "cell_type": "markdown",
   "metadata": {},
   "source": [
    "- ##### New column names having no value"
   ]
  },
  {
   "cell_type": "code",
   "execution_count": 208,
   "metadata": {},
   "outputs": [
    {
     "data": {
      "text/html": [
       "<div>\n",
       "<style scoped>\n",
       "    .dataframe tbody tr th:only-of-type {\n",
       "        vertical-align: middle;\n",
       "    }\n",
       "\n",
       "    .dataframe tbody tr th {\n",
       "        vertical-align: top;\n",
       "    }\n",
       "\n",
       "    .dataframe thead th {\n",
       "        text-align: right;\n",
       "    }\n",
       "</style>\n",
       "<table border=\"1\" class=\"dataframe\">\n",
       "  <thead>\n",
       "    <tr style=\"text-align: right;\">\n",
       "      <th></th>\n",
       "      <th>Bilal</th>\n",
       "      <th>Age</th>\n",
       "    </tr>\n",
       "  </thead>\n",
       "  <tbody>\n",
       "    <tr>\n",
       "      <th>1</th>\n",
       "      <td>NaN</td>\n",
       "      <td>NaN</td>\n",
       "    </tr>\n",
       "    <tr>\n",
       "      <th>4</th>\n",
       "      <td>NaN</td>\n",
       "      <td>NaN</td>\n",
       "    </tr>\n",
       "  </tbody>\n",
       "</table>\n",
       "</div>"
      ],
      "text/plain": [
       "  Bilal  Age\n",
       "1   NaN  NaN\n",
       "4   NaN  NaN"
      ]
     },
     "execution_count": 208,
     "metadata": {},
     "output_type": "execute_result"
    }
   ],
   "source": [
    "pd.DataFrame(dict,index=[1,4],columns=[\"Bilal\",\"Age\"])"
   ]
  },
  {
   "cell_type": "code",
   "execution_count": 210,
   "metadata": {},
   "outputs": [
    {
     "data": {
      "text/html": [
       "<div>\n",
       "<style scoped>\n",
       "    .dataframe tbody tr th:only-of-type {\n",
       "        vertical-align: middle;\n",
       "    }\n",
       "\n",
       "    .dataframe tbody tr th {\n",
       "        vertical-align: top;\n",
       "    }\n",
       "\n",
       "    .dataframe thead th {\n",
       "        text-align: right;\n",
       "    }\n",
       "</style>\n",
       "<table border=\"1\" class=\"dataframe\">\n",
       "  <thead>\n",
       "    <tr style=\"text-align: right;\">\n",
       "      <th></th>\n",
       "      <th>D</th>\n",
       "      <th>O</th>\n",
       "      <th>G</th>\n",
       "    </tr>\n",
       "  </thead>\n",
       "  <tbody>\n",
       "    <tr>\n",
       "      <th>C</th>\n",
       "      <td>NaN</td>\n",
       "      <td>NaN</td>\n",
       "      <td>NaN</td>\n",
       "    </tr>\n",
       "    <tr>\n",
       "      <th>A</th>\n",
       "      <td>NaN</td>\n",
       "      <td>NaN</td>\n",
       "      <td>NaN</td>\n",
       "    </tr>\n",
       "    <tr>\n",
       "      <th>T</th>\n",
       "      <td>NaN</td>\n",
       "      <td>NaN</td>\n",
       "      <td>NaN</td>\n",
       "    </tr>\n",
       "  </tbody>\n",
       "</table>\n",
       "</div>"
      ],
      "text/plain": [
       "     D    O    G\n",
       "C  NaN  NaN  NaN\n",
       "A  NaN  NaN  NaN\n",
       "T  NaN  NaN  NaN"
      ]
     },
     "execution_count": 210,
     "metadata": {},
     "output_type": "execute_result"
    }
   ],
   "source": [
    "pd.DataFrame(dict,index=[\"C\",\"A\",\"T\"],columns=[\"D\",\"O\",\"G\"])"
   ]
  },
  {
   "cell_type": "code",
   "execution_count": 214,
   "metadata": {},
   "outputs": [
    {
     "data": {
      "text/plain": [
       "Index(['First', 'Second'], dtype='object')"
      ]
     },
     "execution_count": 214,
     "metadata": {},
     "output_type": "execute_result"
    }
   ],
   "source": [
    "df.columns"
   ]
  },
  {
   "cell_type": "code",
   "execution_count": 215,
   "metadata": {},
   "outputs": [
    {
     "data": {
      "text/plain": [
       "Index(['F', 'R', 'E', 'I'], dtype='object')"
      ]
     },
     "execution_count": 215,
     "metadata": {},
     "output_type": "execute_result"
    }
   ],
   "source": [
    "df.index"
   ]
  },
  {
   "cell_type": "markdown",
   "metadata": {},
   "source": [
    "- ##### df.shape returns the total number of rows and columns"
   ]
  },
  {
   "cell_type": "code",
   "execution_count": 216,
   "metadata": {},
   "outputs": [
    {
     "data": {
      "text/plain": [
       "(4, 2)"
      ]
     },
     "execution_count": 216,
     "metadata": {},
     "output_type": "execute_result"
    }
   ],
   "source": [
    "df.shape"
   ]
  },
  {
   "cell_type": "markdown",
   "metadata": {},
   "source": [
    "# 11.2 Creating Dataframe from list of dicts"
   ]
  },
  {
   "cell_type": "markdown",
   "metadata": {},
   "source": [
    "Pandas DataFrame can be created by passing lists of dictionaries as a input data. By default dictionary keys taken as columns\n",
    "- length should be same of ndarrays.\n",
    "- If an index is passed, it must clearly also be the same length as the arrays.\n",
    "- Result will be of range(n), where n is the array length,If no index is passed."
   ]
  },
  {
   "cell_type": "code",
   "execution_count": 220,
   "metadata": {},
   "outputs": [
    {
     "data": {
      "text/html": [
       "<div>\n",
       "<style scoped>\n",
       "    .dataframe tbody tr th:only-of-type {\n",
       "        vertical-align: middle;\n",
       "    }\n",
       "\n",
       "    .dataframe tbody tr th {\n",
       "        vertical-align: top;\n",
       "    }\n",
       "\n",
       "    .dataframe thead th {\n",
       "        text-align: right;\n",
       "    }\n",
       "</style>\n",
       "<table border=\"1\" class=\"dataframe\">\n",
       "  <thead>\n",
       "    <tr style=\"text-align: right;\">\n",
       "      <th></th>\n",
       "      <th>A</th>\n",
       "      <th>B</th>\n",
       "      <th>C</th>\n",
       "    </tr>\n",
       "  </thead>\n",
       "  <tbody>\n",
       "    <tr>\n",
       "      <th>0</th>\n",
       "      <td>1</td>\n",
       "      <td>2</td>\n",
       "      <td>3</td>\n",
       "    </tr>\n",
       "    <tr>\n",
       "      <th>1</th>\n",
       "      <td>10</td>\n",
       "      <td>20</td>\n",
       "      <td>30</td>\n",
       "    </tr>\n",
       "    <tr>\n",
       "      <th>2</th>\n",
       "      <td>100</td>\n",
       "      <td>200</td>\n",
       "      <td>300</td>\n",
       "    </tr>\n",
       "    <tr>\n",
       "      <th>3</th>\n",
       "      <td>1000</td>\n",
       "      <td>2000</td>\n",
       "      <td>3000</td>\n",
       "    </tr>\n",
       "  </tbody>\n",
       "</table>\n",
       "</div>"
      ],
      "text/plain": [
       "      A     B     C\n",
       "0     1     2     3\n",
       "1    10    20    30\n",
       "2   100   200   300\n",
       "3  1000  2000  3000"
      ]
     },
     "execution_count": 220,
     "metadata": {},
     "output_type": "execute_result"
    }
   ],
   "source": [
    "listOfDicts = [{'A': 1, 'B': 2, 'C':3}, \n",
    "        {'A':10, 'B': 20, 'C': 30}, \n",
    "        {'A':100, 'B': 200, 'C': 300},\n",
    "        {'A':1000, 'B': 2000, 'C': 3000}] \n",
    "df = pd.DataFrame(listOfDicts) \n",
    "df"
   ]
  },
  {
   "cell_type": "markdown",
   "metadata": {},
   "source": [
    "- ###### We can assign Nan to the value we don't want to assign by np.nan function"
   ]
  },
  {
   "cell_type": "code",
   "execution_count": 224,
   "metadata": {},
   "outputs": [
    {
     "data": {
      "text/html": [
       "<div>\n",
       "<style scoped>\n",
       "    .dataframe tbody tr th:only-of-type {\n",
       "        vertical-align: middle;\n",
       "    }\n",
       "\n",
       "    .dataframe tbody tr th {\n",
       "        vertical-align: top;\n",
       "    }\n",
       "\n",
       "    .dataframe thead th {\n",
       "        text-align: right;\n",
       "    }\n",
       "</style>\n",
       "<table border=\"1\" class=\"dataframe\">\n",
       "  <thead>\n",
       "    <tr style=\"text-align: right;\">\n",
       "      <th></th>\n",
       "      <th>A</th>\n",
       "      <th>B</th>\n",
       "      <th>C</th>\n",
       "    </tr>\n",
       "  </thead>\n",
       "  <tbody>\n",
       "    <tr>\n",
       "      <th>0</th>\n",
       "      <td>NaN</td>\n",
       "      <td>2.0</td>\n",
       "      <td>3.0</td>\n",
       "    </tr>\n",
       "    <tr>\n",
       "      <th>1</th>\n",
       "      <td>10.0</td>\n",
       "      <td>NaN</td>\n",
       "      <td>30.0</td>\n",
       "    </tr>\n",
       "    <tr>\n",
       "      <th>2</th>\n",
       "      <td>100.0</td>\n",
       "      <td>200.0</td>\n",
       "      <td>NaN</td>\n",
       "    </tr>\n",
       "    <tr>\n",
       "      <th>3</th>\n",
       "      <td>1000.0</td>\n",
       "      <td>2000.0</td>\n",
       "      <td>3000.0</td>\n",
       "    </tr>\n",
       "  </tbody>\n",
       "</table>\n",
       "</div>"
      ],
      "text/plain": [
       "        A       B       C\n",
       "0     NaN     2.0     3.0\n",
       "1    10.0     NaN    30.0\n",
       "2   100.0   200.0     NaN\n",
       "3  1000.0  2000.0  3000.0"
      ]
     },
     "execution_count": 224,
     "metadata": {},
     "output_type": "execute_result"
    }
   ],
   "source": [
    "listOfDicts = [{'A': np.nan, 'B': 2, 'C':3}, \n",
    "        {'A':10, 'B': np.nan, 'C': 30}, \n",
    "        {'A':100, 'B': 200, 'C': np.nan},\n",
    "        {'A':1000, 'B': 2000, 'C': 3000}] \n",
    "df = pd.DataFrame(listOfDicts) \n",
    "df"
   ]
  },
  {
   "cell_type": "markdown",
   "metadata": {},
   "source": [
    "- ###### Similarly, another column will be created by the name nan if we assign nan value inplace of the key value."
   ]
  },
  {
   "cell_type": "code",
   "execution_count": 226,
   "metadata": {},
   "outputs": [
    {
     "data": {
      "text/html": [
       "<div>\n",
       "<style scoped>\n",
       "    .dataframe tbody tr th:only-of-type {\n",
       "        vertical-align: middle;\n",
       "    }\n",
       "\n",
       "    .dataframe tbody tr th {\n",
       "        vertical-align: top;\n",
       "    }\n",
       "\n",
       "    .dataframe thead th {\n",
       "        text-align: right;\n",
       "    }\n",
       "</style>\n",
       "<table border=\"1\" class=\"dataframe\">\n",
       "  <thead>\n",
       "    <tr style=\"text-align: right;\">\n",
       "      <th></th>\n",
       "      <th>A</th>\n",
       "      <th>B</th>\n",
       "      <th>NaN</th>\n",
       "      <th>C</th>\n",
       "    </tr>\n",
       "  </thead>\n",
       "  <tbody>\n",
       "    <tr>\n",
       "      <th>0</th>\n",
       "      <td>NaN</td>\n",
       "      <td>2.0</td>\n",
       "      <td>3.0</td>\n",
       "      <td>NaN</td>\n",
       "    </tr>\n",
       "    <tr>\n",
       "      <th>1</th>\n",
       "      <td>10.0</td>\n",
       "      <td>NaN</td>\n",
       "      <td>NaN</td>\n",
       "      <td>30.0</td>\n",
       "    </tr>\n",
       "    <tr>\n",
       "      <th>2</th>\n",
       "      <td>100.0</td>\n",
       "      <td>200.0</td>\n",
       "      <td>NaN</td>\n",
       "      <td>NaN</td>\n",
       "    </tr>\n",
       "    <tr>\n",
       "      <th>3</th>\n",
       "      <td>1000.0</td>\n",
       "      <td>NaN</td>\n",
       "      <td>2000.0</td>\n",
       "      <td>3000.0</td>\n",
       "    </tr>\n",
       "  </tbody>\n",
       "</table>\n",
       "</div>"
      ],
      "text/plain": [
       "        A      B     NaN       C\n",
       "0     NaN    2.0     3.0     NaN\n",
       "1    10.0    NaN     NaN    30.0\n",
       "2   100.0  200.0     NaN     NaN\n",
       "3  1000.0    NaN  2000.0  3000.0"
      ]
     },
     "execution_count": 226,
     "metadata": {},
     "output_type": "execute_result"
    }
   ],
   "source": [
    "listOfDicts = [{'A': np.nan, 'B': 2, np.nan:3}, \n",
    "        {'A':10, 'B': np.nan, 'C': 30}, \n",
    "        {'A':100, 'B': 200, np.nan: np.nan},\n",
    "        {'A':1000, np.nan: 2000, 'C': 3000}] \n",
    "df = pd.DataFrame(listOfDicts) \n",
    "df"
   ]
  },
  {
   "cell_type": "markdown",
   "metadata": {},
   "source": [
    "- #### df.fillna() is the function used for replacing null values with another value. Its syntax is;\n",
    "- #### DataFrame.fillna ( value = None, method = None, axis = None, inplace = False, limit = None, downcast = None ). There are certains method which are used for auto fill, such as bfill, ffill which mean backward fill and forward fill."
   ]
  },
  {
   "cell_type": "code",
   "execution_count": 232,
   "metadata": {},
   "outputs": [
    {
     "name": "stdout",
     "output_type": "stream",
     "text": [
      "After replacing nan values with estericks:\n"
     ]
    },
    {
     "data": {
      "text/html": [
       "<div>\n",
       "<style scoped>\n",
       "    .dataframe tbody tr th:only-of-type {\n",
       "        vertical-align: middle;\n",
       "    }\n",
       "\n",
       "    .dataframe tbody tr th {\n",
       "        vertical-align: top;\n",
       "    }\n",
       "\n",
       "    .dataframe thead th {\n",
       "        text-align: right;\n",
       "    }\n",
       "</style>\n",
       "<table border=\"1\" class=\"dataframe\">\n",
       "  <thead>\n",
       "    <tr style=\"text-align: right;\">\n",
       "      <th></th>\n",
       "      <th>A</th>\n",
       "      <th>B</th>\n",
       "      <th>NaN</th>\n",
       "      <th>C</th>\n",
       "    </tr>\n",
       "  </thead>\n",
       "  <tbody>\n",
       "    <tr>\n",
       "      <th>0</th>\n",
       "      <td>****</td>\n",
       "      <td>2</td>\n",
       "      <td>3</td>\n",
       "      <td>****</td>\n",
       "    </tr>\n",
       "    <tr>\n",
       "      <th>1</th>\n",
       "      <td>10</td>\n",
       "      <td>****</td>\n",
       "      <td>****</td>\n",
       "      <td>30</td>\n",
       "    </tr>\n",
       "    <tr>\n",
       "      <th>2</th>\n",
       "      <td>100</td>\n",
       "      <td>200</td>\n",
       "      <td>****</td>\n",
       "      <td>****</td>\n",
       "    </tr>\n",
       "    <tr>\n",
       "      <th>3</th>\n",
       "      <td>1000</td>\n",
       "      <td>****</td>\n",
       "      <td>2000</td>\n",
       "      <td>3000</td>\n",
       "    </tr>\n",
       "  </tbody>\n",
       "</table>\n",
       "</div>"
      ],
      "text/plain": [
       "      A     B   NaN     C\n",
       "0  ****     2     3  ****\n",
       "1    10  ****  ****    30\n",
       "2   100   200  ****  ****\n",
       "3  1000  ****  2000  3000"
      ]
     },
     "execution_count": 232,
     "metadata": {},
     "output_type": "execute_result"
    }
   ],
   "source": [
    "df.fillna(\"****\", inplace = True)\n",
    "print(\"After replacing nan values with estericks:\")\n",
    "df"
   ]
  },
  {
   "cell_type": "markdown",
   "metadata": {},
   "source": [
    "- #### Columns are inserted at the index you chose, in the following example i will create a \"new\" column at the last index."
   ]
  },
  {
   "cell_type": "code",
   "execution_count": 240,
   "metadata": {},
   "outputs": [
    {
     "data": {
      "text/html": [
       "<div>\n",
       "<style scoped>\n",
       "    .dataframe tbody tr th:only-of-type {\n",
       "        vertical-align: middle;\n",
       "    }\n",
       "\n",
       "    .dataframe tbody tr th {\n",
       "        vertical-align: top;\n",
       "    }\n",
       "\n",
       "    .dataframe thead th {\n",
       "        text-align: right;\n",
       "    }\n",
       "</style>\n",
       "<table border=\"1\" class=\"dataframe\">\n",
       "  <thead>\n",
       "    <tr style=\"text-align: right;\">\n",
       "      <th></th>\n",
       "      <th>A</th>\n",
       "      <th>B</th>\n",
       "      <th>NaN</th>\n",
       "      <th>C</th>\n",
       "      <th>New</th>\n",
       "    </tr>\n",
       "  </thead>\n",
       "  <tbody>\n",
       "    <tr>\n",
       "      <th>0</th>\n",
       "      <td>****</td>\n",
       "      <td>2</td>\n",
       "      <td>3</td>\n",
       "      <td>****</td>\n",
       "      <td>B</td>\n",
       "    </tr>\n",
       "    <tr>\n",
       "      <th>1</th>\n",
       "      <td>10</td>\n",
       "      <td>****</td>\n",
       "      <td>****</td>\n",
       "      <td>30</td>\n",
       "      <td>I</td>\n",
       "    </tr>\n",
       "    <tr>\n",
       "      <th>2</th>\n",
       "      <td>100</td>\n",
       "      <td>200</td>\n",
       "      <td>****</td>\n",
       "      <td>****</td>\n",
       "      <td>L</td>\n",
       "    </tr>\n",
       "    <tr>\n",
       "      <th>3</th>\n",
       "      <td>1000</td>\n",
       "      <td>****</td>\n",
       "      <td>2000</td>\n",
       "      <td>3000</td>\n",
       "      <td>A</td>\n",
       "    </tr>\n",
       "  </tbody>\n",
       "</table>\n",
       "</div>"
      ],
      "text/plain": [
       "      A     B   NaN     C New\n",
       "0  ****     2     3  ****   B\n",
       "1    10  ****  ****    30   I\n",
       "2   100   200  ****  ****   L\n",
       "3  1000  ****  2000  3000   A"
      ]
     },
     "execution_count": 240,
     "metadata": {},
     "output_type": "execute_result"
    }
   ],
   "source": [
    "df.insert(4,\"New\", [\"B\",\"I\",\"L\",\"A\"])\n",
    "df"
   ]
  },
  {
   "cell_type": "markdown",
   "metadata": {},
   "source": [
    "- #### If we give iindex then it would be same length as arrays"
   ]
  },
  {
   "cell_type": "code",
   "execution_count": 243,
   "metadata": {},
   "outputs": [
    {
     "data": {
      "text/html": [
       "<div>\n",
       "<style scoped>\n",
       "    .dataframe tbody tr th:only-of-type {\n",
       "        vertical-align: middle;\n",
       "    }\n",
       "\n",
       "    .dataframe tbody tr th {\n",
       "        vertical-align: top;\n",
       "    }\n",
       "\n",
       "    .dataframe thead th {\n",
       "        text-align: right;\n",
       "    }\n",
       "</style>\n",
       "<table border=\"1\" class=\"dataframe\">\n",
       "  <thead>\n",
       "    <tr style=\"text-align: right;\">\n",
       "      <th></th>\n",
       "      <th>A</th>\n",
       "      <th>B</th>\n",
       "      <th>NaN</th>\n",
       "      <th>C</th>\n",
       "    </tr>\n",
       "  </thead>\n",
       "  <tbody>\n",
       "    <tr>\n",
       "      <th>B</th>\n",
       "      <td>NaN</td>\n",
       "      <td>2.0</td>\n",
       "      <td>3.0</td>\n",
       "      <td>NaN</td>\n",
       "    </tr>\n",
       "    <tr>\n",
       "      <th>O</th>\n",
       "      <td>10.0</td>\n",
       "      <td>NaN</td>\n",
       "      <td>NaN</td>\n",
       "      <td>30.0</td>\n",
       "    </tr>\n",
       "    <tr>\n",
       "      <th>B</th>\n",
       "      <td>100.0</td>\n",
       "      <td>200.0</td>\n",
       "      <td>NaN</td>\n",
       "      <td>NaN</td>\n",
       "    </tr>\n",
       "    <tr>\n",
       "      <th>Y</th>\n",
       "      <td>1000.0</td>\n",
       "      <td>NaN</td>\n",
       "      <td>2000.0</td>\n",
       "      <td>3000.0</td>\n",
       "    </tr>\n",
       "  </tbody>\n",
       "</table>\n",
       "</div>"
      ],
      "text/plain": [
       "        A      B     NaN       C\n",
       "B     NaN    2.0     3.0     NaN\n",
       "O    10.0    NaN     NaN    30.0\n",
       "B   100.0  200.0     NaN     NaN\n",
       "Y  1000.0    NaN  2000.0  3000.0"
      ]
     },
     "execution_count": 243,
     "metadata": {},
     "output_type": "execute_result"
    }
   ],
   "source": [
    "pd.DataFrame(listOfDicts, index=['B', 'O', 'B', 'Y'])"
   ]
  },
  {
   "cell_type": "markdown",
   "metadata": {},
   "source": [
    "# 11.3 Creating DataFrame from Dicts of series."
   ]
  },
  {
   "cell_type": "code",
   "execution_count": 247,
   "metadata": {},
   "outputs": [
    {
     "data": {
      "text/html": [
       "<div>\n",
       "<style scoped>\n",
       "    .dataframe tbody tr th:only-of-type {\n",
       "        vertical-align: middle;\n",
       "    }\n",
       "\n",
       "    .dataframe tbody tr th {\n",
       "        vertical-align: top;\n",
       "    }\n",
       "\n",
       "    .dataframe thead th {\n",
       "        text-align: right;\n",
       "    }\n",
       "</style>\n",
       "<table border=\"1\" class=\"dataframe\">\n",
       "  <thead>\n",
       "    <tr style=\"text-align: right;\">\n",
       "      <th></th>\n",
       "      <th>TOM</th>\n",
       "      <th>Cruising</th>\n",
       "    </tr>\n",
       "  </thead>\n",
       "  <tbody>\n",
       "    <tr>\n",
       "      <th>D</th>\n",
       "      <td>B</td>\n",
       "      <td>B</td>\n",
       "    </tr>\n",
       "    <tr>\n",
       "      <th>E</th>\n",
       "      <td>O</td>\n",
       "      <td>O</td>\n",
       "    </tr>\n",
       "    <tr>\n",
       "      <th>O</th>\n",
       "      <td>B</td>\n",
       "      <td>B</td>\n",
       "    </tr>\n",
       "    <tr>\n",
       "      <th>L</th>\n",
       "      <td>Y</td>\n",
       "      <td>Y</td>\n",
       "    </tr>\n",
       "  </tbody>\n",
       "</table>\n",
       "</div>"
      ],
      "text/plain": [
       "  TOM Cruising\n",
       "D   B        B\n",
       "E   O        O\n",
       "O   B        B\n",
       "L   Y        Y"
      ]
     },
     "execution_count": 247,
     "metadata": {},
     "output_type": "execute_result"
    }
   ],
   "source": [
    "data = {'TOM' : pd.Series([\"B\",\"O\",\"B\",\"Y\"], index =[\"D\",\"E\",\"O\",\"L\"]), \n",
    "       'Cruising' : pd.Series([\"B\",\"O\",\"B\",\"Y\"], index =[\"D\",\"E\",\"O\",\"L\"])} \n",
    "\n",
    "df = pd.DataFrame(data) \n",
    "df "
   ]
  },
  {
   "cell_type": "code",
   "execution_count": 249,
   "metadata": {},
   "outputs": [
    {
     "data": {
      "text/html": [
       "<div>\n",
       "<style scoped>\n",
       "    .dataframe tbody tr th:only-of-type {\n",
       "        vertical-align: middle;\n",
       "    }\n",
       "\n",
       "    .dataframe tbody tr th {\n",
       "        vertical-align: top;\n",
       "    }\n",
       "\n",
       "    .dataframe thead th {\n",
       "        text-align: right;\n",
       "    }\n",
       "</style>\n",
       "<table border=\"1\" class=\"dataframe\">\n",
       "  <thead>\n",
       "    <tr style=\"text-align: right;\">\n",
       "      <th></th>\n",
       "      <th>0</th>\n",
       "      <th>1</th>\n",
       "    </tr>\n",
       "  </thead>\n",
       "  <tbody>\n",
       "    <tr>\n",
       "      <th>0</th>\n",
       "      <td>Bilal</td>\n",
       "      <td>Lahore</td>\n",
       "    </tr>\n",
       "    <tr>\n",
       "      <th>1</th>\n",
       "      <td>Murtaza</td>\n",
       "      <td>Bahawalpur</td>\n",
       "    </tr>\n",
       "    <tr>\n",
       "      <th>2</th>\n",
       "      <td>Ali</td>\n",
       "      <td>Lahore</td>\n",
       "    </tr>\n",
       "    <tr>\n",
       "      <th>3</th>\n",
       "      <td>Bilal</td>\n",
       "      <td>Lahore</td>\n",
       "    </tr>\n",
       "    <tr>\n",
       "      <th>4</th>\n",
       "      <td>Saaim</td>\n",
       "      <td>Lahore</td>\n",
       "    </tr>\n",
       "  </tbody>\n",
       "</table>\n",
       "</div>"
      ],
      "text/plain": [
       "         0           1\n",
       "0    Bilal      Lahore\n",
       "1  Murtaza  Bahawalpur\n",
       "2      Ali      Lahore\n",
       "3    Bilal      Lahore\n",
       "4    Saaim      Lahore"
      ]
     },
     "execution_count": 249,
     "metadata": {},
     "output_type": "execute_result"
    }
   ],
   "source": [
    "student = [[\"Bilal\",\"Lahore\"] ,\n",
    "           [\"Murtaza\", \"Bahawalpur\"] ,\n",
    "           [\"Ali\", \"Lahore\"],\n",
    "           [\"Bilal\", \"Lahore\"],\n",
    "           [\"Saaim\", \"Lahore\"]]\n",
    "pd.DataFrame(student)"
   ]
  },
  {
   "cell_type": "markdown",
   "metadata": {},
   "source": [
    "# 11.2 From dict of ndarrays / list"
   ]
  },
  {
   "cell_type": "code",
   "execution_count": 260,
   "metadata": {},
   "outputs": [
    {
     "data": {
      "text/html": [
       "<div>\n",
       "<style scoped>\n",
       "    .dataframe tbody tr th:only-of-type {\n",
       "        vertical-align: middle;\n",
       "    }\n",
       "\n",
       "    .dataframe tbody tr th {\n",
       "        vertical-align: top;\n",
       "    }\n",
       "\n",
       "    .dataframe thead th {\n",
       "        text-align: right;\n",
       "    }\n",
       "</style>\n",
       "<table border=\"1\" class=\"dataframe\">\n",
       "  <thead>\n",
       "    <tr style=\"text-align: right;\">\n",
       "      <th></th>\n",
       "      <th>TOM</th>\n",
       "      <th>Cruising</th>\n",
       "    </tr>\n",
       "  </thead>\n",
       "  <tbody>\n",
       "    <tr>\n",
       "      <th>0</th>\n",
       "      <td>B</td>\n",
       "      <td>B</td>\n",
       "    </tr>\n",
       "    <tr>\n",
       "      <th>1</th>\n",
       "      <td>O</td>\n",
       "      <td>O</td>\n",
       "    </tr>\n",
       "    <tr>\n",
       "      <th>2</th>\n",
       "      <td>B</td>\n",
       "      <td>B</td>\n",
       "    </tr>\n",
       "    <tr>\n",
       "      <th>3</th>\n",
       "      <td>Y</td>\n",
       "      <td>Y</td>\n",
       "    </tr>\n",
       "  </tbody>\n",
       "</table>\n",
       "</div>"
      ],
      "text/plain": [
       "  TOM Cruising\n",
       "0   B        B\n",
       "1   O        O\n",
       "2   B        B\n",
       "3   Y        Y"
      ]
     },
     "execution_count": 260,
     "metadata": {},
     "output_type": "execute_result"
    }
   ],
   "source": [
    "data = {'TOM' : [\"B\",\"O\",\"B\",\"Y\"],  \n",
    "       'Cruising' : [\"B\",\"O\",\"B\",\"Y\"]} \n",
    "\n",
    "df = pd.DataFrame(data) \n",
    "df "
   ]
  },
  {
   "cell_type": "code",
   "execution_count": 261,
   "metadata": {},
   "outputs": [
    {
     "data": {
      "text/html": [
       "<div>\n",
       "<style scoped>\n",
       "    .dataframe tbody tr th:only-of-type {\n",
       "        vertical-align: middle;\n",
       "    }\n",
       "\n",
       "    .dataframe tbody tr th {\n",
       "        vertical-align: top;\n",
       "    }\n",
       "\n",
       "    .dataframe thead th {\n",
       "        text-align: right;\n",
       "    }\n",
       "</style>\n",
       "<table border=\"1\" class=\"dataframe\">\n",
       "  <thead>\n",
       "    <tr style=\"text-align: right;\">\n",
       "      <th></th>\n",
       "      <th>1</th>\n",
       "      <th>2</th>\n",
       "    </tr>\n",
       "  </thead>\n",
       "  <tbody>\n",
       "    <tr>\n",
       "      <th>0</th>\n",
       "      <td>B</td>\n",
       "      <td>B</td>\n",
       "    </tr>\n",
       "    <tr>\n",
       "      <th>1</th>\n",
       "      <td>O</td>\n",
       "      <td>O</td>\n",
       "    </tr>\n",
       "    <tr>\n",
       "      <th>2</th>\n",
       "      <td>B</td>\n",
       "      <td>B</td>\n",
       "    </tr>\n",
       "    <tr>\n",
       "      <th>3</th>\n",
       "      <td>Y</td>\n",
       "      <td>Y</td>\n",
       "    </tr>\n",
       "  </tbody>\n",
       "</table>\n",
       "</div>"
      ],
      "text/plain": [
       "   1  2\n",
       "0  B  B\n",
       "1  O  O\n",
       "2  B  B\n",
       "3  Y  Y"
      ]
     },
     "execution_count": 261,
     "metadata": {},
     "output_type": "execute_result"
    }
   ],
   "source": [
    "data = {1 : [\"B\",\"O\",\"B\",\"Y\"],  \n",
    "       2 : [\"B\",\"O\",\"B\",\"Y\"]} \n",
    "\n",
    "df = pd.DataFrame(data) \n",
    "df "
   ]
  },
  {
   "cell_type": "markdown",
   "metadata": {},
   "source": [
    "- #### Now we will assign different values to the rows index"
   ]
  },
  {
   "cell_type": "code",
   "execution_count": 250,
   "metadata": {},
   "outputs": [
    {
     "data": {
      "text/html": [
       "<div>\n",
       "<style scoped>\n",
       "    .dataframe tbody tr th:only-of-type {\n",
       "        vertical-align: middle;\n",
       "    }\n",
       "\n",
       "    .dataframe tbody tr th {\n",
       "        vertical-align: top;\n",
       "    }\n",
       "\n",
       "    .dataframe thead th {\n",
       "        text-align: right;\n",
       "    }\n",
       "</style>\n",
       "<table border=\"1\" class=\"dataframe\">\n",
       "  <thead>\n",
       "    <tr style=\"text-align: right;\">\n",
       "      <th></th>\n",
       "      <th>0</th>\n",
       "      <th>1</th>\n",
       "    </tr>\n",
       "  </thead>\n",
       "  <tbody>\n",
       "    <tr>\n",
       "      <th>A</th>\n",
       "      <td>Bilal</td>\n",
       "      <td>Lahore</td>\n",
       "    </tr>\n",
       "    <tr>\n",
       "      <th>B</th>\n",
       "      <td>Murtaza</td>\n",
       "      <td>Bahawalpur</td>\n",
       "    </tr>\n",
       "    <tr>\n",
       "      <th>C</th>\n",
       "      <td>Ali</td>\n",
       "      <td>Lahore</td>\n",
       "    </tr>\n",
       "    <tr>\n",
       "      <th>D</th>\n",
       "      <td>Bilal</td>\n",
       "      <td>Lahore</td>\n",
       "    </tr>\n",
       "    <tr>\n",
       "      <th>E</th>\n",
       "      <td>Saaim</td>\n",
       "      <td>Lahore</td>\n",
       "    </tr>\n",
       "  </tbody>\n",
       "</table>\n",
       "</div>"
      ],
      "text/plain": [
       "         0           1\n",
       "A    Bilal      Lahore\n",
       "B  Murtaza  Bahawalpur\n",
       "C      Ali      Lahore\n",
       "D    Bilal      Lahore\n",
       "E    Saaim      Lahore"
      ]
     },
     "execution_count": 250,
     "metadata": {},
     "output_type": "execute_result"
    }
   ],
   "source": [
    "pd.DataFrame(student,index=[\"A\",\"B\",\"C\",\"D\",\"E\"])"
   ]
  },
  {
   "cell_type": "markdown",
   "metadata": {},
   "source": [
    "- #### Now we will assign different values to the Columns index"
   ]
  },
  {
   "cell_type": "code",
   "execution_count": 251,
   "metadata": {},
   "outputs": [
    {
     "data": {
      "text/html": [
       "<div>\n",
       "<style scoped>\n",
       "    .dataframe tbody tr th:only-of-type {\n",
       "        vertical-align: middle;\n",
       "    }\n",
       "\n",
       "    .dataframe tbody tr th {\n",
       "        vertical-align: top;\n",
       "    }\n",
       "\n",
       "    .dataframe thead th {\n",
       "        text-align: right;\n",
       "    }\n",
       "</style>\n",
       "<table border=\"1\" class=\"dataframe\">\n",
       "  <thead>\n",
       "    <tr style=\"text-align: right;\">\n",
       "      <th></th>\n",
       "      <th>Name</th>\n",
       "      <th>City</th>\n",
       "    </tr>\n",
       "  </thead>\n",
       "  <tbody>\n",
       "    <tr>\n",
       "      <th>0</th>\n",
       "      <td>Bilal</td>\n",
       "      <td>Lahore</td>\n",
       "    </tr>\n",
       "    <tr>\n",
       "      <th>1</th>\n",
       "      <td>Murtaza</td>\n",
       "      <td>Bahawalpur</td>\n",
       "    </tr>\n",
       "    <tr>\n",
       "      <th>2</th>\n",
       "      <td>Ali</td>\n",
       "      <td>Lahore</td>\n",
       "    </tr>\n",
       "    <tr>\n",
       "      <th>3</th>\n",
       "      <td>Bilal</td>\n",
       "      <td>Lahore</td>\n",
       "    </tr>\n",
       "    <tr>\n",
       "      <th>4</th>\n",
       "      <td>Saaim</td>\n",
       "      <td>Lahore</td>\n",
       "    </tr>\n",
       "  </tbody>\n",
       "</table>\n",
       "</div>"
      ],
      "text/plain": [
       "      Name        City\n",
       "0    Bilal      Lahore\n",
       "1  Murtaza  Bahawalpur\n",
       "2      Ali      Lahore\n",
       "3    Bilal      Lahore\n",
       "4    Saaim      Lahore"
      ]
     },
     "execution_count": 251,
     "metadata": {},
     "output_type": "execute_result"
    }
   ],
   "source": [
    "pd.DataFrame(student, columns=[\"Name\",\"City\"])"
   ]
  },
  {
   "cell_type": "markdown",
   "metadata": {},
   "source": [
    "# 11.3 From list of dicts"
   ]
  },
  {
   "cell_type": "markdown",
   "metadata": {},
   "source": [
    "- #### You can see in the following example that how data frame creates index values from the key value within the dictionary."
   ]
  },
  {
   "cell_type": "code",
   "execution_count": 255,
   "metadata": {},
   "outputs": [
    {
     "data": {
      "text/html": [
       "<div>\n",
       "<style scoped>\n",
       "    .dataframe tbody tr th:only-of-type {\n",
       "        vertical-align: middle;\n",
       "    }\n",
       "\n",
       "    .dataframe tbody tr th {\n",
       "        vertical-align: top;\n",
       "    }\n",
       "\n",
       "    .dataframe thead th {\n",
       "        text-align: right;\n",
       "    }\n",
       "</style>\n",
       "<table border=\"1\" class=\"dataframe\">\n",
       "  <thead>\n",
       "    <tr style=\"text-align: right;\">\n",
       "      <th></th>\n",
       "      <th>A</th>\n",
       "      <th>B</th>\n",
       "      <th>C</th>\n",
       "    </tr>\n",
       "  </thead>\n",
       "  <tbody>\n",
       "    <tr>\n",
       "      <th>0</th>\n",
       "      <td>1</td>\n",
       "      <td>2</td>\n",
       "      <td>NaN</td>\n",
       "    </tr>\n",
       "    <tr>\n",
       "      <th>1</th>\n",
       "      <td>5</td>\n",
       "      <td>10</td>\n",
       "      <td>20.0</td>\n",
       "    </tr>\n",
       "  </tbody>\n",
       "</table>\n",
       "</div>"
      ],
      "text/plain": [
       "   A   B     C\n",
       "0  1   2   NaN\n",
       "1  5  10  20.0"
      ]
     },
     "execution_count": 255,
     "metadata": {},
     "output_type": "execute_result"
    }
   ],
   "source": [
    "df1 = [{'A': 1, 'B': 2}, {'A': 5, 'B': 10, 'C': 20}]\n",
    "df = pd.DataFrame(df1)\n",
    "df"
   ]
  },
  {
   "cell_type": "code",
   "execution_count": 257,
   "metadata": {},
   "outputs": [
    {
     "data": {
      "text/html": [
       "<div>\n",
       "<style scoped>\n",
       "    .dataframe tbody tr th:only-of-type {\n",
       "        vertical-align: middle;\n",
       "    }\n",
       "\n",
       "    .dataframe tbody tr th {\n",
       "        vertical-align: top;\n",
       "    }\n",
       "\n",
       "    .dataframe thead th {\n",
       "        text-align: right;\n",
       "    }\n",
       "</style>\n",
       "<table border=\"1\" class=\"dataframe\">\n",
       "  <thead>\n",
       "    <tr style=\"text-align: right;\">\n",
       "      <th></th>\n",
       "      <th>A</th>\n",
       "      <th>B</th>\n",
       "      <th>C</th>\n",
       "    </tr>\n",
       "  </thead>\n",
       "  <tbody>\n",
       "    <tr>\n",
       "      <th>0</th>\n",
       "      <td>1</td>\n",
       "      <td>2</td>\n",
       "      <td>NaN</td>\n",
       "    </tr>\n",
       "    <tr>\n",
       "      <th>1</th>\n",
       "      <td>5</td>\n",
       "      <td>10</td>\n",
       "      <td>20.0</td>\n",
       "    </tr>\n",
       "    <tr>\n",
       "      <th>2</th>\n",
       "      <td>5</td>\n",
       "      <td>10</td>\n",
       "      <td>20.0</td>\n",
       "    </tr>\n",
       "  </tbody>\n",
       "</table>\n",
       "</div>"
      ],
      "text/plain": [
       "   A   B     C\n",
       "0  1   2   NaN\n",
       "1  5  10  20.0\n",
       "2  5  10  20.0"
      ]
     },
     "execution_count": 257,
     "metadata": {},
     "output_type": "execute_result"
    }
   ],
   "source": [
    "df1 = [{'A': 1, 'B': 2}, {'A': 5, 'B': 10, 'C': 20},{'A': 5, 'B': 10, 'C': 20}]\n",
    "df = pd.DataFrame(df1)\n",
    "df"
   ]
  },
  {
   "cell_type": "markdown",
   "metadata": {},
   "source": [
    "- #### There is a dropna() function in pandas which delete the entire row from a data frame if it found any null value in any column against that row."
   ]
  },
  {
   "cell_type": "code",
   "execution_count": 258,
   "metadata": {},
   "outputs": [
    {
     "data": {
      "text/html": [
       "<div>\n",
       "<style scoped>\n",
       "    .dataframe tbody tr th:only-of-type {\n",
       "        vertical-align: middle;\n",
       "    }\n",
       "\n",
       "    .dataframe tbody tr th {\n",
       "        vertical-align: top;\n",
       "    }\n",
       "\n",
       "    .dataframe thead th {\n",
       "        text-align: right;\n",
       "    }\n",
       "</style>\n",
       "<table border=\"1\" class=\"dataframe\">\n",
       "  <thead>\n",
       "    <tr style=\"text-align: right;\">\n",
       "      <th></th>\n",
       "      <th>A</th>\n",
       "      <th>B</th>\n",
       "      <th>C</th>\n",
       "    </tr>\n",
       "  </thead>\n",
       "  <tbody>\n",
       "    <tr>\n",
       "      <th>1</th>\n",
       "      <td>5</td>\n",
       "      <td>10</td>\n",
       "      <td>20.0</td>\n",
       "    </tr>\n",
       "    <tr>\n",
       "      <th>2</th>\n",
       "      <td>5</td>\n",
       "      <td>10</td>\n",
       "      <td>20.0</td>\n",
       "    </tr>\n",
       "  </tbody>\n",
       "</table>\n",
       "</div>"
      ],
      "text/plain": [
       "   A   B     C\n",
       "1  5  10  20.0\n",
       "2  5  10  20.0"
      ]
     },
     "execution_count": 258,
     "metadata": {},
     "output_type": "execute_result"
    }
   ],
   "source": [
    "df.dropna()"
   ]
  },
  {
   "cell_type": "markdown",
   "metadata": {},
   "source": [
    "# 11.4 From dict of tuples"
   ]
  },
  {
   "cell_type": "code",
   "execution_count": 264,
   "metadata": {},
   "outputs": [
    {
     "data": {
      "text/html": [
       "<div>\n",
       "<style scoped>\n",
       "    .dataframe tbody tr th:only-of-type {\n",
       "        vertical-align: middle;\n",
       "    }\n",
       "\n",
       "    .dataframe tbody tr th {\n",
       "        vertical-align: top;\n",
       "    }\n",
       "\n",
       "    .dataframe thead th {\n",
       "        text-align: right;\n",
       "    }\n",
       "</style>\n",
       "<table border=\"1\" class=\"dataframe\">\n",
       "  <thead>\n",
       "    <tr style=\"text-align: right;\">\n",
       "      <th></th>\n",
       "      <th>Tuple 1</th>\n",
       "      <th>Tuple 2</th>\n",
       "    </tr>\n",
       "  </thead>\n",
       "  <tbody>\n",
       "    <tr>\n",
       "      <th>0</th>\n",
       "      <td>B</td>\n",
       "      <td>1</td>\n",
       "    </tr>\n",
       "    <tr>\n",
       "      <th>1</th>\n",
       "      <td>O</td>\n",
       "      <td>3</td>\n",
       "    </tr>\n",
       "    <tr>\n",
       "      <th>2</th>\n",
       "      <td>B</td>\n",
       "      <td>6</td>\n",
       "    </tr>\n",
       "    <tr>\n",
       "      <th>3</th>\n",
       "      <td>Y</td>\n",
       "      <td>8</td>\n",
       "    </tr>\n",
       "  </tbody>\n",
       "</table>\n",
       "</div>"
      ],
      "text/plain": [
       "  Tuple 1  Tuple 2\n",
       "0       B        1\n",
       "1       O        3\n",
       "2       B        6\n",
       "3       Y        8"
      ]
     },
     "execution_count": 264,
     "metadata": {},
     "output_type": "execute_result"
    }
   ],
   "source": [
    "data = {\"Tuple 1\" : (\"B\",\"O\",\"B\",\"Y\"),  \n",
    "       \"Tuple 2\" : (1,3,6,8)} \n",
    "\n",
    "df = pd.DataFrame(data) \n",
    "df "
   ]
  },
  {
   "cell_type": "code",
   "execution_count": 269,
   "metadata": {},
   "outputs": [
    {
     "data": {
      "text/html": [
       "<div>\n",
       "<style scoped>\n",
       "    .dataframe tbody tr th:only-of-type {\n",
       "        vertical-align: middle;\n",
       "    }\n",
       "\n",
       "    .dataframe tbody tr th {\n",
       "        vertical-align: top;\n",
       "    }\n",
       "\n",
       "    .dataframe thead tr th {\n",
       "        text-align: left;\n",
       "    }\n",
       "</style>\n",
       "<table border=\"1\" class=\"dataframe\">\n",
       "  <thead>\n",
       "    <tr>\n",
       "      <th></th>\n",
       "      <th></th>\n",
       "      <th colspan=\"3\" halign=\"left\">a</th>\n",
       "      <th colspan=\"2\" halign=\"left\">b</th>\n",
       "    </tr>\n",
       "    <tr>\n",
       "      <th></th>\n",
       "      <th></th>\n",
       "      <th>b</th>\n",
       "      <th>a</th>\n",
       "      <th>c</th>\n",
       "      <th>a</th>\n",
       "      <th>b</th>\n",
       "    </tr>\n",
       "  </thead>\n",
       "  <tbody>\n",
       "    <tr>\n",
       "      <th rowspan=\"3\" valign=\"top\">A</th>\n",
       "      <th>B</th>\n",
       "      <td>1.0</td>\n",
       "      <td>4.0</td>\n",
       "      <td>5.0</td>\n",
       "      <td>8.0</td>\n",
       "      <td>10.0</td>\n",
       "    </tr>\n",
       "    <tr>\n",
       "      <th>C</th>\n",
       "      <td>2.0</td>\n",
       "      <td>3.0</td>\n",
       "      <td>6.0</td>\n",
       "      <td>7.0</td>\n",
       "      <td>NaN</td>\n",
       "    </tr>\n",
       "    <tr>\n",
       "      <th>D</th>\n",
       "      <td>NaN</td>\n",
       "      <td>NaN</td>\n",
       "      <td>NaN</td>\n",
       "      <td>NaN</td>\n",
       "      <td>9.0</td>\n",
       "    </tr>\n",
       "  </tbody>\n",
       "</table>\n",
       "</div>"
      ],
      "text/plain": [
       "       a              b      \n",
       "       b    a    c    a     b\n",
       "A B  1.0  4.0  5.0  8.0  10.0\n",
       "  C  2.0  3.0  6.0  7.0   NaN\n",
       "  D  NaN  NaN  NaN  NaN   9.0"
      ]
     },
     "execution_count": 269,
     "metadata": {},
     "output_type": "execute_result"
    }
   ],
   "source": [
    "pd.DataFrame({('a', 'b'): {('A', 'B'): 1, ('A', 'C'): 2},\n",
    "('a', 'a'): {('A', 'C'): 3, ('A', 'B'): 4},\n",
    "('a', 'c'): {('A', 'B'): 5, ('A', 'C'): 6},\n",
    "('b', 'a'): {('A', 'C'): 7, ('A', 'B'): 8},\n",
    "('b', 'b'): {('A', 'D'): 9, ('A', 'B'): 10}})"
   ]
  },
  {
   "cell_type": "markdown",
   "metadata": {},
   "source": [
    "- #### There could be a data frame from the list of tuple as well just like it can from the dict of tuples."
   ]
  },
  {
   "cell_type": "code",
   "execution_count": 268,
   "metadata": {},
   "outputs": [
    {
     "data": {
      "text/html": [
       "<div>\n",
       "<style scoped>\n",
       "    .dataframe tbody tr th:only-of-type {\n",
       "        vertical-align: middle;\n",
       "    }\n",
       "\n",
       "    .dataframe tbody tr th {\n",
       "        vertical-align: top;\n",
       "    }\n",
       "\n",
       "    .dataframe thead th {\n",
       "        text-align: right;\n",
       "    }\n",
       "</style>\n",
       "<table border=\"1\" class=\"dataframe\">\n",
       "  <thead>\n",
       "    <tr style=\"text-align: right;\">\n",
       "      <th></th>\n",
       "      <th>0</th>\n",
       "      <th>1</th>\n",
       "      <th>2</th>\n",
       "    </tr>\n",
       "  </thead>\n",
       "  <tbody>\n",
       "    <tr>\n",
       "      <th>0</th>\n",
       "      <td>Ball</td>\n",
       "      <td>Name1</td>\n",
       "      <td>[18, 17]</td>\n",
       "    </tr>\n",
       "    <tr>\n",
       "      <th>1</th>\n",
       "      <td>Bat</td>\n",
       "      <td>Name2</td>\n",
       "      <td>[A, C, B]</td>\n",
       "    </tr>\n",
       "    <tr>\n",
       "      <th>2</th>\n",
       "      <td>Cricket</td>\n",
       "      <td>Name3</td>\n",
       "      <td>[6, 8, 7, 5]</td>\n",
       "    </tr>\n",
       "  </tbody>\n",
       "</table>\n",
       "</div>"
      ],
      "text/plain": [
       "         0      1             2\n",
       "0     Ball  Name1      [18, 17]\n",
       "1      Bat  Name2     [A, C, B]\n",
       "2  Cricket  Name3  [6, 8, 7, 5]"
      ]
     },
     "execution_count": 268,
     "metadata": {},
     "output_type": "execute_result"
    }
   ],
   "source": [
    "node = [\n",
    "('Ball', \"Name1\", [18, 17], ),\n",
    "('Bat', \"Name2\", ['A', 'C', 'B'],),\n",
    "('Cricket', \"Name3\", [6, 8, 7, 5],),\n",
    "]\n",
    "pd.DataFrame(node)"
   ]
  },
  {
   "cell_type": "markdown",
   "metadata": {},
   "source": [
    "# 11.5 Alternate Constructors"
   ]
  },
  {
   "cell_type": "markdown",
   "metadata": {},
   "source": [
    "- DataFrame.from_dict takes a dict of dicts or array-like sequences and returns a DataFrame.\n",
    "- It operates like the DataFrame constructor except for the orient parameter which is 'columns' by default, but which can be set to 'index' in order to use the dict keys as row labels.\n",
    "\n",
    "### DataFrame.from_records :\n",
    "- DataFrame.from_records takes a list of tuples or an ndarray with structured dtype.\n",
    "- Works analogously to the normal DataFrame constructor, except that index maybe be a specific field of the structured dtype to use as the index. For example:\n",
    "\n",
    "### DataFrame.from_items\n",
    "- DataFrame.from_items works analogously to the form of the dict constructor that takes a sequence of (key, value) pairs, where the keys are column (or row, in the case of orient='index') names, and the value are the column values (or row values). \n",
    "- This can be useful for constructing a DataFrame with the columns in a particular order without having to pass an explicit list of columns\n"
   ]
  },
  {
   "cell_type": "code",
   "execution_count": 270,
   "metadata": {},
   "outputs": [
    {
     "data": {
      "text/html": [
       "<div>\n",
       "<style scoped>\n",
       "    .dataframe tbody tr th:only-of-type {\n",
       "        vertical-align: middle;\n",
       "    }\n",
       "\n",
       "    .dataframe tbody tr th {\n",
       "        vertical-align: top;\n",
       "    }\n",
       "\n",
       "    .dataframe thead th {\n",
       "        text-align: right;\n",
       "    }\n",
       "</style>\n",
       "<table border=\"1\" class=\"dataframe\">\n",
       "  <thead>\n",
       "    <tr style=\"text-align: right;\">\n",
       "      <th></th>\n",
       "      <th>0</th>\n",
       "      <th>1</th>\n",
       "      <th>2</th>\n",
       "    </tr>\n",
       "  </thead>\n",
       "  <tbody>\n",
       "    <tr>\n",
       "      <th>0</th>\n",
       "      <td>Ball</td>\n",
       "      <td>Name1</td>\n",
       "      <td>[18, 17]</td>\n",
       "    </tr>\n",
       "    <tr>\n",
       "      <th>1</th>\n",
       "      <td>Bat</td>\n",
       "      <td>Name2</td>\n",
       "      <td>[A, C, B]</td>\n",
       "    </tr>\n",
       "    <tr>\n",
       "      <th>2</th>\n",
       "      <td>Cricket</td>\n",
       "      <td>Name3</td>\n",
       "      <td>[6, 8, 7, 5]</td>\n",
       "    </tr>\n",
       "  </tbody>\n",
       "</table>\n",
       "</div>"
      ],
      "text/plain": [
       "         0      1             2\n",
       "0     Ball  Name1      [18, 17]\n",
       "1      Bat  Name2     [A, C, B]\n",
       "2  Cricket  Name3  [6, 8, 7, 5]"
      ]
     },
     "execution_count": 270,
     "metadata": {},
     "output_type": "execute_result"
    }
   ],
   "source": [
    "node = [\n",
    "('Ball', \"Name1\", [18, 17], ),\n",
    "('Bat', \"Name2\", ['A', 'C', 'B'],),\n",
    "('Cricket', \"Name3\", [6, 8, 7, 5],),\n",
    "]\n",
    "pd.DataFrame.from_dict(node)"
   ]
  },
  {
   "cell_type": "markdown",
   "metadata": {},
   "source": [
    "#### Data can be provided as a structured ndarray:"
   ]
  },
  {
   "cell_type": "code",
   "execution_count": 276,
   "metadata": {},
   "outputs": [
    {
     "data": {
      "text/html": [
       "<div>\n",
       "<style scoped>\n",
       "    .dataframe tbody tr th:only-of-type {\n",
       "        vertical-align: middle;\n",
       "    }\n",
       "\n",
       "    .dataframe tbody tr th {\n",
       "        vertical-align: top;\n",
       "    }\n",
       "\n",
       "    .dataframe thead th {\n",
       "        text-align: right;\n",
       "    }\n",
       "</style>\n",
       "<table border=\"1\" class=\"dataframe\">\n",
       "  <thead>\n",
       "    <tr style=\"text-align: right;\">\n",
       "      <th></th>\n",
       "      <th>col_1</th>\n",
       "      <th>col_2</th>\n",
       "    </tr>\n",
       "  </thead>\n",
       "  <tbody>\n",
       "    <tr>\n",
       "      <th>0</th>\n",
       "      <td>3</td>\n",
       "      <td>a</td>\n",
       "    </tr>\n",
       "    <tr>\n",
       "      <th>1</th>\n",
       "      <td>2</td>\n",
       "      <td>b</td>\n",
       "    </tr>\n",
       "    <tr>\n",
       "      <th>2</th>\n",
       "      <td>1</td>\n",
       "      <td>c</td>\n",
       "    </tr>\n",
       "    <tr>\n",
       "      <th>3</th>\n",
       "      <td>0</td>\n",
       "      <td>d</td>\n",
       "    </tr>\n",
       "  </tbody>\n",
       "</table>\n",
       "</div>"
      ],
      "text/plain": [
       "   col_1 col_2\n",
       "0      3     a\n",
       "1      2     b\n",
       "2      1     c\n",
       "3      0     d"
      ]
     },
     "execution_count": 276,
     "metadata": {},
     "output_type": "execute_result"
    }
   ],
   "source": [
    "data = np.array([(3, 'a'), (2, 'b'), (1, 'c'), (0, 'd')],\n",
    "                dtype=[('col_1', 'i4'), ('col_2', 'U1')])\n",
    "pd.DataFrame.from_records(data)"
   ]
  },
  {
   "cell_type": "markdown",
   "metadata": {},
   "source": [
    "#### Data can be provided as a list of dicts:"
   ]
  },
  {
   "cell_type": "code",
   "execution_count": 274,
   "metadata": {},
   "outputs": [
    {
     "data": {
      "text/html": [
       "<div>\n",
       "<style scoped>\n",
       "    .dataframe tbody tr th:only-of-type {\n",
       "        vertical-align: middle;\n",
       "    }\n",
       "\n",
       "    .dataframe tbody tr th {\n",
       "        vertical-align: top;\n",
       "    }\n",
       "\n",
       "    .dataframe thead th {\n",
       "        text-align: right;\n",
       "    }\n",
       "</style>\n",
       "<table border=\"1\" class=\"dataframe\">\n",
       "  <thead>\n",
       "    <tr style=\"text-align: right;\">\n",
       "      <th></th>\n",
       "      <th>col_1</th>\n",
       "      <th>col_2</th>\n",
       "    </tr>\n",
       "  </thead>\n",
       "  <tbody>\n",
       "    <tr>\n",
       "      <th>0</th>\n",
       "      <td>3</td>\n",
       "      <td>a</td>\n",
       "    </tr>\n",
       "    <tr>\n",
       "      <th>1</th>\n",
       "      <td>2</td>\n",
       "      <td>b</td>\n",
       "    </tr>\n",
       "    <tr>\n",
       "      <th>2</th>\n",
       "      <td>1</td>\n",
       "      <td>c</td>\n",
       "    </tr>\n",
       "    <tr>\n",
       "      <th>3</th>\n",
       "      <td>0</td>\n",
       "      <td>d</td>\n",
       "    </tr>\n",
       "  </tbody>\n",
       "</table>\n",
       "</div>"
      ],
      "text/plain": [
       "   col_1 col_2\n",
       "0      3     a\n",
       "1      2     b\n",
       "2      1     c\n",
       "3      0     d"
      ]
     },
     "execution_count": 274,
     "metadata": {},
     "output_type": "execute_result"
    }
   ],
   "source": [
    "data = [{'col_1': 3, 'col_2': 'a'},\n",
    "        {'col_1': 2, 'col_2': 'b'},\n",
    "        {'col_1': 1, 'col_2': 'c'},\n",
    "        {'col_1': 0, 'col_2': 'd'}]\n",
    "pd.DataFrame.from_records(data)"
   ]
  },
  {
   "cell_type": "markdown",
   "metadata": {},
   "source": [
    "#### Data can be provided as a list of tuples with corresponding columns:"
   ]
  },
  {
   "cell_type": "code",
   "execution_count": 278,
   "metadata": {},
   "outputs": [
    {
     "data": {
      "text/html": [
       "<div>\n",
       "<style scoped>\n",
       "    .dataframe tbody tr th:only-of-type {\n",
       "        vertical-align: middle;\n",
       "    }\n",
       "\n",
       "    .dataframe tbody tr th {\n",
       "        vertical-align: top;\n",
       "    }\n",
       "\n",
       "    .dataframe thead th {\n",
       "        text-align: right;\n",
       "    }\n",
       "</style>\n",
       "<table border=\"1\" class=\"dataframe\">\n",
       "  <thead>\n",
       "    <tr style=\"text-align: right;\">\n",
       "      <th></th>\n",
       "      <th>col_1</th>\n",
       "      <th>col_2</th>\n",
       "    </tr>\n",
       "  </thead>\n",
       "  <tbody>\n",
       "    <tr>\n",
       "      <th>0</th>\n",
       "      <td>3</td>\n",
       "      <td>a</td>\n",
       "    </tr>\n",
       "    <tr>\n",
       "      <th>1</th>\n",
       "      <td>2</td>\n",
       "      <td>b</td>\n",
       "    </tr>\n",
       "    <tr>\n",
       "      <th>2</th>\n",
       "      <td>1</td>\n",
       "      <td>c</td>\n",
       "    </tr>\n",
       "    <tr>\n",
       "      <th>3</th>\n",
       "      <td>0</td>\n",
       "      <td>d</td>\n",
       "    </tr>\n",
       "  </tbody>\n",
       "</table>\n",
       "</div>"
      ],
      "text/plain": [
       "   col_1 col_2\n",
       "0      3     a\n",
       "1      2     b\n",
       "2      1     c\n",
       "3      0     d"
      ]
     },
     "execution_count": 278,
     "metadata": {},
     "output_type": "execute_result"
    }
   ],
   "source": [
    "data = [(3, 'a'), (2, 'b'), (1, 'c'), (0, 'd')]\n",
    "pd.DataFrame.from_records(data, columns = ['col_1', 'col_2'])"
   ]
  },
  {
   "cell_type": "code",
   "execution_count": 282,
   "metadata": {},
   "outputs": [
    {
     "data": {
      "text/html": [
       "<div>\n",
       "<style scoped>\n",
       "    .dataframe tbody tr th:only-of-type {\n",
       "        vertical-align: middle;\n",
       "    }\n",
       "\n",
       "    .dataframe tbody tr th {\n",
       "        vertical-align: top;\n",
       "    }\n",
       "\n",
       "    .dataframe thead th {\n",
       "        text-align: right;\n",
       "    }\n",
       "</style>\n",
       "<table border=\"1\" class=\"dataframe\">\n",
       "  <thead>\n",
       "    <tr style=\"text-align: right;\">\n",
       "      <th></th>\n",
       "      <th>0</th>\n",
       "      <th>1</th>\n",
       "    </tr>\n",
       "  </thead>\n",
       "  <tbody>\n",
       "    <tr>\n",
       "      <th>A</th>\n",
       "      <td>3</td>\n",
       "      <td>a</td>\n",
       "    </tr>\n",
       "    <tr>\n",
       "      <th>B</th>\n",
       "      <td>2</td>\n",
       "      <td>b</td>\n",
       "    </tr>\n",
       "    <tr>\n",
       "      <th>C</th>\n",
       "      <td>1</td>\n",
       "      <td>c</td>\n",
       "    </tr>\n",
       "    <tr>\n",
       "      <th>D</th>\n",
       "      <td>0</td>\n",
       "      <td>d</td>\n",
       "    </tr>\n",
       "  </tbody>\n",
       "</table>\n",
       "</div>"
      ],
      "text/plain": [
       "   0  1\n",
       "A  3  a\n",
       "B  2  b\n",
       "C  1  c\n",
       "D  0  d"
      ]
     },
     "execution_count": 282,
     "metadata": {},
     "output_type": "execute_result"
    }
   ],
   "source": [
    "#used to give sequence in wwhich order you want to show\n",
    "data = [(3, 'a'), (2, 'b'), (1, 'c'), (0, 'd')]\n",
    "pd.DataFrame.from_records(data, index = ['A', 'B','C','D'])"
   ]
  },
  {
   "cell_type": "markdown",
   "metadata": {},
   "source": [
    "# 11.6 Column Selection, Addition, Deletion "
   ]
  },
  {
   "cell_type": "markdown",
   "metadata": {},
   "source": [
    "- DataFrames could be treated semantically as dict because same operations like getting ,setting or deleting could be performed with same operations as dict."
   ]
  },
  {
   "cell_type": "code",
   "execution_count": 296,
   "metadata": {},
   "outputs": [
    {
     "name": "stdout",
     "output_type": "stream",
     "text": [
      "    First    Second\n",
      "F      yo  0.788951\n",
      "R      my -1.613848\n",
      "E  friend -0.200222\n",
      "I  what's  0.368161\n",
      ".\n",
      ".\n",
      "Now printing only first column\n",
      ".\n",
      ".\n"
     ]
    },
    {
     "data": {
      "text/plain": [
       "F        yo\n",
       "R        my\n",
       "E    friend\n",
       "I    what's\n",
       "Name: First, dtype: object"
      ]
     },
     "execution_count": 296,
     "metadata": {},
     "output_type": "execute_result"
    }
   ],
   "source": [
    "# Display a single column\n",
    "dict = { \"First\": pd.Series((\"yo\",\"my\",\"friend\",\"what's\",\"..\",\"up\"),\n",
    "                       index = [\"F\",\"R\",\"E\",\"I\",\"N\",\"D\"]),\n",
    "         \"Second\": pd.Series(np.random.randn(6),\n",
    "                             index = [\"F\",\"R\",\"E\",\"I\",\"N\",\"D\"])\n",
    "       }\n",
    "df = pd.DataFrame (dict, index = [\"F\",\"R\",\"E\",\"I\"])\n",
    "print(df)\n",
    "print(\".\")\n",
    "print(\".\")\n",
    "print(\"Now printing only first column\")\n",
    "print(\".\")\n",
    "print(\".\")\n",
    "df[\"First\"]"
   ]
  },
  {
   "cell_type": "code",
   "execution_count": 318,
   "metadata": {},
   "outputs": [
    {
     "name": "stdout",
     "output_type": "stream",
     "text": [
      "Now applying arithematic operation on a column and storing it in a new column:\n"
     ]
    },
    {
     "data": {
      "text/html": [
       "<div>\n",
       "<style scoped>\n",
       "    .dataframe tbody tr th:only-of-type {\n",
       "        vertical-align: middle;\n",
       "    }\n",
       "\n",
       "    .dataframe tbody tr th {\n",
       "        vertical-align: top;\n",
       "    }\n",
       "\n",
       "    .dataframe thead th {\n",
       "        text-align: right;\n",
       "    }\n",
       "</style>\n",
       "<table border=\"1\" class=\"dataframe\">\n",
       "  <thead>\n",
       "    <tr style=\"text-align: right;\">\n",
       "      <th></th>\n",
       "      <th>col_1</th>\n",
       "      <th>col_2</th>\n",
       "      <th>new_col</th>\n",
       "    </tr>\n",
       "  </thead>\n",
       "  <tbody>\n",
       "    <tr>\n",
       "      <th>0</th>\n",
       "      <td>3</td>\n",
       "      <td>a</td>\n",
       "      <td>6</td>\n",
       "    </tr>\n",
       "    <tr>\n",
       "      <th>1</th>\n",
       "      <td>2</td>\n",
       "      <td>b</td>\n",
       "      <td>4</td>\n",
       "    </tr>\n",
       "    <tr>\n",
       "      <th>2</th>\n",
       "      <td>1</td>\n",
       "      <td>c</td>\n",
       "      <td>2</td>\n",
       "    </tr>\n",
       "    <tr>\n",
       "      <th>3</th>\n",
       "      <td>0</td>\n",
       "      <td>d</td>\n",
       "      <td>0</td>\n",
       "    </tr>\n",
       "  </tbody>\n",
       "</table>\n",
       "</div>"
      ],
      "text/plain": [
       "   col_1 col_2  new_col\n",
       "0      3     a        6\n",
       "1      2     b        4\n",
       "2      1     c        2\n",
       "3      0     d        0"
      ]
     },
     "execution_count": 318,
     "metadata": {},
     "output_type": "execute_result"
    }
   ],
   "source": [
    "data = [(3, 'a'), (2, 'b'), (1, 'c'), (0, 'd')]\n",
    "df=pd.DataFrame.from_records(data, columns = ['col_1', 'col_2'])\n",
    "print(\"Now applying arithematic operation on a column and storing it in a new column:\")\n",
    "df[\"new_col\"] = df.col_1 * 2\n",
    "df"
   ]
  },
  {
   "cell_type": "code",
   "execution_count": 305,
   "metadata": {},
   "outputs": [
    {
     "data": {
      "text/html": [
       "<div>\n",
       "<style scoped>\n",
       "    .dataframe tbody tr th:only-of-type {\n",
       "        vertical-align: middle;\n",
       "    }\n",
       "\n",
       "    .dataframe tbody tr th {\n",
       "        vertical-align: top;\n",
       "    }\n",
       "\n",
       "    .dataframe thead th {\n",
       "        text-align: right;\n",
       "    }\n",
       "</style>\n",
       "<table border=\"1\" class=\"dataframe\">\n",
       "  <thead>\n",
       "    <tr style=\"text-align: right;\">\n",
       "      <th></th>\n",
       "      <th>col_1</th>\n",
       "      <th>col_2</th>\n",
       "      <th>new_col</th>\n",
       "      <th>nc</th>\n",
       "    </tr>\n",
       "  </thead>\n",
       "  <tbody>\n",
       "    <tr>\n",
       "      <th>0</th>\n",
       "      <td>3</td>\n",
       "      <td>a</td>\n",
       "      <td>6</td>\n",
       "      <td>False</td>\n",
       "    </tr>\n",
       "    <tr>\n",
       "      <th>1</th>\n",
       "      <td>2</td>\n",
       "      <td>b</td>\n",
       "      <td>4</td>\n",
       "      <td>False</td>\n",
       "    </tr>\n",
       "    <tr>\n",
       "      <th>2</th>\n",
       "      <td>1</td>\n",
       "      <td>c</td>\n",
       "      <td>2</td>\n",
       "      <td>False</td>\n",
       "    </tr>\n",
       "    <tr>\n",
       "      <th>3</th>\n",
       "      <td>0</td>\n",
       "      <td>d</td>\n",
       "      <td>0</td>\n",
       "      <td>True</td>\n",
       "    </tr>\n",
       "  </tbody>\n",
       "</table>\n",
       "</div>"
      ],
      "text/plain": [
       "   col_1 col_2  new_col     nc\n",
       "0      3     a        6  False\n",
       "1      2     b        4  False\n",
       "2      1     c        2  False\n",
       "3      0     d        0   True"
      ]
     },
     "execution_count": 305,
     "metadata": {},
     "output_type": "execute_result"
    }
   ],
   "source": [
    "df[\"nc\"] = df [\"new_col\"] <= df[\"col_1\"]\n",
    "df"
   ]
  },
  {
   "cell_type": "markdown",
   "metadata": {},
   "source": [
    "- #### The following function has three arguments. \n",
    "- #### First argument: index where new coloumn will be inserted. \n",
    "- #### Second argument: label or title of a new coloumn\n",
    "- #### Third argument: it will create a coloumn at specified position"
   ]
  },
  {
   "cell_type": "code",
   "execution_count": 308,
   "metadata": {},
   "outputs": [
    {
     "data": {
      "text/html": [
       "<div>\n",
       "<style scoped>\n",
       "    .dataframe tbody tr th:only-of-type {\n",
       "        vertical-align: middle;\n",
       "    }\n",
       "\n",
       "    .dataframe tbody tr th {\n",
       "        vertical-align: top;\n",
       "    }\n",
       "\n",
       "    .dataframe thead th {\n",
       "        text-align: right;\n",
       "    }\n",
       "</style>\n",
       "<table border=\"1\" class=\"dataframe\">\n",
       "  <thead>\n",
       "    <tr style=\"text-align: right;\">\n",
       "      <th></th>\n",
       "      <th>col_1</th>\n",
       "      <th>col_2</th>\n",
       "      <th>new_col</th>\n",
       "      <th>nc</th>\n",
       "      <th>nnc</th>\n",
       "    </tr>\n",
       "  </thead>\n",
       "  <tbody>\n",
       "    <tr>\n",
       "      <th>0</th>\n",
       "      <td>3</td>\n",
       "      <td>a</td>\n",
       "      <td>6</td>\n",
       "      <td>False</td>\n",
       "      <td>a</td>\n",
       "    </tr>\n",
       "    <tr>\n",
       "      <th>1</th>\n",
       "      <td>2</td>\n",
       "      <td>b</td>\n",
       "      <td>4</td>\n",
       "      <td>False</td>\n",
       "      <td>b</td>\n",
       "    </tr>\n",
       "    <tr>\n",
       "      <th>2</th>\n",
       "      <td>1</td>\n",
       "      <td>c</td>\n",
       "      <td>2</td>\n",
       "      <td>False</td>\n",
       "      <td>c</td>\n",
       "    </tr>\n",
       "    <tr>\n",
       "      <th>3</th>\n",
       "      <td>0</td>\n",
       "      <td>d</td>\n",
       "      <td>0</td>\n",
       "      <td>True</td>\n",
       "      <td>d</td>\n",
       "    </tr>\n",
       "  </tbody>\n",
       "</table>\n",
       "</div>"
      ],
      "text/plain": [
       "   col_1 col_2  new_col     nc nnc\n",
       "0      3     a        6  False   a\n",
       "1      2     b        4  False   b\n",
       "2      1     c        2  False   c\n",
       "3      0     d        0   True   d"
      ]
     },
     "execution_count": 308,
     "metadata": {},
     "output_type": "execute_result"
    }
   ],
   "source": [
    "df.insert(4,'nnc',df[\"col_2\"])\n",
    "df"
   ]
  },
  {
   "cell_type": "markdown",
   "metadata": {},
   "source": [
    "#### delete function will delete the specified column"
   ]
  },
  {
   "cell_type": "code",
   "execution_count": 311,
   "metadata": {},
   "outputs": [
    {
     "data": {
      "text/html": [
       "<div>\n",
       "<style scoped>\n",
       "    .dataframe tbody tr th:only-of-type {\n",
       "        vertical-align: middle;\n",
       "    }\n",
       "\n",
       "    .dataframe tbody tr th {\n",
       "        vertical-align: top;\n",
       "    }\n",
       "\n",
       "    .dataframe thead th {\n",
       "        text-align: right;\n",
       "    }\n",
       "</style>\n",
       "<table border=\"1\" class=\"dataframe\">\n",
       "  <thead>\n",
       "    <tr style=\"text-align: right;\">\n",
       "      <th></th>\n",
       "      <th>col_1</th>\n",
       "      <th>col_2</th>\n",
       "      <th>new_col</th>\n",
       "      <th>nc</th>\n",
       "    </tr>\n",
       "  </thead>\n",
       "  <tbody>\n",
       "    <tr>\n",
       "      <th>0</th>\n",
       "      <td>3</td>\n",
       "      <td>a</td>\n",
       "      <td>6</td>\n",
       "      <td>False</td>\n",
       "    </tr>\n",
       "    <tr>\n",
       "      <th>1</th>\n",
       "      <td>2</td>\n",
       "      <td>b</td>\n",
       "      <td>4</td>\n",
       "      <td>False</td>\n",
       "    </tr>\n",
       "    <tr>\n",
       "      <th>2</th>\n",
       "      <td>1</td>\n",
       "      <td>c</td>\n",
       "      <td>2</td>\n",
       "      <td>False</td>\n",
       "    </tr>\n",
       "    <tr>\n",
       "      <th>3</th>\n",
       "      <td>0</td>\n",
       "      <td>d</td>\n",
       "      <td>0</td>\n",
       "      <td>True</td>\n",
       "    </tr>\n",
       "  </tbody>\n",
       "</table>\n",
       "</div>"
      ],
      "text/plain": [
       "   col_1 col_2  new_col     nc\n",
       "0      3     a        6  False\n",
       "1      2     b        4  False\n",
       "2      1     c        2  False\n",
       "3      0     d        0   True"
      ]
     },
     "execution_count": 311,
     "metadata": {},
     "output_type": "execute_result"
    }
   ],
   "source": [
    "del df[\"nnc\"]\n",
    "df"
   ]
  },
  {
   "cell_type": "markdown",
   "metadata": {},
   "source": [
    "#### Pop function will get and remove the specified coulmn and then store it in a new dataframe"
   ]
  },
  {
   "cell_type": "code",
   "execution_count": 322,
   "metadata": {},
   "outputs": [
    {
     "data": {
      "text/html": [
       "<div>\n",
       "<style scoped>\n",
       "    .dataframe tbody tr th:only-of-type {\n",
       "        vertical-align: middle;\n",
       "    }\n",
       "\n",
       "    .dataframe tbody tr th {\n",
       "        vertical-align: top;\n",
       "    }\n",
       "\n",
       "    .dataframe thead th {\n",
       "        text-align: right;\n",
       "    }\n",
       "</style>\n",
       "<table border=\"1\" class=\"dataframe\">\n",
       "  <thead>\n",
       "    <tr style=\"text-align: right;\">\n",
       "      <th></th>\n",
       "      <th>col_1</th>\n",
       "      <th>col_2</th>\n",
       "      <th>new_col</th>\n",
       "    </tr>\n",
       "  </thead>\n",
       "  <tbody>\n",
       "    <tr>\n",
       "      <th>0</th>\n",
       "      <td>3</td>\n",
       "      <td>a</td>\n",
       "      <td>6</td>\n",
       "    </tr>\n",
       "    <tr>\n",
       "      <th>1</th>\n",
       "      <td>2</td>\n",
       "      <td>b</td>\n",
       "      <td>4</td>\n",
       "    </tr>\n",
       "    <tr>\n",
       "      <th>2</th>\n",
       "      <td>1</td>\n",
       "      <td>c</td>\n",
       "      <td>2</td>\n",
       "    </tr>\n",
       "    <tr>\n",
       "      <th>3</th>\n",
       "      <td>0</td>\n",
       "      <td>d</td>\n",
       "      <td>0</td>\n",
       "    </tr>\n",
       "  </tbody>\n",
       "</table>\n",
       "</div>"
      ],
      "text/plain": [
       "   col_1 col_2  new_col\n",
       "0      3     a        6\n",
       "1      2     b        4\n",
       "2      1     c        2\n",
       "3      0     d        0"
      ]
     },
     "execution_count": 322,
     "metadata": {},
     "output_type": "execute_result"
    }
   ],
   "source": [
    "df.pop(\"nc\")\n",
    "df\n"
   ]
  },
  {
   "cell_type": "code",
   "execution_count": 327,
   "metadata": {},
   "outputs": [
    {
     "data": {
      "text/html": [
       "<div>\n",
       "<style scoped>\n",
       "    .dataframe tbody tr th:only-of-type {\n",
       "        vertical-align: middle;\n",
       "    }\n",
       "\n",
       "    .dataframe tbody tr th {\n",
       "        vertical-align: top;\n",
       "    }\n",
       "\n",
       "    .dataframe thead th {\n",
       "        text-align: right;\n",
       "    }\n",
       "</style>\n",
       "<table border=\"1\" class=\"dataframe\">\n",
       "  <thead>\n",
       "    <tr style=\"text-align: right;\">\n",
       "      <th></th>\n",
       "      <th>col_1</th>\n",
       "      <th>col_2</th>\n",
       "      <th>new_col</th>\n",
       "      <th>new</th>\n",
       "      <th>copy</th>\n",
       "    </tr>\n",
       "  </thead>\n",
       "  <tbody>\n",
       "    <tr>\n",
       "      <th>0</th>\n",
       "      <td>3</td>\n",
       "      <td>a</td>\n",
       "      <td>6</td>\n",
       "      <td>2</td>\n",
       "      <td>2.0</td>\n",
       "    </tr>\n",
       "    <tr>\n",
       "      <th>1</th>\n",
       "      <td>2</td>\n",
       "      <td>b</td>\n",
       "      <td>4</td>\n",
       "      <td>2</td>\n",
       "      <td>2.0</td>\n",
       "    </tr>\n",
       "    <tr>\n",
       "      <th>2</th>\n",
       "      <td>1</td>\n",
       "      <td>c</td>\n",
       "      <td>2</td>\n",
       "      <td>2</td>\n",
       "      <td>2.0</td>\n",
       "    </tr>\n",
       "    <tr>\n",
       "      <th>3</th>\n",
       "      <td>0</td>\n",
       "      <td>d</td>\n",
       "      <td>0</td>\n",
       "      <td>2</td>\n",
       "      <td>NaN</td>\n",
       "    </tr>\n",
       "  </tbody>\n",
       "</table>\n",
       "</div>"
      ],
      "text/plain": [
       "   col_1 col_2  new_col  new  copy\n",
       "0      3     a        6    2   2.0\n",
       "1      2     b        4    2   2.0\n",
       "2      1     c        2    2   2.0\n",
       "3      0     d        0    2   NaN"
      ]
     },
     "execution_count": 327,
     "metadata": {},
     "output_type": "execute_result"
    }
   ],
   "source": [
    "#new column is created with values of column 2\n",
    "df['new'] = 2\n",
    "df"
   ]
  },
  {
   "cell_type": "code",
   "execution_count": 325,
   "metadata": {},
   "outputs": [
    {
     "data": {
      "text/html": [
       "<div>\n",
       "<style scoped>\n",
       "    .dataframe tbody tr th:only-of-type {\n",
       "        vertical-align: middle;\n",
       "    }\n",
       "\n",
       "    .dataframe tbody tr th {\n",
       "        vertical-align: top;\n",
       "    }\n",
       "\n",
       "    .dataframe thead th {\n",
       "        text-align: right;\n",
       "    }\n",
       "</style>\n",
       "<table border=\"1\" class=\"dataframe\">\n",
       "  <thead>\n",
       "    <tr style=\"text-align: right;\">\n",
       "      <th></th>\n",
       "      <th>col_1</th>\n",
       "      <th>col_2</th>\n",
       "      <th>new_col</th>\n",
       "      <th>new</th>\n",
       "      <th>copy</th>\n",
       "    </tr>\n",
       "  </thead>\n",
       "  <tbody>\n",
       "    <tr>\n",
       "      <th>0</th>\n",
       "      <td>3</td>\n",
       "      <td>a</td>\n",
       "      <td>6</td>\n",
       "      <td>2</td>\n",
       "      <td>2.0</td>\n",
       "    </tr>\n",
       "    <tr>\n",
       "      <th>1</th>\n",
       "      <td>2</td>\n",
       "      <td>b</td>\n",
       "      <td>4</td>\n",
       "      <td>2</td>\n",
       "      <td>2.0</td>\n",
       "    </tr>\n",
       "    <tr>\n",
       "      <th>2</th>\n",
       "      <td>1</td>\n",
       "      <td>c</td>\n",
       "      <td>2</td>\n",
       "      <td>2</td>\n",
       "      <td>2.0</td>\n",
       "    </tr>\n",
       "    <tr>\n",
       "      <th>3</th>\n",
       "      <td>0</td>\n",
       "      <td>d</td>\n",
       "      <td>0</td>\n",
       "      <td>2</td>\n",
       "      <td>NaN</td>\n",
       "    </tr>\n",
       "  </tbody>\n",
       "</table>\n",
       "</div>"
      ],
      "text/plain": [
       "   col_1 col_2  new_col  new  copy\n",
       "0      3     a        6    2   2.0\n",
       "1      2     b        4    2   2.0\n",
       "2      1     c        2    2   2.0\n",
       "3      0     d        0    2   NaN"
      ]
     },
     "execution_count": 325,
     "metadata": {},
     "output_type": "execute_result"
    }
   ],
   "source": [
    "#this creates new coloumn and copies values of the other column\n",
    "df['copy']=df['new'][:3]\n",
    "df"
   ]
  },
  {
   "cell_type": "code",
   "execution_count": 326,
   "metadata": {},
   "outputs": [
    {
     "data": {
      "text/html": [
       "<div>\n",
       "<style scoped>\n",
       "    .dataframe tbody tr th:only-of-type {\n",
       "        vertical-align: middle;\n",
       "    }\n",
       "\n",
       "    .dataframe tbody tr th {\n",
       "        vertical-align: top;\n",
       "    }\n",
       "\n",
       "    .dataframe thead th {\n",
       "        text-align: right;\n",
       "    }\n",
       "</style>\n",
       "<table border=\"1\" class=\"dataframe\">\n",
       "  <thead>\n",
       "    <tr style=\"text-align: right;\">\n",
       "      <th></th>\n",
       "      <th>col_1</th>\n",
       "      <th>col_2</th>\n",
       "      <th>new_col</th>\n",
       "      <th>new</th>\n",
       "      <th>copy</th>\n",
       "    </tr>\n",
       "  </thead>\n",
       "  <tbody>\n",
       "    <tr>\n",
       "      <th>0</th>\n",
       "      <td>3</td>\n",
       "      <td>a</td>\n",
       "      <td>6</td>\n",
       "      <td>2</td>\n",
       "      <td>2.0</td>\n",
       "    </tr>\n",
       "    <tr>\n",
       "      <th>1</th>\n",
       "      <td>2</td>\n",
       "      <td>b</td>\n",
       "      <td>4</td>\n",
       "      <td>2</td>\n",
       "      <td>2.0</td>\n",
       "    </tr>\n",
       "    <tr>\n",
       "      <th>2</th>\n",
       "      <td>1</td>\n",
       "      <td>c</td>\n",
       "      <td>2</td>\n",
       "      <td>2</td>\n",
       "      <td>2.0</td>\n",
       "    </tr>\n",
       "    <tr>\n",
       "      <th>3</th>\n",
       "      <td>0</td>\n",
       "      <td>d</td>\n",
       "      <td>0</td>\n",
       "      <td>2</td>\n",
       "      <td>NaN</td>\n",
       "    </tr>\n",
       "  </tbody>\n",
       "</table>\n",
       "</div>"
      ],
      "text/plain": [
       "   col_1 col_2  new_col  new  copy\n",
       "0      3     a        6    2   2.0\n",
       "1      2     b        4    2   2.0\n",
       "2      1     c        2    2   2.0\n",
       "3      0     d        0    2   NaN"
      ]
     },
     "execution_count": 326,
     "metadata": {},
     "output_type": "execute_result"
    }
   ],
   "source": []
  },
  {
   "cell_type": "markdown",
   "metadata": {},
   "source": [
    "# 11.7 Indexing / Selection"
   ]
  },
  {
   "cell_type": "markdown",
   "metadata": {},
   "source": [
    "- #### Row  selection,  for  example,  returns  a  Series  whose  index  is  the  columns  of  the  DataFrame.  There  is  a special  function  use  to  access  and  operate  on  values  of  row  in  a  dataframe  and  that  is  known  as  loc function.  It  is  a  most  popular  function  among  programmers  community  in  who  works  in  data  science  and  in python.\n",
    "- #### Identifying  pandas  means  simply  selecting  rows  and  columns  of  data  from  DataFrame.  Identifying  directions  can   mean  selecting  all  rows  and  other  columns,  some  rows  and  all  columns,  or  some  rows  and  columns.  The index  can  also  be  known  as  the  Subset  Selection"
   ]
  },
  {
   "cell_type": "code",
   "execution_count": 328,
   "metadata": {},
   "outputs": [
    {
     "data": {
      "text/plain": [
       "col_1      1\n",
       "col_2      c\n",
       "new_col    2\n",
       "new        2\n",
       "copy       2\n",
       "Name: 2, dtype: object"
      ]
     },
     "execution_count": 328,
     "metadata": {},
     "output_type": "execute_result"
    }
   ],
   "source": [
    "df.loc[2] "
   ]
  },
  {
   "cell_type": "code",
   "execution_count": 329,
   "metadata": {},
   "outputs": [
    {
     "data": {
      "text/plain": [
       "col_1        0\n",
       "col_2        d\n",
       "new_col      0\n",
       "new          2\n",
       "copy       NaN\n",
       "Name: 3, dtype: object"
      ]
     },
     "execution_count": 329,
     "metadata": {},
     "output_type": "execute_result"
    }
   ],
   "source": [
    "df.loc[3]"
   ]
  },
  {
   "cell_type": "code",
   "execution_count": 330,
   "metadata": {},
   "outputs": [
    {
     "data": {
      "text/plain": [
       "col_1      1\n",
       "col_2      c\n",
       "new_col    2\n",
       "new        2\n",
       "copy       2\n",
       "Name: 2, dtype: object"
      ]
     },
     "execution_count": 330,
     "metadata": {},
     "output_type": "execute_result"
    }
   ],
   "source": [
    "df.loc[2]"
   ]
  },
  {
   "cell_type": "markdown",
   "metadata": {},
   "source": [
    "- ### This returns complete row with first 2 columns."
   ]
  },
  {
   "cell_type": "code",
   "execution_count": 333,
   "metadata": {},
   "outputs": [
    {
     "data": {
      "text/html": [
       "<div>\n",
       "<style scoped>\n",
       "    .dataframe tbody tr th:only-of-type {\n",
       "        vertical-align: middle;\n",
       "    }\n",
       "\n",
       "    .dataframe tbody tr th {\n",
       "        vertical-align: top;\n",
       "    }\n",
       "\n",
       "    .dataframe thead th {\n",
       "        text-align: right;\n",
       "    }\n",
       "</style>\n",
       "<table border=\"1\" class=\"dataframe\">\n",
       "  <thead>\n",
       "    <tr style=\"text-align: right;\">\n",
       "      <th></th>\n",
       "      <th>col_1</th>\n",
       "      <th>col_2</th>\n",
       "    </tr>\n",
       "  </thead>\n",
       "  <tbody>\n",
       "    <tr>\n",
       "      <th>0</th>\n",
       "      <td>3</td>\n",
       "      <td>a</td>\n",
       "    </tr>\n",
       "    <tr>\n",
       "      <th>1</th>\n",
       "      <td>2</td>\n",
       "      <td>b</td>\n",
       "    </tr>\n",
       "    <tr>\n",
       "      <th>2</th>\n",
       "      <td>1</td>\n",
       "      <td>c</td>\n",
       "    </tr>\n",
       "    <tr>\n",
       "      <th>3</th>\n",
       "      <td>0</td>\n",
       "      <td>d</td>\n",
       "    </tr>\n",
       "  </tbody>\n",
       "</table>\n",
       "</div>"
      ],
      "text/plain": [
       "   col_1 col_2\n",
       "0      3     a\n",
       "1      2     b\n",
       "2      1     c\n",
       "3      0     d"
      ]
     },
     "execution_count": 333,
     "metadata": {},
     "output_type": "execute_result"
    }
   ],
   "source": [
    "df.iloc[:,:2]       "
   ]
  },
  {
   "cell_type": "markdown",
   "metadata": {},
   "source": [
    "# 11.8 Data alignment and arithmetic"
   ]
  },
  {
   "cell_type": "markdown",
   "metadata": {},
   "source": [
    "- Data alignment between DataFrame objects automatically align on both the columns and the index (row labels).\n",
    "- Again, the resulting object will have the union of the column and row labels.\n",
    "- For binary operations on two Series or DataFrame objects, Pandas will align indices in the process of performing the operation. This is very convenient when working with incomplete data, as we'll see in some of the examples that follow.\n",
    "\n",
    "One of the essential pieces of NumPy is the ability to perform quick element-wise operations, both with basic arithmetic (addition, subtraction, multiplication, etc.) and with more sophisticated operations (trigonometric functions, exponential and logarithmic functions, etc.)\n"
   ]
  },
  {
   "cell_type": "code",
   "execution_count": 370,
   "metadata": {},
   "outputs": [],
   "source": [
    "df = pd.DataFrame(np.random.randn(5, 6), columns=['c1', 'c2', 'c3', 'c4','c5','c6'])\n",
    "df1 = pd.DataFrame(np.random.randn(12, 4), columns=['c1', 'c2', 'c3','c4'])"
   ]
  },
  {
   "cell_type": "code",
   "execution_count": 371,
   "metadata": {},
   "outputs": [
    {
     "data": {
      "text/html": [
       "<div>\n",
       "<style scoped>\n",
       "    .dataframe tbody tr th:only-of-type {\n",
       "        vertical-align: middle;\n",
       "    }\n",
       "\n",
       "    .dataframe tbody tr th {\n",
       "        vertical-align: top;\n",
       "    }\n",
       "\n",
       "    .dataframe thead th {\n",
       "        text-align: right;\n",
       "    }\n",
       "</style>\n",
       "<table border=\"1\" class=\"dataframe\">\n",
       "  <thead>\n",
       "    <tr style=\"text-align: right;\">\n",
       "      <th></th>\n",
       "      <th>c1</th>\n",
       "      <th>c2</th>\n",
       "      <th>c3</th>\n",
       "      <th>c4</th>\n",
       "      <th>c5</th>\n",
       "      <th>c6</th>\n",
       "    </tr>\n",
       "  </thead>\n",
       "  <tbody>\n",
       "    <tr>\n",
       "      <th>0</th>\n",
       "      <td>0.169246</td>\n",
       "      <td>-0.071107</td>\n",
       "      <td>1.565278</td>\n",
       "      <td>0.024164</td>\n",
       "      <td>NaN</td>\n",
       "      <td>NaN</td>\n",
       "    </tr>\n",
       "    <tr>\n",
       "      <th>1</th>\n",
       "      <td>-1.208061</td>\n",
       "      <td>-0.806538</td>\n",
       "      <td>-0.112920</td>\n",
       "      <td>-1.197678</td>\n",
       "      <td>NaN</td>\n",
       "      <td>NaN</td>\n",
       "    </tr>\n",
       "    <tr>\n",
       "      <th>2</th>\n",
       "      <td>0.195210</td>\n",
       "      <td>-0.566972</td>\n",
       "      <td>-0.230765</td>\n",
       "      <td>-0.146356</td>\n",
       "      <td>NaN</td>\n",
       "      <td>NaN</td>\n",
       "    </tr>\n",
       "    <tr>\n",
       "      <th>3</th>\n",
       "      <td>-1.051595</td>\n",
       "      <td>-0.529137</td>\n",
       "      <td>-0.776000</td>\n",
       "      <td>0.055117</td>\n",
       "      <td>NaN</td>\n",
       "      <td>NaN</td>\n",
       "    </tr>\n",
       "    <tr>\n",
       "      <th>4</th>\n",
       "      <td>-2.900303</td>\n",
       "      <td>0.360172</td>\n",
       "      <td>-0.393078</td>\n",
       "      <td>-1.297514</td>\n",
       "      <td>NaN</td>\n",
       "      <td>NaN</td>\n",
       "    </tr>\n",
       "    <tr>\n",
       "      <th>5</th>\n",
       "      <td>NaN</td>\n",
       "      <td>NaN</td>\n",
       "      <td>NaN</td>\n",
       "      <td>NaN</td>\n",
       "      <td>NaN</td>\n",
       "      <td>NaN</td>\n",
       "    </tr>\n",
       "    <tr>\n",
       "      <th>6</th>\n",
       "      <td>NaN</td>\n",
       "      <td>NaN</td>\n",
       "      <td>NaN</td>\n",
       "      <td>NaN</td>\n",
       "      <td>NaN</td>\n",
       "      <td>NaN</td>\n",
       "    </tr>\n",
       "    <tr>\n",
       "      <th>7</th>\n",
       "      <td>NaN</td>\n",
       "      <td>NaN</td>\n",
       "      <td>NaN</td>\n",
       "      <td>NaN</td>\n",
       "      <td>NaN</td>\n",
       "      <td>NaN</td>\n",
       "    </tr>\n",
       "    <tr>\n",
       "      <th>8</th>\n",
       "      <td>NaN</td>\n",
       "      <td>NaN</td>\n",
       "      <td>NaN</td>\n",
       "      <td>NaN</td>\n",
       "      <td>NaN</td>\n",
       "      <td>NaN</td>\n",
       "    </tr>\n",
       "    <tr>\n",
       "      <th>9</th>\n",
       "      <td>NaN</td>\n",
       "      <td>NaN</td>\n",
       "      <td>NaN</td>\n",
       "      <td>NaN</td>\n",
       "      <td>NaN</td>\n",
       "      <td>NaN</td>\n",
       "    </tr>\n",
       "    <tr>\n",
       "      <th>10</th>\n",
       "      <td>NaN</td>\n",
       "      <td>NaN</td>\n",
       "      <td>NaN</td>\n",
       "      <td>NaN</td>\n",
       "      <td>NaN</td>\n",
       "      <td>NaN</td>\n",
       "    </tr>\n",
       "    <tr>\n",
       "      <th>11</th>\n",
       "      <td>NaN</td>\n",
       "      <td>NaN</td>\n",
       "      <td>NaN</td>\n",
       "      <td>NaN</td>\n",
       "      <td>NaN</td>\n",
       "      <td>NaN</td>\n",
       "    </tr>\n",
       "  </tbody>\n",
       "</table>\n",
       "</div>"
      ],
      "text/plain": [
       "          c1        c2        c3        c4  c5  c6\n",
       "0   0.169246 -0.071107  1.565278  0.024164 NaN NaN\n",
       "1  -1.208061 -0.806538 -0.112920 -1.197678 NaN NaN\n",
       "2   0.195210 -0.566972 -0.230765 -0.146356 NaN NaN\n",
       "3  -1.051595 -0.529137 -0.776000  0.055117 NaN NaN\n",
       "4  -2.900303  0.360172 -0.393078 -1.297514 NaN NaN\n",
       "5        NaN       NaN       NaN       NaN NaN NaN\n",
       "6        NaN       NaN       NaN       NaN NaN NaN\n",
       "7        NaN       NaN       NaN       NaN NaN NaN\n",
       "8        NaN       NaN       NaN       NaN NaN NaN\n",
       "9        NaN       NaN       NaN       NaN NaN NaN\n",
       "10       NaN       NaN       NaN       NaN NaN NaN\n",
       "11       NaN       NaN       NaN       NaN NaN NaN"
      ]
     },
     "execution_count": 371,
     "metadata": {},
     "output_type": "execute_result"
    }
   ],
   "source": [
    "df * df1"
   ]
  },
  {
   "cell_type": "code",
   "execution_count": 372,
   "metadata": {},
   "outputs": [
    {
     "data": {
      "text/html": [
       "<div>\n",
       "<style scoped>\n",
       "    .dataframe tbody tr th:only-of-type {\n",
       "        vertical-align: middle;\n",
       "    }\n",
       "\n",
       "    .dataframe tbody tr th {\n",
       "        vertical-align: top;\n",
       "    }\n",
       "\n",
       "    .dataframe thead th {\n",
       "        text-align: right;\n",
       "    }\n",
       "</style>\n",
       "<table border=\"1\" class=\"dataframe\">\n",
       "  <thead>\n",
       "    <tr style=\"text-align: right;\">\n",
       "      <th></th>\n",
       "      <th>c1</th>\n",
       "      <th>c2</th>\n",
       "      <th>c3</th>\n",
       "      <th>c4</th>\n",
       "      <th>c5</th>\n",
       "      <th>c6</th>\n",
       "    </tr>\n",
       "  </thead>\n",
       "  <tbody>\n",
       "    <tr>\n",
       "      <th>0</th>\n",
       "      <td>-0.876353</td>\n",
       "      <td>0.969402</td>\n",
       "      <td>-2.598855</td>\n",
       "      <td>0.310918</td>\n",
       "      <td>NaN</td>\n",
       "      <td>NaN</td>\n",
       "    </tr>\n",
       "    <tr>\n",
       "      <th>1</th>\n",
       "      <td>-0.296024</td>\n",
       "      <td>-0.460614</td>\n",
       "      <td>1.341614</td>\n",
       "      <td>0.878094</td>\n",
       "      <td>NaN</td>\n",
       "      <td>NaN</td>\n",
       "    </tr>\n",
       "    <tr>\n",
       "      <th>2</th>\n",
       "      <td>0.954213</td>\n",
       "      <td>2.318599</td>\n",
       "      <td>-0.398201</td>\n",
       "      <td>0.526499</td>\n",
       "      <td>NaN</td>\n",
       "      <td>NaN</td>\n",
       "    </tr>\n",
       "    <tr>\n",
       "      <th>3</th>\n",
       "      <td>1.445342</td>\n",
       "      <td>-0.933724</td>\n",
       "      <td>-0.906627</td>\n",
       "      <td>-1.181675</td>\n",
       "      <td>NaN</td>\n",
       "      <td>NaN</td>\n",
       "    </tr>\n",
       "    <tr>\n",
       "      <th>4</th>\n",
       "      <td>-1.343302</td>\n",
       "      <td>1.427014</td>\n",
       "      <td>0.200408</td>\n",
       "      <td>-0.111997</td>\n",
       "      <td>NaN</td>\n",
       "      <td>NaN</td>\n",
       "    </tr>\n",
       "    <tr>\n",
       "      <th>5</th>\n",
       "      <td>NaN</td>\n",
       "      <td>NaN</td>\n",
       "      <td>NaN</td>\n",
       "      <td>NaN</td>\n",
       "      <td>NaN</td>\n",
       "      <td>NaN</td>\n",
       "    </tr>\n",
       "    <tr>\n",
       "      <th>6</th>\n",
       "      <td>NaN</td>\n",
       "      <td>NaN</td>\n",
       "      <td>NaN</td>\n",
       "      <td>NaN</td>\n",
       "      <td>NaN</td>\n",
       "      <td>NaN</td>\n",
       "    </tr>\n",
       "    <tr>\n",
       "      <th>7</th>\n",
       "      <td>NaN</td>\n",
       "      <td>NaN</td>\n",
       "      <td>NaN</td>\n",
       "      <td>NaN</td>\n",
       "      <td>NaN</td>\n",
       "      <td>NaN</td>\n",
       "    </tr>\n",
       "    <tr>\n",
       "      <th>8</th>\n",
       "      <td>NaN</td>\n",
       "      <td>NaN</td>\n",
       "      <td>NaN</td>\n",
       "      <td>NaN</td>\n",
       "      <td>NaN</td>\n",
       "      <td>NaN</td>\n",
       "    </tr>\n",
       "    <tr>\n",
       "      <th>9</th>\n",
       "      <td>NaN</td>\n",
       "      <td>NaN</td>\n",
       "      <td>NaN</td>\n",
       "      <td>NaN</td>\n",
       "      <td>NaN</td>\n",
       "      <td>NaN</td>\n",
       "    </tr>\n",
       "    <tr>\n",
       "      <th>10</th>\n",
       "      <td>NaN</td>\n",
       "      <td>NaN</td>\n",
       "      <td>NaN</td>\n",
       "      <td>NaN</td>\n",
       "      <td>NaN</td>\n",
       "      <td>NaN</td>\n",
       "    </tr>\n",
       "    <tr>\n",
       "      <th>11</th>\n",
       "      <td>NaN</td>\n",
       "      <td>NaN</td>\n",
       "      <td>NaN</td>\n",
       "      <td>NaN</td>\n",
       "      <td>NaN</td>\n",
       "      <td>NaN</td>\n",
       "    </tr>\n",
       "  </tbody>\n",
       "</table>\n",
       "</div>"
      ],
      "text/plain": [
       "          c1        c2        c3        c4  c5  c6\n",
       "0  -0.876353  0.969402 -2.598855  0.310918 NaN NaN\n",
       "1  -0.296024 -0.460614  1.341614  0.878094 NaN NaN\n",
       "2   0.954213  2.318599 -0.398201  0.526499 NaN NaN\n",
       "3   1.445342 -0.933724 -0.906627 -1.181675 NaN NaN\n",
       "4  -1.343302  1.427014  0.200408 -0.111997 NaN NaN\n",
       "5        NaN       NaN       NaN       NaN NaN NaN\n",
       "6        NaN       NaN       NaN       NaN NaN NaN\n",
       "7        NaN       NaN       NaN       NaN NaN NaN\n",
       "8        NaN       NaN       NaN       NaN NaN NaN\n",
       "9        NaN       NaN       NaN       NaN NaN NaN\n",
       "10       NaN       NaN       NaN       NaN NaN NaN\n",
       "11       NaN       NaN       NaN       NaN NaN NaN"
      ]
     },
     "execution_count": 372,
     "metadata": {},
     "output_type": "execute_result"
    }
   ],
   "source": [
    "df1 + df"
   ]
  },
  {
   "cell_type": "code",
   "execution_count": 373,
   "metadata": {},
   "outputs": [
    {
     "data": {
      "text/html": [
       "<div>\n",
       "<style scoped>\n",
       "    .dataframe tbody tr th:only-of-type {\n",
       "        vertical-align: middle;\n",
       "    }\n",
       "\n",
       "    .dataframe tbody tr th {\n",
       "        vertical-align: top;\n",
       "    }\n",
       "\n",
       "    .dataframe thead th {\n",
       "        text-align: right;\n",
       "    }\n",
       "</style>\n",
       "<table border=\"1\" class=\"dataframe\">\n",
       "  <thead>\n",
       "    <tr style=\"text-align: right;\">\n",
       "      <th></th>\n",
       "      <th>c1</th>\n",
       "      <th>c2</th>\n",
       "      <th>c3</th>\n",
       "      <th>c4</th>\n",
       "      <th>c5</th>\n",
       "      <th>c6</th>\n",
       "    </tr>\n",
       "  </thead>\n",
       "  <tbody>\n",
       "    <tr>\n",
       "      <th>0</th>\n",
       "      <td>0.301681</td>\n",
       "      <td>-1.106422</td>\n",
       "      <td>-0.702093</td>\n",
       "      <td>-0.003994</td>\n",
       "      <td>NaN</td>\n",
       "      <td>NaN</td>\n",
       "    </tr>\n",
       "    <tr>\n",
       "      <th>1</th>\n",
       "      <td>-2.218079</td>\n",
       "      <td>1.854270</td>\n",
       "      <td>1.500536</td>\n",
       "      <td>-2.358339</td>\n",
       "      <td>NaN</td>\n",
       "      <td>NaN</td>\n",
       "    </tr>\n",
       "    <tr>\n",
       "      <th>2</th>\n",
       "      <td>-0.360112</td>\n",
       "      <td>-2.764740</td>\n",
       "      <td>1.040013</td>\n",
       "      <td>0.928775</td>\n",
       "      <td>NaN</td>\n",
       "      <td>NaN</td>\n",
       "    </tr>\n",
       "    <tr>\n",
       "      <th>3</th>\n",
       "      <td>-2.509062</td>\n",
       "      <td>1.728695</td>\n",
       "      <td>-1.981406</td>\n",
       "      <td>-1.084383</td>\n",
       "      <td>NaN</td>\n",
       "      <td>NaN</td>\n",
       "    </tr>\n",
       "    <tr>\n",
       "      <th>4</th>\n",
       "      <td>-3.661375</td>\n",
       "      <td>-0.771803</td>\n",
       "      <td>-1.269833</td>\n",
       "      <td>-2.280920</td>\n",
       "      <td>NaN</td>\n",
       "      <td>NaN</td>\n",
       "    </tr>\n",
       "    <tr>\n",
       "      <th>5</th>\n",
       "      <td>NaN</td>\n",
       "      <td>NaN</td>\n",
       "      <td>NaN</td>\n",
       "      <td>NaN</td>\n",
       "      <td>NaN</td>\n",
       "      <td>NaN</td>\n",
       "    </tr>\n",
       "    <tr>\n",
       "      <th>6</th>\n",
       "      <td>NaN</td>\n",
       "      <td>NaN</td>\n",
       "      <td>NaN</td>\n",
       "      <td>NaN</td>\n",
       "      <td>NaN</td>\n",
       "      <td>NaN</td>\n",
       "    </tr>\n",
       "    <tr>\n",
       "      <th>7</th>\n",
       "      <td>NaN</td>\n",
       "      <td>NaN</td>\n",
       "      <td>NaN</td>\n",
       "      <td>NaN</td>\n",
       "      <td>NaN</td>\n",
       "      <td>NaN</td>\n",
       "    </tr>\n",
       "    <tr>\n",
       "      <th>8</th>\n",
       "      <td>NaN</td>\n",
       "      <td>NaN</td>\n",
       "      <td>NaN</td>\n",
       "      <td>NaN</td>\n",
       "      <td>NaN</td>\n",
       "      <td>NaN</td>\n",
       "    </tr>\n",
       "    <tr>\n",
       "      <th>9</th>\n",
       "      <td>NaN</td>\n",
       "      <td>NaN</td>\n",
       "      <td>NaN</td>\n",
       "      <td>NaN</td>\n",
       "      <td>NaN</td>\n",
       "      <td>NaN</td>\n",
       "    </tr>\n",
       "    <tr>\n",
       "      <th>10</th>\n",
       "      <td>NaN</td>\n",
       "      <td>NaN</td>\n",
       "      <td>NaN</td>\n",
       "      <td>NaN</td>\n",
       "      <td>NaN</td>\n",
       "      <td>NaN</td>\n",
       "    </tr>\n",
       "    <tr>\n",
       "      <th>11</th>\n",
       "      <td>NaN</td>\n",
       "      <td>NaN</td>\n",
       "      <td>NaN</td>\n",
       "      <td>NaN</td>\n",
       "      <td>NaN</td>\n",
       "      <td>NaN</td>\n",
       "    </tr>\n",
       "  </tbody>\n",
       "</table>\n",
       "</div>"
      ],
      "text/plain": [
       "          c1        c2        c3        c4  c5  c6\n",
       "0   0.301681 -1.106422 -0.702093 -0.003994 NaN NaN\n",
       "1  -2.218079  1.854270  1.500536 -2.358339 NaN NaN\n",
       "2  -0.360112 -2.764740  1.040013  0.928775 NaN NaN\n",
       "3  -2.509062  1.728695 -1.981406 -1.084383 NaN NaN\n",
       "4  -3.661375 -0.771803 -1.269833 -2.280920 NaN NaN\n",
       "5        NaN       NaN       NaN       NaN NaN NaN\n",
       "6        NaN       NaN       NaN       NaN NaN NaN\n",
       "7        NaN       NaN       NaN       NaN NaN NaN\n",
       "8        NaN       NaN       NaN       NaN NaN NaN\n",
       "9        NaN       NaN       NaN       NaN NaN NaN\n",
       "10       NaN       NaN       NaN       NaN NaN NaN\n",
       "11       NaN       NaN       NaN       NaN NaN NaN"
      ]
     },
     "execution_count": 373,
     "metadata": {},
     "output_type": "execute_result"
    }
   ],
   "source": [
    "df - df1"
   ]
  },
  {
   "cell_type": "code",
   "execution_count": 374,
   "metadata": {},
   "outputs": [
    {
     "data": {
      "text/html": [
       "<div>\n",
       "<style scoped>\n",
       "    .dataframe tbody tr th:only-of-type {\n",
       "        vertical-align: middle;\n",
       "    }\n",
       "\n",
       "    .dataframe tbody tr th {\n",
       "        vertical-align: top;\n",
       "    }\n",
       "\n",
       "    .dataframe thead th {\n",
       "        text-align: right;\n",
       "    }\n",
       "</style>\n",
       "<table border=\"1\" class=\"dataframe\">\n",
       "  <thead>\n",
       "    <tr style=\"text-align: right;\">\n",
       "      <th></th>\n",
       "      <th>c1</th>\n",
       "      <th>c2</th>\n",
       "      <th>c3</th>\n",
       "      <th>c4</th>\n",
       "      <th>c5</th>\n",
       "      <th>c6</th>\n",
       "    </tr>\n",
       "  </thead>\n",
       "  <tbody>\n",
       "    <tr>\n",
       "      <th>0</th>\n",
       "      <td>-1.149344</td>\n",
       "      <td>-0.274039</td>\n",
       "      <td>-6.601896</td>\n",
       "      <td>0.613848</td>\n",
       "      <td>-0.394876</td>\n",
       "      <td>-6.314802</td>\n",
       "    </tr>\n",
       "    <tr>\n",
       "      <th>1</th>\n",
       "      <td>-5.028206</td>\n",
       "      <td>2.787312</td>\n",
       "      <td>5.684299</td>\n",
       "      <td>-2.960489</td>\n",
       "      <td>0.090518</td>\n",
       "      <td>-0.811834</td>\n",
       "    </tr>\n",
       "    <tr>\n",
       "      <th>2</th>\n",
       "      <td>1.188201</td>\n",
       "      <td>-0.892283</td>\n",
       "      <td>1.283623</td>\n",
       "      <td>2.910548</td>\n",
       "      <td>2.190390</td>\n",
       "      <td>-0.609536</td>\n",
       "    </tr>\n",
       "    <tr>\n",
       "      <th>3</th>\n",
       "      <td>-2.127441</td>\n",
       "      <td>1.589942</td>\n",
       "      <td>-5.776067</td>\n",
       "      <td>-4.532116</td>\n",
       "      <td>-6.977259</td>\n",
       "      <td>6.008673</td>\n",
       "    </tr>\n",
       "    <tr>\n",
       "      <th>4</th>\n",
       "      <td>-10.009354</td>\n",
       "      <td>1.310422</td>\n",
       "      <td>-2.138850</td>\n",
       "      <td>-4.785835</td>\n",
       "      <td>0.250121</td>\n",
       "      <td>-0.825422</td>\n",
       "    </tr>\n",
       "  </tbody>\n",
       "</table>\n",
       "</div>"
      ],
      "text/plain": [
       "          c1        c2        c3        c4        c5        c6\n",
       "0  -1.149344 -0.274039 -6.601896  0.613848 -0.394876 -6.314802\n",
       "1  -5.028206  2.787312  5.684299 -2.960489  0.090518 -0.811834\n",
       "2   1.188201 -0.892283  1.283623  2.910548  2.190390 -0.609536\n",
       "3  -2.127441  1.589942 -5.776067 -4.532116 -6.977259  6.008673\n",
       "4 -10.009354  1.310422 -2.138850 -4.785835  0.250121 -0.825422"
      ]
     },
     "execution_count": 374,
     "metadata": {},
     "output_type": "execute_result"
    }
   ],
   "source": [
    "df * 2 / 2 *4"
   ]
  },
  {
   "cell_type": "code",
   "execution_count": 375,
   "metadata": {},
   "outputs": [
    {
     "data": {
      "text/html": [
       "<div>\n",
       "<style scoped>\n",
       "    .dataframe tbody tr th:only-of-type {\n",
       "        vertical-align: middle;\n",
       "    }\n",
       "\n",
       "    .dataframe tbody tr th {\n",
       "        vertical-align: top;\n",
       "    }\n",
       "\n",
       "    .dataframe thead th {\n",
       "        text-align: right;\n",
       "    }\n",
       "</style>\n",
       "<table border=\"1\" class=\"dataframe\">\n",
       "  <thead>\n",
       "    <tr style=\"text-align: right;\">\n",
       "      <th></th>\n",
       "      <th>c1</th>\n",
       "      <th>c2</th>\n",
       "      <th>c3</th>\n",
       "      <th>c4</th>\n",
       "      <th>c5</th>\n",
       "      <th>c6</th>\n",
       "    </tr>\n",
       "  </thead>\n",
       "  <tbody>\n",
       "    <tr>\n",
       "      <th>0</th>\n",
       "      <td>-1.446373</td>\n",
       "      <td>-1.167919</td>\n",
       "      <td>-2.385595</td>\n",
       "      <td>-0.931000</td>\n",
       "      <td>NaN</td>\n",
       "      <td>NaN</td>\n",
       "    </tr>\n",
       "    <tr>\n",
       "      <th>1</th>\n",
       "      <td>-2.416088</td>\n",
       "      <td>-0.402581</td>\n",
       "      <td>0.685954</td>\n",
       "      <td>-1.824584</td>\n",
       "      <td>NaN</td>\n",
       "      <td>NaN</td>\n",
       "    </tr>\n",
       "    <tr>\n",
       "      <th>2</th>\n",
       "      <td>-0.861987</td>\n",
       "      <td>-1.322480</td>\n",
       "      <td>-0.414215</td>\n",
       "      <td>-0.356825</td>\n",
       "      <td>NaN</td>\n",
       "      <td>NaN</td>\n",
       "    </tr>\n",
       "    <tr>\n",
       "      <th>3</th>\n",
       "      <td>-1.690897</td>\n",
       "      <td>-0.701923</td>\n",
       "      <td>-2.179137</td>\n",
       "      <td>-2.217491</td>\n",
       "      <td>NaN</td>\n",
       "      <td>NaN</td>\n",
       "    </tr>\n",
       "    <tr>\n",
       "      <th>4</th>\n",
       "      <td>-3.661375</td>\n",
       "      <td>-0.771803</td>\n",
       "      <td>-1.269833</td>\n",
       "      <td>-2.280920</td>\n",
       "      <td>NaN</td>\n",
       "      <td>NaN</td>\n",
       "    </tr>\n",
       "  </tbody>\n",
       "</table>\n",
       "</div>"
      ],
      "text/plain": [
       "         c1        c2        c3        c4  c5  c6\n",
       "0 -1.446373 -1.167919 -2.385595 -0.931000 NaN NaN\n",
       "1 -2.416088 -0.402581  0.685954 -1.824584 NaN NaN\n",
       "2 -0.861987 -1.322480 -0.414215 -0.356825 NaN NaN\n",
       "3 -1.690897 -0.701923 -2.179137 -2.217491 NaN NaN\n",
       "4 -3.661375 -0.771803 -1.269833 -2.280920 NaN NaN"
      ]
     },
     "execution_count": 375,
     "metadata": {},
     "output_type": "execute_result"
    }
   ],
   "source": [
    "df - df1.iloc[4]"
   ]
  },
  {
   "cell_type": "code",
   "execution_count": 376,
   "metadata": {},
   "outputs": [
    {
     "data": {
      "text/html": [
       "<div>\n",
       "<style scoped>\n",
       "    .dataframe tbody tr th:only-of-type {\n",
       "        vertical-align: middle;\n",
       "    }\n",
       "\n",
       "    .dataframe tbody tr th {\n",
       "        vertical-align: top;\n",
       "    }\n",
       "\n",
       "    .dataframe thead th {\n",
       "        text-align: right;\n",
       "    }\n",
       "</style>\n",
       "<table border=\"1\" class=\"dataframe\">\n",
       "  <thead>\n",
       "    <tr style=\"text-align: right;\">\n",
       "      <th></th>\n",
       "      <th>c1</th>\n",
       "      <th>c2</th>\n",
       "      <th>c3</th>\n",
       "      <th>c4</th>\n",
       "    </tr>\n",
       "  </thead>\n",
       "  <tbody>\n",
       "    <tr>\n",
       "      <th>0</th>\n",
       "      <td>0.346941</td>\n",
       "      <td>1.077262</td>\n",
       "      <td>8.994261e-01</td>\n",
       "      <td>0.024792</td>\n",
       "    </tr>\n",
       "    <tr>\n",
       "      <th>1</th>\n",
       "      <td>0.923574</td>\n",
       "      <td>1.339672</td>\n",
       "      <td>6.314008e-03</td>\n",
       "      <td>2.618624</td>\n",
       "    </tr>\n",
       "    <tr>\n",
       "      <th>2</th>\n",
       "      <td>0.431863</td>\n",
       "      <td>6.460084</td>\n",
       "      <td>5.171149e-01</td>\n",
       "      <td>0.040457</td>\n",
       "    </tr>\n",
       "    <tr>\n",
       "      <th>3</th>\n",
       "      <td>3.909328</td>\n",
       "      <td>1.772119</td>\n",
       "      <td>2.887876e-01</td>\n",
       "      <td>0.002366</td>\n",
       "    </tr>\n",
       "    <tr>\n",
       "      <th>4</th>\n",
       "      <td>1.343367</td>\n",
       "      <td>1.208700</td>\n",
       "      <td>5.404022e-01</td>\n",
       "      <td>1.176057</td>\n",
       "    </tr>\n",
       "    <tr>\n",
       "      <th>5</th>\n",
       "      <td>1.035003</td>\n",
       "      <td>0.025491</td>\n",
       "      <td>5.421760e-09</td>\n",
       "      <td>0.401930</td>\n",
       "    </tr>\n",
       "    <tr>\n",
       "      <th>6</th>\n",
       "      <td>0.266485</td>\n",
       "      <td>0.003995</td>\n",
       "      <td>2.757548e-01</td>\n",
       "      <td>2.455411</td>\n",
       "    </tr>\n",
       "    <tr>\n",
       "      <th>7</th>\n",
       "      <td>0.194587</td>\n",
       "      <td>0.080176</td>\n",
       "      <td>1.098928e+00</td>\n",
       "      <td>0.662266</td>\n",
       "    </tr>\n",
       "    <tr>\n",
       "      <th>8</th>\n",
       "      <td>3.186952</td>\n",
       "      <td>0.618101</td>\n",
       "      <td>6.432223e-01</td>\n",
       "      <td>0.637860</td>\n",
       "    </tr>\n",
       "    <tr>\n",
       "      <th>9</th>\n",
       "      <td>0.535810</td>\n",
       "      <td>5.806487</td>\n",
       "      <td>2.312109e-02</td>\n",
       "      <td>0.923103</td>\n",
       "    </tr>\n",
       "    <tr>\n",
       "      <th>10</th>\n",
       "      <td>0.005521</td>\n",
       "      <td>0.201458</td>\n",
       "      <td>3.246816e+00</td>\n",
       "      <td>0.012110</td>\n",
       "    </tr>\n",
       "    <tr>\n",
       "      <th>11</th>\n",
       "      <td>0.030846</td>\n",
       "      <td>0.024522</td>\n",
       "      <td>9.793639e-01</td>\n",
       "      <td>0.144606</td>\n",
       "    </tr>\n",
       "  </tbody>\n",
       "</table>\n",
       "</div>"
      ],
      "text/plain": [
       "          c1        c2            c3        c4\n",
       "0   0.346941  1.077262  8.994261e-01  0.024792\n",
       "1   0.923574  1.339672  6.314008e-03  2.618624\n",
       "2   0.431863  6.460084  5.171149e-01  0.040457\n",
       "3   3.909328  1.772119  2.887876e-01  0.002366\n",
       "4   1.343367  1.208700  5.404022e-01  1.176057\n",
       "5   1.035003  0.025491  5.421760e-09  0.401930\n",
       "6   0.266485  0.003995  2.757548e-01  2.455411\n",
       "7   0.194587  0.080176  1.098928e+00  0.662266\n",
       "8   3.186952  0.618101  6.432223e-01  0.637860\n",
       "9   0.535810  5.806487  2.312109e-02  0.923103\n",
       "10  0.005521  0.201458  3.246816e+00  0.012110\n",
       "11  0.030846  0.024522  9.793639e-01  0.144606"
      ]
     },
     "execution_count": 376,
     "metadata": {},
     "output_type": "execute_result"
    }
   ],
   "source": [
    "df1**2"
   ]
  },
  {
   "cell_type": "markdown",
   "metadata": {},
   "source": [
    "####  Boolean operators also work in data Frames"
   ]
  },
  {
   "cell_type": "code",
   "execution_count": 386,
   "metadata": {},
   "outputs": [],
   "source": [
    "df = pd.DataFrame({'A' : [134, 21, 234], 'B' : [343, 11, 22] }, dtype=bool)\n",
    "df1 = pd.DataFrame({'A' : [1, 0, 3], 'B' : [2, 10,6] }, dtype=bool)"
   ]
  },
  {
   "cell_type": "code",
   "execution_count": 387,
   "metadata": {},
   "outputs": [
    {
     "data": {
      "text/html": [
       "<div>\n",
       "<style scoped>\n",
       "    .dataframe tbody tr th:only-of-type {\n",
       "        vertical-align: middle;\n",
       "    }\n",
       "\n",
       "    .dataframe tbody tr th {\n",
       "        vertical-align: top;\n",
       "    }\n",
       "\n",
       "    .dataframe thead th {\n",
       "        text-align: right;\n",
       "    }\n",
       "</style>\n",
       "<table border=\"1\" class=\"dataframe\">\n",
       "  <thead>\n",
       "    <tr style=\"text-align: right;\">\n",
       "      <th></th>\n",
       "      <th>A</th>\n",
       "      <th>B</th>\n",
       "    </tr>\n",
       "  </thead>\n",
       "  <tbody>\n",
       "    <tr>\n",
       "      <th>0</th>\n",
       "      <td>True</td>\n",
       "      <td>True</td>\n",
       "    </tr>\n",
       "    <tr>\n",
       "      <th>1</th>\n",
       "      <td>True</td>\n",
       "      <td>True</td>\n",
       "    </tr>\n",
       "    <tr>\n",
       "      <th>2</th>\n",
       "      <td>True</td>\n",
       "      <td>True</td>\n",
       "    </tr>\n",
       "  </tbody>\n",
       "</table>\n",
       "</div>"
      ],
      "text/plain": [
       "      A     B\n",
       "0  True  True\n",
       "1  True  True\n",
       "2  True  True"
      ]
     },
     "execution_count": 387,
     "metadata": {},
     "output_type": "execute_result"
    }
   ],
   "source": [
    "df | df1 "
   ]
  },
  {
   "cell_type": "code",
   "execution_count": 388,
   "metadata": {},
   "outputs": [
    {
     "data": {
      "text/html": [
       "<div>\n",
       "<style scoped>\n",
       "    .dataframe tbody tr th:only-of-type {\n",
       "        vertical-align: middle;\n",
       "    }\n",
       "\n",
       "    .dataframe tbody tr th {\n",
       "        vertical-align: top;\n",
       "    }\n",
       "\n",
       "    .dataframe thead th {\n",
       "        text-align: right;\n",
       "    }\n",
       "</style>\n",
       "<table border=\"1\" class=\"dataframe\">\n",
       "  <thead>\n",
       "    <tr style=\"text-align: right;\">\n",
       "      <th></th>\n",
       "      <th>A</th>\n",
       "      <th>B</th>\n",
       "    </tr>\n",
       "  </thead>\n",
       "  <tbody>\n",
       "    <tr>\n",
       "      <th>0</th>\n",
       "      <td>True</td>\n",
       "      <td>True</td>\n",
       "    </tr>\n",
       "    <tr>\n",
       "      <th>1</th>\n",
       "      <td>False</td>\n",
       "      <td>True</td>\n",
       "    </tr>\n",
       "    <tr>\n",
       "      <th>2</th>\n",
       "      <td>True</td>\n",
       "      <td>True</td>\n",
       "    </tr>\n",
       "  </tbody>\n",
       "</table>\n",
       "</div>"
      ],
      "text/plain": [
       "       A     B\n",
       "0   True  True\n",
       "1  False  True\n",
       "2   True  True"
      ]
     },
     "execution_count": 388,
     "metadata": {},
     "output_type": "execute_result"
    }
   ],
   "source": [
    "df & df1"
   ]
  },
  {
   "cell_type": "code",
   "execution_count": 389,
   "metadata": {},
   "outputs": [
    {
     "data": {
      "text/html": [
       "<div>\n",
       "<style scoped>\n",
       "    .dataframe tbody tr th:only-of-type {\n",
       "        vertical-align: middle;\n",
       "    }\n",
       "\n",
       "    .dataframe tbody tr th {\n",
       "        vertical-align: top;\n",
       "    }\n",
       "\n",
       "    .dataframe thead th {\n",
       "        text-align: right;\n",
       "    }\n",
       "</style>\n",
       "<table border=\"1\" class=\"dataframe\">\n",
       "  <thead>\n",
       "    <tr style=\"text-align: right;\">\n",
       "      <th></th>\n",
       "      <th>A</th>\n",
       "      <th>B</th>\n",
       "    </tr>\n",
       "  </thead>\n",
       "  <tbody>\n",
       "    <tr>\n",
       "      <th>0</th>\n",
       "      <td>True</td>\n",
       "      <td>True</td>\n",
       "    </tr>\n",
       "    <tr>\n",
       "      <th>1</th>\n",
       "      <td>False</td>\n",
       "      <td>True</td>\n",
       "    </tr>\n",
       "    <tr>\n",
       "      <th>2</th>\n",
       "      <td>True</td>\n",
       "      <td>True</td>\n",
       "    </tr>\n",
       "  </tbody>\n",
       "</table>\n",
       "</div>"
      ],
      "text/plain": [
       "       A     B\n",
       "0   True  True\n",
       "1  False  True\n",
       "2   True  True"
      ]
     },
     "execution_count": 389,
     "metadata": {},
     "output_type": "execute_result"
    }
   ],
   "source": [
    "df == df1"
   ]
  },
  {
   "cell_type": "code",
   "execution_count": 390,
   "metadata": {},
   "outputs": [
    {
     "data": {
      "text/html": [
       "<div>\n",
       "<style scoped>\n",
       "    .dataframe tbody tr th:only-of-type {\n",
       "        vertical-align: middle;\n",
       "    }\n",
       "\n",
       "    .dataframe tbody tr th {\n",
       "        vertical-align: top;\n",
       "    }\n",
       "\n",
       "    .dataframe thead th {\n",
       "        text-align: right;\n",
       "    }\n",
       "</style>\n",
       "<table border=\"1\" class=\"dataframe\">\n",
       "  <thead>\n",
       "    <tr style=\"text-align: right;\">\n",
       "      <th></th>\n",
       "      <th>A</th>\n",
       "      <th>B</th>\n",
       "    </tr>\n",
       "  </thead>\n",
       "  <tbody>\n",
       "    <tr>\n",
       "      <th>0</th>\n",
       "      <td>False</td>\n",
       "      <td>False</td>\n",
       "    </tr>\n",
       "    <tr>\n",
       "      <th>1</th>\n",
       "      <td>False</td>\n",
       "      <td>False</td>\n",
       "    </tr>\n",
       "    <tr>\n",
       "      <th>2</th>\n",
       "      <td>False</td>\n",
       "      <td>False</td>\n",
       "    </tr>\n",
       "  </tbody>\n",
       "</table>\n",
       "</div>"
      ],
      "text/plain": [
       "       A      B\n",
       "0  False  False\n",
       "1  False  False\n",
       "2  False  False"
      ]
     },
     "execution_count": 390,
     "metadata": {},
     "output_type": "execute_result"
    }
   ],
   "source": [
    "-df"
   ]
  },
  {
   "cell_type": "markdown",
   "metadata": {},
   "source": [
    "# 11.9 Transposing"
   ]
  },
  {
   "cell_type": "code",
   "execution_count": 391,
   "metadata": {},
   "outputs": [
    {
     "data": {
      "text/html": [
       "<div>\n",
       "<style scoped>\n",
       "    .dataframe tbody tr th:only-of-type {\n",
       "        vertical-align: middle;\n",
       "    }\n",
       "\n",
       "    .dataframe tbody tr th {\n",
       "        vertical-align: top;\n",
       "    }\n",
       "\n",
       "    .dataframe thead th {\n",
       "        text-align: right;\n",
       "    }\n",
       "</style>\n",
       "<table border=\"1\" class=\"dataframe\">\n",
       "  <thead>\n",
       "    <tr style=\"text-align: right;\">\n",
       "      <th></th>\n",
       "      <th>col_1</th>\n",
       "      <th>col_2</th>\n",
       "    </tr>\n",
       "  </thead>\n",
       "  <tbody>\n",
       "    <tr>\n",
       "      <th>0</th>\n",
       "      <td>3</td>\n",
       "      <td>a</td>\n",
       "    </tr>\n",
       "    <tr>\n",
       "      <th>1</th>\n",
       "      <td>2</td>\n",
       "      <td>b</td>\n",
       "    </tr>\n",
       "    <tr>\n",
       "      <th>2</th>\n",
       "      <td>1</td>\n",
       "      <td>c</td>\n",
       "    </tr>\n",
       "    <tr>\n",
       "      <th>3</th>\n",
       "      <td>0</td>\n",
       "      <td>d</td>\n",
       "    </tr>\n",
       "  </tbody>\n",
       "</table>\n",
       "</div>"
      ],
      "text/plain": [
       "   col_1 col_2\n",
       "0      3     a\n",
       "1      2     b\n",
       "2      1     c\n",
       "3      0     d"
      ]
     },
     "execution_count": 391,
     "metadata": {},
     "output_type": "execute_result"
    }
   ],
   "source": [
    "data = [(3, 'a'), (2, 'b'), (1, 'c'), (0, 'd')]\n",
    "df=pd.DataFrame.from_records(data, columns = ['col_1', 'col_2'])\n",
    "df"
   ]
  },
  {
   "cell_type": "code",
   "execution_count": 392,
   "metadata": {},
   "outputs": [
    {
     "data": {
      "text/html": [
       "<div>\n",
       "<style scoped>\n",
       "    .dataframe tbody tr th:only-of-type {\n",
       "        vertical-align: middle;\n",
       "    }\n",
       "\n",
       "    .dataframe tbody tr th {\n",
       "        vertical-align: top;\n",
       "    }\n",
       "\n",
       "    .dataframe thead th {\n",
       "        text-align: right;\n",
       "    }\n",
       "</style>\n",
       "<table border=\"1\" class=\"dataframe\">\n",
       "  <thead>\n",
       "    <tr style=\"text-align: right;\">\n",
       "      <th></th>\n",
       "      <th>0</th>\n",
       "      <th>1</th>\n",
       "      <th>2</th>\n",
       "    </tr>\n",
       "  </thead>\n",
       "  <tbody>\n",
       "    <tr>\n",
       "      <th>col_1</th>\n",
       "      <td>3</td>\n",
       "      <td>2</td>\n",
       "      <td>1</td>\n",
       "    </tr>\n",
       "    <tr>\n",
       "      <th>col_2</th>\n",
       "      <td>a</td>\n",
       "      <td>b</td>\n",
       "      <td>c</td>\n",
       "    </tr>\n",
       "  </tbody>\n",
       "</table>\n",
       "</div>"
      ],
      "text/plain": [
       "       0  1  2\n",
       "col_1  3  2  1\n",
       "col_2  a  b  c"
      ]
     },
     "execution_count": 392,
     "metadata": {},
     "output_type": "execute_result"
    }
   ],
   "source": [
    "df[:3].T     # T refers to transpose function in pandas"
   ]
  },
  {
   "cell_type": "code",
   "execution_count": 393,
   "metadata": {},
   "outputs": [
    {
     "data": {
      "text/html": [
       "<div>\n",
       "<style scoped>\n",
       "    .dataframe tbody tr th:only-of-type {\n",
       "        vertical-align: middle;\n",
       "    }\n",
       "\n",
       "    .dataframe tbody tr th {\n",
       "        vertical-align: top;\n",
       "    }\n",
       "\n",
       "    .dataframe thead th {\n",
       "        text-align: right;\n",
       "    }\n",
       "</style>\n",
       "<table border=\"1\" class=\"dataframe\">\n",
       "  <thead>\n",
       "    <tr style=\"text-align: right;\">\n",
       "      <th></th>\n",
       "      <th>1</th>\n",
       "      <th>2</th>\n",
       "    </tr>\n",
       "  </thead>\n",
       "  <tbody>\n",
       "    <tr>\n",
       "      <th>col_1</th>\n",
       "      <td>2</td>\n",
       "      <td>1</td>\n",
       "    </tr>\n",
       "    <tr>\n",
       "      <th>col_2</th>\n",
       "      <td>b</td>\n",
       "      <td>c</td>\n",
       "    </tr>\n",
       "  </tbody>\n",
       "</table>\n",
       "</div>"
      ],
      "text/plain": [
       "       1  2\n",
       "col_1  2  1\n",
       "col_2  b  c"
      ]
     },
     "execution_count": 393,
     "metadata": {},
     "output_type": "execute_result"
    }
   ],
   "source": [
    "df[1:3].T"
   ]
  },
  {
   "cell_type": "markdown",
   "metadata": {},
   "source": [
    "- ## Dates"
   ]
  },
  {
   "cell_type": "code",
   "execution_count": 7,
   "metadata": {},
   "outputs": [],
   "source": [
    "dates = pd.date_range('19900101', periods=20)"
   ]
  },
  {
   "cell_type": "code",
   "execution_count": 8,
   "metadata": {},
   "outputs": [
    {
     "data": {
      "text/plain": [
       "DatetimeIndex(['1990-01-01', '1990-01-02', '1990-01-03', '1990-01-04',\n",
       "               '1990-01-05', '1990-01-06', '1990-01-07', '1990-01-08',\n",
       "               '1990-01-09', '1990-01-10', '1990-01-11', '1990-01-12',\n",
       "               '1990-01-13', '1990-01-14', '1990-01-15', '1990-01-16',\n",
       "               '1990-01-17', '1990-01-18', '1990-01-19', '1990-01-20'],\n",
       "              dtype='datetime64[ns]', freq='D')"
      ]
     },
     "execution_count": 8,
     "metadata": {},
     "output_type": "execute_result"
    }
   ],
   "source": [
    "dates"
   ]
  },
  {
   "cell_type": "code",
   "execution_count": 9,
   "metadata": {},
   "outputs": [
    {
     "data": {
      "text/html": [
       "<div>\n",
       "<style scoped>\n",
       "    .dataframe tbody tr th:only-of-type {\n",
       "        vertical-align: middle;\n",
       "    }\n",
       "\n",
       "    .dataframe tbody tr th {\n",
       "        vertical-align: top;\n",
       "    }\n",
       "\n",
       "    .dataframe thead th {\n",
       "        text-align: right;\n",
       "    }\n",
       "</style>\n",
       "<table border=\"1\" class=\"dataframe\">\n",
       "  <thead>\n",
       "    <tr style=\"text-align: right;\">\n",
       "      <th></th>\n",
       "      <th>A</th>\n",
       "      <th>B</th>\n",
       "      <th>C</th>\n",
       "    </tr>\n",
       "  </thead>\n",
       "  <tbody>\n",
       "    <tr>\n",
       "      <th>1990-01-01</th>\n",
       "      <td>-1.192620</td>\n",
       "      <td>-1.329997</td>\n",
       "      <td>-0.442795</td>\n",
       "    </tr>\n",
       "    <tr>\n",
       "      <th>1990-01-02</th>\n",
       "      <td>-0.028319</td>\n",
       "      <td>1.192385</td>\n",
       "      <td>-1.282387</td>\n",
       "    </tr>\n",
       "    <tr>\n",
       "      <th>1990-01-03</th>\n",
       "      <td>-0.909862</td>\n",
       "      <td>-0.108350</td>\n",
       "      <td>-0.144846</td>\n",
       "    </tr>\n",
       "    <tr>\n",
       "      <th>1990-01-04</th>\n",
       "      <td>1.146639</td>\n",
       "      <td>0.878923</td>\n",
       "      <td>0.882968</td>\n",
       "    </tr>\n",
       "    <tr>\n",
       "      <th>1990-01-05</th>\n",
       "      <td>-0.161919</td>\n",
       "      <td>0.279909</td>\n",
       "      <td>-0.606266</td>\n",
       "    </tr>\n",
       "    <tr>\n",
       "      <th>1990-01-06</th>\n",
       "      <td>0.014446</td>\n",
       "      <td>-0.887736</td>\n",
       "      <td>0.541793</td>\n",
       "    </tr>\n",
       "    <tr>\n",
       "      <th>1990-01-07</th>\n",
       "      <td>-0.291717</td>\n",
       "      <td>0.925246</td>\n",
       "      <td>1.101989</td>\n",
       "    </tr>\n",
       "    <tr>\n",
       "      <th>1990-01-08</th>\n",
       "      <td>1.080651</td>\n",
       "      <td>-0.623922</td>\n",
       "      <td>-1.533930</td>\n",
       "    </tr>\n",
       "    <tr>\n",
       "      <th>1990-01-09</th>\n",
       "      <td>-0.341293</td>\n",
       "      <td>0.371491</td>\n",
       "      <td>-0.416130</td>\n",
       "    </tr>\n",
       "    <tr>\n",
       "      <th>1990-01-10</th>\n",
       "      <td>0.784172</td>\n",
       "      <td>-0.826852</td>\n",
       "      <td>2.218301</td>\n",
       "    </tr>\n",
       "    <tr>\n",
       "      <th>1990-01-11</th>\n",
       "      <td>-0.667566</td>\n",
       "      <td>-0.444608</td>\n",
       "      <td>1.436622</td>\n",
       "    </tr>\n",
       "    <tr>\n",
       "      <th>1990-01-12</th>\n",
       "      <td>-0.904257</td>\n",
       "      <td>0.301887</td>\n",
       "      <td>0.634121</td>\n",
       "    </tr>\n",
       "    <tr>\n",
       "      <th>1990-01-13</th>\n",
       "      <td>1.180377</td>\n",
       "      <td>0.958928</td>\n",
       "      <td>-1.503067</td>\n",
       "    </tr>\n",
       "    <tr>\n",
       "      <th>1990-01-14</th>\n",
       "      <td>-0.593488</td>\n",
       "      <td>-1.390207</td>\n",
       "      <td>0.217409</td>\n",
       "    </tr>\n",
       "    <tr>\n",
       "      <th>1990-01-15</th>\n",
       "      <td>-2.068452</td>\n",
       "      <td>1.316611</td>\n",
       "      <td>0.116259</td>\n",
       "    </tr>\n",
       "    <tr>\n",
       "      <th>1990-01-16</th>\n",
       "      <td>-1.121324</td>\n",
       "      <td>0.937096</td>\n",
       "      <td>-0.149713</td>\n",
       "    </tr>\n",
       "    <tr>\n",
       "      <th>1990-01-17</th>\n",
       "      <td>-1.314961</td>\n",
       "      <td>-0.111043</td>\n",
       "      <td>-0.366683</td>\n",
       "    </tr>\n",
       "    <tr>\n",
       "      <th>1990-01-18</th>\n",
       "      <td>-1.257064</td>\n",
       "      <td>-1.923028</td>\n",
       "      <td>0.377249</td>\n",
       "    </tr>\n",
       "    <tr>\n",
       "      <th>1990-01-19</th>\n",
       "      <td>0.741501</td>\n",
       "      <td>0.454427</td>\n",
       "      <td>-0.459642</td>\n",
       "    </tr>\n",
       "    <tr>\n",
       "      <th>1990-01-20</th>\n",
       "      <td>-0.886837</td>\n",
       "      <td>0.450903</td>\n",
       "      <td>-0.535598</td>\n",
       "    </tr>\n",
       "  </tbody>\n",
       "</table>\n",
       "</div>"
      ],
      "text/plain": [
       "                   A         B         C\n",
       "1990-01-01 -1.192620 -1.329997 -0.442795\n",
       "1990-01-02 -0.028319  1.192385 -1.282387\n",
       "1990-01-03 -0.909862 -0.108350 -0.144846\n",
       "1990-01-04  1.146639  0.878923  0.882968\n",
       "1990-01-05 -0.161919  0.279909 -0.606266\n",
       "1990-01-06  0.014446 -0.887736  0.541793\n",
       "1990-01-07 -0.291717  0.925246  1.101989\n",
       "1990-01-08  1.080651 -0.623922 -1.533930\n",
       "1990-01-09 -0.341293  0.371491 -0.416130\n",
       "1990-01-10  0.784172 -0.826852  2.218301\n",
       "1990-01-11 -0.667566 -0.444608  1.436622\n",
       "1990-01-12 -0.904257  0.301887  0.634121\n",
       "1990-01-13  1.180377  0.958928 -1.503067\n",
       "1990-01-14 -0.593488 -1.390207  0.217409\n",
       "1990-01-15 -2.068452  1.316611  0.116259\n",
       "1990-01-16 -1.121324  0.937096 -0.149713\n",
       "1990-01-17 -1.314961 -0.111043 -0.366683\n",
       "1990-01-18 -1.257064 -1.923028  0.377249\n",
       "1990-01-19  0.741501  0.454427 -0.459642\n",
       "1990-01-20 -0.886837  0.450903 -0.535598"
      ]
     },
     "execution_count": 9,
     "metadata": {},
     "output_type": "execute_result"
    }
   ],
   "source": [
    "df = pd.DataFrame(np.random.randn(20,3), index=dates, columns=list('ABC'))\n",
    "df"
   ]
  },
  {
   "cell_type": "markdown",
   "metadata": {},
   "source": [
    "- ### Similarly"
   ]
  },
  {
   "cell_type": "code",
   "execution_count": 12,
   "metadata": {},
   "outputs": [
    {
     "data": {
      "text/html": [
       "<div>\n",
       "<style scoped>\n",
       "    .dataframe tbody tr th:only-of-type {\n",
       "        vertical-align: middle;\n",
       "    }\n",
       "\n",
       "    .dataframe tbody tr th {\n",
       "        vertical-align: top;\n",
       "    }\n",
       "\n",
       "    .dataframe thead th {\n",
       "        text-align: right;\n",
       "    }\n",
       "</style>\n",
       "<table border=\"1\" class=\"dataframe\">\n",
       "  <thead>\n",
       "    <tr style=\"text-align: right;\">\n",
       "      <th></th>\n",
       "      <th>A</th>\n",
       "      <th>B</th>\n",
       "      <th>C</th>\n",
       "      <th>E</th>\n",
       "      <th>X</th>\n",
       "      <th>Y</th>\n",
       "      <th>Z</th>\n",
       "    </tr>\n",
       "  </thead>\n",
       "  <tbody>\n",
       "    <tr>\n",
       "      <th>1990-01-01</th>\n",
       "      <td>0.691133</td>\n",
       "      <td>0.080478</td>\n",
       "      <td>-0.425175</td>\n",
       "      <td>-1.519217</td>\n",
       "      <td>-1.504297</td>\n",
       "      <td>-0.497605</td>\n",
       "      <td>-0.476438</td>\n",
       "    </tr>\n",
       "    <tr>\n",
       "      <th>1990-01-02</th>\n",
       "      <td>0.108330</td>\n",
       "      <td>0.675414</td>\n",
       "      <td>2.550257</td>\n",
       "      <td>0.103392</td>\n",
       "      <td>-0.153872</td>\n",
       "      <td>0.437419</td>\n",
       "      <td>0.632337</td>\n",
       "    </tr>\n",
       "    <tr>\n",
       "      <th>1990-01-03</th>\n",
       "      <td>0.297155</td>\n",
       "      <td>3.268064</td>\n",
       "      <td>0.211028</td>\n",
       "      <td>-0.992803</td>\n",
       "      <td>-0.581287</td>\n",
       "      <td>0.489401</td>\n",
       "      <td>-0.085446</td>\n",
       "    </tr>\n",
       "    <tr>\n",
       "      <th>1990-01-04</th>\n",
       "      <td>-0.925841</td>\n",
       "      <td>0.553218</td>\n",
       "      <td>0.973023</td>\n",
       "      <td>0.170026</td>\n",
       "      <td>-0.447368</td>\n",
       "      <td>-1.128693</td>\n",
       "      <td>0.464153</td>\n",
       "    </tr>\n",
       "    <tr>\n",
       "      <th>1990-01-05</th>\n",
       "      <td>-1.959059</td>\n",
       "      <td>0.064268</td>\n",
       "      <td>-0.010302</td>\n",
       "      <td>-1.911503</td>\n",
       "      <td>-1.374553</td>\n",
       "      <td>-0.193295</td>\n",
       "      <td>0.527016</td>\n",
       "    </tr>\n",
       "    <tr>\n",
       "      <th>1990-01-06</th>\n",
       "      <td>-0.368144</td>\n",
       "      <td>0.851787</td>\n",
       "      <td>1.473921</td>\n",
       "      <td>1.814470</td>\n",
       "      <td>-0.158404</td>\n",
       "      <td>-0.311191</td>\n",
       "      <td>0.552775</td>\n",
       "    </tr>\n",
       "    <tr>\n",
       "      <th>1990-01-07</th>\n",
       "      <td>0.068822</td>\n",
       "      <td>0.515314</td>\n",
       "      <td>-0.532632</td>\n",
       "      <td>-0.811078</td>\n",
       "      <td>-0.586109</td>\n",
       "      <td>0.783445</td>\n",
       "      <td>-1.068010</td>\n",
       "    </tr>\n",
       "    <tr>\n",
       "      <th>1990-01-08</th>\n",
       "      <td>-0.029164</td>\n",
       "      <td>0.149199</td>\n",
       "      <td>1.094048</td>\n",
       "      <td>-1.405978</td>\n",
       "      <td>-0.694015</td>\n",
       "      <td>-2.200626</td>\n",
       "      <td>-0.301170</td>\n",
       "    </tr>\n",
       "    <tr>\n",
       "      <th>1990-01-09</th>\n",
       "      <td>1.031058</td>\n",
       "      <td>-2.709403</td>\n",
       "      <td>-0.704999</td>\n",
       "      <td>0.770929</td>\n",
       "      <td>-1.083831</td>\n",
       "      <td>0.568859</td>\n",
       "      <td>-0.487857</td>\n",
       "    </tr>\n",
       "    <tr>\n",
       "      <th>1990-01-10</th>\n",
       "      <td>0.157411</td>\n",
       "      <td>1.236707</td>\n",
       "      <td>-1.152644</td>\n",
       "      <td>-0.669889</td>\n",
       "      <td>0.030575</td>\n",
       "      <td>0.604015</td>\n",
       "      <td>-0.449346</td>\n",
       "    </tr>\n",
       "    <tr>\n",
       "      <th>1990-01-11</th>\n",
       "      <td>0.167148</td>\n",
       "      <td>-0.857442</td>\n",
       "      <td>-1.607847</td>\n",
       "      <td>0.214819</td>\n",
       "      <td>0.569119</td>\n",
       "      <td>2.441606</td>\n",
       "      <td>-0.362325</td>\n",
       "    </tr>\n",
       "    <tr>\n",
       "      <th>1990-01-12</th>\n",
       "      <td>4.047040</td>\n",
       "      <td>-0.193401</td>\n",
       "      <td>1.301385</td>\n",
       "      <td>0.479371</td>\n",
       "      <td>0.133905</td>\n",
       "      <td>-1.226598</td>\n",
       "      <td>-2.642041</td>\n",
       "    </tr>\n",
       "    <tr>\n",
       "      <th>1990-01-13</th>\n",
       "      <td>-0.437886</td>\n",
       "      <td>0.362715</td>\n",
       "      <td>0.728041</td>\n",
       "      <td>-0.266579</td>\n",
       "      <td>0.500580</td>\n",
       "      <td>-0.419659</td>\n",
       "      <td>0.429236</td>\n",
       "    </tr>\n",
       "    <tr>\n",
       "      <th>1990-01-14</th>\n",
       "      <td>-0.455058</td>\n",
       "      <td>-0.150104</td>\n",
       "      <td>-1.047409</td>\n",
       "      <td>-0.308258</td>\n",
       "      <td>-1.734136</td>\n",
       "      <td>1.641054</td>\n",
       "      <td>-0.516483</td>\n",
       "    </tr>\n",
       "    <tr>\n",
       "      <th>1990-01-15</th>\n",
       "      <td>-2.225380</td>\n",
       "      <td>-0.266270</td>\n",
       "      <td>3.038718</td>\n",
       "      <td>-0.800371</td>\n",
       "      <td>-0.172869</td>\n",
       "      <td>0.894110</td>\n",
       "      <td>-0.816712</td>\n",
       "    </tr>\n",
       "    <tr>\n",
       "      <th>1990-01-16</th>\n",
       "      <td>-1.306015</td>\n",
       "      <td>-1.358212</td>\n",
       "      <td>0.886524</td>\n",
       "      <td>0.487001</td>\n",
       "      <td>1.028081</td>\n",
       "      <td>-1.047636</td>\n",
       "      <td>1.405344</td>\n",
       "    </tr>\n",
       "    <tr>\n",
       "      <th>1990-01-17</th>\n",
       "      <td>0.908162</td>\n",
       "      <td>-0.345066</td>\n",
       "      <td>0.329037</td>\n",
       "      <td>-0.148751</td>\n",
       "      <td>-0.827649</td>\n",
       "      <td>-0.021842</td>\n",
       "      <td>-0.393424</td>\n",
       "    </tr>\n",
       "    <tr>\n",
       "      <th>1990-01-18</th>\n",
       "      <td>-0.809295</td>\n",
       "      <td>0.273379</td>\n",
       "      <td>1.893833</td>\n",
       "      <td>-0.304442</td>\n",
       "      <td>0.363624</td>\n",
       "      <td>-1.179080</td>\n",
       "      <td>0.418394</td>\n",
       "    </tr>\n",
       "    <tr>\n",
       "      <th>1990-01-19</th>\n",
       "      <td>-1.007396</td>\n",
       "      <td>-1.315641</td>\n",
       "      <td>-0.340901</td>\n",
       "      <td>0.795873</td>\n",
       "      <td>-1.060791</td>\n",
       "      <td>-0.838686</td>\n",
       "      <td>0.857014</td>\n",
       "    </tr>\n",
       "    <tr>\n",
       "      <th>1990-01-20</th>\n",
       "      <td>1.448563</td>\n",
       "      <td>0.615205</td>\n",
       "      <td>-0.121039</td>\n",
       "      <td>-1.105176</td>\n",
       "      <td>-0.829918</td>\n",
       "      <td>-1.627442</td>\n",
       "      <td>0.082096</td>\n",
       "    </tr>\n",
       "  </tbody>\n",
       "</table>\n",
       "</div>"
      ],
      "text/plain": [
       "                   A         B         C         E         X         Y  \\\n",
       "1990-01-01  0.691133  0.080478 -0.425175 -1.519217 -1.504297 -0.497605   \n",
       "1990-01-02  0.108330  0.675414  2.550257  0.103392 -0.153872  0.437419   \n",
       "1990-01-03  0.297155  3.268064  0.211028 -0.992803 -0.581287  0.489401   \n",
       "1990-01-04 -0.925841  0.553218  0.973023  0.170026 -0.447368 -1.128693   \n",
       "1990-01-05 -1.959059  0.064268 -0.010302 -1.911503 -1.374553 -0.193295   \n",
       "1990-01-06 -0.368144  0.851787  1.473921  1.814470 -0.158404 -0.311191   \n",
       "1990-01-07  0.068822  0.515314 -0.532632 -0.811078 -0.586109  0.783445   \n",
       "1990-01-08 -0.029164  0.149199  1.094048 -1.405978 -0.694015 -2.200626   \n",
       "1990-01-09  1.031058 -2.709403 -0.704999  0.770929 -1.083831  0.568859   \n",
       "1990-01-10  0.157411  1.236707 -1.152644 -0.669889  0.030575  0.604015   \n",
       "1990-01-11  0.167148 -0.857442 -1.607847  0.214819  0.569119  2.441606   \n",
       "1990-01-12  4.047040 -0.193401  1.301385  0.479371  0.133905 -1.226598   \n",
       "1990-01-13 -0.437886  0.362715  0.728041 -0.266579  0.500580 -0.419659   \n",
       "1990-01-14 -0.455058 -0.150104 -1.047409 -0.308258 -1.734136  1.641054   \n",
       "1990-01-15 -2.225380 -0.266270  3.038718 -0.800371 -0.172869  0.894110   \n",
       "1990-01-16 -1.306015 -1.358212  0.886524  0.487001  1.028081 -1.047636   \n",
       "1990-01-17  0.908162 -0.345066  0.329037 -0.148751 -0.827649 -0.021842   \n",
       "1990-01-18 -0.809295  0.273379  1.893833 -0.304442  0.363624 -1.179080   \n",
       "1990-01-19 -1.007396 -1.315641 -0.340901  0.795873 -1.060791 -0.838686   \n",
       "1990-01-20  1.448563  0.615205 -0.121039 -1.105176 -0.829918 -1.627442   \n",
       "\n",
       "                   Z  \n",
       "1990-01-01 -0.476438  \n",
       "1990-01-02  0.632337  \n",
       "1990-01-03 -0.085446  \n",
       "1990-01-04  0.464153  \n",
       "1990-01-05  0.527016  \n",
       "1990-01-06  0.552775  \n",
       "1990-01-07 -1.068010  \n",
       "1990-01-08 -0.301170  \n",
       "1990-01-09 -0.487857  \n",
       "1990-01-10 -0.449346  \n",
       "1990-01-11 -0.362325  \n",
       "1990-01-12 -2.642041  \n",
       "1990-01-13  0.429236  \n",
       "1990-01-14 -0.516483  \n",
       "1990-01-15 -0.816712  \n",
       "1990-01-16  1.405344  \n",
       "1990-01-17 -0.393424  \n",
       "1990-01-18  0.418394  \n",
       "1990-01-19  0.857014  \n",
       "1990-01-20  0.082096  "
      ]
     },
     "execution_count": 12,
     "metadata": {},
     "output_type": "execute_result"
    }
   ],
   "source": [
    "df = pd.DataFrame(np.random.randn(20,7), index=dates, columns=list('ABCEXYZ'))\n",
    "df"
   ]
  },
  {
   "cell_type": "code",
   "execution_count": 13,
   "metadata": {},
   "outputs": [
    {
     "data": {
      "text/html": [
       "<div>\n",
       "<style scoped>\n",
       "    .dataframe tbody tr th:only-of-type {\n",
       "        vertical-align: middle;\n",
       "    }\n",
       "\n",
       "    .dataframe tbody tr th {\n",
       "        vertical-align: top;\n",
       "    }\n",
       "\n",
       "    .dataframe thead th {\n",
       "        text-align: right;\n",
       "    }\n",
       "</style>\n",
       "<table border=\"1\" class=\"dataframe\">\n",
       "  <thead>\n",
       "    <tr style=\"text-align: right;\">\n",
       "      <th></th>\n",
       "      <th>X</th>\n",
       "      <th>Y</th>\n",
       "      <th>Z</th>\n",
       "    </tr>\n",
       "  </thead>\n",
       "  <tbody>\n",
       "    <tr>\n",
       "      <th>0</th>\n",
       "      <td>Name</td>\n",
       "      <td>1890-01-03</td>\n",
       "      <td>5</td>\n",
       "    </tr>\n",
       "    <tr>\n",
       "      <th>1</th>\n",
       "      <td>Name</td>\n",
       "      <td>1890-01-03</td>\n",
       "      <td>5</td>\n",
       "    </tr>\n",
       "    <tr>\n",
       "      <th>2</th>\n",
       "      <td>Name</td>\n",
       "      <td>1890-01-03</td>\n",
       "      <td>5</td>\n",
       "    </tr>\n",
       "    <tr>\n",
       "      <th>3</th>\n",
       "      <td>Name</td>\n",
       "      <td>1890-01-03</td>\n",
       "      <td>5</td>\n",
       "    </tr>\n",
       "  </tbody>\n",
       "</table>\n",
       "</div>"
      ],
      "text/plain": [
       "      X          Y  Z\n",
       "0  Name 1890-01-03  5\n",
       "1  Name 1890-01-03  5\n",
       "2  Name 1890-01-03  5\n",
       "3  Name 1890-01-03  5"
      ]
     },
     "execution_count": 13,
     "metadata": {},
     "output_type": "execute_result"
    }
   ],
   "source": [
    "df1 = pd.DataFrame({'X' : \"Name\",\n",
    "                    'Y' : pd.Timestamp('18900103'),\n",
    "                    'Z' : pd.Series([5]*4, dtype = \"int32\")\n",
    "                   })\n",
    "\n",
    "df1"
   ]
  },
  {
   "cell_type": "code",
   "execution_count": 418,
   "metadata": {},
   "outputs": [
    {
     "data": {
      "text/plain": [
       "X            object\n",
       "Y    datetime64[ns]\n",
       "Z             int32\n",
       "dtype: object"
      ]
     },
     "execution_count": 418,
     "metadata": {},
     "output_type": "execute_result"
    }
   ],
   "source": [
    "df1.dtypes"
   ]
  },
  {
   "cell_type": "markdown",
   "metadata": {},
   "source": [
    "# 12. Viewing Data"
   ]
  },
  {
   "cell_type": "markdown",
   "metadata": {},
   "source": [
    "- We can view data / display data in different ways:\n",
    "- See the top & bottom rows of the frame\n",
    "- Selecting a single column\n",
    "- Selecting via [], which slices the rows.\n",
    "- For getting a cross section using a label.\n",
    "- Selecting on a multi-axis by label.\n",
    "- Showing label slicing, both endpoints are included.\n",
    "- Reduction in the dimensions of the returned object.\n",
    "- For getting a scalar value.\n",
    "- For getting fast access to a scalar.\n",
    "- Select via the position of the passed integers.\n",
    "- By integer slices, acting similar to numpy/python.\n",
    "- By lists of integer position locations, similar to the numpy/python style.\n",
    "- For slicing rows explicitly.\n",
    "- For slicing columns explicitly.\n",
    "- For getting a value explicitly.\n",
    "- For getting fast access to a scalar.\n",
    "- Using a single column’s values to select data.\n",
    "- Selecting values from a DataFrame where a boolean condition is met.\n",
    "- Using the isin() method for filtering."
   ]
  },
  {
   "cell_type": "markdown",
   "metadata": {},
   "source": [
    "#### Note that if we dont write the number in parenthesis than it will automatically generate first 5 rows from a data frame"
   ]
  },
  {
   "cell_type": "code",
   "execution_count": 16,
   "metadata": {},
   "outputs": [
    {
     "data": {
      "text/html": [
       "<div>\n",
       "<style scoped>\n",
       "    .dataframe tbody tr th:only-of-type {\n",
       "        vertical-align: middle;\n",
       "    }\n",
       "\n",
       "    .dataframe tbody tr th {\n",
       "        vertical-align: top;\n",
       "    }\n",
       "\n",
       "    .dataframe thead th {\n",
       "        text-align: right;\n",
       "    }\n",
       "</style>\n",
       "<table border=\"1\" class=\"dataframe\">\n",
       "  <thead>\n",
       "    <tr style=\"text-align: right;\">\n",
       "      <th></th>\n",
       "      <th>A</th>\n",
       "      <th>B</th>\n",
       "      <th>C</th>\n",
       "      <th>E</th>\n",
       "      <th>X</th>\n",
       "      <th>Y</th>\n",
       "      <th>Z</th>\n",
       "    </tr>\n",
       "  </thead>\n",
       "  <tbody>\n",
       "    <tr>\n",
       "      <th>1990-01-01</th>\n",
       "      <td>0.691133</td>\n",
       "      <td>0.080478</td>\n",
       "      <td>-0.425175</td>\n",
       "      <td>-1.519217</td>\n",
       "      <td>-1.504297</td>\n",
       "      <td>-0.497605</td>\n",
       "      <td>-0.476438</td>\n",
       "    </tr>\n",
       "    <tr>\n",
       "      <th>1990-01-02</th>\n",
       "      <td>0.108330</td>\n",
       "      <td>0.675414</td>\n",
       "      <td>2.550257</td>\n",
       "      <td>0.103392</td>\n",
       "      <td>-0.153872</td>\n",
       "      <td>0.437419</td>\n",
       "      <td>0.632337</td>\n",
       "    </tr>\n",
       "    <tr>\n",
       "      <th>1990-01-03</th>\n",
       "      <td>0.297155</td>\n",
       "      <td>3.268064</td>\n",
       "      <td>0.211028</td>\n",
       "      <td>-0.992803</td>\n",
       "      <td>-0.581287</td>\n",
       "      <td>0.489401</td>\n",
       "      <td>-0.085446</td>\n",
       "    </tr>\n",
       "    <tr>\n",
       "      <th>1990-01-04</th>\n",
       "      <td>-0.925841</td>\n",
       "      <td>0.553218</td>\n",
       "      <td>0.973023</td>\n",
       "      <td>0.170026</td>\n",
       "      <td>-0.447368</td>\n",
       "      <td>-1.128693</td>\n",
       "      <td>0.464153</td>\n",
       "    </tr>\n",
       "    <tr>\n",
       "      <th>1990-01-05</th>\n",
       "      <td>-1.959059</td>\n",
       "      <td>0.064268</td>\n",
       "      <td>-0.010302</td>\n",
       "      <td>-1.911503</td>\n",
       "      <td>-1.374553</td>\n",
       "      <td>-0.193295</td>\n",
       "      <td>0.527016</td>\n",
       "    </tr>\n",
       "    <tr>\n",
       "      <th>1990-01-06</th>\n",
       "      <td>-0.368144</td>\n",
       "      <td>0.851787</td>\n",
       "      <td>1.473921</td>\n",
       "      <td>1.814470</td>\n",
       "      <td>-0.158404</td>\n",
       "      <td>-0.311191</td>\n",
       "      <td>0.552775</td>\n",
       "    </tr>\n",
       "    <tr>\n",
       "      <th>1990-01-07</th>\n",
       "      <td>0.068822</td>\n",
       "      <td>0.515314</td>\n",
       "      <td>-0.532632</td>\n",
       "      <td>-0.811078</td>\n",
       "      <td>-0.586109</td>\n",
       "      <td>0.783445</td>\n",
       "      <td>-1.068010</td>\n",
       "    </tr>\n",
       "    <tr>\n",
       "      <th>1990-01-08</th>\n",
       "      <td>-0.029164</td>\n",
       "      <td>0.149199</td>\n",
       "      <td>1.094048</td>\n",
       "      <td>-1.405978</td>\n",
       "      <td>-0.694015</td>\n",
       "      <td>-2.200626</td>\n",
       "      <td>-0.301170</td>\n",
       "    </tr>\n",
       "    <tr>\n",
       "      <th>1990-01-09</th>\n",
       "      <td>1.031058</td>\n",
       "      <td>-2.709403</td>\n",
       "      <td>-0.704999</td>\n",
       "      <td>0.770929</td>\n",
       "      <td>-1.083831</td>\n",
       "      <td>0.568859</td>\n",
       "      <td>-0.487857</td>\n",
       "    </tr>\n",
       "    <tr>\n",
       "      <th>1990-01-10</th>\n",
       "      <td>0.157411</td>\n",
       "      <td>1.236707</td>\n",
       "      <td>-1.152644</td>\n",
       "      <td>-0.669889</td>\n",
       "      <td>0.030575</td>\n",
       "      <td>0.604015</td>\n",
       "      <td>-0.449346</td>\n",
       "    </tr>\n",
       "    <tr>\n",
       "      <th>1990-01-11</th>\n",
       "      <td>0.167148</td>\n",
       "      <td>-0.857442</td>\n",
       "      <td>-1.607847</td>\n",
       "      <td>0.214819</td>\n",
       "      <td>0.569119</td>\n",
       "      <td>2.441606</td>\n",
       "      <td>-0.362325</td>\n",
       "    </tr>\n",
       "    <tr>\n",
       "      <th>1990-01-12</th>\n",
       "      <td>4.047040</td>\n",
       "      <td>-0.193401</td>\n",
       "      <td>1.301385</td>\n",
       "      <td>0.479371</td>\n",
       "      <td>0.133905</td>\n",
       "      <td>-1.226598</td>\n",
       "      <td>-2.642041</td>\n",
       "    </tr>\n",
       "    <tr>\n",
       "      <th>1990-01-13</th>\n",
       "      <td>-0.437886</td>\n",
       "      <td>0.362715</td>\n",
       "      <td>0.728041</td>\n",
       "      <td>-0.266579</td>\n",
       "      <td>0.500580</td>\n",
       "      <td>-0.419659</td>\n",
       "      <td>0.429236</td>\n",
       "    </tr>\n",
       "    <tr>\n",
       "      <th>1990-01-14</th>\n",
       "      <td>-0.455058</td>\n",
       "      <td>-0.150104</td>\n",
       "      <td>-1.047409</td>\n",
       "      <td>-0.308258</td>\n",
       "      <td>-1.734136</td>\n",
       "      <td>1.641054</td>\n",
       "      <td>-0.516483</td>\n",
       "    </tr>\n",
       "    <tr>\n",
       "      <th>1990-01-15</th>\n",
       "      <td>-2.225380</td>\n",
       "      <td>-0.266270</td>\n",
       "      <td>3.038718</td>\n",
       "      <td>-0.800371</td>\n",
       "      <td>-0.172869</td>\n",
       "      <td>0.894110</td>\n",
       "      <td>-0.816712</td>\n",
       "    </tr>\n",
       "  </tbody>\n",
       "</table>\n",
       "</div>"
      ],
      "text/plain": [
       "                   A         B         C         E         X         Y  \\\n",
       "1990-01-01  0.691133  0.080478 -0.425175 -1.519217 -1.504297 -0.497605   \n",
       "1990-01-02  0.108330  0.675414  2.550257  0.103392 -0.153872  0.437419   \n",
       "1990-01-03  0.297155  3.268064  0.211028 -0.992803 -0.581287  0.489401   \n",
       "1990-01-04 -0.925841  0.553218  0.973023  0.170026 -0.447368 -1.128693   \n",
       "1990-01-05 -1.959059  0.064268 -0.010302 -1.911503 -1.374553 -0.193295   \n",
       "1990-01-06 -0.368144  0.851787  1.473921  1.814470 -0.158404 -0.311191   \n",
       "1990-01-07  0.068822  0.515314 -0.532632 -0.811078 -0.586109  0.783445   \n",
       "1990-01-08 -0.029164  0.149199  1.094048 -1.405978 -0.694015 -2.200626   \n",
       "1990-01-09  1.031058 -2.709403 -0.704999  0.770929 -1.083831  0.568859   \n",
       "1990-01-10  0.157411  1.236707 -1.152644 -0.669889  0.030575  0.604015   \n",
       "1990-01-11  0.167148 -0.857442 -1.607847  0.214819  0.569119  2.441606   \n",
       "1990-01-12  4.047040 -0.193401  1.301385  0.479371  0.133905 -1.226598   \n",
       "1990-01-13 -0.437886  0.362715  0.728041 -0.266579  0.500580 -0.419659   \n",
       "1990-01-14 -0.455058 -0.150104 -1.047409 -0.308258 -1.734136  1.641054   \n",
       "1990-01-15 -2.225380 -0.266270  3.038718 -0.800371 -0.172869  0.894110   \n",
       "\n",
       "                   Z  \n",
       "1990-01-01 -0.476438  \n",
       "1990-01-02  0.632337  \n",
       "1990-01-03 -0.085446  \n",
       "1990-01-04  0.464153  \n",
       "1990-01-05  0.527016  \n",
       "1990-01-06  0.552775  \n",
       "1990-01-07 -1.068010  \n",
       "1990-01-08 -0.301170  \n",
       "1990-01-09 -0.487857  \n",
       "1990-01-10 -0.449346  \n",
       "1990-01-11 -0.362325  \n",
       "1990-01-12 -2.642041  \n",
       "1990-01-13  0.429236  \n",
       "1990-01-14 -0.516483  \n",
       "1990-01-15 -0.816712  "
      ]
     },
     "execution_count": 16,
     "metadata": {},
     "output_type": "execute_result"
    }
   ],
   "source": [
    "df.head(15)"
   ]
  },
  {
   "cell_type": "markdown",
   "metadata": {},
   "source": [
    "####  It will access values from the last"
   ]
  },
  {
   "cell_type": "code",
   "execution_count": 17,
   "metadata": {},
   "outputs": [
    {
     "data": {
      "text/html": [
       "<div>\n",
       "<style scoped>\n",
       "    .dataframe tbody tr th:only-of-type {\n",
       "        vertical-align: middle;\n",
       "    }\n",
       "\n",
       "    .dataframe tbody tr th {\n",
       "        vertical-align: top;\n",
       "    }\n",
       "\n",
       "    .dataframe thead th {\n",
       "        text-align: right;\n",
       "    }\n",
       "</style>\n",
       "<table border=\"1\" class=\"dataframe\">\n",
       "  <thead>\n",
       "    <tr style=\"text-align: right;\">\n",
       "      <th></th>\n",
       "      <th>A</th>\n",
       "      <th>B</th>\n",
       "      <th>C</th>\n",
       "      <th>E</th>\n",
       "      <th>X</th>\n",
       "      <th>Y</th>\n",
       "      <th>Z</th>\n",
       "    </tr>\n",
       "  </thead>\n",
       "  <tbody>\n",
       "    <tr>\n",
       "      <th>1990-01-06</th>\n",
       "      <td>-0.368144</td>\n",
       "      <td>0.851787</td>\n",
       "      <td>1.473921</td>\n",
       "      <td>1.814470</td>\n",
       "      <td>-0.158404</td>\n",
       "      <td>-0.311191</td>\n",
       "      <td>0.552775</td>\n",
       "    </tr>\n",
       "    <tr>\n",
       "      <th>1990-01-07</th>\n",
       "      <td>0.068822</td>\n",
       "      <td>0.515314</td>\n",
       "      <td>-0.532632</td>\n",
       "      <td>-0.811078</td>\n",
       "      <td>-0.586109</td>\n",
       "      <td>0.783445</td>\n",
       "      <td>-1.068010</td>\n",
       "    </tr>\n",
       "    <tr>\n",
       "      <th>1990-01-08</th>\n",
       "      <td>-0.029164</td>\n",
       "      <td>0.149199</td>\n",
       "      <td>1.094048</td>\n",
       "      <td>-1.405978</td>\n",
       "      <td>-0.694015</td>\n",
       "      <td>-2.200626</td>\n",
       "      <td>-0.301170</td>\n",
       "    </tr>\n",
       "    <tr>\n",
       "      <th>1990-01-09</th>\n",
       "      <td>1.031058</td>\n",
       "      <td>-2.709403</td>\n",
       "      <td>-0.704999</td>\n",
       "      <td>0.770929</td>\n",
       "      <td>-1.083831</td>\n",
       "      <td>0.568859</td>\n",
       "      <td>-0.487857</td>\n",
       "    </tr>\n",
       "    <tr>\n",
       "      <th>1990-01-10</th>\n",
       "      <td>0.157411</td>\n",
       "      <td>1.236707</td>\n",
       "      <td>-1.152644</td>\n",
       "      <td>-0.669889</td>\n",
       "      <td>0.030575</td>\n",
       "      <td>0.604015</td>\n",
       "      <td>-0.449346</td>\n",
       "    </tr>\n",
       "    <tr>\n",
       "      <th>1990-01-11</th>\n",
       "      <td>0.167148</td>\n",
       "      <td>-0.857442</td>\n",
       "      <td>-1.607847</td>\n",
       "      <td>0.214819</td>\n",
       "      <td>0.569119</td>\n",
       "      <td>2.441606</td>\n",
       "      <td>-0.362325</td>\n",
       "    </tr>\n",
       "    <tr>\n",
       "      <th>1990-01-12</th>\n",
       "      <td>4.047040</td>\n",
       "      <td>-0.193401</td>\n",
       "      <td>1.301385</td>\n",
       "      <td>0.479371</td>\n",
       "      <td>0.133905</td>\n",
       "      <td>-1.226598</td>\n",
       "      <td>-2.642041</td>\n",
       "    </tr>\n",
       "    <tr>\n",
       "      <th>1990-01-13</th>\n",
       "      <td>-0.437886</td>\n",
       "      <td>0.362715</td>\n",
       "      <td>0.728041</td>\n",
       "      <td>-0.266579</td>\n",
       "      <td>0.500580</td>\n",
       "      <td>-0.419659</td>\n",
       "      <td>0.429236</td>\n",
       "    </tr>\n",
       "    <tr>\n",
       "      <th>1990-01-14</th>\n",
       "      <td>-0.455058</td>\n",
       "      <td>-0.150104</td>\n",
       "      <td>-1.047409</td>\n",
       "      <td>-0.308258</td>\n",
       "      <td>-1.734136</td>\n",
       "      <td>1.641054</td>\n",
       "      <td>-0.516483</td>\n",
       "    </tr>\n",
       "    <tr>\n",
       "      <th>1990-01-15</th>\n",
       "      <td>-2.225380</td>\n",
       "      <td>-0.266270</td>\n",
       "      <td>3.038718</td>\n",
       "      <td>-0.800371</td>\n",
       "      <td>-0.172869</td>\n",
       "      <td>0.894110</td>\n",
       "      <td>-0.816712</td>\n",
       "    </tr>\n",
       "    <tr>\n",
       "      <th>1990-01-16</th>\n",
       "      <td>-1.306015</td>\n",
       "      <td>-1.358212</td>\n",
       "      <td>0.886524</td>\n",
       "      <td>0.487001</td>\n",
       "      <td>1.028081</td>\n",
       "      <td>-1.047636</td>\n",
       "      <td>1.405344</td>\n",
       "    </tr>\n",
       "    <tr>\n",
       "      <th>1990-01-17</th>\n",
       "      <td>0.908162</td>\n",
       "      <td>-0.345066</td>\n",
       "      <td>0.329037</td>\n",
       "      <td>-0.148751</td>\n",
       "      <td>-0.827649</td>\n",
       "      <td>-0.021842</td>\n",
       "      <td>-0.393424</td>\n",
       "    </tr>\n",
       "    <tr>\n",
       "      <th>1990-01-18</th>\n",
       "      <td>-0.809295</td>\n",
       "      <td>0.273379</td>\n",
       "      <td>1.893833</td>\n",
       "      <td>-0.304442</td>\n",
       "      <td>0.363624</td>\n",
       "      <td>-1.179080</td>\n",
       "      <td>0.418394</td>\n",
       "    </tr>\n",
       "    <tr>\n",
       "      <th>1990-01-19</th>\n",
       "      <td>-1.007396</td>\n",
       "      <td>-1.315641</td>\n",
       "      <td>-0.340901</td>\n",
       "      <td>0.795873</td>\n",
       "      <td>-1.060791</td>\n",
       "      <td>-0.838686</td>\n",
       "      <td>0.857014</td>\n",
       "    </tr>\n",
       "    <tr>\n",
       "      <th>1990-01-20</th>\n",
       "      <td>1.448563</td>\n",
       "      <td>0.615205</td>\n",
       "      <td>-0.121039</td>\n",
       "      <td>-1.105176</td>\n",
       "      <td>-0.829918</td>\n",
       "      <td>-1.627442</td>\n",
       "      <td>0.082096</td>\n",
       "    </tr>\n",
       "  </tbody>\n",
       "</table>\n",
       "</div>"
      ],
      "text/plain": [
       "                   A         B         C         E         X         Y  \\\n",
       "1990-01-06 -0.368144  0.851787  1.473921  1.814470 -0.158404 -0.311191   \n",
       "1990-01-07  0.068822  0.515314 -0.532632 -0.811078 -0.586109  0.783445   \n",
       "1990-01-08 -0.029164  0.149199  1.094048 -1.405978 -0.694015 -2.200626   \n",
       "1990-01-09  1.031058 -2.709403 -0.704999  0.770929 -1.083831  0.568859   \n",
       "1990-01-10  0.157411  1.236707 -1.152644 -0.669889  0.030575  0.604015   \n",
       "1990-01-11  0.167148 -0.857442 -1.607847  0.214819  0.569119  2.441606   \n",
       "1990-01-12  4.047040 -0.193401  1.301385  0.479371  0.133905 -1.226598   \n",
       "1990-01-13 -0.437886  0.362715  0.728041 -0.266579  0.500580 -0.419659   \n",
       "1990-01-14 -0.455058 -0.150104 -1.047409 -0.308258 -1.734136  1.641054   \n",
       "1990-01-15 -2.225380 -0.266270  3.038718 -0.800371 -0.172869  0.894110   \n",
       "1990-01-16 -1.306015 -1.358212  0.886524  0.487001  1.028081 -1.047636   \n",
       "1990-01-17  0.908162 -0.345066  0.329037 -0.148751 -0.827649 -0.021842   \n",
       "1990-01-18 -0.809295  0.273379  1.893833 -0.304442  0.363624 -1.179080   \n",
       "1990-01-19 -1.007396 -1.315641 -0.340901  0.795873 -1.060791 -0.838686   \n",
       "1990-01-20  1.448563  0.615205 -0.121039 -1.105176 -0.829918 -1.627442   \n",
       "\n",
       "                   Z  \n",
       "1990-01-06  0.552775  \n",
       "1990-01-07 -1.068010  \n",
       "1990-01-08 -0.301170  \n",
       "1990-01-09 -0.487857  \n",
       "1990-01-10 -0.449346  \n",
       "1990-01-11 -0.362325  \n",
       "1990-01-12 -2.642041  \n",
       "1990-01-13  0.429236  \n",
       "1990-01-14 -0.516483  \n",
       "1990-01-15 -0.816712  \n",
       "1990-01-16  1.405344  \n",
       "1990-01-17 -0.393424  \n",
       "1990-01-18  0.418394  \n",
       "1990-01-19  0.857014  \n",
       "1990-01-20  0.082096  "
      ]
     },
     "execution_count": 17,
     "metadata": {},
     "output_type": "execute_result"
    }
   ],
   "source": [
    "df.tail(15)"
   ]
  },
  {
   "cell_type": "code",
   "execution_count": 18,
   "metadata": {},
   "outputs": [
    {
     "data": {
      "text/plain": [
       "DatetimeIndex(['1990-01-01', '1990-01-02', '1990-01-03', '1990-01-04',\n",
       "               '1990-01-05', '1990-01-06', '1990-01-07', '1990-01-08',\n",
       "               '1990-01-09', '1990-01-10', '1990-01-11', '1990-01-12',\n",
       "               '1990-01-13', '1990-01-14', '1990-01-15', '1990-01-16',\n",
       "               '1990-01-17', '1990-01-18', '1990-01-19', '1990-01-20'],\n",
       "              dtype='datetime64[ns]', freq='D')"
      ]
     },
     "execution_count": 18,
     "metadata": {},
     "output_type": "execute_result"
    }
   ],
   "source": [
    "df.index"
   ]
  },
  {
   "cell_type": "code",
   "execution_count": 19,
   "metadata": {},
   "outputs": [
    {
     "data": {
      "text/plain": [
       "array([[ 0.69113343,  0.08047815, -0.4251749 , -1.51921662, -1.50429664,\n",
       "        -0.49760532, -0.47643814],\n",
       "       [ 0.10832987,  0.67541363,  2.5502574 ,  0.10339214, -0.15387208,\n",
       "         0.43741895,  0.632337  ],\n",
       "       [ 0.29715454,  3.26806384,  0.21102777, -0.99280291, -0.58128674,\n",
       "         0.48940115, -0.08544624],\n",
       "       [-0.9258413 ,  0.55321804,  0.97302292,  0.17002606, -0.44736787,\n",
       "        -1.12869292,  0.46415332],\n",
       "       [-1.95905936,  0.06426841, -0.01030249, -1.91150282, -1.37455309,\n",
       "        -0.19329485,  0.52701575],\n",
       "       [-0.36814442,  0.85178717,  1.47392126,  1.81447016, -0.15840429,\n",
       "        -0.31119073,  0.55277496],\n",
       "       [ 0.06882195,  0.51531392, -0.53263197, -0.81107798, -0.58610866,\n",
       "         0.78344461, -1.06801021],\n",
       "       [-0.02916363,  0.14919935,  1.09404846, -1.40597808, -0.69401544,\n",
       "        -2.20062613, -0.30117038],\n",
       "       [ 1.03105817, -2.70940347, -0.70499938,  0.77092852, -1.08383145,\n",
       "         0.56885903, -0.48785654],\n",
       "       [ 0.15741149,  1.2367071 , -1.15264414, -0.66988934,  0.03057528,\n",
       "         0.60401493, -0.4493465 ],\n",
       "       [ 0.16714825, -0.85744202, -1.6078473 ,  0.21481883,  0.56911943,\n",
       "         2.4416056 , -0.36232483],\n",
       "       [ 4.04704019, -0.19340072,  1.30138511,  0.47937053,  0.13390535,\n",
       "        -1.22659845, -2.64204143],\n",
       "       [-0.43788597,  0.36271497,  0.72804146, -0.26657911,  0.50057967,\n",
       "        -0.41965901,  0.42923581],\n",
       "       [-0.45505811, -0.1501037 , -1.04740912, -0.3082577 , -1.73413571,\n",
       "         1.64105412, -0.51648328],\n",
       "       [-2.2253804 , -0.26626952,  3.03871808, -0.80037116, -0.17286872,\n",
       "         0.89411045, -0.81671177],\n",
       "       [-1.30601497, -1.3582124 ,  0.88652439,  0.48700058,  1.02808085,\n",
       "        -1.04763555,  1.40534369],\n",
       "       [ 0.90816212, -0.34506625,  0.32903732, -0.14875067, -0.82764901,\n",
       "        -0.02184175, -0.3934239 ],\n",
       "       [-0.80929467,  0.27337948,  1.89383261, -0.30444166,  0.36362417,\n",
       "        -1.17907969,  0.41839396],\n",
       "       [-1.00739583, -1.31564093, -0.34090091,  0.79587339, -1.0607909 ,\n",
       "        -0.83868638,  0.85701364],\n",
       "       [ 1.44856278,  0.61520453, -0.12103911, -1.10517558, -0.82991805,\n",
       "        -1.62744219,  0.08209551]])"
      ]
     },
     "execution_count": 19,
     "metadata": {},
     "output_type": "execute_result"
    }
   ],
   "source": [
    "df.values"
   ]
  },
  {
   "cell_type": "code",
   "execution_count": 20,
   "metadata": {},
   "outputs": [
    {
     "data": {
      "text/plain": [
       "Index(['A', 'B', 'C', 'E', 'X', 'Y', 'Z'], dtype='object')"
      ]
     },
     "execution_count": 20,
     "metadata": {},
     "output_type": "execute_result"
    }
   ],
   "source": [
    "df.columns"
   ]
  },
  {
   "cell_type": "code",
   "execution_count": 21,
   "metadata": {},
   "outputs": [
    {
     "data": {
      "text/html": [
       "<div>\n",
       "<style scoped>\n",
       "    .dataframe tbody tr th:only-of-type {\n",
       "        vertical-align: middle;\n",
       "    }\n",
       "\n",
       "    .dataframe tbody tr th {\n",
       "        vertical-align: top;\n",
       "    }\n",
       "\n",
       "    .dataframe thead th {\n",
       "        text-align: right;\n",
       "    }\n",
       "</style>\n",
       "<table border=\"1\" class=\"dataframe\">\n",
       "  <thead>\n",
       "    <tr style=\"text-align: right;\">\n",
       "      <th></th>\n",
       "      <th>A</th>\n",
       "      <th>B</th>\n",
       "      <th>C</th>\n",
       "      <th>E</th>\n",
       "      <th>X</th>\n",
       "      <th>Y</th>\n",
       "      <th>Z</th>\n",
       "    </tr>\n",
       "  </thead>\n",
       "  <tbody>\n",
       "    <tr>\n",
       "      <th>1990-01-09</th>\n",
       "      <td>1.031058</td>\n",
       "      <td>-2.709403</td>\n",
       "      <td>-0.704999</td>\n",
       "      <td>0.770929</td>\n",
       "      <td>-1.083831</td>\n",
       "      <td>0.568859</td>\n",
       "      <td>-0.487857</td>\n",
       "    </tr>\n",
       "    <tr>\n",
       "      <th>1990-01-16</th>\n",
       "      <td>-1.306015</td>\n",
       "      <td>-1.358212</td>\n",
       "      <td>0.886524</td>\n",
       "      <td>0.487001</td>\n",
       "      <td>1.028081</td>\n",
       "      <td>-1.047636</td>\n",
       "      <td>1.405344</td>\n",
       "    </tr>\n",
       "    <tr>\n",
       "      <th>1990-01-19</th>\n",
       "      <td>-1.007396</td>\n",
       "      <td>-1.315641</td>\n",
       "      <td>-0.340901</td>\n",
       "      <td>0.795873</td>\n",
       "      <td>-1.060791</td>\n",
       "      <td>-0.838686</td>\n",
       "      <td>0.857014</td>\n",
       "    </tr>\n",
       "    <tr>\n",
       "      <th>1990-01-11</th>\n",
       "      <td>0.167148</td>\n",
       "      <td>-0.857442</td>\n",
       "      <td>-1.607847</td>\n",
       "      <td>0.214819</td>\n",
       "      <td>0.569119</td>\n",
       "      <td>2.441606</td>\n",
       "      <td>-0.362325</td>\n",
       "    </tr>\n",
       "    <tr>\n",
       "      <th>1990-01-17</th>\n",
       "      <td>0.908162</td>\n",
       "      <td>-0.345066</td>\n",
       "      <td>0.329037</td>\n",
       "      <td>-0.148751</td>\n",
       "      <td>-0.827649</td>\n",
       "      <td>-0.021842</td>\n",
       "      <td>-0.393424</td>\n",
       "    </tr>\n",
       "    <tr>\n",
       "      <th>1990-01-15</th>\n",
       "      <td>-2.225380</td>\n",
       "      <td>-0.266270</td>\n",
       "      <td>3.038718</td>\n",
       "      <td>-0.800371</td>\n",
       "      <td>-0.172869</td>\n",
       "      <td>0.894110</td>\n",
       "      <td>-0.816712</td>\n",
       "    </tr>\n",
       "    <tr>\n",
       "      <th>1990-01-12</th>\n",
       "      <td>4.047040</td>\n",
       "      <td>-0.193401</td>\n",
       "      <td>1.301385</td>\n",
       "      <td>0.479371</td>\n",
       "      <td>0.133905</td>\n",
       "      <td>-1.226598</td>\n",
       "      <td>-2.642041</td>\n",
       "    </tr>\n",
       "    <tr>\n",
       "      <th>1990-01-14</th>\n",
       "      <td>-0.455058</td>\n",
       "      <td>-0.150104</td>\n",
       "      <td>-1.047409</td>\n",
       "      <td>-0.308258</td>\n",
       "      <td>-1.734136</td>\n",
       "      <td>1.641054</td>\n",
       "      <td>-0.516483</td>\n",
       "    </tr>\n",
       "    <tr>\n",
       "      <th>1990-01-05</th>\n",
       "      <td>-1.959059</td>\n",
       "      <td>0.064268</td>\n",
       "      <td>-0.010302</td>\n",
       "      <td>-1.911503</td>\n",
       "      <td>-1.374553</td>\n",
       "      <td>-0.193295</td>\n",
       "      <td>0.527016</td>\n",
       "    </tr>\n",
       "    <tr>\n",
       "      <th>1990-01-01</th>\n",
       "      <td>0.691133</td>\n",
       "      <td>0.080478</td>\n",
       "      <td>-0.425175</td>\n",
       "      <td>-1.519217</td>\n",
       "      <td>-1.504297</td>\n",
       "      <td>-0.497605</td>\n",
       "      <td>-0.476438</td>\n",
       "    </tr>\n",
       "    <tr>\n",
       "      <th>1990-01-08</th>\n",
       "      <td>-0.029164</td>\n",
       "      <td>0.149199</td>\n",
       "      <td>1.094048</td>\n",
       "      <td>-1.405978</td>\n",
       "      <td>-0.694015</td>\n",
       "      <td>-2.200626</td>\n",
       "      <td>-0.301170</td>\n",
       "    </tr>\n",
       "    <tr>\n",
       "      <th>1990-01-18</th>\n",
       "      <td>-0.809295</td>\n",
       "      <td>0.273379</td>\n",
       "      <td>1.893833</td>\n",
       "      <td>-0.304442</td>\n",
       "      <td>0.363624</td>\n",
       "      <td>-1.179080</td>\n",
       "      <td>0.418394</td>\n",
       "    </tr>\n",
       "    <tr>\n",
       "      <th>1990-01-13</th>\n",
       "      <td>-0.437886</td>\n",
       "      <td>0.362715</td>\n",
       "      <td>0.728041</td>\n",
       "      <td>-0.266579</td>\n",
       "      <td>0.500580</td>\n",
       "      <td>-0.419659</td>\n",
       "      <td>0.429236</td>\n",
       "    </tr>\n",
       "    <tr>\n",
       "      <th>1990-01-07</th>\n",
       "      <td>0.068822</td>\n",
       "      <td>0.515314</td>\n",
       "      <td>-0.532632</td>\n",
       "      <td>-0.811078</td>\n",
       "      <td>-0.586109</td>\n",
       "      <td>0.783445</td>\n",
       "      <td>-1.068010</td>\n",
       "    </tr>\n",
       "    <tr>\n",
       "      <th>1990-01-04</th>\n",
       "      <td>-0.925841</td>\n",
       "      <td>0.553218</td>\n",
       "      <td>0.973023</td>\n",
       "      <td>0.170026</td>\n",
       "      <td>-0.447368</td>\n",
       "      <td>-1.128693</td>\n",
       "      <td>0.464153</td>\n",
       "    </tr>\n",
       "    <tr>\n",
       "      <th>1990-01-20</th>\n",
       "      <td>1.448563</td>\n",
       "      <td>0.615205</td>\n",
       "      <td>-0.121039</td>\n",
       "      <td>-1.105176</td>\n",
       "      <td>-0.829918</td>\n",
       "      <td>-1.627442</td>\n",
       "      <td>0.082096</td>\n",
       "    </tr>\n",
       "    <tr>\n",
       "      <th>1990-01-02</th>\n",
       "      <td>0.108330</td>\n",
       "      <td>0.675414</td>\n",
       "      <td>2.550257</td>\n",
       "      <td>0.103392</td>\n",
       "      <td>-0.153872</td>\n",
       "      <td>0.437419</td>\n",
       "      <td>0.632337</td>\n",
       "    </tr>\n",
       "    <tr>\n",
       "      <th>1990-01-06</th>\n",
       "      <td>-0.368144</td>\n",
       "      <td>0.851787</td>\n",
       "      <td>1.473921</td>\n",
       "      <td>1.814470</td>\n",
       "      <td>-0.158404</td>\n",
       "      <td>-0.311191</td>\n",
       "      <td>0.552775</td>\n",
       "    </tr>\n",
       "    <tr>\n",
       "      <th>1990-01-10</th>\n",
       "      <td>0.157411</td>\n",
       "      <td>1.236707</td>\n",
       "      <td>-1.152644</td>\n",
       "      <td>-0.669889</td>\n",
       "      <td>0.030575</td>\n",
       "      <td>0.604015</td>\n",
       "      <td>-0.449346</td>\n",
       "    </tr>\n",
       "    <tr>\n",
       "      <th>1990-01-03</th>\n",
       "      <td>0.297155</td>\n",
       "      <td>3.268064</td>\n",
       "      <td>0.211028</td>\n",
       "      <td>-0.992803</td>\n",
       "      <td>-0.581287</td>\n",
       "      <td>0.489401</td>\n",
       "      <td>-0.085446</td>\n",
       "    </tr>\n",
       "  </tbody>\n",
       "</table>\n",
       "</div>"
      ],
      "text/plain": [
       "                   A         B         C         E         X         Y  \\\n",
       "1990-01-09  1.031058 -2.709403 -0.704999  0.770929 -1.083831  0.568859   \n",
       "1990-01-16 -1.306015 -1.358212  0.886524  0.487001  1.028081 -1.047636   \n",
       "1990-01-19 -1.007396 -1.315641 -0.340901  0.795873 -1.060791 -0.838686   \n",
       "1990-01-11  0.167148 -0.857442 -1.607847  0.214819  0.569119  2.441606   \n",
       "1990-01-17  0.908162 -0.345066  0.329037 -0.148751 -0.827649 -0.021842   \n",
       "1990-01-15 -2.225380 -0.266270  3.038718 -0.800371 -0.172869  0.894110   \n",
       "1990-01-12  4.047040 -0.193401  1.301385  0.479371  0.133905 -1.226598   \n",
       "1990-01-14 -0.455058 -0.150104 -1.047409 -0.308258 -1.734136  1.641054   \n",
       "1990-01-05 -1.959059  0.064268 -0.010302 -1.911503 -1.374553 -0.193295   \n",
       "1990-01-01  0.691133  0.080478 -0.425175 -1.519217 -1.504297 -0.497605   \n",
       "1990-01-08 -0.029164  0.149199  1.094048 -1.405978 -0.694015 -2.200626   \n",
       "1990-01-18 -0.809295  0.273379  1.893833 -0.304442  0.363624 -1.179080   \n",
       "1990-01-13 -0.437886  0.362715  0.728041 -0.266579  0.500580 -0.419659   \n",
       "1990-01-07  0.068822  0.515314 -0.532632 -0.811078 -0.586109  0.783445   \n",
       "1990-01-04 -0.925841  0.553218  0.973023  0.170026 -0.447368 -1.128693   \n",
       "1990-01-20  1.448563  0.615205 -0.121039 -1.105176 -0.829918 -1.627442   \n",
       "1990-01-02  0.108330  0.675414  2.550257  0.103392 -0.153872  0.437419   \n",
       "1990-01-06 -0.368144  0.851787  1.473921  1.814470 -0.158404 -0.311191   \n",
       "1990-01-10  0.157411  1.236707 -1.152644 -0.669889  0.030575  0.604015   \n",
       "1990-01-03  0.297155  3.268064  0.211028 -0.992803 -0.581287  0.489401   \n",
       "\n",
       "                   Z  \n",
       "1990-01-09 -0.487857  \n",
       "1990-01-16  1.405344  \n",
       "1990-01-19  0.857014  \n",
       "1990-01-11 -0.362325  \n",
       "1990-01-17 -0.393424  \n",
       "1990-01-15 -0.816712  \n",
       "1990-01-12 -2.642041  \n",
       "1990-01-14 -0.516483  \n",
       "1990-01-05  0.527016  \n",
       "1990-01-01 -0.476438  \n",
       "1990-01-08 -0.301170  \n",
       "1990-01-18  0.418394  \n",
       "1990-01-13  0.429236  \n",
       "1990-01-07 -1.068010  \n",
       "1990-01-04  0.464153  \n",
       "1990-01-20  0.082096  \n",
       "1990-01-02  0.632337  \n",
       "1990-01-06  0.552775  \n",
       "1990-01-10 -0.449346  \n",
       "1990-01-03 -0.085446  "
      ]
     },
     "execution_count": 21,
     "metadata": {},
     "output_type": "execute_result"
    }
   ],
   "source": [
    "df.sort_values(by = 'B')"
   ]
  },
  {
   "cell_type": "code",
   "execution_count": 22,
   "metadata": {},
   "outputs": [
    {
     "data": {
      "text/html": [
       "<div>\n",
       "<style scoped>\n",
       "    .dataframe tbody tr th:only-of-type {\n",
       "        vertical-align: middle;\n",
       "    }\n",
       "\n",
       "    .dataframe tbody tr th {\n",
       "        vertical-align: top;\n",
       "    }\n",
       "\n",
       "    .dataframe thead th {\n",
       "        text-align: right;\n",
       "    }\n",
       "</style>\n",
       "<table border=\"1\" class=\"dataframe\">\n",
       "  <thead>\n",
       "    <tr style=\"text-align: right;\">\n",
       "      <th></th>\n",
       "      <th>1990-01-01</th>\n",
       "      <th>1990-01-02</th>\n",
       "      <th>1990-01-03</th>\n",
       "      <th>1990-01-04</th>\n",
       "      <th>1990-01-05</th>\n",
       "      <th>1990-01-06</th>\n",
       "      <th>1990-01-07</th>\n",
       "      <th>1990-01-08</th>\n",
       "      <th>1990-01-09</th>\n",
       "      <th>1990-01-10</th>\n",
       "      <th>1990-01-11</th>\n",
       "      <th>1990-01-12</th>\n",
       "      <th>1990-01-13</th>\n",
       "      <th>1990-01-14</th>\n",
       "      <th>1990-01-15</th>\n",
       "      <th>1990-01-16</th>\n",
       "      <th>1990-01-17</th>\n",
       "      <th>1990-01-18</th>\n",
       "      <th>1990-01-19</th>\n",
       "      <th>1990-01-20</th>\n",
       "    </tr>\n",
       "  </thead>\n",
       "  <tbody>\n",
       "    <tr>\n",
       "      <th>A</th>\n",
       "      <td>0.691133</td>\n",
       "      <td>0.108330</td>\n",
       "      <td>0.297155</td>\n",
       "      <td>-0.925841</td>\n",
       "      <td>-1.959059</td>\n",
       "      <td>-0.368144</td>\n",
       "      <td>0.068822</td>\n",
       "      <td>-0.029164</td>\n",
       "      <td>1.031058</td>\n",
       "      <td>0.157411</td>\n",
       "      <td>0.167148</td>\n",
       "      <td>4.047040</td>\n",
       "      <td>-0.437886</td>\n",
       "      <td>-0.455058</td>\n",
       "      <td>-2.225380</td>\n",
       "      <td>-1.306015</td>\n",
       "      <td>0.908162</td>\n",
       "      <td>-0.809295</td>\n",
       "      <td>-1.007396</td>\n",
       "      <td>1.448563</td>\n",
       "    </tr>\n",
       "    <tr>\n",
       "      <th>B</th>\n",
       "      <td>0.080478</td>\n",
       "      <td>0.675414</td>\n",
       "      <td>3.268064</td>\n",
       "      <td>0.553218</td>\n",
       "      <td>0.064268</td>\n",
       "      <td>0.851787</td>\n",
       "      <td>0.515314</td>\n",
       "      <td>0.149199</td>\n",
       "      <td>-2.709403</td>\n",
       "      <td>1.236707</td>\n",
       "      <td>-0.857442</td>\n",
       "      <td>-0.193401</td>\n",
       "      <td>0.362715</td>\n",
       "      <td>-0.150104</td>\n",
       "      <td>-0.266270</td>\n",
       "      <td>-1.358212</td>\n",
       "      <td>-0.345066</td>\n",
       "      <td>0.273379</td>\n",
       "      <td>-1.315641</td>\n",
       "      <td>0.615205</td>\n",
       "    </tr>\n",
       "    <tr>\n",
       "      <th>C</th>\n",
       "      <td>-0.425175</td>\n",
       "      <td>2.550257</td>\n",
       "      <td>0.211028</td>\n",
       "      <td>0.973023</td>\n",
       "      <td>-0.010302</td>\n",
       "      <td>1.473921</td>\n",
       "      <td>-0.532632</td>\n",
       "      <td>1.094048</td>\n",
       "      <td>-0.704999</td>\n",
       "      <td>-1.152644</td>\n",
       "      <td>-1.607847</td>\n",
       "      <td>1.301385</td>\n",
       "      <td>0.728041</td>\n",
       "      <td>-1.047409</td>\n",
       "      <td>3.038718</td>\n",
       "      <td>0.886524</td>\n",
       "      <td>0.329037</td>\n",
       "      <td>1.893833</td>\n",
       "      <td>-0.340901</td>\n",
       "      <td>-0.121039</td>\n",
       "    </tr>\n",
       "    <tr>\n",
       "      <th>E</th>\n",
       "      <td>-1.519217</td>\n",
       "      <td>0.103392</td>\n",
       "      <td>-0.992803</td>\n",
       "      <td>0.170026</td>\n",
       "      <td>-1.911503</td>\n",
       "      <td>1.814470</td>\n",
       "      <td>-0.811078</td>\n",
       "      <td>-1.405978</td>\n",
       "      <td>0.770929</td>\n",
       "      <td>-0.669889</td>\n",
       "      <td>0.214819</td>\n",
       "      <td>0.479371</td>\n",
       "      <td>-0.266579</td>\n",
       "      <td>-0.308258</td>\n",
       "      <td>-0.800371</td>\n",
       "      <td>0.487001</td>\n",
       "      <td>-0.148751</td>\n",
       "      <td>-0.304442</td>\n",
       "      <td>0.795873</td>\n",
       "      <td>-1.105176</td>\n",
       "    </tr>\n",
       "    <tr>\n",
       "      <th>X</th>\n",
       "      <td>-1.504297</td>\n",
       "      <td>-0.153872</td>\n",
       "      <td>-0.581287</td>\n",
       "      <td>-0.447368</td>\n",
       "      <td>-1.374553</td>\n",
       "      <td>-0.158404</td>\n",
       "      <td>-0.586109</td>\n",
       "      <td>-0.694015</td>\n",
       "      <td>-1.083831</td>\n",
       "      <td>0.030575</td>\n",
       "      <td>0.569119</td>\n",
       "      <td>0.133905</td>\n",
       "      <td>0.500580</td>\n",
       "      <td>-1.734136</td>\n",
       "      <td>-0.172869</td>\n",
       "      <td>1.028081</td>\n",
       "      <td>-0.827649</td>\n",
       "      <td>0.363624</td>\n",
       "      <td>-1.060791</td>\n",
       "      <td>-0.829918</td>\n",
       "    </tr>\n",
       "    <tr>\n",
       "      <th>Y</th>\n",
       "      <td>-0.497605</td>\n",
       "      <td>0.437419</td>\n",
       "      <td>0.489401</td>\n",
       "      <td>-1.128693</td>\n",
       "      <td>-0.193295</td>\n",
       "      <td>-0.311191</td>\n",
       "      <td>0.783445</td>\n",
       "      <td>-2.200626</td>\n",
       "      <td>0.568859</td>\n",
       "      <td>0.604015</td>\n",
       "      <td>2.441606</td>\n",
       "      <td>-1.226598</td>\n",
       "      <td>-0.419659</td>\n",
       "      <td>1.641054</td>\n",
       "      <td>0.894110</td>\n",
       "      <td>-1.047636</td>\n",
       "      <td>-0.021842</td>\n",
       "      <td>-1.179080</td>\n",
       "      <td>-0.838686</td>\n",
       "      <td>-1.627442</td>\n",
       "    </tr>\n",
       "    <tr>\n",
       "      <th>Z</th>\n",
       "      <td>-0.476438</td>\n",
       "      <td>0.632337</td>\n",
       "      <td>-0.085446</td>\n",
       "      <td>0.464153</td>\n",
       "      <td>0.527016</td>\n",
       "      <td>0.552775</td>\n",
       "      <td>-1.068010</td>\n",
       "      <td>-0.301170</td>\n",
       "      <td>-0.487857</td>\n",
       "      <td>-0.449346</td>\n",
       "      <td>-0.362325</td>\n",
       "      <td>-2.642041</td>\n",
       "      <td>0.429236</td>\n",
       "      <td>-0.516483</td>\n",
       "      <td>-0.816712</td>\n",
       "      <td>1.405344</td>\n",
       "      <td>-0.393424</td>\n",
       "      <td>0.418394</td>\n",
       "      <td>0.857014</td>\n",
       "      <td>0.082096</td>\n",
       "    </tr>\n",
       "  </tbody>\n",
       "</table>\n",
       "</div>"
      ],
      "text/plain": [
       "   1990-01-01  1990-01-02  1990-01-03  1990-01-04  1990-01-05  1990-01-06  \\\n",
       "A    0.691133    0.108330    0.297155   -0.925841   -1.959059   -0.368144   \n",
       "B    0.080478    0.675414    3.268064    0.553218    0.064268    0.851787   \n",
       "C   -0.425175    2.550257    0.211028    0.973023   -0.010302    1.473921   \n",
       "E   -1.519217    0.103392   -0.992803    0.170026   -1.911503    1.814470   \n",
       "X   -1.504297   -0.153872   -0.581287   -0.447368   -1.374553   -0.158404   \n",
       "Y   -0.497605    0.437419    0.489401   -1.128693   -0.193295   -0.311191   \n",
       "Z   -0.476438    0.632337   -0.085446    0.464153    0.527016    0.552775   \n",
       "\n",
       "   1990-01-07  1990-01-08  1990-01-09  1990-01-10  1990-01-11  1990-01-12  \\\n",
       "A    0.068822   -0.029164    1.031058    0.157411    0.167148    4.047040   \n",
       "B    0.515314    0.149199   -2.709403    1.236707   -0.857442   -0.193401   \n",
       "C   -0.532632    1.094048   -0.704999   -1.152644   -1.607847    1.301385   \n",
       "E   -0.811078   -1.405978    0.770929   -0.669889    0.214819    0.479371   \n",
       "X   -0.586109   -0.694015   -1.083831    0.030575    0.569119    0.133905   \n",
       "Y    0.783445   -2.200626    0.568859    0.604015    2.441606   -1.226598   \n",
       "Z   -1.068010   -0.301170   -0.487857   -0.449346   -0.362325   -2.642041   \n",
       "\n",
       "   1990-01-13  1990-01-14  1990-01-15  1990-01-16  1990-01-17  1990-01-18  \\\n",
       "A   -0.437886   -0.455058   -2.225380   -1.306015    0.908162   -0.809295   \n",
       "B    0.362715   -0.150104   -0.266270   -1.358212   -0.345066    0.273379   \n",
       "C    0.728041   -1.047409    3.038718    0.886524    0.329037    1.893833   \n",
       "E   -0.266579   -0.308258   -0.800371    0.487001   -0.148751   -0.304442   \n",
       "X    0.500580   -1.734136   -0.172869    1.028081   -0.827649    0.363624   \n",
       "Y   -0.419659    1.641054    0.894110   -1.047636   -0.021842   -1.179080   \n",
       "Z    0.429236   -0.516483   -0.816712    1.405344   -0.393424    0.418394   \n",
       "\n",
       "   1990-01-19  1990-01-20  \n",
       "A   -1.007396    1.448563  \n",
       "B   -1.315641    0.615205  \n",
       "C   -0.340901   -0.121039  \n",
       "E    0.795873   -1.105176  \n",
       "X   -1.060791   -0.829918  \n",
       "Y   -0.838686   -1.627442  \n",
       "Z    0.857014    0.082096  "
      ]
     },
     "execution_count": 22,
     "metadata": {},
     "output_type": "execute_result"
    }
   ],
   "source": [
    "df.T"
   ]
  },
  {
   "cell_type": "code",
   "execution_count": 23,
   "metadata": {},
   "outputs": [
    {
     "data": {
      "text/html": [
       "<div>\n",
       "<style scoped>\n",
       "    .dataframe tbody tr th:only-of-type {\n",
       "        vertical-align: middle;\n",
       "    }\n",
       "\n",
       "    .dataframe tbody tr th {\n",
       "        vertical-align: top;\n",
       "    }\n",
       "\n",
       "    .dataframe thead th {\n",
       "        text-align: right;\n",
       "    }\n",
       "</style>\n",
       "<table border=\"1\" class=\"dataframe\">\n",
       "  <thead>\n",
       "    <tr style=\"text-align: right;\">\n",
       "      <th></th>\n",
       "      <th>A</th>\n",
       "      <th>B</th>\n",
       "      <th>C</th>\n",
       "      <th>E</th>\n",
       "      <th>X</th>\n",
       "      <th>Y</th>\n",
       "      <th>Z</th>\n",
       "    </tr>\n",
       "  </thead>\n",
       "  <tbody>\n",
       "    <tr>\n",
       "      <th>1990-01-01</th>\n",
       "      <td>0.691133</td>\n",
       "      <td>0.080478</td>\n",
       "      <td>-0.425175</td>\n",
       "      <td>-1.519217</td>\n",
       "      <td>-1.504297</td>\n",
       "      <td>-0.497605</td>\n",
       "      <td>-0.476438</td>\n",
       "    </tr>\n",
       "    <tr>\n",
       "      <th>1990-01-02</th>\n",
       "      <td>0.108330</td>\n",
       "      <td>0.675414</td>\n",
       "      <td>2.550257</td>\n",
       "      <td>0.103392</td>\n",
       "      <td>-0.153872</td>\n",
       "      <td>0.437419</td>\n",
       "      <td>0.632337</td>\n",
       "    </tr>\n",
       "    <tr>\n",
       "      <th>1990-01-03</th>\n",
       "      <td>0.297155</td>\n",
       "      <td>3.268064</td>\n",
       "      <td>0.211028</td>\n",
       "      <td>-0.992803</td>\n",
       "      <td>-0.581287</td>\n",
       "      <td>0.489401</td>\n",
       "      <td>-0.085446</td>\n",
       "    </tr>\n",
       "    <tr>\n",
       "      <th>1990-01-04</th>\n",
       "      <td>-0.925841</td>\n",
       "      <td>0.553218</td>\n",
       "      <td>0.973023</td>\n",
       "      <td>0.170026</td>\n",
       "      <td>-0.447368</td>\n",
       "      <td>-1.128693</td>\n",
       "      <td>0.464153</td>\n",
       "    </tr>\n",
       "    <tr>\n",
       "      <th>1990-01-05</th>\n",
       "      <td>-1.959059</td>\n",
       "      <td>0.064268</td>\n",
       "      <td>-0.010302</td>\n",
       "      <td>-1.911503</td>\n",
       "      <td>-1.374553</td>\n",
       "      <td>-0.193295</td>\n",
       "      <td>0.527016</td>\n",
       "    </tr>\n",
       "    <tr>\n",
       "      <th>1990-01-06</th>\n",
       "      <td>-0.368144</td>\n",
       "      <td>0.851787</td>\n",
       "      <td>1.473921</td>\n",
       "      <td>1.814470</td>\n",
       "      <td>-0.158404</td>\n",
       "      <td>-0.311191</td>\n",
       "      <td>0.552775</td>\n",
       "    </tr>\n",
       "    <tr>\n",
       "      <th>1990-01-07</th>\n",
       "      <td>0.068822</td>\n",
       "      <td>0.515314</td>\n",
       "      <td>-0.532632</td>\n",
       "      <td>-0.811078</td>\n",
       "      <td>-0.586109</td>\n",
       "      <td>0.783445</td>\n",
       "      <td>-1.068010</td>\n",
       "    </tr>\n",
       "    <tr>\n",
       "      <th>1990-01-08</th>\n",
       "      <td>-0.029164</td>\n",
       "      <td>0.149199</td>\n",
       "      <td>1.094048</td>\n",
       "      <td>-1.405978</td>\n",
       "      <td>-0.694015</td>\n",
       "      <td>-2.200626</td>\n",
       "      <td>-0.301170</td>\n",
       "    </tr>\n",
       "    <tr>\n",
       "      <th>1990-01-09</th>\n",
       "      <td>1.031058</td>\n",
       "      <td>-2.709403</td>\n",
       "      <td>-0.704999</td>\n",
       "      <td>0.770929</td>\n",
       "      <td>-1.083831</td>\n",
       "      <td>0.568859</td>\n",
       "      <td>-0.487857</td>\n",
       "    </tr>\n",
       "    <tr>\n",
       "      <th>1990-01-10</th>\n",
       "      <td>0.157411</td>\n",
       "      <td>1.236707</td>\n",
       "      <td>-1.152644</td>\n",
       "      <td>-0.669889</td>\n",
       "      <td>0.030575</td>\n",
       "      <td>0.604015</td>\n",
       "      <td>-0.449346</td>\n",
       "    </tr>\n",
       "    <tr>\n",
       "      <th>1990-01-11</th>\n",
       "      <td>0.167148</td>\n",
       "      <td>-0.857442</td>\n",
       "      <td>-1.607847</td>\n",
       "      <td>0.214819</td>\n",
       "      <td>0.569119</td>\n",
       "      <td>2.441606</td>\n",
       "      <td>-0.362325</td>\n",
       "    </tr>\n",
       "    <tr>\n",
       "      <th>1990-01-12</th>\n",
       "      <td>4.047040</td>\n",
       "      <td>-0.193401</td>\n",
       "      <td>1.301385</td>\n",
       "      <td>0.479371</td>\n",
       "      <td>0.133905</td>\n",
       "      <td>-1.226598</td>\n",
       "      <td>-2.642041</td>\n",
       "    </tr>\n",
       "    <tr>\n",
       "      <th>1990-01-13</th>\n",
       "      <td>-0.437886</td>\n",
       "      <td>0.362715</td>\n",
       "      <td>0.728041</td>\n",
       "      <td>-0.266579</td>\n",
       "      <td>0.500580</td>\n",
       "      <td>-0.419659</td>\n",
       "      <td>0.429236</td>\n",
       "    </tr>\n",
       "    <tr>\n",
       "      <th>1990-01-14</th>\n",
       "      <td>-0.455058</td>\n",
       "      <td>-0.150104</td>\n",
       "      <td>-1.047409</td>\n",
       "      <td>-0.308258</td>\n",
       "      <td>-1.734136</td>\n",
       "      <td>1.641054</td>\n",
       "      <td>-0.516483</td>\n",
       "    </tr>\n",
       "    <tr>\n",
       "      <th>1990-01-15</th>\n",
       "      <td>-2.225380</td>\n",
       "      <td>-0.266270</td>\n",
       "      <td>3.038718</td>\n",
       "      <td>-0.800371</td>\n",
       "      <td>-0.172869</td>\n",
       "      <td>0.894110</td>\n",
       "      <td>-0.816712</td>\n",
       "    </tr>\n",
       "    <tr>\n",
       "      <th>1990-01-16</th>\n",
       "      <td>-1.306015</td>\n",
       "      <td>-1.358212</td>\n",
       "      <td>0.886524</td>\n",
       "      <td>0.487001</td>\n",
       "      <td>1.028081</td>\n",
       "      <td>-1.047636</td>\n",
       "      <td>1.405344</td>\n",
       "    </tr>\n",
       "    <tr>\n",
       "      <th>1990-01-17</th>\n",
       "      <td>0.908162</td>\n",
       "      <td>-0.345066</td>\n",
       "      <td>0.329037</td>\n",
       "      <td>-0.148751</td>\n",
       "      <td>-0.827649</td>\n",
       "      <td>-0.021842</td>\n",
       "      <td>-0.393424</td>\n",
       "    </tr>\n",
       "    <tr>\n",
       "      <th>1990-01-18</th>\n",
       "      <td>-0.809295</td>\n",
       "      <td>0.273379</td>\n",
       "      <td>1.893833</td>\n",
       "      <td>-0.304442</td>\n",
       "      <td>0.363624</td>\n",
       "      <td>-1.179080</td>\n",
       "      <td>0.418394</td>\n",
       "    </tr>\n",
       "    <tr>\n",
       "      <th>1990-01-19</th>\n",
       "      <td>-1.007396</td>\n",
       "      <td>-1.315641</td>\n",
       "      <td>-0.340901</td>\n",
       "      <td>0.795873</td>\n",
       "      <td>-1.060791</td>\n",
       "      <td>-0.838686</td>\n",
       "      <td>0.857014</td>\n",
       "    </tr>\n",
       "    <tr>\n",
       "      <th>1990-01-20</th>\n",
       "      <td>1.448563</td>\n",
       "      <td>0.615205</td>\n",
       "      <td>-0.121039</td>\n",
       "      <td>-1.105176</td>\n",
       "      <td>-0.829918</td>\n",
       "      <td>-1.627442</td>\n",
       "      <td>0.082096</td>\n",
       "    </tr>\n",
       "  </tbody>\n",
       "</table>\n",
       "</div>"
      ],
      "text/plain": [
       "                   A         B         C         E         X         Y  \\\n",
       "1990-01-01  0.691133  0.080478 -0.425175 -1.519217 -1.504297 -0.497605   \n",
       "1990-01-02  0.108330  0.675414  2.550257  0.103392 -0.153872  0.437419   \n",
       "1990-01-03  0.297155  3.268064  0.211028 -0.992803 -0.581287  0.489401   \n",
       "1990-01-04 -0.925841  0.553218  0.973023  0.170026 -0.447368 -1.128693   \n",
       "1990-01-05 -1.959059  0.064268 -0.010302 -1.911503 -1.374553 -0.193295   \n",
       "1990-01-06 -0.368144  0.851787  1.473921  1.814470 -0.158404 -0.311191   \n",
       "1990-01-07  0.068822  0.515314 -0.532632 -0.811078 -0.586109  0.783445   \n",
       "1990-01-08 -0.029164  0.149199  1.094048 -1.405978 -0.694015 -2.200626   \n",
       "1990-01-09  1.031058 -2.709403 -0.704999  0.770929 -1.083831  0.568859   \n",
       "1990-01-10  0.157411  1.236707 -1.152644 -0.669889  0.030575  0.604015   \n",
       "1990-01-11  0.167148 -0.857442 -1.607847  0.214819  0.569119  2.441606   \n",
       "1990-01-12  4.047040 -0.193401  1.301385  0.479371  0.133905 -1.226598   \n",
       "1990-01-13 -0.437886  0.362715  0.728041 -0.266579  0.500580 -0.419659   \n",
       "1990-01-14 -0.455058 -0.150104 -1.047409 -0.308258 -1.734136  1.641054   \n",
       "1990-01-15 -2.225380 -0.266270  3.038718 -0.800371 -0.172869  0.894110   \n",
       "1990-01-16 -1.306015 -1.358212  0.886524  0.487001  1.028081 -1.047636   \n",
       "1990-01-17  0.908162 -0.345066  0.329037 -0.148751 -0.827649 -0.021842   \n",
       "1990-01-18 -0.809295  0.273379  1.893833 -0.304442  0.363624 -1.179080   \n",
       "1990-01-19 -1.007396 -1.315641 -0.340901  0.795873 -1.060791 -0.838686   \n",
       "1990-01-20  1.448563  0.615205 -0.121039 -1.105176 -0.829918 -1.627442   \n",
       "\n",
       "                   Z  \n",
       "1990-01-01 -0.476438  \n",
       "1990-01-02  0.632337  \n",
       "1990-01-03 -0.085446  \n",
       "1990-01-04  0.464153  \n",
       "1990-01-05  0.527016  \n",
       "1990-01-06  0.552775  \n",
       "1990-01-07 -1.068010  \n",
       "1990-01-08 -0.301170  \n",
       "1990-01-09 -0.487857  \n",
       "1990-01-10 -0.449346  \n",
       "1990-01-11 -0.362325  \n",
       "1990-01-12 -2.642041  \n",
       "1990-01-13  0.429236  \n",
       "1990-01-14 -0.516483  \n",
       "1990-01-15 -0.816712  \n",
       "1990-01-16  1.405344  \n",
       "1990-01-17 -0.393424  \n",
       "1990-01-18  0.418394  \n",
       "1990-01-19  0.857014  \n",
       "1990-01-20  0.082096  "
      ]
     },
     "execution_count": 23,
     "metadata": {},
     "output_type": "execute_result"
    }
   ],
   "source": [
    "df.sort_index(axis =1,ascending = True)"
   ]
  },
  {
   "cell_type": "code",
   "execution_count": 24,
   "metadata": {},
   "outputs": [
    {
     "data": {
      "text/html": [
       "<div>\n",
       "<style scoped>\n",
       "    .dataframe tbody tr th:only-of-type {\n",
       "        vertical-align: middle;\n",
       "    }\n",
       "\n",
       "    .dataframe tbody tr th {\n",
       "        vertical-align: top;\n",
       "    }\n",
       "\n",
       "    .dataframe thead th {\n",
       "        text-align: right;\n",
       "    }\n",
       "</style>\n",
       "<table border=\"1\" class=\"dataframe\">\n",
       "  <thead>\n",
       "    <tr style=\"text-align: right;\">\n",
       "      <th></th>\n",
       "      <th>A</th>\n",
       "      <th>B</th>\n",
       "      <th>C</th>\n",
       "      <th>E</th>\n",
       "      <th>X</th>\n",
       "      <th>Y</th>\n",
       "      <th>Z</th>\n",
       "    </tr>\n",
       "  </thead>\n",
       "  <tbody>\n",
       "    <tr>\n",
       "      <th>count</th>\n",
       "      <td>20.000000</td>\n",
       "      <td>20.000000</td>\n",
       "      <td>20.000000</td>\n",
       "      <td>20.000000</td>\n",
       "      <td>20.000000</td>\n",
       "      <td>20.000000</td>\n",
       "      <td>20.000000</td>\n",
       "    </tr>\n",
       "    <tr>\n",
       "      <th>mean</th>\n",
       "      <td>-0.029921</td>\n",
       "      <td>0.072510</td>\n",
       "      <td>0.426843</td>\n",
       "      <td>-0.270408</td>\n",
       "      <td>-0.429161</td>\n",
       "      <td>-0.141622</td>\n",
       "      <td>-0.111544</td>\n",
       "    </tr>\n",
       "    <tr>\n",
       "      <th>std</th>\n",
       "      <td>1.348294</td>\n",
       "      <td>1.178249</td>\n",
       "      <td>1.241013</td>\n",
       "      <td>0.911452</td>\n",
       "      <td>0.738921</td>\n",
       "      <td>1.142602</td>\n",
       "      <td>0.862403</td>\n",
       "    </tr>\n",
       "    <tr>\n",
       "      <th>min</th>\n",
       "      <td>-2.225380</td>\n",
       "      <td>-2.709403</td>\n",
       "      <td>-1.607847</td>\n",
       "      <td>-1.911503</td>\n",
       "      <td>-1.734136</td>\n",
       "      <td>-2.200626</td>\n",
       "      <td>-2.642041</td>\n",
       "    </tr>\n",
       "    <tr>\n",
       "      <th>25%</th>\n",
       "      <td>-0.838431</td>\n",
       "      <td>-0.285969</td>\n",
       "      <td>-0.452039</td>\n",
       "      <td>-0.856509</td>\n",
       "      <td>-0.887636</td>\n",
       "      <td>-1.067900</td>\n",
       "      <td>-0.479293</td>\n",
       "    </tr>\n",
       "    <tr>\n",
       "      <th>50%</th>\n",
       "      <td>0.019829</td>\n",
       "      <td>0.114839</td>\n",
       "      <td>0.270033</td>\n",
       "      <td>-0.285510</td>\n",
       "      <td>-0.514327</td>\n",
       "      <td>-0.252243</td>\n",
       "      <td>-0.193308</td>\n",
       "    </tr>\n",
       "    <tr>\n",
       "      <th>75%</th>\n",
       "      <td>0.395649</td>\n",
       "      <td>0.568715</td>\n",
       "      <td>1.145883</td>\n",
       "      <td>0.280957</td>\n",
       "      <td>0.056408</td>\n",
       "      <td>0.577648</td>\n",
       "      <td>0.479869</td>\n",
       "    </tr>\n",
       "    <tr>\n",
       "      <th>max</th>\n",
       "      <td>4.047040</td>\n",
       "      <td>3.268064</td>\n",
       "      <td>3.038718</td>\n",
       "      <td>1.814470</td>\n",
       "      <td>1.028081</td>\n",
       "      <td>2.441606</td>\n",
       "      <td>1.405344</td>\n",
       "    </tr>\n",
       "  </tbody>\n",
       "</table>\n",
       "</div>"
      ],
      "text/plain": [
       "               A          B          C          E          X          Y  \\\n",
       "count  20.000000  20.000000  20.000000  20.000000  20.000000  20.000000   \n",
       "mean   -0.029921   0.072510   0.426843  -0.270408  -0.429161  -0.141622   \n",
       "std     1.348294   1.178249   1.241013   0.911452   0.738921   1.142602   \n",
       "min    -2.225380  -2.709403  -1.607847  -1.911503  -1.734136  -2.200626   \n",
       "25%    -0.838431  -0.285969  -0.452039  -0.856509  -0.887636  -1.067900   \n",
       "50%     0.019829   0.114839   0.270033  -0.285510  -0.514327  -0.252243   \n",
       "75%     0.395649   0.568715   1.145883   0.280957   0.056408   0.577648   \n",
       "max     4.047040   3.268064   3.038718   1.814470   1.028081   2.441606   \n",
       "\n",
       "               Z  \n",
       "count  20.000000  \n",
       "mean   -0.111544  \n",
       "std     0.862403  \n",
       "min    -2.642041  \n",
       "25%    -0.479293  \n",
       "50%    -0.193308  \n",
       "75%     0.479869  \n",
       "max     1.405344  "
      ]
     },
     "execution_count": 24,
     "metadata": {},
     "output_type": "execute_result"
    }
   ],
   "source": [
    "df.describe()"
   ]
  },
  {
   "cell_type": "code",
   "execution_count": 25,
   "metadata": {},
   "outputs": [
    {
     "data": {
      "text/plain": [
       "1990-01-01   -0.425175\n",
       "1990-01-02    2.550257\n",
       "1990-01-03    0.211028\n",
       "1990-01-04    0.973023\n",
       "1990-01-05   -0.010302\n",
       "1990-01-06    1.473921\n",
       "1990-01-07   -0.532632\n",
       "1990-01-08    1.094048\n",
       "1990-01-09   -0.704999\n",
       "1990-01-10   -1.152644\n",
       "1990-01-11   -1.607847\n",
       "1990-01-12    1.301385\n",
       "1990-01-13    0.728041\n",
       "1990-01-14   -1.047409\n",
       "1990-01-15    3.038718\n",
       "1990-01-16    0.886524\n",
       "1990-01-17    0.329037\n",
       "1990-01-18    1.893833\n",
       "1990-01-19   -0.340901\n",
       "1990-01-20   -0.121039\n",
       "Freq: D, Name: C, dtype: float64"
      ]
     },
     "execution_count": 25,
     "metadata": {},
     "output_type": "execute_result"
    }
   ],
   "source": [
    "df['C']"
   ]
  },
  {
   "cell_type": "code",
   "execution_count": 26,
   "metadata": {},
   "outputs": [
    {
     "data": {
      "text/html": [
       "<div>\n",
       "<style scoped>\n",
       "    .dataframe tbody tr th:only-of-type {\n",
       "        vertical-align: middle;\n",
       "    }\n",
       "\n",
       "    .dataframe tbody tr th {\n",
       "        vertical-align: top;\n",
       "    }\n",
       "\n",
       "    .dataframe thead th {\n",
       "        text-align: right;\n",
       "    }\n",
       "</style>\n",
       "<table border=\"1\" class=\"dataframe\">\n",
       "  <thead>\n",
       "    <tr style=\"text-align: right;\">\n",
       "      <th></th>\n",
       "      <th>A</th>\n",
       "      <th>B</th>\n",
       "      <th>C</th>\n",
       "      <th>E</th>\n",
       "      <th>X</th>\n",
       "      <th>Y</th>\n",
       "      <th>Z</th>\n",
       "    </tr>\n",
       "  </thead>\n",
       "  <tbody>\n",
       "    <tr>\n",
       "      <th>1990-01-02</th>\n",
       "      <td>0.108330</td>\n",
       "      <td>0.675414</td>\n",
       "      <td>2.550257</td>\n",
       "      <td>0.103392</td>\n",
       "      <td>-0.153872</td>\n",
       "      <td>0.437419</td>\n",
       "      <td>0.632337</td>\n",
       "    </tr>\n",
       "    <tr>\n",
       "      <th>1990-01-03</th>\n",
       "      <td>0.297155</td>\n",
       "      <td>3.268064</td>\n",
       "      <td>0.211028</td>\n",
       "      <td>-0.992803</td>\n",
       "      <td>-0.581287</td>\n",
       "      <td>0.489401</td>\n",
       "      <td>-0.085446</td>\n",
       "    </tr>\n",
       "  </tbody>\n",
       "</table>\n",
       "</div>"
      ],
      "text/plain": [
       "                   A         B         C         E         X         Y  \\\n",
       "1990-01-02  0.108330  0.675414  2.550257  0.103392 -0.153872  0.437419   \n",
       "1990-01-03  0.297155  3.268064  0.211028 -0.992803 -0.581287  0.489401   \n",
       "\n",
       "                   Z  \n",
       "1990-01-02  0.632337  \n",
       "1990-01-03 -0.085446  "
      ]
     },
     "execution_count": 26,
     "metadata": {},
     "output_type": "execute_result"
    }
   ],
   "source": [
    "df[1:3]"
   ]
  },
  {
   "cell_type": "code",
   "execution_count": 27,
   "metadata": {},
   "outputs": [
    {
     "data": {
      "text/html": [
       "<div>\n",
       "<style scoped>\n",
       "    .dataframe tbody tr th:only-of-type {\n",
       "        vertical-align: middle;\n",
       "    }\n",
       "\n",
       "    .dataframe tbody tr th {\n",
       "        vertical-align: top;\n",
       "    }\n",
       "\n",
       "    .dataframe thead th {\n",
       "        text-align: right;\n",
       "    }\n",
       "</style>\n",
       "<table border=\"1\" class=\"dataframe\">\n",
       "  <thead>\n",
       "    <tr style=\"text-align: right;\">\n",
       "      <th></th>\n",
       "      <th>C</th>\n",
       "      <th>E</th>\n",
       "    </tr>\n",
       "  </thead>\n",
       "  <tbody>\n",
       "    <tr>\n",
       "      <th>1990-01-01</th>\n",
       "      <td>-0.425175</td>\n",
       "      <td>-1.519217</td>\n",
       "    </tr>\n",
       "    <tr>\n",
       "      <th>1990-01-02</th>\n",
       "      <td>2.550257</td>\n",
       "      <td>0.103392</td>\n",
       "    </tr>\n",
       "    <tr>\n",
       "      <th>1990-01-03</th>\n",
       "      <td>0.211028</td>\n",
       "      <td>-0.992803</td>\n",
       "    </tr>\n",
       "    <tr>\n",
       "      <th>1990-01-04</th>\n",
       "      <td>0.973023</td>\n",
       "      <td>0.170026</td>\n",
       "    </tr>\n",
       "    <tr>\n",
       "      <th>1990-01-05</th>\n",
       "      <td>-0.010302</td>\n",
       "      <td>-1.911503</td>\n",
       "    </tr>\n",
       "    <tr>\n",
       "      <th>1990-01-06</th>\n",
       "      <td>1.473921</td>\n",
       "      <td>1.814470</td>\n",
       "    </tr>\n",
       "    <tr>\n",
       "      <th>1990-01-07</th>\n",
       "      <td>-0.532632</td>\n",
       "      <td>-0.811078</td>\n",
       "    </tr>\n",
       "    <tr>\n",
       "      <th>1990-01-08</th>\n",
       "      <td>1.094048</td>\n",
       "      <td>-1.405978</td>\n",
       "    </tr>\n",
       "    <tr>\n",
       "      <th>1990-01-09</th>\n",
       "      <td>-0.704999</td>\n",
       "      <td>0.770929</td>\n",
       "    </tr>\n",
       "    <tr>\n",
       "      <th>1990-01-10</th>\n",
       "      <td>-1.152644</td>\n",
       "      <td>-0.669889</td>\n",
       "    </tr>\n",
       "    <tr>\n",
       "      <th>1990-01-11</th>\n",
       "      <td>-1.607847</td>\n",
       "      <td>0.214819</td>\n",
       "    </tr>\n",
       "    <tr>\n",
       "      <th>1990-01-12</th>\n",
       "      <td>1.301385</td>\n",
       "      <td>0.479371</td>\n",
       "    </tr>\n",
       "    <tr>\n",
       "      <th>1990-01-13</th>\n",
       "      <td>0.728041</td>\n",
       "      <td>-0.266579</td>\n",
       "    </tr>\n",
       "    <tr>\n",
       "      <th>1990-01-14</th>\n",
       "      <td>-1.047409</td>\n",
       "      <td>-0.308258</td>\n",
       "    </tr>\n",
       "    <tr>\n",
       "      <th>1990-01-15</th>\n",
       "      <td>3.038718</td>\n",
       "      <td>-0.800371</td>\n",
       "    </tr>\n",
       "    <tr>\n",
       "      <th>1990-01-16</th>\n",
       "      <td>0.886524</td>\n",
       "      <td>0.487001</td>\n",
       "    </tr>\n",
       "    <tr>\n",
       "      <th>1990-01-17</th>\n",
       "      <td>0.329037</td>\n",
       "      <td>-0.148751</td>\n",
       "    </tr>\n",
       "    <tr>\n",
       "      <th>1990-01-18</th>\n",
       "      <td>1.893833</td>\n",
       "      <td>-0.304442</td>\n",
       "    </tr>\n",
       "    <tr>\n",
       "      <th>1990-01-19</th>\n",
       "      <td>-0.340901</td>\n",
       "      <td>0.795873</td>\n",
       "    </tr>\n",
       "    <tr>\n",
       "      <th>1990-01-20</th>\n",
       "      <td>-0.121039</td>\n",
       "      <td>-1.105176</td>\n",
       "    </tr>\n",
       "  </tbody>\n",
       "</table>\n",
       "</div>"
      ],
      "text/plain": [
       "                   C         E\n",
       "1990-01-01 -0.425175 -1.519217\n",
       "1990-01-02  2.550257  0.103392\n",
       "1990-01-03  0.211028 -0.992803\n",
       "1990-01-04  0.973023  0.170026\n",
       "1990-01-05 -0.010302 -1.911503\n",
       "1990-01-06  1.473921  1.814470\n",
       "1990-01-07 -0.532632 -0.811078\n",
       "1990-01-08  1.094048 -1.405978\n",
       "1990-01-09 -0.704999  0.770929\n",
       "1990-01-10 -1.152644 -0.669889\n",
       "1990-01-11 -1.607847  0.214819\n",
       "1990-01-12  1.301385  0.479371\n",
       "1990-01-13  0.728041 -0.266579\n",
       "1990-01-14 -1.047409 -0.308258\n",
       "1990-01-15  3.038718 -0.800371\n",
       "1990-01-16  0.886524  0.487001\n",
       "1990-01-17  0.329037 -0.148751\n",
       "1990-01-18  1.893833 -0.304442\n",
       "1990-01-19 -0.340901  0.795873\n",
       "1990-01-20 -0.121039 -1.105176"
      ]
     },
     "execution_count": 27,
     "metadata": {},
     "output_type": "execute_result"
    }
   ],
   "source": [
    "df.loc[:,['C','E']]"
   ]
  },
  {
   "cell_type": "code",
   "execution_count": 31,
   "metadata": {},
   "outputs": [
    {
     "data": {
      "text/html": [
       "<div>\n",
       "<style scoped>\n",
       "    .dataframe tbody tr th:only-of-type {\n",
       "        vertical-align: middle;\n",
       "    }\n",
       "\n",
       "    .dataframe tbody tr th {\n",
       "        vertical-align: top;\n",
       "    }\n",
       "\n",
       "    .dataframe thead th {\n",
       "        text-align: right;\n",
       "    }\n",
       "</style>\n",
       "<table border=\"1\" class=\"dataframe\">\n",
       "  <thead>\n",
       "    <tr style=\"text-align: right;\">\n",
       "      <th></th>\n",
       "      <th>Y</th>\n",
       "      <th>Z</th>\n",
       "    </tr>\n",
       "  </thead>\n",
       "  <tbody>\n",
       "    <tr>\n",
       "      <th>0</th>\n",
       "      <td>1890-01-03</td>\n",
       "      <td>5</td>\n",
       "    </tr>\n",
       "    <tr>\n",
       "      <th>1</th>\n",
       "      <td>1890-01-03</td>\n",
       "      <td>5</td>\n",
       "    </tr>\n",
       "    <tr>\n",
       "      <th>2</th>\n",
       "      <td>1890-01-03</td>\n",
       "      <td>5</td>\n",
       "    </tr>\n",
       "    <tr>\n",
       "      <th>3</th>\n",
       "      <td>1890-01-03</td>\n",
       "      <td>5</td>\n",
       "    </tr>\n",
       "  </tbody>\n",
       "</table>\n",
       "</div>"
      ],
      "text/plain": [
       "           Y  Z\n",
       "0 1890-01-03  5\n",
       "1 1890-01-03  5\n",
       "2 1890-01-03  5\n",
       "3 1890-01-03  5"
      ]
     },
     "execution_count": 31,
     "metadata": {},
     "output_type": "execute_result"
    }
   ],
   "source": [
    "df1.loc['0':'5',['Y','Z']]"
   ]
  },
  {
   "cell_type": "code",
   "execution_count": 445,
   "metadata": {},
   "outputs": [
    {
     "data": {
      "text/plain": [
       "X    Name\n",
       "Z       5\n",
       "Name: 2, dtype: object"
      ]
     },
     "execution_count": 445,
     "metadata": {},
     "output_type": "execute_result"
    }
   ],
   "source": [
    "df1.loc[2,['X','Z']]"
   ]
  },
  {
   "cell_type": "code",
   "execution_count": 448,
   "metadata": {},
   "outputs": [
    {
     "data": {
      "text/plain": [
       "'Name'"
      ]
     },
     "execution_count": 448,
     "metadata": {},
     "output_type": "execute_result"
    }
   ],
   "source": [
    "df1.loc[1,'X']"
   ]
  },
  {
   "cell_type": "markdown",
   "metadata": {},
   "source": [
    "- ### For getting fast access to a scalar"
   ]
  },
  {
   "cell_type": "code",
   "execution_count": 449,
   "metadata": {},
   "outputs": [
    {
     "data": {
      "text/plain": [
       "Timestamp('1890-01-03 00:00:00')"
      ]
     },
     "execution_count": 449,
     "metadata": {},
     "output_type": "execute_result"
    }
   ],
   "source": [
    "df1.at[2,'Y']"
   ]
  },
  {
   "cell_type": "markdown",
   "metadata": {},
   "source": [
    "- ### Select via the position of the passed integers"
   ]
  },
  {
   "cell_type": "code",
   "execution_count": 450,
   "metadata": {},
   "outputs": [
    {
     "data": {
      "text/plain": [
       "X                   Name\n",
       "Y    1890-01-03 00:00:00\n",
       "Z                      5\n",
       "Name: 3, dtype: object"
      ]
     },
     "execution_count": 450,
     "metadata": {},
     "output_type": "execute_result"
    }
   ],
   "source": [
    "df1.iloc[3]"
   ]
  },
  {
   "cell_type": "markdown",
   "metadata": {},
   "source": [
    "- ### By integer slices, acting similar to numpy/python"
   ]
  },
  {
   "cell_type": "code",
   "execution_count": 453,
   "metadata": {},
   "outputs": [
    {
     "data": {
      "text/html": [
       "<div>\n",
       "<style scoped>\n",
       "    .dataframe tbody tr th:only-of-type {\n",
       "        vertical-align: middle;\n",
       "    }\n",
       "\n",
       "    .dataframe tbody tr th {\n",
       "        vertical-align: top;\n",
       "    }\n",
       "\n",
       "    .dataframe thead th {\n",
       "        text-align: right;\n",
       "    }\n",
       "</style>\n",
       "<table border=\"1\" class=\"dataframe\">\n",
       "  <thead>\n",
       "    <tr style=\"text-align: right;\">\n",
       "      <th></th>\n",
       "      <th>X</th>\n",
       "      <th>Y</th>\n",
       "      <th>Z</th>\n",
       "    </tr>\n",
       "  </thead>\n",
       "  <tbody>\n",
       "    <tr>\n",
       "      <th>1</th>\n",
       "      <td>Name</td>\n",
       "      <td>1890-01-03</td>\n",
       "      <td>5</td>\n",
       "    </tr>\n",
       "  </tbody>\n",
       "</table>\n",
       "</div>"
      ],
      "text/plain": [
       "      X          Y  Z\n",
       "1  Name 1890-01-03  5"
      ]
     },
     "execution_count": 453,
     "metadata": {},
     "output_type": "execute_result"
    }
   ],
   "source": [
    "df1.iloc[1:2,0:3]"
   ]
  },
  {
   "cell_type": "markdown",
   "metadata": {},
   "source": [
    "- ### By lists of integer position locations, similar to the numpy/python style"
   ]
  },
  {
   "cell_type": "code",
   "execution_count": 32,
   "metadata": {},
   "outputs": [
    {
     "data": {
      "text/html": [
       "<div>\n",
       "<style scoped>\n",
       "    .dataframe tbody tr th:only-of-type {\n",
       "        vertical-align: middle;\n",
       "    }\n",
       "\n",
       "    .dataframe tbody tr th {\n",
       "        vertical-align: top;\n",
       "    }\n",
       "\n",
       "    .dataframe thead th {\n",
       "        text-align: right;\n",
       "    }\n",
       "</style>\n",
       "<table border=\"1\" class=\"dataframe\">\n",
       "  <thead>\n",
       "    <tr style=\"text-align: right;\">\n",
       "      <th></th>\n",
       "      <th>A</th>\n",
       "      <th>C</th>\n",
       "    </tr>\n",
       "  </thead>\n",
       "  <tbody>\n",
       "    <tr>\n",
       "      <th>1990-01-05</th>\n",
       "      <td>-1.959059</td>\n",
       "      <td>-0.010302</td>\n",
       "    </tr>\n",
       "    <tr>\n",
       "      <th>1990-01-03</th>\n",
       "      <td>0.297155</td>\n",
       "      <td>0.211028</td>\n",
       "    </tr>\n",
       "    <tr>\n",
       "      <th>1990-01-02</th>\n",
       "      <td>0.108330</td>\n",
       "      <td>2.550257</td>\n",
       "    </tr>\n",
       "  </tbody>\n",
       "</table>\n",
       "</div>"
      ],
      "text/plain": [
       "                   A         C\n",
       "1990-01-05 -1.959059 -0.010302\n",
       "1990-01-03  0.297155  0.211028\n",
       "1990-01-02  0.108330  2.550257"
      ]
     },
     "execution_count": 32,
     "metadata": {},
     "output_type": "execute_result"
    }
   ],
   "source": [
    "df.iloc[[4,2,1],[0,2]]"
   ]
  },
  {
   "cell_type": "markdown",
   "metadata": {},
   "source": [
    "- ### For slicing rows explicitly"
   ]
  },
  {
   "cell_type": "code",
   "execution_count": 33,
   "metadata": {},
   "outputs": [
    {
     "data": {
      "text/html": [
       "<div>\n",
       "<style scoped>\n",
       "    .dataframe tbody tr th:only-of-type {\n",
       "        vertical-align: middle;\n",
       "    }\n",
       "\n",
       "    .dataframe tbody tr th {\n",
       "        vertical-align: top;\n",
       "    }\n",
       "\n",
       "    .dataframe thead th {\n",
       "        text-align: right;\n",
       "    }\n",
       "</style>\n",
       "<table border=\"1\" class=\"dataframe\">\n",
       "  <thead>\n",
       "    <tr style=\"text-align: right;\">\n",
       "      <th></th>\n",
       "      <th>B</th>\n",
       "      <th>C</th>\n",
       "    </tr>\n",
       "  </thead>\n",
       "  <tbody>\n",
       "    <tr>\n",
       "      <th>1990-01-01</th>\n",
       "      <td>0.080478</td>\n",
       "      <td>-0.425175</td>\n",
       "    </tr>\n",
       "    <tr>\n",
       "      <th>1990-01-02</th>\n",
       "      <td>0.675414</td>\n",
       "      <td>2.550257</td>\n",
       "    </tr>\n",
       "    <tr>\n",
       "      <th>1990-01-03</th>\n",
       "      <td>3.268064</td>\n",
       "      <td>0.211028</td>\n",
       "    </tr>\n",
       "    <tr>\n",
       "      <th>1990-01-04</th>\n",
       "      <td>0.553218</td>\n",
       "      <td>0.973023</td>\n",
       "    </tr>\n",
       "    <tr>\n",
       "      <th>1990-01-05</th>\n",
       "      <td>0.064268</td>\n",
       "      <td>-0.010302</td>\n",
       "    </tr>\n",
       "    <tr>\n",
       "      <th>1990-01-06</th>\n",
       "      <td>0.851787</td>\n",
       "      <td>1.473921</td>\n",
       "    </tr>\n",
       "    <tr>\n",
       "      <th>1990-01-07</th>\n",
       "      <td>0.515314</td>\n",
       "      <td>-0.532632</td>\n",
       "    </tr>\n",
       "    <tr>\n",
       "      <th>1990-01-08</th>\n",
       "      <td>0.149199</td>\n",
       "      <td>1.094048</td>\n",
       "    </tr>\n",
       "    <tr>\n",
       "      <th>1990-01-09</th>\n",
       "      <td>-2.709403</td>\n",
       "      <td>-0.704999</td>\n",
       "    </tr>\n",
       "    <tr>\n",
       "      <th>1990-01-10</th>\n",
       "      <td>1.236707</td>\n",
       "      <td>-1.152644</td>\n",
       "    </tr>\n",
       "    <tr>\n",
       "      <th>1990-01-11</th>\n",
       "      <td>-0.857442</td>\n",
       "      <td>-1.607847</td>\n",
       "    </tr>\n",
       "    <tr>\n",
       "      <th>1990-01-12</th>\n",
       "      <td>-0.193401</td>\n",
       "      <td>1.301385</td>\n",
       "    </tr>\n",
       "    <tr>\n",
       "      <th>1990-01-13</th>\n",
       "      <td>0.362715</td>\n",
       "      <td>0.728041</td>\n",
       "    </tr>\n",
       "    <tr>\n",
       "      <th>1990-01-14</th>\n",
       "      <td>-0.150104</td>\n",
       "      <td>-1.047409</td>\n",
       "    </tr>\n",
       "    <tr>\n",
       "      <th>1990-01-15</th>\n",
       "      <td>-0.266270</td>\n",
       "      <td>3.038718</td>\n",
       "    </tr>\n",
       "    <tr>\n",
       "      <th>1990-01-16</th>\n",
       "      <td>-1.358212</td>\n",
       "      <td>0.886524</td>\n",
       "    </tr>\n",
       "    <tr>\n",
       "      <th>1990-01-17</th>\n",
       "      <td>-0.345066</td>\n",
       "      <td>0.329037</td>\n",
       "    </tr>\n",
       "    <tr>\n",
       "      <th>1990-01-18</th>\n",
       "      <td>0.273379</td>\n",
       "      <td>1.893833</td>\n",
       "    </tr>\n",
       "    <tr>\n",
       "      <th>1990-01-19</th>\n",
       "      <td>-1.315641</td>\n",
       "      <td>-0.340901</td>\n",
       "    </tr>\n",
       "    <tr>\n",
       "      <th>1990-01-20</th>\n",
       "      <td>0.615205</td>\n",
       "      <td>-0.121039</td>\n",
       "    </tr>\n",
       "  </tbody>\n",
       "</table>\n",
       "</div>"
      ],
      "text/plain": [
       "                   B         C\n",
       "1990-01-01  0.080478 -0.425175\n",
       "1990-01-02  0.675414  2.550257\n",
       "1990-01-03  3.268064  0.211028\n",
       "1990-01-04  0.553218  0.973023\n",
       "1990-01-05  0.064268 -0.010302\n",
       "1990-01-06  0.851787  1.473921\n",
       "1990-01-07  0.515314 -0.532632\n",
       "1990-01-08  0.149199  1.094048\n",
       "1990-01-09 -2.709403 -0.704999\n",
       "1990-01-10  1.236707 -1.152644\n",
       "1990-01-11 -0.857442 -1.607847\n",
       "1990-01-12 -0.193401  1.301385\n",
       "1990-01-13  0.362715  0.728041\n",
       "1990-01-14 -0.150104 -1.047409\n",
       "1990-01-15 -0.266270  3.038718\n",
       "1990-01-16 -1.358212  0.886524\n",
       "1990-01-17 -0.345066  0.329037\n",
       "1990-01-18  0.273379  1.893833\n",
       "1990-01-19 -1.315641 -0.340901\n",
       "1990-01-20  0.615205 -0.121039"
      ]
     },
     "execution_count": 33,
     "metadata": {},
     "output_type": "execute_result"
    }
   ],
   "source": [
    "df.iloc[:,1:3]"
   ]
  },
  {
   "cell_type": "markdown",
   "metadata": {},
   "source": [
    "- ### For getting a value explicitly"
   ]
  },
  {
   "cell_type": "code",
   "execution_count": 34,
   "metadata": {},
   "outputs": [
    {
     "data": {
      "text/plain": [
       "2.550257404764401"
      ]
     },
     "execution_count": 34,
     "metadata": {},
     "output_type": "execute_result"
    }
   ],
   "source": [
    "df.iloc[1,2]"
   ]
  },
  {
   "cell_type": "markdown",
   "metadata": {},
   "source": [
    "- ### Using a single column’s values to select data. "
   ]
  },
  {
   "cell_type": "code",
   "execution_count": 36,
   "metadata": {},
   "outputs": [
    {
     "data": {
      "text/html": [
       "<div>\n",
       "<style scoped>\n",
       "    .dataframe tbody tr th:only-of-type {\n",
       "        vertical-align: middle;\n",
       "    }\n",
       "\n",
       "    .dataframe tbody tr th {\n",
       "        vertical-align: top;\n",
       "    }\n",
       "\n",
       "    .dataframe thead th {\n",
       "        text-align: right;\n",
       "    }\n",
       "</style>\n",
       "<table border=\"1\" class=\"dataframe\">\n",
       "  <thead>\n",
       "    <tr style=\"text-align: right;\">\n",
       "      <th></th>\n",
       "      <th>A</th>\n",
       "      <th>B</th>\n",
       "      <th>C</th>\n",
       "      <th>E</th>\n",
       "      <th>X</th>\n",
       "      <th>Y</th>\n",
       "      <th>Z</th>\n",
       "    </tr>\n",
       "  </thead>\n",
       "  <tbody>\n",
       "    <tr>\n",
       "      <th>1990-01-01</th>\n",
       "      <td>0.691133</td>\n",
       "      <td>0.080478</td>\n",
       "      <td>-0.425175</td>\n",
       "      <td>-1.519217</td>\n",
       "      <td>-1.504297</td>\n",
       "      <td>-0.497605</td>\n",
       "      <td>-0.476438</td>\n",
       "    </tr>\n",
       "    <tr>\n",
       "      <th>1990-01-02</th>\n",
       "      <td>0.108330</td>\n",
       "      <td>0.675414</td>\n",
       "      <td>2.550257</td>\n",
       "      <td>0.103392</td>\n",
       "      <td>-0.153872</td>\n",
       "      <td>0.437419</td>\n",
       "      <td>0.632337</td>\n",
       "    </tr>\n",
       "    <tr>\n",
       "      <th>1990-01-03</th>\n",
       "      <td>0.297155</td>\n",
       "      <td>3.268064</td>\n",
       "      <td>0.211028</td>\n",
       "      <td>-0.992803</td>\n",
       "      <td>-0.581287</td>\n",
       "      <td>0.489401</td>\n",
       "      <td>-0.085446</td>\n",
       "    </tr>\n",
       "    <tr>\n",
       "      <th>1990-01-04</th>\n",
       "      <td>-0.925841</td>\n",
       "      <td>0.553218</td>\n",
       "      <td>0.973023</td>\n",
       "      <td>0.170026</td>\n",
       "      <td>-0.447368</td>\n",
       "      <td>-1.128693</td>\n",
       "      <td>0.464153</td>\n",
       "    </tr>\n",
       "    <tr>\n",
       "      <th>1990-01-05</th>\n",
       "      <td>-1.959059</td>\n",
       "      <td>0.064268</td>\n",
       "      <td>-0.010302</td>\n",
       "      <td>-1.911503</td>\n",
       "      <td>-1.374553</td>\n",
       "      <td>-0.193295</td>\n",
       "      <td>0.527016</td>\n",
       "    </tr>\n",
       "    <tr>\n",
       "      <th>1990-01-06</th>\n",
       "      <td>-0.368144</td>\n",
       "      <td>0.851787</td>\n",
       "      <td>1.473921</td>\n",
       "      <td>1.814470</td>\n",
       "      <td>-0.158404</td>\n",
       "      <td>-0.311191</td>\n",
       "      <td>0.552775</td>\n",
       "    </tr>\n",
       "    <tr>\n",
       "      <th>1990-01-07</th>\n",
       "      <td>0.068822</td>\n",
       "      <td>0.515314</td>\n",
       "      <td>-0.532632</td>\n",
       "      <td>-0.811078</td>\n",
       "      <td>-0.586109</td>\n",
       "      <td>0.783445</td>\n",
       "      <td>-1.068010</td>\n",
       "    </tr>\n",
       "    <tr>\n",
       "      <th>1990-01-08</th>\n",
       "      <td>-0.029164</td>\n",
       "      <td>0.149199</td>\n",
       "      <td>1.094048</td>\n",
       "      <td>-1.405978</td>\n",
       "      <td>-0.694015</td>\n",
       "      <td>-2.200626</td>\n",
       "      <td>-0.301170</td>\n",
       "    </tr>\n",
       "    <tr>\n",
       "      <th>1990-01-10</th>\n",
       "      <td>0.157411</td>\n",
       "      <td>1.236707</td>\n",
       "      <td>-1.152644</td>\n",
       "      <td>-0.669889</td>\n",
       "      <td>0.030575</td>\n",
       "      <td>0.604015</td>\n",
       "      <td>-0.449346</td>\n",
       "    </tr>\n",
       "    <tr>\n",
       "      <th>1990-01-13</th>\n",
       "      <td>-0.437886</td>\n",
       "      <td>0.362715</td>\n",
       "      <td>0.728041</td>\n",
       "      <td>-0.266579</td>\n",
       "      <td>0.500580</td>\n",
       "      <td>-0.419659</td>\n",
       "      <td>0.429236</td>\n",
       "    </tr>\n",
       "    <tr>\n",
       "      <th>1990-01-18</th>\n",
       "      <td>-0.809295</td>\n",
       "      <td>0.273379</td>\n",
       "      <td>1.893833</td>\n",
       "      <td>-0.304442</td>\n",
       "      <td>0.363624</td>\n",
       "      <td>-1.179080</td>\n",
       "      <td>0.418394</td>\n",
       "    </tr>\n",
       "    <tr>\n",
       "      <th>1990-01-20</th>\n",
       "      <td>1.448563</td>\n",
       "      <td>0.615205</td>\n",
       "      <td>-0.121039</td>\n",
       "      <td>-1.105176</td>\n",
       "      <td>-0.829918</td>\n",
       "      <td>-1.627442</td>\n",
       "      <td>0.082096</td>\n",
       "    </tr>\n",
       "  </tbody>\n",
       "</table>\n",
       "</div>"
      ],
      "text/plain": [
       "                   A         B         C         E         X         Y  \\\n",
       "1990-01-01  0.691133  0.080478 -0.425175 -1.519217 -1.504297 -0.497605   \n",
       "1990-01-02  0.108330  0.675414  2.550257  0.103392 -0.153872  0.437419   \n",
       "1990-01-03  0.297155  3.268064  0.211028 -0.992803 -0.581287  0.489401   \n",
       "1990-01-04 -0.925841  0.553218  0.973023  0.170026 -0.447368 -1.128693   \n",
       "1990-01-05 -1.959059  0.064268 -0.010302 -1.911503 -1.374553 -0.193295   \n",
       "1990-01-06 -0.368144  0.851787  1.473921  1.814470 -0.158404 -0.311191   \n",
       "1990-01-07  0.068822  0.515314 -0.532632 -0.811078 -0.586109  0.783445   \n",
       "1990-01-08 -0.029164  0.149199  1.094048 -1.405978 -0.694015 -2.200626   \n",
       "1990-01-10  0.157411  1.236707 -1.152644 -0.669889  0.030575  0.604015   \n",
       "1990-01-13 -0.437886  0.362715  0.728041 -0.266579  0.500580 -0.419659   \n",
       "1990-01-18 -0.809295  0.273379  1.893833 -0.304442  0.363624 -1.179080   \n",
       "1990-01-20  1.448563  0.615205 -0.121039 -1.105176 -0.829918 -1.627442   \n",
       "\n",
       "                   Z  \n",
       "1990-01-01 -0.476438  \n",
       "1990-01-02  0.632337  \n",
       "1990-01-03 -0.085446  \n",
       "1990-01-04  0.464153  \n",
       "1990-01-05  0.527016  \n",
       "1990-01-06  0.552775  \n",
       "1990-01-07 -1.068010  \n",
       "1990-01-08 -0.301170  \n",
       "1990-01-10 -0.449346  \n",
       "1990-01-13  0.429236  \n",
       "1990-01-18  0.418394  \n",
       "1990-01-20  0.082096  "
      ]
     },
     "execution_count": 36,
     "metadata": {},
     "output_type": "execute_result"
    }
   ],
   "source": [
    "df[df.B > 0]"
   ]
  },
  {
   "cell_type": "markdown",
   "metadata": {},
   "source": [
    "- ### Selecting values from a DataFrame where a boolean condition is met."
   ]
  },
  {
   "cell_type": "code",
   "execution_count": 40,
   "metadata": {},
   "outputs": [
    {
     "data": {
      "text/html": [
       "<div>\n",
       "<style scoped>\n",
       "    .dataframe tbody tr th:only-of-type {\n",
       "        vertical-align: middle;\n",
       "    }\n",
       "\n",
       "    .dataframe tbody tr th {\n",
       "        vertical-align: top;\n",
       "    }\n",
       "\n",
       "    .dataframe thead th {\n",
       "        text-align: right;\n",
       "    }\n",
       "</style>\n",
       "<table border=\"1\" class=\"dataframe\">\n",
       "  <thead>\n",
       "    <tr style=\"text-align: right;\">\n",
       "      <th></th>\n",
       "      <th>X</th>\n",
       "      <th>Y</th>\n",
       "      <th>Z</th>\n",
       "    </tr>\n",
       "  </thead>\n",
       "  <tbody>\n",
       "    <tr>\n",
       "      <th>0</th>\n",
       "      <td>NaN</td>\n",
       "      <td>NaT</td>\n",
       "      <td>NaN</td>\n",
       "    </tr>\n",
       "    <tr>\n",
       "      <th>1</th>\n",
       "      <td>NaN</td>\n",
       "      <td>NaT</td>\n",
       "      <td>NaN</td>\n",
       "    </tr>\n",
       "    <tr>\n",
       "      <th>2</th>\n",
       "      <td>NaN</td>\n",
       "      <td>NaT</td>\n",
       "      <td>NaN</td>\n",
       "    </tr>\n",
       "    <tr>\n",
       "      <th>3</th>\n",
       "      <td>NaN</td>\n",
       "      <td>NaT</td>\n",
       "      <td>NaN</td>\n",
       "    </tr>\n",
       "  </tbody>\n",
       "</table>\n",
       "</div>"
      ],
      "text/plain": [
       "     X   Y   Z\n",
       "0  NaN NaT NaN\n",
       "1  NaN NaT NaN\n",
       "2  NaN NaT NaN\n",
       "3  NaN NaT NaN"
      ]
     },
     "execution_count": 40,
     "metadata": {},
     "output_type": "execute_result"
    }
   ],
   "source": [
    "df1[df > 0]"
   ]
  },
  {
   "cell_type": "code",
   "execution_count": 43,
   "metadata": {},
   "outputs": [
    {
     "data": {
      "text/html": [
       "<div>\n",
       "<style scoped>\n",
       "    .dataframe tbody tr th:only-of-type {\n",
       "        vertical-align: middle;\n",
       "    }\n",
       "\n",
       "    .dataframe tbody tr th {\n",
       "        vertical-align: top;\n",
       "    }\n",
       "\n",
       "    .dataframe thead th {\n",
       "        text-align: right;\n",
       "    }\n",
       "</style>\n",
       "<table border=\"1\" class=\"dataframe\">\n",
       "  <thead>\n",
       "    <tr style=\"text-align: right;\">\n",
       "      <th></th>\n",
       "      <th>X</th>\n",
       "      <th>Y</th>\n",
       "      <th>Z</th>\n",
       "      <th>E</th>\n",
       "    </tr>\n",
       "  </thead>\n",
       "  <tbody>\n",
       "    <tr>\n",
       "      <th>0</th>\n",
       "      <td>Name</td>\n",
       "      <td>1890-01-03</td>\n",
       "      <td>5</td>\n",
       "      <td>one</td>\n",
       "    </tr>\n",
       "    <tr>\n",
       "      <th>1</th>\n",
       "      <td>Name</td>\n",
       "      <td>1890-01-03</td>\n",
       "      <td>5</td>\n",
       "      <td>one</td>\n",
       "    </tr>\n",
       "    <tr>\n",
       "      <th>2</th>\n",
       "      <td>Name</td>\n",
       "      <td>1890-01-03</td>\n",
       "      <td>5</td>\n",
       "      <td>two</td>\n",
       "    </tr>\n",
       "    <tr>\n",
       "      <th>3</th>\n",
       "      <td>Name</td>\n",
       "      <td>1890-01-03</td>\n",
       "      <td>5</td>\n",
       "      <td>three</td>\n",
       "    </tr>\n",
       "  </tbody>\n",
       "</table>\n",
       "</div>"
      ],
      "text/plain": [
       "      X          Y  Z      E\n",
       "0  Name 1890-01-03  5    one\n",
       "1  Name 1890-01-03  5    one\n",
       "2  Name 1890-01-03  5    two\n",
       "3  Name 1890-01-03  5  three"
      ]
     },
     "execution_count": 43,
     "metadata": {},
     "output_type": "execute_result"
    }
   ],
   "source": [
    "df1['E'] = ['one', 'one','two','three']\n",
    "df1"
   ]
  },
  {
   "cell_type": "markdown",
   "metadata": {},
   "source": [
    "- ### Using the isin() method for filtering:"
   ]
  },
  {
   "cell_type": "code",
   "execution_count": 45,
   "metadata": {},
   "outputs": [
    {
     "data": {
      "text/html": [
       "<div>\n",
       "<style scoped>\n",
       "    .dataframe tbody tr th:only-of-type {\n",
       "        vertical-align: middle;\n",
       "    }\n",
       "\n",
       "    .dataframe tbody tr th {\n",
       "        vertical-align: top;\n",
       "    }\n",
       "\n",
       "    .dataframe thead th {\n",
       "        text-align: right;\n",
       "    }\n",
       "</style>\n",
       "<table border=\"1\" class=\"dataframe\">\n",
       "  <thead>\n",
       "    <tr style=\"text-align: right;\">\n",
       "      <th></th>\n",
       "      <th>X</th>\n",
       "      <th>Y</th>\n",
       "      <th>Z</th>\n",
       "      <th>E</th>\n",
       "    </tr>\n",
       "  </thead>\n",
       "  <tbody>\n",
       "    <tr>\n",
       "      <th>2</th>\n",
       "      <td>Name</td>\n",
       "      <td>1890-01-03</td>\n",
       "      <td>5</td>\n",
       "      <td>two</td>\n",
       "    </tr>\n",
       "  </tbody>\n",
       "</table>\n",
       "</div>"
      ],
      "text/plain": [
       "      X          Y  Z    E\n",
       "2  Name 1890-01-03  5  two"
      ]
     },
     "execution_count": 45,
     "metadata": {},
     "output_type": "execute_result"
    }
   ],
   "source": [
    "df1[df1['E'].isin(['two','four'])]"
   ]
  },
  {
   "cell_type": "markdown",
   "metadata": {},
   "source": [
    "- ### Using the isin() method for filtering:"
   ]
  },
  {
   "cell_type": "code",
   "execution_count": 464,
   "metadata": {},
   "outputs": [
    {
     "data": {
      "text/html": [
       "<div>\n",
       "<style scoped>\n",
       "    .dataframe tbody tr th:only-of-type {\n",
       "        vertical-align: middle;\n",
       "    }\n",
       "\n",
       "    .dataframe tbody tr th {\n",
       "        vertical-align: top;\n",
       "    }\n",
       "\n",
       "    .dataframe thead th {\n",
       "        text-align: right;\n",
       "    }\n",
       "</style>\n",
       "<table border=\"1\" class=\"dataframe\">\n",
       "  <thead>\n",
       "    <tr style=\"text-align: right;\">\n",
       "      <th></th>\n",
       "      <th>c1</th>\n",
       "      <th>c2</th>\n",
       "      <th>c3</th>\n",
       "      <th>c4</th>\n",
       "      <th>E</th>\n",
       "    </tr>\n",
       "  </thead>\n",
       "  <tbody>\n",
       "    <tr>\n",
       "      <th>0</th>\n",
       "      <td>1.958815</td>\n",
       "      <td>0.176657</td>\n",
       "      <td>1.180861</td>\n",
       "      <td>-0.435416</td>\n",
       "      <td>one</td>\n",
       "    </tr>\n",
       "    <tr>\n",
       "      <th>1</th>\n",
       "      <td>0.744520</td>\n",
       "      <td>0.519084</td>\n",
       "      <td>-0.309884</td>\n",
       "      <td>1.094044</td>\n",
       "      <td>one</td>\n",
       "    </tr>\n",
       "    <tr>\n",
       "      <th>2</th>\n",
       "      <td>-1.393381</td>\n",
       "      <td>0.662124</td>\n",
       "      <td>-0.805079</td>\n",
       "      <td>-1.043275</td>\n",
       "      <td>two</td>\n",
       "    </tr>\n",
       "    <tr>\n",
       "      <th>4</th>\n",
       "      <td>0.866108</td>\n",
       "      <td>0.343891</td>\n",
       "      <td>1.430990</td>\n",
       "      <td>-1.347236</td>\n",
       "      <td>four</td>\n",
       "    </tr>\n",
       "  </tbody>\n",
       "</table>\n",
       "</div>"
      ],
      "text/plain": [
       "         c1        c2        c3        c4     E\n",
       "0  1.958815  0.176657  1.180861 -0.435416   one\n",
       "1  0.744520  0.519084 -0.309884  1.094044   one\n",
       "2 -1.393381  0.662124 -0.805079 -1.043275   two\n",
       "4  0.866108  0.343891  1.430990 -1.347236  four"
      ]
     },
     "execution_count": 464,
     "metadata": {},
     "output_type": "execute_result"
    }
   ],
   "source": [
    "df2[df2['E'].isin(['two','four','six','one'])]"
   ]
  },
  {
   "cell_type": "code",
   "execution_count": 47,
   "metadata": {},
   "outputs": [
    {
     "data": {
      "text/html": [
       "<div>\n",
       "<style scoped>\n",
       "    .dataframe tbody tr th:only-of-type {\n",
       "        vertical-align: middle;\n",
       "    }\n",
       "\n",
       "    .dataframe tbody tr th {\n",
       "        vertical-align: top;\n",
       "    }\n",
       "\n",
       "    .dataframe thead th {\n",
       "        text-align: right;\n",
       "    }\n",
       "</style>\n",
       "<table border=\"1\" class=\"dataframe\">\n",
       "  <thead>\n",
       "    <tr style=\"text-align: right;\">\n",
       "      <th></th>\n",
       "      <th>A</th>\n",
       "      <th>B</th>\n",
       "      <th>C</th>\n",
       "      <th>E</th>\n",
       "      <th>X</th>\n",
       "      <th>Y</th>\n",
       "      <th>Z</th>\n",
       "      <th>new</th>\n",
       "    </tr>\n",
       "  </thead>\n",
       "  <tbody>\n",
       "    <tr>\n",
       "      <th>1990-01-01</th>\n",
       "      <td>0.691133</td>\n",
       "      <td>0.080478</td>\n",
       "      <td>-0.425175</td>\n",
       "      <td>-1.519217</td>\n",
       "      <td>-1.504297</td>\n",
       "      <td>-0.497605</td>\n",
       "      <td>-0.476438</td>\n",
       "      <td>2</td>\n",
       "    </tr>\n",
       "    <tr>\n",
       "      <th>1990-01-02</th>\n",
       "      <td>0.108330</td>\n",
       "      <td>0.675414</td>\n",
       "      <td>2.550257</td>\n",
       "      <td>0.103392</td>\n",
       "      <td>-0.153872</td>\n",
       "      <td>0.437419</td>\n",
       "      <td>0.632337</td>\n",
       "      <td>5</td>\n",
       "    </tr>\n",
       "    <tr>\n",
       "      <th>1990-01-03</th>\n",
       "      <td>0.297155</td>\n",
       "      <td>3.268064</td>\n",
       "      <td>0.211028</td>\n",
       "      <td>-0.992803</td>\n",
       "      <td>-0.581287</td>\n",
       "      <td>0.489401</td>\n",
       "      <td>-0.085446</td>\n",
       "      <td>7</td>\n",
       "    </tr>\n",
       "    <tr>\n",
       "      <th>1990-01-04</th>\n",
       "      <td>-0.925841</td>\n",
       "      <td>0.553218</td>\n",
       "      <td>0.973023</td>\n",
       "      <td>0.170026</td>\n",
       "      <td>-0.447368</td>\n",
       "      <td>-1.128693</td>\n",
       "      <td>0.464153</td>\n",
       "      <td>4</td>\n",
       "    </tr>\n",
       "    <tr>\n",
       "      <th>1990-01-05</th>\n",
       "      <td>-1.959059</td>\n",
       "      <td>0.064268</td>\n",
       "      <td>-0.010302</td>\n",
       "      <td>-1.911503</td>\n",
       "      <td>-1.374553</td>\n",
       "      <td>-0.193295</td>\n",
       "      <td>0.527016</td>\n",
       "      <td>10</td>\n",
       "    </tr>\n",
       "    <tr>\n",
       "      <th>1990-01-06</th>\n",
       "      <td>-0.368144</td>\n",
       "      <td>0.851787</td>\n",
       "      <td>1.473921</td>\n",
       "      <td>1.814470</td>\n",
       "      <td>-0.158404</td>\n",
       "      <td>-0.311191</td>\n",
       "      <td>0.552775</td>\n",
       "      <td>6</td>\n",
       "    </tr>\n",
       "    <tr>\n",
       "      <th>1990-01-07</th>\n",
       "      <td>0.068822</td>\n",
       "      <td>0.515314</td>\n",
       "      <td>-0.532632</td>\n",
       "      <td>-0.811078</td>\n",
       "      <td>-0.586109</td>\n",
       "      <td>0.783445</td>\n",
       "      <td>-1.068010</td>\n",
       "      <td>7</td>\n",
       "    </tr>\n",
       "    <tr>\n",
       "      <th>1990-01-08</th>\n",
       "      <td>-0.029164</td>\n",
       "      <td>0.149199</td>\n",
       "      <td>1.094048</td>\n",
       "      <td>-1.405978</td>\n",
       "      <td>-0.694015</td>\n",
       "      <td>-2.200626</td>\n",
       "      <td>-0.301170</td>\n",
       "      <td>8</td>\n",
       "    </tr>\n",
       "    <tr>\n",
       "      <th>1990-01-09</th>\n",
       "      <td>1.031058</td>\n",
       "      <td>-2.709403</td>\n",
       "      <td>-0.704999</td>\n",
       "      <td>0.770929</td>\n",
       "      <td>-1.083831</td>\n",
       "      <td>0.568859</td>\n",
       "      <td>-0.487857</td>\n",
       "      <td>9</td>\n",
       "    </tr>\n",
       "    <tr>\n",
       "      <th>1990-01-10</th>\n",
       "      <td>0.157411</td>\n",
       "      <td>1.236707</td>\n",
       "      <td>-1.152644</td>\n",
       "      <td>-0.669889</td>\n",
       "      <td>0.030575</td>\n",
       "      <td>0.604015</td>\n",
       "      <td>-0.449346</td>\n",
       "      <td>9</td>\n",
       "    </tr>\n",
       "    <tr>\n",
       "      <th>1990-01-11</th>\n",
       "      <td>0.167148</td>\n",
       "      <td>-0.857442</td>\n",
       "      <td>-1.607847</td>\n",
       "      <td>0.214819</td>\n",
       "      <td>0.569119</td>\n",
       "      <td>2.441606</td>\n",
       "      <td>-0.362325</td>\n",
       "      <td>6</td>\n",
       "    </tr>\n",
       "    <tr>\n",
       "      <th>1990-01-12</th>\n",
       "      <td>4.047040</td>\n",
       "      <td>-0.193401</td>\n",
       "      <td>1.301385</td>\n",
       "      <td>0.479371</td>\n",
       "      <td>0.133905</td>\n",
       "      <td>-1.226598</td>\n",
       "      <td>-2.642041</td>\n",
       "      <td>7</td>\n",
       "    </tr>\n",
       "    <tr>\n",
       "      <th>1990-01-13</th>\n",
       "      <td>-0.437886</td>\n",
       "      <td>0.362715</td>\n",
       "      <td>0.728041</td>\n",
       "      <td>-0.266579</td>\n",
       "      <td>0.500580</td>\n",
       "      <td>-0.419659</td>\n",
       "      <td>0.429236</td>\n",
       "      <td>8</td>\n",
       "    </tr>\n",
       "    <tr>\n",
       "      <th>1990-01-14</th>\n",
       "      <td>-0.455058</td>\n",
       "      <td>-0.150104</td>\n",
       "      <td>-1.047409</td>\n",
       "      <td>-0.308258</td>\n",
       "      <td>-1.734136</td>\n",
       "      <td>1.641054</td>\n",
       "      <td>-0.516483</td>\n",
       "      <td>9</td>\n",
       "    </tr>\n",
       "    <tr>\n",
       "      <th>1990-01-15</th>\n",
       "      <td>-2.225380</td>\n",
       "      <td>-0.266270</td>\n",
       "      <td>3.038718</td>\n",
       "      <td>-0.800371</td>\n",
       "      <td>-0.172869</td>\n",
       "      <td>0.894110</td>\n",
       "      <td>-0.816712</td>\n",
       "      <td>9</td>\n",
       "    </tr>\n",
       "    <tr>\n",
       "      <th>1990-01-16</th>\n",
       "      <td>-1.306015</td>\n",
       "      <td>-1.358212</td>\n",
       "      <td>0.886524</td>\n",
       "      <td>0.487001</td>\n",
       "      <td>1.028081</td>\n",
       "      <td>-1.047636</td>\n",
       "      <td>1.405344</td>\n",
       "      <td>6</td>\n",
       "    </tr>\n",
       "    <tr>\n",
       "      <th>1990-01-17</th>\n",
       "      <td>0.908162</td>\n",
       "      <td>-0.345066</td>\n",
       "      <td>0.329037</td>\n",
       "      <td>-0.148751</td>\n",
       "      <td>-0.827649</td>\n",
       "      <td>-0.021842</td>\n",
       "      <td>-0.393424</td>\n",
       "      <td>7</td>\n",
       "    </tr>\n",
       "    <tr>\n",
       "      <th>1990-01-18</th>\n",
       "      <td>-0.809295</td>\n",
       "      <td>0.273379</td>\n",
       "      <td>1.893833</td>\n",
       "      <td>-0.304442</td>\n",
       "      <td>0.363624</td>\n",
       "      <td>-1.179080</td>\n",
       "      <td>0.418394</td>\n",
       "      <td>8</td>\n",
       "    </tr>\n",
       "    <tr>\n",
       "      <th>1990-01-19</th>\n",
       "      <td>-1.007396</td>\n",
       "      <td>-1.315641</td>\n",
       "      <td>-0.340901</td>\n",
       "      <td>0.795873</td>\n",
       "      <td>-1.060791</td>\n",
       "      <td>-0.838686</td>\n",
       "      <td>0.857014</td>\n",
       "      <td>9</td>\n",
       "    </tr>\n",
       "    <tr>\n",
       "      <th>1990-01-20</th>\n",
       "      <td>1.448563</td>\n",
       "      <td>0.615205</td>\n",
       "      <td>-0.121039</td>\n",
       "      <td>-1.105176</td>\n",
       "      <td>-0.829918</td>\n",
       "      <td>-1.627442</td>\n",
       "      <td>0.082096</td>\n",
       "      <td>9</td>\n",
       "    </tr>\n",
       "  </tbody>\n",
       "</table>\n",
       "</div>"
      ],
      "text/plain": [
       "                   A         B         C         E         X         Y  \\\n",
       "1990-01-01  0.691133  0.080478 -0.425175 -1.519217 -1.504297 -0.497605   \n",
       "1990-01-02  0.108330  0.675414  2.550257  0.103392 -0.153872  0.437419   \n",
       "1990-01-03  0.297155  3.268064  0.211028 -0.992803 -0.581287  0.489401   \n",
       "1990-01-04 -0.925841  0.553218  0.973023  0.170026 -0.447368 -1.128693   \n",
       "1990-01-05 -1.959059  0.064268 -0.010302 -1.911503 -1.374553 -0.193295   \n",
       "1990-01-06 -0.368144  0.851787  1.473921  1.814470 -0.158404 -0.311191   \n",
       "1990-01-07  0.068822  0.515314 -0.532632 -0.811078 -0.586109  0.783445   \n",
       "1990-01-08 -0.029164  0.149199  1.094048 -1.405978 -0.694015 -2.200626   \n",
       "1990-01-09  1.031058 -2.709403 -0.704999  0.770929 -1.083831  0.568859   \n",
       "1990-01-10  0.157411  1.236707 -1.152644 -0.669889  0.030575  0.604015   \n",
       "1990-01-11  0.167148 -0.857442 -1.607847  0.214819  0.569119  2.441606   \n",
       "1990-01-12  4.047040 -0.193401  1.301385  0.479371  0.133905 -1.226598   \n",
       "1990-01-13 -0.437886  0.362715  0.728041 -0.266579  0.500580 -0.419659   \n",
       "1990-01-14 -0.455058 -0.150104 -1.047409 -0.308258 -1.734136  1.641054   \n",
       "1990-01-15 -2.225380 -0.266270  3.038718 -0.800371 -0.172869  0.894110   \n",
       "1990-01-16 -1.306015 -1.358212  0.886524  0.487001  1.028081 -1.047636   \n",
       "1990-01-17  0.908162 -0.345066  0.329037 -0.148751 -0.827649 -0.021842   \n",
       "1990-01-18 -0.809295  0.273379  1.893833 -0.304442  0.363624 -1.179080   \n",
       "1990-01-19 -1.007396 -1.315641 -0.340901  0.795873 -1.060791 -0.838686   \n",
       "1990-01-20  1.448563  0.615205 -0.121039 -1.105176 -0.829918 -1.627442   \n",
       "\n",
       "                   Z  new  \n",
       "1990-01-01 -0.476438    2  \n",
       "1990-01-02  0.632337    5  \n",
       "1990-01-03 -0.085446    7  \n",
       "1990-01-04  0.464153    4  \n",
       "1990-01-05  0.527016   10  \n",
       "1990-01-06  0.552775    6  \n",
       "1990-01-07 -1.068010    7  \n",
       "1990-01-08 -0.301170    8  \n",
       "1990-01-09 -0.487857    9  \n",
       "1990-01-10 -0.449346    9  \n",
       "1990-01-11 -0.362325    6  \n",
       "1990-01-12 -2.642041    7  \n",
       "1990-01-13  0.429236    8  \n",
       "1990-01-14 -0.516483    9  \n",
       "1990-01-15 -0.816712    9  \n",
       "1990-01-16  1.405344    6  \n",
       "1990-01-17 -0.393424    7  \n",
       "1990-01-18  0.418394    8  \n",
       "1990-01-19  0.857014    9  \n",
       "1990-01-20  0.082096    9  "
      ]
     },
     "execution_count": 47,
     "metadata": {},
     "output_type": "execute_result"
    }
   ],
   "source": [
    "df['new'] = [2,5,7,4,10,6,7,8,9,9,6,7,8,9,9,6,7,8,9,9]\n",
    "df"
   ]
  },
  {
   "cell_type": "code",
   "execution_count": 48,
   "metadata": {},
   "outputs": [
    {
     "data": {
      "text/html": [
       "<div>\n",
       "<style scoped>\n",
       "    .dataframe tbody tr th:only-of-type {\n",
       "        vertical-align: middle;\n",
       "    }\n",
       "\n",
       "    .dataframe tbody tr th {\n",
       "        vertical-align: top;\n",
       "    }\n",
       "\n",
       "    .dataframe thead th {\n",
       "        text-align: right;\n",
       "    }\n",
       "</style>\n",
       "<table border=\"1\" class=\"dataframe\">\n",
       "  <thead>\n",
       "    <tr style=\"text-align: right;\">\n",
       "      <th></th>\n",
       "      <th>A</th>\n",
       "      <th>B</th>\n",
       "      <th>C</th>\n",
       "      <th>E</th>\n",
       "      <th>X</th>\n",
       "      <th>Y</th>\n",
       "      <th>Z</th>\n",
       "      <th>new</th>\n",
       "    </tr>\n",
       "  </thead>\n",
       "  <tbody>\n",
       "    <tr>\n",
       "      <th>1990-01-01</th>\n",
       "      <td>NaN</td>\n",
       "      <td>NaN</td>\n",
       "      <td>-0.425175</td>\n",
       "      <td>-1.519217</td>\n",
       "      <td>-1.504297</td>\n",
       "      <td>-0.497605</td>\n",
       "      <td>-0.476438</td>\n",
       "      <td>NaN</td>\n",
       "    </tr>\n",
       "    <tr>\n",
       "      <th>1990-01-02</th>\n",
       "      <td>NaN</td>\n",
       "      <td>NaN</td>\n",
       "      <td>NaN</td>\n",
       "      <td>NaN</td>\n",
       "      <td>-0.153872</td>\n",
       "      <td>NaN</td>\n",
       "      <td>NaN</td>\n",
       "      <td>NaN</td>\n",
       "    </tr>\n",
       "    <tr>\n",
       "      <th>1990-01-03</th>\n",
       "      <td>NaN</td>\n",
       "      <td>NaN</td>\n",
       "      <td>NaN</td>\n",
       "      <td>-0.992803</td>\n",
       "      <td>-0.581287</td>\n",
       "      <td>NaN</td>\n",
       "      <td>-0.085446</td>\n",
       "      <td>NaN</td>\n",
       "    </tr>\n",
       "    <tr>\n",
       "      <th>1990-01-04</th>\n",
       "      <td>-0.925841</td>\n",
       "      <td>NaN</td>\n",
       "      <td>NaN</td>\n",
       "      <td>NaN</td>\n",
       "      <td>-0.447368</td>\n",
       "      <td>-1.128693</td>\n",
       "      <td>NaN</td>\n",
       "      <td>NaN</td>\n",
       "    </tr>\n",
       "    <tr>\n",
       "      <th>1990-01-05</th>\n",
       "      <td>-1.959059</td>\n",
       "      <td>NaN</td>\n",
       "      <td>-0.010302</td>\n",
       "      <td>-1.911503</td>\n",
       "      <td>-1.374553</td>\n",
       "      <td>-0.193295</td>\n",
       "      <td>NaN</td>\n",
       "      <td>NaN</td>\n",
       "    </tr>\n",
       "    <tr>\n",
       "      <th>1990-01-06</th>\n",
       "      <td>-0.368144</td>\n",
       "      <td>NaN</td>\n",
       "      <td>NaN</td>\n",
       "      <td>NaN</td>\n",
       "      <td>-0.158404</td>\n",
       "      <td>-0.311191</td>\n",
       "      <td>NaN</td>\n",
       "      <td>NaN</td>\n",
       "    </tr>\n",
       "    <tr>\n",
       "      <th>1990-01-07</th>\n",
       "      <td>NaN</td>\n",
       "      <td>NaN</td>\n",
       "      <td>-0.532632</td>\n",
       "      <td>-0.811078</td>\n",
       "      <td>-0.586109</td>\n",
       "      <td>NaN</td>\n",
       "      <td>-1.068010</td>\n",
       "      <td>NaN</td>\n",
       "    </tr>\n",
       "    <tr>\n",
       "      <th>1990-01-08</th>\n",
       "      <td>-0.029164</td>\n",
       "      <td>NaN</td>\n",
       "      <td>NaN</td>\n",
       "      <td>-1.405978</td>\n",
       "      <td>-0.694015</td>\n",
       "      <td>-2.200626</td>\n",
       "      <td>-0.301170</td>\n",
       "      <td>NaN</td>\n",
       "    </tr>\n",
       "    <tr>\n",
       "      <th>1990-01-09</th>\n",
       "      <td>NaN</td>\n",
       "      <td>-2.709403</td>\n",
       "      <td>-0.704999</td>\n",
       "      <td>NaN</td>\n",
       "      <td>-1.083831</td>\n",
       "      <td>NaN</td>\n",
       "      <td>-0.487857</td>\n",
       "      <td>NaN</td>\n",
       "    </tr>\n",
       "    <tr>\n",
       "      <th>1990-01-10</th>\n",
       "      <td>NaN</td>\n",
       "      <td>NaN</td>\n",
       "      <td>-1.152644</td>\n",
       "      <td>-0.669889</td>\n",
       "      <td>NaN</td>\n",
       "      <td>NaN</td>\n",
       "      <td>-0.449346</td>\n",
       "      <td>NaN</td>\n",
       "    </tr>\n",
       "    <tr>\n",
       "      <th>1990-01-11</th>\n",
       "      <td>NaN</td>\n",
       "      <td>-0.857442</td>\n",
       "      <td>-1.607847</td>\n",
       "      <td>NaN</td>\n",
       "      <td>NaN</td>\n",
       "      <td>NaN</td>\n",
       "      <td>-0.362325</td>\n",
       "      <td>NaN</td>\n",
       "    </tr>\n",
       "    <tr>\n",
       "      <th>1990-01-12</th>\n",
       "      <td>NaN</td>\n",
       "      <td>-0.193401</td>\n",
       "      <td>NaN</td>\n",
       "      <td>NaN</td>\n",
       "      <td>NaN</td>\n",
       "      <td>-1.226598</td>\n",
       "      <td>-2.642041</td>\n",
       "      <td>NaN</td>\n",
       "    </tr>\n",
       "    <tr>\n",
       "      <th>1990-01-13</th>\n",
       "      <td>-0.437886</td>\n",
       "      <td>NaN</td>\n",
       "      <td>NaN</td>\n",
       "      <td>-0.266579</td>\n",
       "      <td>NaN</td>\n",
       "      <td>-0.419659</td>\n",
       "      <td>NaN</td>\n",
       "      <td>NaN</td>\n",
       "    </tr>\n",
       "    <tr>\n",
       "      <th>1990-01-14</th>\n",
       "      <td>-0.455058</td>\n",
       "      <td>-0.150104</td>\n",
       "      <td>-1.047409</td>\n",
       "      <td>-0.308258</td>\n",
       "      <td>-1.734136</td>\n",
       "      <td>NaN</td>\n",
       "      <td>-0.516483</td>\n",
       "      <td>NaN</td>\n",
       "    </tr>\n",
       "    <tr>\n",
       "      <th>1990-01-15</th>\n",
       "      <td>-2.225380</td>\n",
       "      <td>-0.266270</td>\n",
       "      <td>NaN</td>\n",
       "      <td>-0.800371</td>\n",
       "      <td>-0.172869</td>\n",
       "      <td>NaN</td>\n",
       "      <td>-0.816712</td>\n",
       "      <td>NaN</td>\n",
       "    </tr>\n",
       "    <tr>\n",
       "      <th>1990-01-16</th>\n",
       "      <td>-1.306015</td>\n",
       "      <td>-1.358212</td>\n",
       "      <td>NaN</td>\n",
       "      <td>NaN</td>\n",
       "      <td>NaN</td>\n",
       "      <td>-1.047636</td>\n",
       "      <td>NaN</td>\n",
       "      <td>NaN</td>\n",
       "    </tr>\n",
       "    <tr>\n",
       "      <th>1990-01-17</th>\n",
       "      <td>NaN</td>\n",
       "      <td>-0.345066</td>\n",
       "      <td>NaN</td>\n",
       "      <td>-0.148751</td>\n",
       "      <td>-0.827649</td>\n",
       "      <td>-0.021842</td>\n",
       "      <td>-0.393424</td>\n",
       "      <td>NaN</td>\n",
       "    </tr>\n",
       "    <tr>\n",
       "      <th>1990-01-18</th>\n",
       "      <td>-0.809295</td>\n",
       "      <td>NaN</td>\n",
       "      <td>NaN</td>\n",
       "      <td>-0.304442</td>\n",
       "      <td>NaN</td>\n",
       "      <td>-1.179080</td>\n",
       "      <td>NaN</td>\n",
       "      <td>NaN</td>\n",
       "    </tr>\n",
       "    <tr>\n",
       "      <th>1990-01-19</th>\n",
       "      <td>-1.007396</td>\n",
       "      <td>-1.315641</td>\n",
       "      <td>-0.340901</td>\n",
       "      <td>NaN</td>\n",
       "      <td>-1.060791</td>\n",
       "      <td>-0.838686</td>\n",
       "      <td>NaN</td>\n",
       "      <td>NaN</td>\n",
       "    </tr>\n",
       "    <tr>\n",
       "      <th>1990-01-20</th>\n",
       "      <td>NaN</td>\n",
       "      <td>NaN</td>\n",
       "      <td>-0.121039</td>\n",
       "      <td>-1.105176</td>\n",
       "      <td>-0.829918</td>\n",
       "      <td>-1.627442</td>\n",
       "      <td>NaN</td>\n",
       "      <td>NaN</td>\n",
       "    </tr>\n",
       "  </tbody>\n",
       "</table>\n",
       "</div>"
      ],
      "text/plain": [
       "                   A         B         C         E         X         Y  \\\n",
       "1990-01-01       NaN       NaN -0.425175 -1.519217 -1.504297 -0.497605   \n",
       "1990-01-02       NaN       NaN       NaN       NaN -0.153872       NaN   \n",
       "1990-01-03       NaN       NaN       NaN -0.992803 -0.581287       NaN   \n",
       "1990-01-04 -0.925841       NaN       NaN       NaN -0.447368 -1.128693   \n",
       "1990-01-05 -1.959059       NaN -0.010302 -1.911503 -1.374553 -0.193295   \n",
       "1990-01-06 -0.368144       NaN       NaN       NaN -0.158404 -0.311191   \n",
       "1990-01-07       NaN       NaN -0.532632 -0.811078 -0.586109       NaN   \n",
       "1990-01-08 -0.029164       NaN       NaN -1.405978 -0.694015 -2.200626   \n",
       "1990-01-09       NaN -2.709403 -0.704999       NaN -1.083831       NaN   \n",
       "1990-01-10       NaN       NaN -1.152644 -0.669889       NaN       NaN   \n",
       "1990-01-11       NaN -0.857442 -1.607847       NaN       NaN       NaN   \n",
       "1990-01-12       NaN -0.193401       NaN       NaN       NaN -1.226598   \n",
       "1990-01-13 -0.437886       NaN       NaN -0.266579       NaN -0.419659   \n",
       "1990-01-14 -0.455058 -0.150104 -1.047409 -0.308258 -1.734136       NaN   \n",
       "1990-01-15 -2.225380 -0.266270       NaN -0.800371 -0.172869       NaN   \n",
       "1990-01-16 -1.306015 -1.358212       NaN       NaN       NaN -1.047636   \n",
       "1990-01-17       NaN -0.345066       NaN -0.148751 -0.827649 -0.021842   \n",
       "1990-01-18 -0.809295       NaN       NaN -0.304442       NaN -1.179080   \n",
       "1990-01-19 -1.007396 -1.315641 -0.340901       NaN -1.060791 -0.838686   \n",
       "1990-01-20       NaN       NaN -0.121039 -1.105176 -0.829918 -1.627442   \n",
       "\n",
       "                   Z  new  \n",
       "1990-01-01 -0.476438  NaN  \n",
       "1990-01-02       NaN  NaN  \n",
       "1990-01-03 -0.085446  NaN  \n",
       "1990-01-04       NaN  NaN  \n",
       "1990-01-05       NaN  NaN  \n",
       "1990-01-06       NaN  NaN  \n",
       "1990-01-07 -1.068010  NaN  \n",
       "1990-01-08 -0.301170  NaN  \n",
       "1990-01-09 -0.487857  NaN  \n",
       "1990-01-10 -0.449346  NaN  \n",
       "1990-01-11 -0.362325  NaN  \n",
       "1990-01-12 -2.642041  NaN  \n",
       "1990-01-13       NaN  NaN  \n",
       "1990-01-14 -0.516483  NaN  \n",
       "1990-01-15 -0.816712  NaN  \n",
       "1990-01-16       NaN  NaN  \n",
       "1990-01-17 -0.393424  NaN  \n",
       "1990-01-18       NaN  NaN  \n",
       "1990-01-19       NaN  NaN  \n",
       "1990-01-20       NaN  NaN  "
      ]
     },
     "execution_count": 48,
     "metadata": {},
     "output_type": "execute_result"
    }
   ],
   "source": [
    "df[df<0]"
   ]
  },
  {
   "cell_type": "code",
   "execution_count": 49,
   "metadata": {},
   "outputs": [
    {
     "data": {
      "text/html": [
       "<div>\n",
       "<style scoped>\n",
       "    .dataframe tbody tr th:only-of-type {\n",
       "        vertical-align: middle;\n",
       "    }\n",
       "\n",
       "    .dataframe tbody tr th {\n",
       "        vertical-align: top;\n",
       "    }\n",
       "\n",
       "    .dataframe thead th {\n",
       "        text-align: right;\n",
       "    }\n",
       "</style>\n",
       "<table border=\"1\" class=\"dataframe\">\n",
       "  <thead>\n",
       "    <tr style=\"text-align: right;\">\n",
       "      <th></th>\n",
       "      <th>A</th>\n",
       "      <th>B</th>\n",
       "      <th>C</th>\n",
       "      <th>E</th>\n",
       "      <th>X</th>\n",
       "      <th>Y</th>\n",
       "      <th>Z</th>\n",
       "      <th>new</th>\n",
       "    </tr>\n",
       "  </thead>\n",
       "  <tbody>\n",
       "    <tr>\n",
       "      <th>1990-01-01</th>\n",
       "      <td>NaN</td>\n",
       "      <td>NaN</td>\n",
       "      <td>NaN</td>\n",
       "      <td>NaN</td>\n",
       "      <td>NaN</td>\n",
       "      <td>NaN</td>\n",
       "      <td>NaN</td>\n",
       "      <td>NaN</td>\n",
       "    </tr>\n",
       "    <tr>\n",
       "      <th>1990-01-02</th>\n",
       "      <td>NaN</td>\n",
       "      <td>NaN</td>\n",
       "      <td>NaN</td>\n",
       "      <td>NaN</td>\n",
       "      <td>NaN</td>\n",
       "      <td>NaN</td>\n",
       "      <td>NaN</td>\n",
       "      <td>NaN</td>\n",
       "    </tr>\n",
       "    <tr>\n",
       "      <th>1990-01-03</th>\n",
       "      <td>NaN</td>\n",
       "      <td>NaN</td>\n",
       "      <td>NaN</td>\n",
       "      <td>NaN</td>\n",
       "      <td>NaN</td>\n",
       "      <td>NaN</td>\n",
       "      <td>NaN</td>\n",
       "      <td>NaN</td>\n",
       "    </tr>\n",
       "    <tr>\n",
       "      <th>1990-01-04</th>\n",
       "      <td>NaN</td>\n",
       "      <td>NaN</td>\n",
       "      <td>NaN</td>\n",
       "      <td>NaN</td>\n",
       "      <td>NaN</td>\n",
       "      <td>NaN</td>\n",
       "      <td>NaN</td>\n",
       "      <td>NaN</td>\n",
       "    </tr>\n",
       "    <tr>\n",
       "      <th>1990-01-05</th>\n",
       "      <td>NaN</td>\n",
       "      <td>NaN</td>\n",
       "      <td>NaN</td>\n",
       "      <td>NaN</td>\n",
       "      <td>NaN</td>\n",
       "      <td>NaN</td>\n",
       "      <td>NaN</td>\n",
       "      <td>NaN</td>\n",
       "    </tr>\n",
       "    <tr>\n",
       "      <th>1990-01-06</th>\n",
       "      <td>NaN</td>\n",
       "      <td>NaN</td>\n",
       "      <td>NaN</td>\n",
       "      <td>NaN</td>\n",
       "      <td>NaN</td>\n",
       "      <td>NaN</td>\n",
       "      <td>NaN</td>\n",
       "      <td>NaN</td>\n",
       "    </tr>\n",
       "    <tr>\n",
       "      <th>1990-01-07</th>\n",
       "      <td>NaN</td>\n",
       "      <td>NaN</td>\n",
       "      <td>NaN</td>\n",
       "      <td>NaN</td>\n",
       "      <td>NaN</td>\n",
       "      <td>NaN</td>\n",
       "      <td>NaN</td>\n",
       "      <td>NaN</td>\n",
       "    </tr>\n",
       "    <tr>\n",
       "      <th>1990-01-08</th>\n",
       "      <td>NaN</td>\n",
       "      <td>NaN</td>\n",
       "      <td>NaN</td>\n",
       "      <td>NaN</td>\n",
       "      <td>NaN</td>\n",
       "      <td>NaN</td>\n",
       "      <td>NaN</td>\n",
       "      <td>NaN</td>\n",
       "    </tr>\n",
       "    <tr>\n",
       "      <th>1990-01-09</th>\n",
       "      <td>NaN</td>\n",
       "      <td>NaN</td>\n",
       "      <td>NaN</td>\n",
       "      <td>NaN</td>\n",
       "      <td>NaN</td>\n",
       "      <td>NaN</td>\n",
       "      <td>NaN</td>\n",
       "      <td>NaN</td>\n",
       "    </tr>\n",
       "    <tr>\n",
       "      <th>1990-01-10</th>\n",
       "      <td>NaN</td>\n",
       "      <td>NaN</td>\n",
       "      <td>NaN</td>\n",
       "      <td>NaN</td>\n",
       "      <td>NaN</td>\n",
       "      <td>NaN</td>\n",
       "      <td>NaN</td>\n",
       "      <td>NaN</td>\n",
       "    </tr>\n",
       "    <tr>\n",
       "      <th>1990-01-11</th>\n",
       "      <td>NaN</td>\n",
       "      <td>NaN</td>\n",
       "      <td>NaN</td>\n",
       "      <td>NaN</td>\n",
       "      <td>NaN</td>\n",
       "      <td>NaN</td>\n",
       "      <td>NaN</td>\n",
       "      <td>NaN</td>\n",
       "    </tr>\n",
       "    <tr>\n",
       "      <th>1990-01-12</th>\n",
       "      <td>NaN</td>\n",
       "      <td>NaN</td>\n",
       "      <td>NaN</td>\n",
       "      <td>NaN</td>\n",
       "      <td>NaN</td>\n",
       "      <td>NaN</td>\n",
       "      <td>NaN</td>\n",
       "      <td>NaN</td>\n",
       "    </tr>\n",
       "    <tr>\n",
       "      <th>1990-01-13</th>\n",
       "      <td>NaN</td>\n",
       "      <td>NaN</td>\n",
       "      <td>NaN</td>\n",
       "      <td>NaN</td>\n",
       "      <td>NaN</td>\n",
       "      <td>NaN</td>\n",
       "      <td>NaN</td>\n",
       "      <td>NaN</td>\n",
       "    </tr>\n",
       "    <tr>\n",
       "      <th>1990-01-14</th>\n",
       "      <td>NaN</td>\n",
       "      <td>NaN</td>\n",
       "      <td>NaN</td>\n",
       "      <td>NaN</td>\n",
       "      <td>NaN</td>\n",
       "      <td>NaN</td>\n",
       "      <td>NaN</td>\n",
       "      <td>NaN</td>\n",
       "    </tr>\n",
       "    <tr>\n",
       "      <th>1990-01-15</th>\n",
       "      <td>NaN</td>\n",
       "      <td>NaN</td>\n",
       "      <td>NaN</td>\n",
       "      <td>NaN</td>\n",
       "      <td>NaN</td>\n",
       "      <td>NaN</td>\n",
       "      <td>NaN</td>\n",
       "      <td>NaN</td>\n",
       "    </tr>\n",
       "    <tr>\n",
       "      <th>1990-01-16</th>\n",
       "      <td>NaN</td>\n",
       "      <td>NaN</td>\n",
       "      <td>NaN</td>\n",
       "      <td>NaN</td>\n",
       "      <td>NaN</td>\n",
       "      <td>NaN</td>\n",
       "      <td>NaN</td>\n",
       "      <td>NaN</td>\n",
       "    </tr>\n",
       "    <tr>\n",
       "      <th>1990-01-17</th>\n",
       "      <td>NaN</td>\n",
       "      <td>NaN</td>\n",
       "      <td>NaN</td>\n",
       "      <td>NaN</td>\n",
       "      <td>NaN</td>\n",
       "      <td>NaN</td>\n",
       "      <td>NaN</td>\n",
       "      <td>NaN</td>\n",
       "    </tr>\n",
       "    <tr>\n",
       "      <th>1990-01-18</th>\n",
       "      <td>NaN</td>\n",
       "      <td>NaN</td>\n",
       "      <td>NaN</td>\n",
       "      <td>NaN</td>\n",
       "      <td>NaN</td>\n",
       "      <td>NaN</td>\n",
       "      <td>NaN</td>\n",
       "      <td>NaN</td>\n",
       "    </tr>\n",
       "    <tr>\n",
       "      <th>1990-01-19</th>\n",
       "      <td>NaN</td>\n",
       "      <td>NaN</td>\n",
       "      <td>NaN</td>\n",
       "      <td>NaN</td>\n",
       "      <td>NaN</td>\n",
       "      <td>NaN</td>\n",
       "      <td>NaN</td>\n",
       "      <td>NaN</td>\n",
       "    </tr>\n",
       "    <tr>\n",
       "      <th>1990-01-20</th>\n",
       "      <td>NaN</td>\n",
       "      <td>NaN</td>\n",
       "      <td>NaN</td>\n",
       "      <td>NaN</td>\n",
       "      <td>NaN</td>\n",
       "      <td>NaN</td>\n",
       "      <td>NaN</td>\n",
       "      <td>NaN</td>\n",
       "    </tr>\n",
       "  </tbody>\n",
       "</table>\n",
       "</div>"
      ],
      "text/plain": [
       "             A   B   C   E   X   Y   Z  new\n",
       "1990-01-01 NaN NaN NaN NaN NaN NaN NaN  NaN\n",
       "1990-01-02 NaN NaN NaN NaN NaN NaN NaN  NaN\n",
       "1990-01-03 NaN NaN NaN NaN NaN NaN NaN  NaN\n",
       "1990-01-04 NaN NaN NaN NaN NaN NaN NaN  NaN\n",
       "1990-01-05 NaN NaN NaN NaN NaN NaN NaN  NaN\n",
       "1990-01-06 NaN NaN NaN NaN NaN NaN NaN  NaN\n",
       "1990-01-07 NaN NaN NaN NaN NaN NaN NaN  NaN\n",
       "1990-01-08 NaN NaN NaN NaN NaN NaN NaN  NaN\n",
       "1990-01-09 NaN NaN NaN NaN NaN NaN NaN  NaN\n",
       "1990-01-10 NaN NaN NaN NaN NaN NaN NaN  NaN\n",
       "1990-01-11 NaN NaN NaN NaN NaN NaN NaN  NaN\n",
       "1990-01-12 NaN NaN NaN NaN NaN NaN NaN  NaN\n",
       "1990-01-13 NaN NaN NaN NaN NaN NaN NaN  NaN\n",
       "1990-01-14 NaN NaN NaN NaN NaN NaN NaN  NaN\n",
       "1990-01-15 NaN NaN NaN NaN NaN NaN NaN  NaN\n",
       "1990-01-16 NaN NaN NaN NaN NaN NaN NaN  NaN\n",
       "1990-01-17 NaN NaN NaN NaN NaN NaN NaN  NaN\n",
       "1990-01-18 NaN NaN NaN NaN NaN NaN NaN  NaN\n",
       "1990-01-19 NaN NaN NaN NaN NaN NaN NaN  NaN\n",
       "1990-01-20 NaN NaN NaN NaN NaN NaN NaN  NaN"
      ]
     },
     "execution_count": 49,
     "metadata": {},
     "output_type": "execute_result"
    }
   ],
   "source": [
    "df[df==0]"
   ]
  },
  {
   "cell_type": "code",
   "execution_count": 50,
   "metadata": {},
   "outputs": [
    {
     "data": {
      "text/html": [
       "<div>\n",
       "<style scoped>\n",
       "    .dataframe tbody tr th:only-of-type {\n",
       "        vertical-align: middle;\n",
       "    }\n",
       "\n",
       "    .dataframe tbody tr th {\n",
       "        vertical-align: top;\n",
       "    }\n",
       "\n",
       "    .dataframe thead th {\n",
       "        text-align: right;\n",
       "    }\n",
       "</style>\n",
       "<table border=\"1\" class=\"dataframe\">\n",
       "  <thead>\n",
       "    <tr style=\"text-align: right;\">\n",
       "      <th></th>\n",
       "      <th>A</th>\n",
       "      <th>B</th>\n",
       "      <th>C</th>\n",
       "      <th>E</th>\n",
       "      <th>X</th>\n",
       "      <th>Y</th>\n",
       "      <th>Z</th>\n",
       "      <th>new</th>\n",
       "    </tr>\n",
       "  </thead>\n",
       "  <tbody>\n",
       "    <tr>\n",
       "      <th>1990-01-01</th>\n",
       "      <td>0.691133</td>\n",
       "      <td>0.080478</td>\n",
       "      <td>-0.425175</td>\n",
       "      <td>-1.519217</td>\n",
       "      <td>-1.504297</td>\n",
       "      <td>-0.497605</td>\n",
       "      <td>-0.476438</td>\n",
       "      <td>2</td>\n",
       "    </tr>\n",
       "    <tr>\n",
       "      <th>1990-01-02</th>\n",
       "      <td>0.108330</td>\n",
       "      <td>0.675414</td>\n",
       "      <td>2.550257</td>\n",
       "      <td>0.103392</td>\n",
       "      <td>-0.153872</td>\n",
       "      <td>0.437419</td>\n",
       "      <td>0.632337</td>\n",
       "      <td>5</td>\n",
       "    </tr>\n",
       "    <tr>\n",
       "      <th>1990-01-03</th>\n",
       "      <td>0.297155</td>\n",
       "      <td>3.268064</td>\n",
       "      <td>0.211028</td>\n",
       "      <td>-0.992803</td>\n",
       "      <td>-0.581287</td>\n",
       "      <td>0.489401</td>\n",
       "      <td>-0.085446</td>\n",
       "      <td>7</td>\n",
       "    </tr>\n",
       "    <tr>\n",
       "      <th>1990-01-04</th>\n",
       "      <td>-0.925841</td>\n",
       "      <td>0.553218</td>\n",
       "      <td>0.973023</td>\n",
       "      <td>0.170026</td>\n",
       "      <td>-0.447368</td>\n",
       "      <td>-1.128693</td>\n",
       "      <td>0.464153</td>\n",
       "      <td>4</td>\n",
       "    </tr>\n",
       "    <tr>\n",
       "      <th>1990-01-05</th>\n",
       "      <td>-1.959059</td>\n",
       "      <td>0.064268</td>\n",
       "      <td>-0.010302</td>\n",
       "      <td>-1.911503</td>\n",
       "      <td>-1.374553</td>\n",
       "      <td>-0.193295</td>\n",
       "      <td>0.527016</td>\n",
       "      <td>10</td>\n",
       "    </tr>\n",
       "    <tr>\n",
       "      <th>1990-01-06</th>\n",
       "      <td>-0.368144</td>\n",
       "      <td>0.851787</td>\n",
       "      <td>1.473921</td>\n",
       "      <td>1.814470</td>\n",
       "      <td>-0.158404</td>\n",
       "      <td>-0.311191</td>\n",
       "      <td>0.552775</td>\n",
       "      <td>6</td>\n",
       "    </tr>\n",
       "    <tr>\n",
       "      <th>1990-01-07</th>\n",
       "      <td>0.068822</td>\n",
       "      <td>0.515314</td>\n",
       "      <td>-0.532632</td>\n",
       "      <td>-0.811078</td>\n",
       "      <td>-0.586109</td>\n",
       "      <td>0.783445</td>\n",
       "      <td>-1.068010</td>\n",
       "      <td>7</td>\n",
       "    </tr>\n",
       "    <tr>\n",
       "      <th>1990-01-08</th>\n",
       "      <td>-0.029164</td>\n",
       "      <td>0.149199</td>\n",
       "      <td>1.094048</td>\n",
       "      <td>-1.405978</td>\n",
       "      <td>-0.694015</td>\n",
       "      <td>-2.200626</td>\n",
       "      <td>-0.301170</td>\n",
       "      <td>8</td>\n",
       "    </tr>\n",
       "    <tr>\n",
       "      <th>1990-01-09</th>\n",
       "      <td>1.031058</td>\n",
       "      <td>-2.709403</td>\n",
       "      <td>-0.704999</td>\n",
       "      <td>0.770929</td>\n",
       "      <td>-1.083831</td>\n",
       "      <td>0.568859</td>\n",
       "      <td>-0.487857</td>\n",
       "      <td>9</td>\n",
       "    </tr>\n",
       "    <tr>\n",
       "      <th>1990-01-10</th>\n",
       "      <td>0.157411</td>\n",
       "      <td>1.236707</td>\n",
       "      <td>-1.152644</td>\n",
       "      <td>-0.669889</td>\n",
       "      <td>0.030575</td>\n",
       "      <td>0.604015</td>\n",
       "      <td>-0.449346</td>\n",
       "      <td>9</td>\n",
       "    </tr>\n",
       "    <tr>\n",
       "      <th>1990-01-11</th>\n",
       "      <td>0.167148</td>\n",
       "      <td>-0.857442</td>\n",
       "      <td>-1.607847</td>\n",
       "      <td>0.214819</td>\n",
       "      <td>0.569119</td>\n",
       "      <td>2.441606</td>\n",
       "      <td>-0.362325</td>\n",
       "      <td>6</td>\n",
       "    </tr>\n",
       "    <tr>\n",
       "      <th>1990-01-12</th>\n",
       "      <td>4.047040</td>\n",
       "      <td>-0.193401</td>\n",
       "      <td>1.301385</td>\n",
       "      <td>0.479371</td>\n",
       "      <td>0.133905</td>\n",
       "      <td>-1.226598</td>\n",
       "      <td>-2.642041</td>\n",
       "      <td>7</td>\n",
       "    </tr>\n",
       "    <tr>\n",
       "      <th>1990-01-13</th>\n",
       "      <td>-0.437886</td>\n",
       "      <td>0.362715</td>\n",
       "      <td>0.728041</td>\n",
       "      <td>-0.266579</td>\n",
       "      <td>0.500580</td>\n",
       "      <td>-0.419659</td>\n",
       "      <td>0.429236</td>\n",
       "      <td>8</td>\n",
       "    </tr>\n",
       "    <tr>\n",
       "      <th>1990-01-14</th>\n",
       "      <td>-0.455058</td>\n",
       "      <td>-0.150104</td>\n",
       "      <td>-1.047409</td>\n",
       "      <td>-0.308258</td>\n",
       "      <td>-1.734136</td>\n",
       "      <td>1.641054</td>\n",
       "      <td>-0.516483</td>\n",
       "      <td>9</td>\n",
       "    </tr>\n",
       "    <tr>\n",
       "      <th>1990-01-15</th>\n",
       "      <td>-2.225380</td>\n",
       "      <td>-0.266270</td>\n",
       "      <td>3.038718</td>\n",
       "      <td>-0.800371</td>\n",
       "      <td>-0.172869</td>\n",
       "      <td>0.894110</td>\n",
       "      <td>-0.816712</td>\n",
       "      <td>9</td>\n",
       "    </tr>\n",
       "    <tr>\n",
       "      <th>1990-01-16</th>\n",
       "      <td>-1.306015</td>\n",
       "      <td>-1.358212</td>\n",
       "      <td>0.886524</td>\n",
       "      <td>0.487001</td>\n",
       "      <td>1.028081</td>\n",
       "      <td>-1.047636</td>\n",
       "      <td>1.405344</td>\n",
       "      <td>6</td>\n",
       "    </tr>\n",
       "    <tr>\n",
       "      <th>1990-01-17</th>\n",
       "      <td>0.908162</td>\n",
       "      <td>-0.345066</td>\n",
       "      <td>0.329037</td>\n",
       "      <td>-0.148751</td>\n",
       "      <td>-0.827649</td>\n",
       "      <td>-0.021842</td>\n",
       "      <td>-0.393424</td>\n",
       "      <td>7</td>\n",
       "    </tr>\n",
       "    <tr>\n",
       "      <th>1990-01-18</th>\n",
       "      <td>-0.809295</td>\n",
       "      <td>0.273379</td>\n",
       "      <td>1.893833</td>\n",
       "      <td>-0.304442</td>\n",
       "      <td>0.363624</td>\n",
       "      <td>-1.179080</td>\n",
       "      <td>0.418394</td>\n",
       "      <td>8</td>\n",
       "    </tr>\n",
       "    <tr>\n",
       "      <th>1990-01-19</th>\n",
       "      <td>-1.007396</td>\n",
       "      <td>-1.315641</td>\n",
       "      <td>-0.340901</td>\n",
       "      <td>0.795873</td>\n",
       "      <td>-1.060791</td>\n",
       "      <td>-0.838686</td>\n",
       "      <td>0.857014</td>\n",
       "      <td>9</td>\n",
       "    </tr>\n",
       "    <tr>\n",
       "      <th>1990-01-20</th>\n",
       "      <td>1.448563</td>\n",
       "      <td>0.615205</td>\n",
       "      <td>-0.121039</td>\n",
       "      <td>-1.105176</td>\n",
       "      <td>-0.829918</td>\n",
       "      <td>-1.627442</td>\n",
       "      <td>0.082096</td>\n",
       "      <td>9</td>\n",
       "    </tr>\n",
       "  </tbody>\n",
       "</table>\n",
       "</div>"
      ],
      "text/plain": [
       "                   A         B         C         E         X         Y  \\\n",
       "1990-01-01  0.691133  0.080478 -0.425175 -1.519217 -1.504297 -0.497605   \n",
       "1990-01-02  0.108330  0.675414  2.550257  0.103392 -0.153872  0.437419   \n",
       "1990-01-03  0.297155  3.268064  0.211028 -0.992803 -0.581287  0.489401   \n",
       "1990-01-04 -0.925841  0.553218  0.973023  0.170026 -0.447368 -1.128693   \n",
       "1990-01-05 -1.959059  0.064268 -0.010302 -1.911503 -1.374553 -0.193295   \n",
       "1990-01-06 -0.368144  0.851787  1.473921  1.814470 -0.158404 -0.311191   \n",
       "1990-01-07  0.068822  0.515314 -0.532632 -0.811078 -0.586109  0.783445   \n",
       "1990-01-08 -0.029164  0.149199  1.094048 -1.405978 -0.694015 -2.200626   \n",
       "1990-01-09  1.031058 -2.709403 -0.704999  0.770929 -1.083831  0.568859   \n",
       "1990-01-10  0.157411  1.236707 -1.152644 -0.669889  0.030575  0.604015   \n",
       "1990-01-11  0.167148 -0.857442 -1.607847  0.214819  0.569119  2.441606   \n",
       "1990-01-12  4.047040 -0.193401  1.301385  0.479371  0.133905 -1.226598   \n",
       "1990-01-13 -0.437886  0.362715  0.728041 -0.266579  0.500580 -0.419659   \n",
       "1990-01-14 -0.455058 -0.150104 -1.047409 -0.308258 -1.734136  1.641054   \n",
       "1990-01-15 -2.225380 -0.266270  3.038718 -0.800371 -0.172869  0.894110   \n",
       "1990-01-16 -1.306015 -1.358212  0.886524  0.487001  1.028081 -1.047636   \n",
       "1990-01-17  0.908162 -0.345066  0.329037 -0.148751 -0.827649 -0.021842   \n",
       "1990-01-18 -0.809295  0.273379  1.893833 -0.304442  0.363624 -1.179080   \n",
       "1990-01-19 -1.007396 -1.315641 -0.340901  0.795873 -1.060791 -0.838686   \n",
       "1990-01-20  1.448563  0.615205 -0.121039 -1.105176 -0.829918 -1.627442   \n",
       "\n",
       "                   Z  new  \n",
       "1990-01-01 -0.476438    2  \n",
       "1990-01-02  0.632337    5  \n",
       "1990-01-03 -0.085446    7  \n",
       "1990-01-04  0.464153    4  \n",
       "1990-01-05  0.527016   10  \n",
       "1990-01-06  0.552775    6  \n",
       "1990-01-07 -1.068010    7  \n",
       "1990-01-08 -0.301170    8  \n",
       "1990-01-09 -0.487857    9  \n",
       "1990-01-10 -0.449346    9  \n",
       "1990-01-11 -0.362325    6  \n",
       "1990-01-12 -2.642041    7  \n",
       "1990-01-13  0.429236    8  \n",
       "1990-01-14 -0.516483    9  \n",
       "1990-01-15 -0.816712    9  \n",
       "1990-01-16  1.405344    6  \n",
       "1990-01-17 -0.393424    7  \n",
       "1990-01-18  0.418394    8  \n",
       "1990-01-19  0.857014    9  \n",
       "1990-01-20  0.082096    9  "
      ]
     },
     "execution_count": 50,
     "metadata": {},
     "output_type": "execute_result"
    }
   ],
   "source": [
    "df[df!=0]"
   ]
  },
  {
   "cell_type": "code",
   "execution_count": 52,
   "metadata": {},
   "outputs": [
    {
     "data": {
      "text/html": [
       "<div>\n",
       "<style scoped>\n",
       "    .dataframe tbody tr th:only-of-type {\n",
       "        vertical-align: middle;\n",
       "    }\n",
       "\n",
       "    .dataframe tbody tr th {\n",
       "        vertical-align: top;\n",
       "    }\n",
       "\n",
       "    .dataframe thead th {\n",
       "        text-align: right;\n",
       "    }\n",
       "</style>\n",
       "<table border=\"1\" class=\"dataframe\">\n",
       "  <thead>\n",
       "    <tr style=\"text-align: right;\">\n",
       "      <th></th>\n",
       "      <th>A</th>\n",
       "      <th>B</th>\n",
       "      <th>C</th>\n",
       "      <th>E</th>\n",
       "      <th>X</th>\n",
       "      <th>Y</th>\n",
       "      <th>Z</th>\n",
       "      <th>new</th>\n",
       "    </tr>\n",
       "  </thead>\n",
       "  <tbody>\n",
       "    <tr>\n",
       "      <th>1990-01-01</th>\n",
       "      <td>0.691133</td>\n",
       "      <td>0.080478</td>\n",
       "      <td>-0.425175</td>\n",
       "      <td>-1.519217</td>\n",
       "      <td>-1.504297</td>\n",
       "      <td>-0.497605</td>\n",
       "      <td>-0.476438</td>\n",
       "      <td>2</td>\n",
       "    </tr>\n",
       "    <tr>\n",
       "      <th>1990-01-02</th>\n",
       "      <td>0.108330</td>\n",
       "      <td>0.675414</td>\n",
       "      <td>2.550257</td>\n",
       "      <td>0.103392</td>\n",
       "      <td>-0.153872</td>\n",
       "      <td>0.437419</td>\n",
       "      <td>0.632337</td>\n",
       "      <td>5</td>\n",
       "    </tr>\n",
       "    <tr>\n",
       "      <th>1990-01-03</th>\n",
       "      <td>0.297155</td>\n",
       "      <td>3.268064</td>\n",
       "      <td>0.211028</td>\n",
       "      <td>-0.992803</td>\n",
       "      <td>-0.581287</td>\n",
       "      <td>0.489401</td>\n",
       "      <td>-0.085446</td>\n",
       "      <td>7</td>\n",
       "    </tr>\n",
       "    <tr>\n",
       "      <th>1990-01-04</th>\n",
       "      <td>-0.925841</td>\n",
       "      <td>0.553218</td>\n",
       "      <td>0.973023</td>\n",
       "      <td>0.170026</td>\n",
       "      <td>-0.447368</td>\n",
       "      <td>-1.128693</td>\n",
       "      <td>0.464153</td>\n",
       "      <td>4</td>\n",
       "    </tr>\n",
       "    <tr>\n",
       "      <th>1990-01-06</th>\n",
       "      <td>-0.368144</td>\n",
       "      <td>0.851787</td>\n",
       "      <td>1.473921</td>\n",
       "      <td>1.814470</td>\n",
       "      <td>-0.158404</td>\n",
       "      <td>-0.311191</td>\n",
       "      <td>0.552775</td>\n",
       "      <td>6</td>\n",
       "    </tr>\n",
       "    <tr>\n",
       "      <th>1990-01-07</th>\n",
       "      <td>0.068822</td>\n",
       "      <td>0.515314</td>\n",
       "      <td>-0.532632</td>\n",
       "      <td>-0.811078</td>\n",
       "      <td>-0.586109</td>\n",
       "      <td>0.783445</td>\n",
       "      <td>-1.068010</td>\n",
       "      <td>7</td>\n",
       "    </tr>\n",
       "    <tr>\n",
       "      <th>1990-01-08</th>\n",
       "      <td>-0.029164</td>\n",
       "      <td>0.149199</td>\n",
       "      <td>1.094048</td>\n",
       "      <td>-1.405978</td>\n",
       "      <td>-0.694015</td>\n",
       "      <td>-2.200626</td>\n",
       "      <td>-0.301170</td>\n",
       "      <td>8</td>\n",
       "    </tr>\n",
       "    <tr>\n",
       "      <th>1990-01-09</th>\n",
       "      <td>1.031058</td>\n",
       "      <td>-2.709403</td>\n",
       "      <td>-0.704999</td>\n",
       "      <td>0.770929</td>\n",
       "      <td>-1.083831</td>\n",
       "      <td>0.568859</td>\n",
       "      <td>-0.487857</td>\n",
       "      <td>9</td>\n",
       "    </tr>\n",
       "    <tr>\n",
       "      <th>1990-01-10</th>\n",
       "      <td>0.157411</td>\n",
       "      <td>1.236707</td>\n",
       "      <td>-1.152644</td>\n",
       "      <td>-0.669889</td>\n",
       "      <td>0.030575</td>\n",
       "      <td>0.604015</td>\n",
       "      <td>-0.449346</td>\n",
       "      <td>9</td>\n",
       "    </tr>\n",
       "    <tr>\n",
       "      <th>1990-01-11</th>\n",
       "      <td>0.167148</td>\n",
       "      <td>-0.857442</td>\n",
       "      <td>-1.607847</td>\n",
       "      <td>0.214819</td>\n",
       "      <td>0.569119</td>\n",
       "      <td>2.441606</td>\n",
       "      <td>-0.362325</td>\n",
       "      <td>6</td>\n",
       "    </tr>\n",
       "    <tr>\n",
       "      <th>1990-01-12</th>\n",
       "      <td>4.047040</td>\n",
       "      <td>-0.193401</td>\n",
       "      <td>1.301385</td>\n",
       "      <td>0.479371</td>\n",
       "      <td>0.133905</td>\n",
       "      <td>-1.226598</td>\n",
       "      <td>-2.642041</td>\n",
       "      <td>7</td>\n",
       "    </tr>\n",
       "    <tr>\n",
       "      <th>1990-01-13</th>\n",
       "      <td>-0.437886</td>\n",
       "      <td>0.362715</td>\n",
       "      <td>0.728041</td>\n",
       "      <td>-0.266579</td>\n",
       "      <td>0.500580</td>\n",
       "      <td>-0.419659</td>\n",
       "      <td>0.429236</td>\n",
       "      <td>8</td>\n",
       "    </tr>\n",
       "    <tr>\n",
       "      <th>1990-01-14</th>\n",
       "      <td>-0.455058</td>\n",
       "      <td>-0.150104</td>\n",
       "      <td>-1.047409</td>\n",
       "      <td>-0.308258</td>\n",
       "      <td>-1.734136</td>\n",
       "      <td>1.641054</td>\n",
       "      <td>-0.516483</td>\n",
       "      <td>9</td>\n",
       "    </tr>\n",
       "    <tr>\n",
       "      <th>1990-01-15</th>\n",
       "      <td>-2.225380</td>\n",
       "      <td>-0.266270</td>\n",
       "      <td>3.038718</td>\n",
       "      <td>-0.800371</td>\n",
       "      <td>-0.172869</td>\n",
       "      <td>0.894110</td>\n",
       "      <td>-0.816712</td>\n",
       "      <td>9</td>\n",
       "    </tr>\n",
       "    <tr>\n",
       "      <th>1990-01-16</th>\n",
       "      <td>-1.306015</td>\n",
       "      <td>-1.358212</td>\n",
       "      <td>0.886524</td>\n",
       "      <td>0.487001</td>\n",
       "      <td>1.028081</td>\n",
       "      <td>-1.047636</td>\n",
       "      <td>1.405344</td>\n",
       "      <td>6</td>\n",
       "    </tr>\n",
       "    <tr>\n",
       "      <th>1990-01-17</th>\n",
       "      <td>0.908162</td>\n",
       "      <td>-0.345066</td>\n",
       "      <td>0.329037</td>\n",
       "      <td>-0.148751</td>\n",
       "      <td>-0.827649</td>\n",
       "      <td>-0.021842</td>\n",
       "      <td>-0.393424</td>\n",
       "      <td>7</td>\n",
       "    </tr>\n",
       "    <tr>\n",
       "      <th>1990-01-18</th>\n",
       "      <td>-0.809295</td>\n",
       "      <td>0.273379</td>\n",
       "      <td>1.893833</td>\n",
       "      <td>-0.304442</td>\n",
       "      <td>0.363624</td>\n",
       "      <td>-1.179080</td>\n",
       "      <td>0.418394</td>\n",
       "      <td>8</td>\n",
       "    </tr>\n",
       "    <tr>\n",
       "      <th>1990-01-19</th>\n",
       "      <td>-1.007396</td>\n",
       "      <td>-1.315641</td>\n",
       "      <td>-0.340901</td>\n",
       "      <td>0.795873</td>\n",
       "      <td>-1.060791</td>\n",
       "      <td>-0.838686</td>\n",
       "      <td>0.857014</td>\n",
       "      <td>9</td>\n",
       "    </tr>\n",
       "    <tr>\n",
       "      <th>1990-01-20</th>\n",
       "      <td>1.448563</td>\n",
       "      <td>0.615205</td>\n",
       "      <td>-0.121039</td>\n",
       "      <td>-1.105176</td>\n",
       "      <td>-0.829918</td>\n",
       "      <td>-1.627442</td>\n",
       "      <td>0.082096</td>\n",
       "      <td>9</td>\n",
       "    </tr>\n",
       "  </tbody>\n",
       "</table>\n",
       "</div>"
      ],
      "text/plain": [
       "                   A         B         C         E         X         Y  \\\n",
       "1990-01-01  0.691133  0.080478 -0.425175 -1.519217 -1.504297 -0.497605   \n",
       "1990-01-02  0.108330  0.675414  2.550257  0.103392 -0.153872  0.437419   \n",
       "1990-01-03  0.297155  3.268064  0.211028 -0.992803 -0.581287  0.489401   \n",
       "1990-01-04 -0.925841  0.553218  0.973023  0.170026 -0.447368 -1.128693   \n",
       "1990-01-06 -0.368144  0.851787  1.473921  1.814470 -0.158404 -0.311191   \n",
       "1990-01-07  0.068822  0.515314 -0.532632 -0.811078 -0.586109  0.783445   \n",
       "1990-01-08 -0.029164  0.149199  1.094048 -1.405978 -0.694015 -2.200626   \n",
       "1990-01-09  1.031058 -2.709403 -0.704999  0.770929 -1.083831  0.568859   \n",
       "1990-01-10  0.157411  1.236707 -1.152644 -0.669889  0.030575  0.604015   \n",
       "1990-01-11  0.167148 -0.857442 -1.607847  0.214819  0.569119  2.441606   \n",
       "1990-01-12  4.047040 -0.193401  1.301385  0.479371  0.133905 -1.226598   \n",
       "1990-01-13 -0.437886  0.362715  0.728041 -0.266579  0.500580 -0.419659   \n",
       "1990-01-14 -0.455058 -0.150104 -1.047409 -0.308258 -1.734136  1.641054   \n",
       "1990-01-15 -2.225380 -0.266270  3.038718 -0.800371 -0.172869  0.894110   \n",
       "1990-01-16 -1.306015 -1.358212  0.886524  0.487001  1.028081 -1.047636   \n",
       "1990-01-17  0.908162 -0.345066  0.329037 -0.148751 -0.827649 -0.021842   \n",
       "1990-01-18 -0.809295  0.273379  1.893833 -0.304442  0.363624 -1.179080   \n",
       "1990-01-19 -1.007396 -1.315641 -0.340901  0.795873 -1.060791 -0.838686   \n",
       "1990-01-20  1.448563  0.615205 -0.121039 -1.105176 -0.829918 -1.627442   \n",
       "\n",
       "                   Z  new  \n",
       "1990-01-01 -0.476438    2  \n",
       "1990-01-02  0.632337    5  \n",
       "1990-01-03 -0.085446    7  \n",
       "1990-01-04  0.464153    4  \n",
       "1990-01-06  0.552775    6  \n",
       "1990-01-07 -1.068010    7  \n",
       "1990-01-08 -0.301170    8  \n",
       "1990-01-09 -0.487857    9  \n",
       "1990-01-10 -0.449346    9  \n",
       "1990-01-11 -0.362325    6  \n",
       "1990-01-12 -2.642041    7  \n",
       "1990-01-13  0.429236    8  \n",
       "1990-01-14 -0.516483    9  \n",
       "1990-01-15 -0.816712    9  \n",
       "1990-01-16  1.405344    6  \n",
       "1990-01-17 -0.393424    7  \n",
       "1990-01-18  0.418394    8  \n",
       "1990-01-19  0.857014    9  \n",
       "1990-01-20  0.082096    9  "
      ]
     },
     "execution_count": 52,
     "metadata": {},
     "output_type": "execute_result"
    }
   ],
   "source": [
    "df[df.new < 10]"
   ]
  }
 ],
 "metadata": {
  "celltoolbar": "Edit Metadata",
  "kernelspec": {
   "display_name": "Python 3",
   "language": "python",
   "name": "python3"
  },
  "language_info": {
   "codemirror_mode": {
    "name": "ipython",
    "version": 3
   },
   "file_extension": ".py",
   "mimetype": "text/x-python",
   "name": "python",
   "nbconvert_exporter": "python",
   "pygments_lexer": "ipython3",
   "version": "3.8.5"
  }
 },
 "nbformat": 4,
 "nbformat_minor": 4
}
